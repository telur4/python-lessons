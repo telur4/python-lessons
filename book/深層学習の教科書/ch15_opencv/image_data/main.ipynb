{
 "metadata": {
  "language_info": {
   "codemirror_mode": {
    "name": "ipython",
    "version": 3
   },
   "file_extension": ".py",
   "mimetype": "text/x-python",
   "name": "python",
   "nbconvert_exporter": "python",
   "pygments_lexer": "ipython3",
   "version": "3.8.8"
  },
  "orig_nbformat": 2,
  "kernelspec": {
   "name": "python388jvsc74a57bd0f96a64404671f85a957b2f4c0dbe4aa6c78c92539a8416ed87cc97ff497f059c",
   "display_name": "Python 3.8.8 64-bit ('base': conda)"
  }
 },
 "nbformat": 4,
 "nbformat_minor": 2,
 "cells": [
  {
   "cell_type": "code",
   "execution_count": 1,
   "metadata": {},
   "outputs": [],
   "source": [
    "# RGBデータ\n",
    "# 1ピクセルの色をRed,Green,Blueの割合で決める"
   ]
  },
  {
   "cell_type": "code",
   "execution_count": 2,
   "metadata": {},
   "outputs": [],
   "source": [
    "# 画像データのフォーマット\n",
    "# PNG: 可逆圧縮が可能                             多くの色を再現できる\n",
    "# JPG: 多くの色を再現できる                       容量を小さく圧縮できる\n",
    "# PDF: 画質がよく、拡大しても荒くならない           容量が大きい(ただし質が落ちる)\n",
    "# GIF: 表現できる色は少ないが、その分容量が小さい   アニメーションを表現できる"
   ]
  },
  {
   "cell_type": "code",
   "execution_count": 3,
   "metadata": {},
   "outputs": [],
   "source": [
    "# 透過データ\n",
    "# 画像の背景を透明にすること\n",
    "# BMPは画像としては透過処理をサポートしてないが、BMで作られているアイコン画像は透過しているように見える。アイコンを表示するプログラムが特定の位置の色を透過色として扱っている為。\n",
    "# 画像として透過をサポートしているのはGIFとPNG"
   ]
  },
  {
   "cell_type": "code",
   "execution_count": null,
   "metadata": {},
   "outputs": [],
   "source": []
  }
 ]
}