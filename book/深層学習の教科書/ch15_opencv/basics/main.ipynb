{
 "metadata": {
  "language_info": {
   "codemirror_mode": {
    "name": "ipython",
    "version": 3
   },
   "file_extension": ".py",
   "mimetype": "text/x-python",
   "name": "python",
   "nbconvert_exporter": "python",
   "pygments_lexer": "ipython3",
   "version": "3.8.8"
  },
  "orig_nbformat": 2,
  "kernelspec": {
   "name": "python388jvsc74a57bd0f96a64404671f85a957b2f4c0dbe4aa6c78c92539a8416ed87cc97ff497f059c",
   "display_name": "Python 3.8.8 64-bit ('base': conda)"
  }
 },
 "nbformat": 4,
 "nbformat_minor": 2,
 "cells": [
  {
   "cell_type": "code",
   "execution_count": 1,
   "metadata": {},
   "outputs": [],
   "source": [
    "# 画像の読み込み・表示\n",
    "import numpy as np\n",
    "import cv2\n",
    "\n",
    "# OpenCVを用いて画像を読み込む\n",
    "img = cv2.imread('cleansing_data/sample.jpg')\n",
    "\n",
    "# 画像を出力\n",
    "cv2.imshow('sample', img)\n",
    "cv2.waitKey(0)"
   ]
  },
  {
   "cell_type": "code",
   "execution_count": 1,
   "metadata": {},
   "outputs": [],
   "source": [
    "# 画像の作成・保存\n",
    "import numpy as np\n",
    "import cv2\n",
    "\n",
    "# 画像のサイズを作成\n",
    "img_size = (512, 512)\n",
    "\n",
    "# サイズが512x512の緑色の画像を作成\n",
    "img = np.array([[[0, 255, 0] for _ in range(img_size[1])] for _ in range(img_size[0])], dtype='uint8')\n",
    "\n",
    "cv2.imshow('sample1', img)\n",
    "cv2.waitKey(0)"
   ]
  },
  {
   "cell_type": "code",
   "execution_count": null,
   "metadata": {},
   "outputs": [],
   "source": [
    "# トリミングとリサイズ\n",
    "import numpy as np\n",
    "import cv2\n",
    "\n",
    "img = cv2.imread('cleansing_data/sample.jpg')\n",
    "\n",
    "# 幅、高さをそれぞれ1/6にリサイズ\n",
    "my_img = cv2.resize(img, (img.shape[1] // 6, img.shape[0] // 6))\n",
    "\n",
    "cv2.imshow('sample2', my_img)\n",
    "cv2.waitKey(0)"
   ]
  },
  {
   "cell_type": "code",
   "execution_count": null,
   "metadata": {},
   "outputs": [],
   "source": [
    "# 回転・反転\n",
    "import numpy as np\n",
    "import cv2\n",
    "\n",
    "img = cv2.imread('cleansing_data/sample.jpg')\n",
    "\n",
    "my_img = cv2.flip(cv2.resize(img, (img.shape[1] // 6, img.shape[0] // 6)), 0)\n",
    "\n",
    "# 画像をx軸中心に反転\n",
    "cv2.imshow('sample3', my_img)\n",
    "cv2.waitKey(0)"
   ]
  },
  {
   "cell_type": "code",
   "execution_count": null,
   "metadata": {},
   "outputs": [],
   "source": [
    "# 色調変換・色反転\n",
    "import numpy as np\n",
    "import cv2\n",
    "\n",
    "img = cv2.imread('cleansing_data/sample.jpg')\n",
    "\n",
    "my_img = cv2.resize(img, (img.shape[1] // 6, img.shape[0] // 6))\n",
    "\n",
    "# sample.jpgの色を反転させる\n",
    "# OpenCVで読み込まれた画像データは3次元のndarrayとなっているので、色を反転させるにはそれぞれの要素と255との差を求めれば良い\n",
    "for i in range(len(my_img)):\n",
    "    for j in range(len(my_img[i])):\n",
    "        for k in range(len(my_img[i][j])):\n",
    "            my_img[i][j][k] = 255 - my_img[i][j][k]\n",
    "\n",
    "cv2.imshow('sample4', my_img)\n",
    "cv2.waitKey(0)"
   ]
  },
  {
   "cell_type": "code",
   "execution_count": null,
   "metadata": {},
   "outputs": [],
   "source": []
  }
 ]
}