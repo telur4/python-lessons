{
 "metadata": {
  "language_info": {
   "codemirror_mode": {
    "name": "ipython",
    "version": 3
   },
   "file_extension": ".py",
   "mimetype": "text/x-python",
   "name": "python",
   "nbconvert_exporter": "python",
   "pygments_lexer": "ipython3",
   "version": "3.8.5"
  },
  "orig_nbformat": 2,
  "kernelspec": {
   "name": "python385jvsc74a57bd0f96a64404671f85a957b2f4c0dbe4aa6c78c92539a8416ed87cc97ff497f059c",
   "display_name": "Python 3.8.5 64-bit ('base': conda)"
  }
 },
 "nbformat": 4,
 "nbformat_minor": 2,
 "cells": [
  {
   "cell_type": "code",
   "execution_count": 1,
   "metadata": {},
   "outputs": [
    {
     "output_type": "stream",
     "name": "stdout",
     "text": [
      "[[1 2 3 4]\n [5 6 7 8]]\n(2, 4)\n[[1 2]\n [3 4]\n [5 6]\n [7 8]]\n"
     ]
    }
   ],
   "source": [
    "# 2次元配列\n",
    "import numpy as np\n",
    "\n",
    "arr = np.array([[1, 2, 3, 4], [5, 6, 7, 8]])\n",
    "print(arr)\n",
    "\n",
    "print(arr.shape)            # 配列のサイズを取得\n",
    "\n",
    "print(arr.reshape(4, 2))    # 配列のサイズを変更"
   ]
  },
  {
   "cell_type": "code",
   "execution_count": 5,
   "metadata": {},
   "outputs": [
    {
     "output_type": "stream",
     "name": "stdout",
     "text": [
      "[[1 2 3]\n [4 5 6]\n [7 8 9]]\n3\n[[4 5]\n [7 8]]\n"
     ]
    }
   ],
   "source": [
    "# インデックス参照とスライス\n",
    "import numpy as np\n",
    "\n",
    "arr = np.array([[1, 2, 3], [4, 5, 6], [7, 8, 9]])\n",
    "print(arr)\n",
    "\n",
    "print(arr[0][2])\n",
    "\n",
    "print(arr[1:, :2])"
   ]
  },
  {
   "cell_type": "code",
   "execution_count": 1,
   "metadata": {},
   "outputs": [
    {
     "output_type": "stream",
     "name": "stdout",
     "text": [
      "[ 6 21 57]\n"
     ]
    }
   ],
   "source": [
    "# axis\n",
    "# 行をaxis=1で、列をaxis=0で引数に指定できる\n",
    "import numpy as np\n",
    "\n",
    "arr = np.array([[1, 2, 3], [4, 5, 12], [15, 20, 22]])\n",
    "\n",
    "print(arr.sum(axis=1))      # 行列の和を行単位で求める"
   ]
  },
  {
   "cell_type": "code",
   "execution_count": 3,
   "metadata": {},
   "outputs": [
    {
     "output_type": "stream",
     "name": "stdout",
     "text": [
      "[[ 0  1  2  3  4]\n [ 5  6  7  8  9]\n [10 11 12 13 14]\n [15 16 17 18 19]\n [20 21 22 23 24]]\n[[ 5  6  7  8  9]\n [15 16 17 18 19]\n [ 0  1  2  3  4]]\n"
     ]
    }
   ],
   "source": [
    "# ファンシーインデックス参照\n",
    "# インデックス参照にインデックスの配列を用いる方法\n",
    "# スライスとは異なり、ファンシーインデックス参照は常に元データのコピーを返す\n",
    "import numpy as np\n",
    "\n",
    "arr = np.arange(25).reshape(5, 5)       # 5x5行列を作成(1x25行列を変形)\n",
    "print(arr)\n",
    "\n",
    "print(arr[[1, 3, 0]])       # 配列を用いた参照(1, 3, 0行目を順番に取得))"
   ]
  },
  {
   "cell_type": "code",
   "execution_count": 4,
   "metadata": {},
   "outputs": [
    {
     "output_type": "stream",
     "name": "stdout",
     "text": [
      "[[0 1 2 3 4]\n [5 6 7 8 9]]\n[[0 5]\n [1 6]\n [2 7]\n [3 8]\n [4 9]]\n[[0 5]\n [1 6]\n [2 7]\n [3 8]\n [4 9]]\n"
     ]
    }
   ],
   "source": [
    "# 転置行列\n",
    "import numpy as np\n",
    "\n",
    "arr = np.arange(10).reshape(2, 5)\n",
    "print(arr)\n",
    "\n",
    "print(arr.T)                # 配列を転置させる(2x5行列なら5x2行列にする)\n",
    "print(np.transpose(arr))    # 同上"
   ]
  },
  {
   "cell_type": "code",
   "execution_count": 6,
   "metadata": {},
   "outputs": [
    {
     "output_type": "stream",
     "name": "stdout",
     "text": [
      "[[2 1 0]\n [2 0 1]]\n[[2 4 8]\n [1 3 5]]\n[[2 4 8]\n [1 3 5]]\n"
     ]
    }
   ],
   "source": [
    "# ソート\n",
    "import numpy as np\n",
    "\n",
    "arr = np.array([[8, 4, 2], [3, 5, 1]])\n",
    "\n",
    "print(arr.argsort())    # 元の配列のインデックス番号を並べ替えして返す\n",
    "\n",
    "print(np.sort(arr))     # ソートした配列を返す\n",
    "\n",
    "arr.sort(1)             # 配列を直接ソートする\n",
    "print(arr)"
   ]
  },
  {
   "cell_type": "code",
   "execution_count": 19,
   "metadata": {},
   "outputs": [
    {
     "output_type": "stream",
     "name": "stdout",
     "text": [
      "[[0 1 2]\n [3 4 5]\n [6 7 8]]\n[[ 15  18  21]\n [ 42  54  66]\n [ 69  90 111]]\n[0 1 2 3 4 5 6 7 8]\n14.2828568570857\n"
     ]
    }
   ],
   "source": [
    "# 行列計算\n",
    "import numpy as np\n",
    "\n",
    "arr = np.arange(9).reshape(3, 3)\n",
    "print(arr)\n",
    "\n",
    "print(np.dot(arr, arr))         # 行列積\n",
    "\n",
    "vec = arr.reshape(9)\n",
    "print(vec)\n",
    "\n",
    "print(np.linalg.norm(vec))      # ノルム"
   ]
  },
  {
   "cell_type": "code",
   "execution_count": 2,
   "metadata": {},
   "outputs": [
    {
     "output_type": "stream",
     "name": "stdout",
     "text": [
      "[[ 0  1  2  3  4]\n [ 5  6  7  8  9]\n [10 11 12 13 14]]\n[5. 6. 7. 8. 9.]\n[10 35 60]\n0\n[2 2 2 2 2]\n"
     ]
    }
   ],
   "source": [
    "# 統計関数\n",
    "# ndarray配列全体、もしくは特定の軸を中心とした数学的な処理を行う関数、またはメソッドのこと\n",
    "import numpy as np\n",
    "\n",
    "arr = np.arange(15).reshape(3, 5)\n",
    "print(arr)\n",
    "\n",
    "print(arr.mean(axis=0))     # 平均値を列単位で求める\n",
    "\n",
    "print(arr.sum(axis=1))      # 合計値を行単位で求める\n",
    "\n",
    "print(arr.min())            # 最小値を求める\n",
    "\n",
    "print(arr.argmax(axis=0))   # 最大値を列単位でインデックス番号で取得"
   ]
  },
  {
   "cell_type": "code",
   "execution_count": 22,
   "metadata": {},
   "outputs": [
    {
     "output_type": "stream",
     "name": "stdout",
     "text": [
      "[[ 0  1  2  3  4]\n [ 5  6  7  8  9]\n [10 11 12 13 14]]\n[[0 1 2 3 4]]\n[[ 0  0  0  0  0]\n [ 5  5  5  5  5]\n [10 10 10 10 10]]\n"
     ]
    }
   ],
   "source": [
    "# ブロードキャスト\n",
    "# 2つのndarray同士の演算時にサイズの小さい配列の行と列を自動で大きい配列に合わせる\n",
    "# 2つの配列の行または列が一致しないときは、業の少ないほうが多い方の数に合わせ、足りない分を既存の行からコピーする\n",
    "import numpy as np\n",
    "\n",
    "x = np.arange(15).reshape(3, 5)\n",
    "print(x)\n",
    "\n",
    "y = np.array([np.arange(5)])\n",
    "print(y)\n",
    "\n",
    "z = x - y\n",
    "print(z)"
   ]
  },
  {
   "cell_type": "code",
   "execution_count": null,
   "metadata": {},
   "outputs": [],
   "source": []
  }
 ]
}