{
 "metadata": {
  "language_info": {
   "codemirror_mode": {
    "name": "ipython",
    "version": 3
   },
   "file_extension": ".py",
   "mimetype": "text/x-python",
   "name": "python",
   "nbconvert_exporter": "python",
   "pygments_lexer": "ipython3",
   "version": "3.8.8"
  },
  "orig_nbformat": 2,
  "kernelspec": {
   "name": "python388jvsc74a57bd0f96a64404671f85a957b2f4c0dbe4aa6c78c92539a8416ed87cc97ff497f059c",
   "display_name": "Python 3.8.8 64-bit ('base': conda)"
  }
 },
 "nbformat": 4,
 "nbformat_minor": 2,
 "cells": [
  {
   "cell_type": "code",
   "execution_count": 4,
   "metadata": {},
   "outputs": [
    {
     "output_type": "stream",
     "name": "stdout",
     "text": [
      "matA: [[0.87789324 0.92993142 0.53530246 ... 0.0873802  0.76808904 0.17311901]\n",
      " [0.94592906 0.45371838 0.16829713 ... 0.0643299  0.33675791 0.35321554]\n",
      " [0.10986591 0.68510218 0.97869865 ... 0.13599605 0.45234346 0.45072392]\n",
      " ...\n",
      " [0.03694548 0.9150827  0.63276331 ... 0.97153702 0.69675536 0.08639455]\n",
      " [0.1763937  0.25131255 0.51312122 ... 0.87740223 0.08938288 0.71006086]\n",
      " [0.10206531 0.75815447 0.95070767 ... 0.33325715 0.74745743 0.06297411]]\n",
      "matB: [[0.39790198 0.38560791 0.97394316 ... 0.23184235 0.48049844 0.50397676]\n",
      " [0.25815139 0.34536002 0.83782803 ... 0.81584304 0.82588103 0.31246795]\n",
      " [0.84471699 0.90751552 0.61643445 ... 0.12010669 0.01360002 0.8259413 ]\n",
      " ...\n",
      " [0.62591597 0.85956279 0.08984604 ... 0.18385066 0.39184946 0.74373471]\n",
      " [0.04859269 0.55415315 0.68884058 ... 0.88975459 0.23188686 0.47841832]\n",
      " [0.05465633 0.17352173 0.12417486 ... 0.02112227 0.7870675  0.82828025]]\n",
      "matC: [[0 0 0 ... 0 0 0]\n",
      " [0 0 0 ... 0 0 0]\n",
      " [0 0 0 ... 0 0 0]\n",
      " ...\n",
      " [0 0 0 ... 0 0 0]\n",
      " [0 0 0 ... 0 0 0]\n",
      " [0 0 0 ... 0 0 0]]\n",
      "matC: [[0 0 0 ... 0 0 0]\n",
      " [0 0 0 ... 0 0 0]\n",
      " [0 0 0 ... 0 0 0]\n",
      " ...\n",
      " [0 0 0 ... 0 0 0]\n",
      " [0 0 0 ... 0 0 0]\n",
      " [0 0 0 ... 0 0 0]]\n",
      "Pythonの機能のみでの計算結果: 8.27[sec]\n",
      "matC: [[34.62134967 38.78556631 35.41284512 ... 35.12857948 35.60294857\n",
      "  36.75250918]\n",
      " [33.58555657 35.79132824 32.82643047 ... 33.00758973 30.4531139\n",
      "  35.5055634 ]\n",
      " [36.29734707 39.85086155 36.059861   ... 35.69884661 35.83786637\n",
      "  38.01848478]\n",
      " ...\n",
      " [35.43097505 38.34500861 35.14737096 ... 35.95380955 33.32174037\n",
      "  39.29396449]\n",
      " [34.9175768  39.2222793  33.53661925 ... 36.96711644 34.04168507\n",
      "  38.49642696]\n",
      " [34.35882873 39.40530268 33.44148351 ... 34.94799865 33.50729167\n",
      "  37.21840648]]\n",
      "NumPyを使った場合の計算結果: 0.04[sec]\n"
     ]
    }
   ],
   "source": [
    "# 必要なライブラリをimportします\n",
    "import numpy as np\n",
    "import time\n",
    "from numpy.random import rand\n",
    "\n",
    "# 行、列の大きさ\n",
    "N = 150\n",
    "\n",
    "# 行列を初期化し明日\n",
    "matA = np.array(rand(N, N))\n",
    "matB = np.array(rand(N, N))\n",
    "matC = np.array([[0] * N for _ in range(N)])\n",
    "print('matA:', matA)\n",
    "print('matB:', matB)\n",
    "print('matC:', matC)\n",
    "\n",
    "# Pythonのリストを使って計算します\n",
    "\n",
    "# 開始時間を取得します\n",
    "start = time.time()\n",
    "\n",
    "# for命令を使って行列の掛け算を実行します\n",
    "for i in range(N):\n",
    "    for j in range(N):\n",
    "        for k in range(N):\n",
    "            matC[i][j] = matA[i][k] * matB[k][j]\n",
    "print('matC:', matC)\n",
    "\n",
    "print('Pythonの機能のみでの計算結果: %.2f[sec]' % float(time.time() - start))\n",
    "\n",
    "# NumPyを使って計算します\n",
    "\n",
    "# 開始時間を取得します\n",
    "start = time.time()\n",
    "\n",
    "# NumPyを使って行列の掛け算を実行します\n",
    "matC = np.dot(matA, matB)\n",
    "print('matC:', matC)\n",
    "\n",
    "# 少数第2位の桁で打ち切っているのでNumPyは0.00[sec]と表示されます\n",
    "print('NumPyを使った場合の計算結果: %.2f[sec]' % float(time.time() - start))"
   ]
  },
  {
   "cell_type": "code",
   "execution_count": 4,
   "metadata": {},
   "outputs": [
    {
     "output_type": "stream",
     "name": "stdout",
     "text": [
      "[24, 3, 4, 23, 10, 12]\n<class 'list'>\n[24  3  4 23 10 12]\n<class 'numpy.ndarray'>\n"
     ]
    }
   ],
   "source": [
    "# 1次元配列(ndarray)の生成\n",
    "import numpy as np\n",
    "\n",
    "storages = [24, 3, 4, 23, 10, 12]                   # 普通の1次元配列\n",
    "print(storages)\n",
    "print(type(storages))                               # 型を出力\n",
    "\n",
    "np_storages = np.array([24, 3, 4, 23, 10, 12])      # NumPy1次元配列\n",
    "print(np_storages)\n",
    "print(type(np_storages))                            # 型を出力"
   ]
  },
  {
   "cell_type": "code",
   "execution_count": 5,
   "metadata": {},
   "outputs": [
    {
     "output_type": "stream",
     "name": "stdout",
     "text": [
      "[2, 4, 6, 8]\n[2 4 6 8]\n"
     ]
    }
   ],
   "source": [
    "# 1次元配列の計算\n",
    "# NumPyを使わないで実行\n",
    "storages = [1, 2, 3, 4]\n",
    "new_storages = []\n",
    "for i in storages:\n",
    "    i += i\n",
    "    new_storages.append(i)\n",
    "print(new_storages)\n",
    "\n",
    "# NumPyを使って実行\n",
    "import numpy as np\n",
    "storages = np.array([1, 2, 3, 4])\n",
    "new_storages = storages * 2    # NumPy配列はfor文を使わなくても簡単に計算ができる\n",
    "print(new_storages)"
   ]
  },
  {
   "cell_type": "code",
   "execution_count": 9,
   "metadata": {},
   "outputs": [
    {
     "output_type": "stream",
     "name": "stdout",
     "text": [
      "[0 1 2 3 4 5 6 7 8 9]\n[3 4 5]\n[ 0  1  2 24 24 24  6  7  8  9]\n"
     ]
    }
   ],
   "source": [
    "# インデックス参照とスライス\n",
    "import numpy as np\n",
    "\n",
    "arr = np.arange(10)         # 0から9までの10個の要素を持った配列を生成\n",
    "print(arr)\n",
    "\n",
    "print(arr[3:6])             # インデックス番号が3から5(6-1)までの配列を生成\n",
    "\n",
    "arr[3:6] = 24               # インデックス番号が3から5(6-1)の値を変更\n",
    "print(arr)"
   ]
  },
  {
   "cell_type": "code",
   "execution_count": 10,
   "metadata": {},
   "outputs": [
    {
     "output_type": "stream",
     "name": "stdout",
     "text": [
      "[1 2 3 4 5]\n[100   2   3   4   5]\n[1 2 3 4 5]\n[1 2 3 4 5]\n"
     ]
    }
   ],
   "source": [
    "# ndarrayのコピー\n",
    "import numpy as np\n",
    "\n",
    "# ndarrayをそのまま別の変数に代入した場合の挙動\n",
    "arr1 = np.array([1, 2, 3, 4, 5])\n",
    "print(arr1)\n",
    "arr2 = arr1\n",
    "arr2[0] = 100\n",
    "print(arr1)         # arr2を変更すると、元のarr1にも変更が影響される\n",
    "\n",
    "# copy()を使って別の変数に代入した場合の挙動\n",
    "arr1 = np.array([1, 2, 3, 4, 5])\n",
    "print(arr1)\n",
    "arr2 = arr1.copy()\n",
    "arr2[0] = 100\n",
    "print(arr1)         # arr2を変更しても、元のarr1には変更は影響されない"
   ]
  },
  {
   "cell_type": "code",
   "execution_count": 12,
   "metadata": {},
   "outputs": [
    {
     "output_type": "stream",
     "name": "stdout",
     "text": [
      "リスト型データです\narr_list:  [0, 1, 2, 3, 4, 5, 6, 7, 8, 9]\n\nリストのスライスではコピーが作られるので、arr_listにはarr_list_copyの変更が反映されません\narr_list:  [0, 1, 2, 3, 4, 5, 6, 7, 8, 9]\n\nNumPyのndarrayデータです\narr_numpy:  [0 1 2 3 4 5 6 7 8 9]\n\nnumpyのスライスではview(データが格納されている場所の情報)が代入されるので、arr_numpy_viewの変更がarr_numpyに反映されます\narr_numpy:  [100   1   2   3   4   5   6   7   8   9]\n\nNumPyのndarrayでcopy()を用いた場合での挙動です\narr_numpy:  [0 1 2 3 4 5 6 7 8 9]\n\ncopy()を用いた場合は、コピーが生成されているのでarr_numpy_copyはarr_numpyに影響を与えません\narr_numpy:  [0 1 2 3 4 5 6 7 8 9]\n"
     ]
    }
   ],
   "source": [
    "# viewとcopy\n",
    "import numpy as np\n",
    "\n",
    "# Pythonのリストでスライスを用いた場合の挙動\n",
    "arr_list = [x for x in range(10)]\n",
    "print('リスト型データです')\n",
    "print('arr_list: ', arr_list)\n",
    "print()\n",
    "arr_list_copy = arr_list[:]\n",
    "arr_list_copy[0] = 100\n",
    "print('リストのスライスではコピーが作られるので、arr_listにはarr_list_copyの変更が反映されません')\n",
    "print('arr_list: ', arr_list)\n",
    "print()\n",
    "\n",
    "# NumPyのndarrayでスライスを用いた場合での挙動\n",
    "arr_numpy = np.arange(10)\n",
    "print('NumPyのndarrayデータです')\n",
    "print('arr_numpy: ', arr_numpy)\n",
    "print()\n",
    "arr_numpy_view = arr_numpy[:]\n",
    "arr_numpy_view[0] = 100\n",
    "print('numpyのスライスではview(データが格納されている場所の情報)が代入されるので、arr_numpy_viewの変更がarr_numpyに反映されます')\n",
    "print('arr_numpy: ', arr_numpy)\n",
    "print()\n",
    "\n",
    "# NumPyのndarrayでcopy()を用いた場合での挙動\n",
    "arr_numpy = np.arange(10)\n",
    "print('NumPyのndarrayでcopy()を用いた場合での挙動です')\n",
    "print('arr_numpy: ', arr_numpy)\n",
    "print()\n",
    "arr_numpy_copy = arr_numpy[:].copy()\n",
    "arr_numpy_copy[0] = 100\n",
    "print('copy()を用いた場合は、コピーが生成されているのでarr_numpy_copyはarr_numpyに影響を与えません')\n",
    "print('arr_numpy: ', arr_numpy)"
   ]
  },
  {
   "cell_type": "code",
   "execution_count": 16,
   "metadata": {},
   "outputs": [
    {
     "output_type": "stream",
     "name": "stdout",
     "text": [
      "[ True False  True False  True False]\n\n[2 4 6]\n"
     ]
    }
   ],
   "source": [
    "# ブルーインデックス参照\n",
    "import numpy as np\n",
    "\n",
    "arr = np.array([2, 3, 4, 5, 6, 7])\n",
    "print(arr % 2 == 0)\n",
    "print()\n",
    "print(arr[arr % 2 == 0])"
   ]
  },
  {
   "cell_type": "code",
   "execution_count": 17,
   "metadata": {},
   "outputs": [
    {
     "output_type": "stream",
     "name": "stdout",
     "text": [
      "[ 4 -9 16 -4 20]\n[ 4  9 16  4 20]\n[5.45981500e+01 8.10308393e+03 8.88611052e+06 5.45981500e+01\n 4.85165195e+08]\n[2.         3.         4.         2.         4.47213595]\n"
     ]
    }
   ],
   "source": [
    "# ユニバーサル関数\n",
    "# ndarray配列の各要素に対して演算した結果を返す関数のこと\n",
    "import numpy as np\n",
    "\n",
    "arr = np.array([4, -9, 16, -4, 20])\n",
    "print(arr)\n",
    "\n",
    "arr_abs = np.abs(arr)\n",
    "print(arr_abs)              # 絶対値\n",
    "\n",
    "print(np.exp(arr_abs))      # eのべき乗\n",
    "print(np.sqrt(arr_abs))     # 平方根"
   ]
  },
  {
   "cell_type": "code",
   "execution_count": 21,
   "metadata": {},
   "outputs": [
    {
     "output_type": "stream",
     "name": "stdout",
     "text": [
      "[2 5 7 9]\n[1 2 3 5 7 8 9]\n[2 5]\n[7 9]\n"
     ]
    }
   ],
   "source": [
    "# 集合関数\n",
    "# 数学の集合演算を行う関数(1次元配列のみが対象)\n",
    "import numpy as np\n",
    "\n",
    "arr1 = [2, 5, 7, 9, 5, 2]\n",
    "arr2 = [2, 5, 8, 3, 1]\n",
    "\n",
    "new_arr1 = np.unique(arr1)              # 重複を取り除く\n",
    "print(new_arr1)\n",
    "\n",
    "print(np.union1d(new_arr1, arr2))       # 和集合\n",
    "\n",
    "print(np.intersect1d(new_arr1, arr2))   # 積集合\n",
    "\n",
    "print(np.setdiff1d(new_arr1, arr2))     # 差集合"
   ]
  },
  {
   "cell_type": "code",
   "execution_count": 25,
   "metadata": {},
   "outputs": [
    {
     "output_type": "stream",
     "name": "stdout",
     "text": [
      "[[10  4]\n [ 6  3]\n [ 0  4]\n [10  3]\n [ 3  5]]\n[0.69135571 0.67066379 0.38902883]\n"
     ]
    }
   ],
   "source": [
    "# 乱数\n",
    "import numpy as np\n",
    "\n",
    "from numpy.random import randint\n",
    "\n",
    "arr1 = randint(0, 11, (5, 2))   # 0以上10未満の整数の行列(5, 2)\n",
    "print(arr1)\n",
    "\n",
    "arr2 = np.random.rand(3)        # 0以上1未満の一様乱数3つ\n",
    "print(arr2)"
   ]
  },
  {
   "cell_type": "code",
   "execution_count": null,
   "metadata": {},
   "outputs": [],
   "source": []
  }
 ]
}