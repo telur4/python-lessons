{
 "metadata": {
  "language_info": {
   "codemirror_mode": {
    "name": "ipython",
    "version": 3
   },
   "file_extension": ".py",
   "mimetype": "text/x-python",
   "name": "python",
   "nbconvert_exporter": "python",
   "pygments_lexer": "ipython3",
   "version": "3.8.8"
  },
  "orig_nbformat": 2,
  "kernelspec": {
   "name": "python388jvsc74a57bd0f96a64404671f85a957b2f4c0dbe4aa6c78c92539a8416ed87cc97ff497f059c",
   "display_name": "Python 3.8.8 64-bit ('base': conda)"
  }
 },
 "nbformat": 4,
 "nbformat_minor": 2,
 "cells": [
  {
   "cell_type": "code",
   "execution_count": 7,
   "metadata": {},
   "outputs": [
    {
     "output_type": "execute_result",
     "data": {
      "text/plain": [
       "          0         2\n",
       "0  0.548814  0.602763\n",
       "3  0.568045  0.071036\n",
       "4  0.020218  0.778157\n",
       "5  0.978618  0.461479\n",
       "6  0.118274  0.143353\n",
       "7  0.521848  0.264556\n",
       "8  0.456150  0.018790\n",
       "9  0.612096  0.943748"
      ],
      "text/html": "<div>\n<style scoped>\n    .dataframe tbody tr th:only-of-type {\n        vertical-align: middle;\n    }\n\n    .dataframe tbody tr th {\n        vertical-align: top;\n    }\n\n    .dataframe thead th {\n        text-align: right;\n    }\n</style>\n<table border=\"1\" class=\"dataframe\">\n  <thead>\n    <tr style=\"text-align: right;\">\n      <th></th>\n      <th>0</th>\n      <th>2</th>\n    </tr>\n  </thead>\n  <tbody>\n    <tr>\n      <th>0</th>\n      <td>0.548814</td>\n      <td>0.602763</td>\n    </tr>\n    <tr>\n      <th>3</th>\n      <td>0.568045</td>\n      <td>0.071036</td>\n    </tr>\n    <tr>\n      <th>4</th>\n      <td>0.020218</td>\n      <td>0.778157</td>\n    </tr>\n    <tr>\n      <th>5</th>\n      <td>0.978618</td>\n      <td>0.461479</td>\n    </tr>\n    <tr>\n      <th>6</th>\n      <td>0.118274</td>\n      <td>0.143353</td>\n    </tr>\n    <tr>\n      <th>7</th>\n      <td>0.521848</td>\n      <td>0.264556</td>\n    </tr>\n    <tr>\n      <th>8</th>\n      <td>0.456150</td>\n      <td>0.018790</td>\n    </tr>\n    <tr>\n      <th>9</th>\n      <td>0.612096</td>\n      <td>0.943748</td>\n    </tr>\n  </tbody>\n</table>\n</div>"
     },
     "metadata": {},
     "execution_count": 7
    }
   ],
   "source": [
    "# リストワイズ/ペアワイズ消去\n",
    "import numpy as np\n",
    "from numpy import nan as NA\n",
    "import pandas as pd\n",
    "np.random.seed(0)\n",
    "\n",
    "sample_data_frame = pd.DataFrame(np.random.rand(10, 4))\n",
    "\n",
    "sample_data_frame.iloc[1, 0] = NA\n",
    "sample_data_frame.iloc[2, 2] = NA\n",
    "sample_data_frame.iloc[5:, 3] = NA\n",
    "\n",
    "sample_data_frame[[0, 2]].dropna()"
   ]
  },
  {
   "cell_type": "code",
   "execution_count": null,
   "metadata": {},
   "outputs": [],
   "source": []
  }
 ]
}