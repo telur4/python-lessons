{
 "cells": [
  {
   "cell_type": "markdown",
   "metadata": {
    "chapterId": "Hy8l_RQWlbz",
    "id": "chapter_name"
   },
   "source": [
    "#  ★Chapter9　Pandasの応用"
   ]
  },
  {
   "cell_type": "markdown",
   "metadata": {
    "id": "table"
   },
   "source": [
    "- **9.1 DataFrameの連結・結合の概観**\n",
    "    - **9.1.1 連結・結合について**\n",
    "<br><br>\n",
    "- **9.2 DataFrameの連結**\n",
    "    - **9.2.1 インデックス、カラムが一致しているDataFrame同士の連結**\n",
    "    - **9.2.2 インデックス、カラムが一致していないDataFrame同士の連結**\n",
    "<br><br>\n",
    "- **9.3 DataFrameの結合**\n",
    "    - **9.3.1 結合の種類**\n",
    "    - **9.3.2 内部結合の基本**\n",
    "    - **9.3.3 外部結合の基本**\n",
    "    - **9.3.4 同名でない列をKeyにして結合する**\n",
    "    - **9.3.5 インデックスをKeyにして結合する**\n",
    "<br><br>\n",
    "- **9.4 DataFrameを用いたデータ分析**\n",
    "    - **9.4.1 一部の行を得る**\n",
    "    - **9.4.2 計算処理を適用する**\n",
    "    - **9.4.3 要約統計量を得る**\n",
    "    - **9.4.4 DataFrameの行間または列間の差を求める**\n",
    "    - **9.4.5 グループ化**\n",
    "<br><br>\n",
    "- **添削問題**\n",
    "- **総合添削問題**"
   ]
  },
  {
   "cell_type": "markdown",
   "metadata": {
    "id": "section_name",
    "sectionId": "B1Peu0XWgZM"
   },
   "source": [
    "## ●9.1 DataFrameの連結・結合の概観"
   ]
  },
  {
   "cell_type": "markdown",
   "metadata": {
    "courseId": 4010,
    "exerciseId": "ryGBKh8sIgz",
    "id": "quiz_session_name",
    "important": true,
    "isDL": false,
    "timeoutSecs": 5
   },
   "source": [
    "### 〇9.1.1 連結・結合について"
   ]
  },
  {
   "cell_type": "markdown",
   "metadata": {},
   "source": [
    "この項にサンプルはありません"
   ]
  },
  {
   "cell_type": "markdown",
   "metadata": {
    "id": "section_name",
    "sectionId": "HJ_eORQblZG"
   },
   "source": [
    "## ●9.2 DataFrameの連結"
   ]
  },
  {
   "cell_type": "markdown",
   "metadata": {
    "courseId": 4010,
    "exerciseId": "BJQBF3UsIgM",
    "id": "code_session_name",
    "important": true,
    "isDL": false,
    "timeoutSecs": 5
   },
   "source": [
    "### 〇9.2.1 インデックス、カラムが一致しているDataFrame同士の連結"
   ]
  },
  {
   "cell_type": "markdown",
   "metadata": {},
   "source": [
    "#### □問題"
   ]
  },
  {
   "cell_type": "code",
   "execution_count": null,
   "metadata": {
    "collapsed": true,
    "id": "index"
   },
   "outputs": [],
   "source": [
    "import numpy as np\n",
    "import pandas as pd\n",
    "\n",
    "# 指定のインデックスとカラムを持つDataFrameを乱数によって作成する関数です\n",
    "def make_random_df(index, columns, seed):\n",
    "    np.random.seed(seed)\n",
    "    df = pd.DataFrame()\n",
    "    for column in columns:\n",
    "        df[column] = np.random.choice(range(1, 101), len(index))\n",
    "    df.index = index\n",
    "    return df\n",
    "\n",
    "#インデックス、カラムが一致しているDataFrameを作成します\n",
    "columns = [\"apple\", \"orange\", \"banana\"]\n",
    "df_data1 = make_random_df(range(1, 5), columns, 0)\n",
    "df_data2 = make_random_df(range(1, 5), columns, 1)\n",
    "\n",
    "# df_data1とdf_data2を縦方向に連結しdf1に代入してください\n",
    "\n",
    "\n",
    "# df_data1とdf_data2を横方向に連結しdf2に代入してください\n",
    "\n",
    "\n",
    "print(df1)\n",
    "print(df2)"
   ]
  },
  {
   "cell_type": "markdown",
   "metadata": {},
   "source": [
    "**リスト 9.1：問題**"
   ]
  },
  {
   "cell_type": "markdown",
   "metadata": {},
   "source": [
    "#### □解答例"
   ]
  },
  {
   "cell_type": "code",
   "execution_count": 1,
   "metadata": {
    "id": "answer"
   },
   "outputs": [
    {
     "name": "stdout",
     "output_type": "stream",
     "text": [
      "   apple  orange  banana\n",
      "1     45      68      37\n",
      "2     48      10      88\n",
      "3     65      84      71\n",
      "4     68      22      89\n",
      "1     38      76      17\n",
      "2     13       6       2\n",
      "3     73      80      77\n",
      "4     10      65      72\n",
      "   apple  orange  banana  apple  orange  banana\n",
      "1     45      68      37     38      76      17\n",
      "2     48      10      88     13       6       2\n",
      "3     65      84      71     73      80      77\n",
      "4     68      22      89     10      65      72\n"
     ]
    }
   ],
   "source": [
    "import numpy as np\n",
    "import pandas as pd\n",
    "\n",
    "# 指定のインデックスとカラムを持つDataFrameを乱数によって作成する関数です\n",
    "def make_random_df(index, columns, seed):\n",
    "    np.random.seed(seed)\n",
    "    df = pd.DataFrame()\n",
    "    for column in columns:\n",
    "        df[column] = np.random.choice(range(1, 101), len(index))\n",
    "    df.index = index\n",
    "    return df\n",
    "\n",
    "#インデックス、カラムが一致しているDataFrameを作成します\n",
    "columns = [\"apple\", \"orange\", \"banana\"]\n",
    "df_data1 = make_random_df(range(1, 5), columns, 0)\n",
    "df_data2 = make_random_df(range(1, 5), columns, 1)\n",
    "\n",
    "# df_data1とdf_data2を縦方向に連結しdf1に代入してください\n",
    "df1 = pd.concat([df_data1, df_data2], axis=0)\n",
    "\n",
    "# df_data1とdf_data2を横方向に連結しdf2に代入してください\n",
    "df2 = pd.concat([df_data1, df_data2], axis=1)\n",
    "\n",
    "print(df1)\n",
    "print(df2)"
   ]
  },
  {
   "cell_type": "markdown",
   "metadata": {},
   "source": [
    "**リスト 9.2：解答例**　"
   ]
  },
  {
   "cell_type": "markdown",
   "metadata": {
    "courseId": 4010,
    "exerciseId": "ByVBF2LoLgz",
    "id": "code_session_name",
    "important": true,
    "isDL": false,
    "timeoutSecs": 5
   },
   "source": [
    "### 〇9.2.2 インデックス、カラムが一致していないDataFrame同士の連結"
   ]
  },
  {
   "cell_type": "markdown",
   "metadata": {},
   "source": [
    "#### □問題"
   ]
  },
  {
   "cell_type": "code",
   "execution_count": null,
   "metadata": {
    "collapsed": true,
    "id": "index"
   },
   "outputs": [],
   "source": [
    "import numpy as np\n",
    "import pandas as pd\n",
    "\n",
    "# 指定のインデックスとカラムを持つDataFrameを乱数によって作成する関数です\n",
    "def make_random_df(index, columns, seed):\n",
    "    np.random.seed(seed)\n",
    "    df = pd.DataFrame()\n",
    "    for column in columns:\n",
    "        df[column] = np.random.choice(range(1, 101), len(index))\n",
    "    df.index = index\n",
    "    return df\n",
    "\n",
    "columns1 = [\"apple\", \"orange\", \"banana\"]\n",
    "columns2 = [\"orange\", \"kiwifruit\", \"banana\"]\n",
    "# インデックスが1,2,3,4, カラムがcolumns1のDataFrameを作成します\n",
    "df_data1 = make_random_df(range(1, 5), columns1, 0)\n",
    "# インデックスが1,3,5,7, カラムがcolumns2のDataFrameを作成します\n",
    "df_data2 = make_random_df(np.arange(1, 8, 2), columns2, 1)\n",
    "\n",
    "# df_data1とdf_data2を縦方向に連結しdf1に代入してください\n",
    "\n",
    "\n",
    "# df_data1とdf_data2を横方向に連結しdf2に代入してください\n",
    "\n",
    "\n",
    "print(df1)\n",
    "print(df2)"
   ]
  },
  {
   "cell_type": "markdown",
   "metadata": {},
   "source": [
    "**リスト 9.3：問題**"
   ]
  },
  {
   "cell_type": "markdown",
   "metadata": {},
   "source": [
    "#### □解答例"
   ]
  },
  {
   "cell_type": "code",
   "execution_count": 2,
   "metadata": {
    "id": "answer"
   },
   "outputs": [
    {
     "name": "stdout",
     "output_type": "stream",
     "text": [
      "   apple  banana  kiwifruit  orange\n",
      "1   45.0      37        NaN      68\n",
      "2   48.0      88        NaN      10\n",
      "3   65.0      71        NaN      84\n",
      "4   68.0      89        NaN      22\n",
      "1    NaN      17       76.0      38\n",
      "3    NaN       2        6.0      13\n",
      "5    NaN      77       80.0      73\n",
      "7    NaN      72       65.0      10\n",
      "   apple  orange  banana  orange  kiwifruit  banana\n",
      "1   45.0    68.0    37.0    38.0       76.0    17.0\n",
      "2   48.0    10.0    88.0     NaN        NaN     NaN\n",
      "3   65.0    84.0    71.0    13.0        6.0     2.0\n",
      "4   68.0    22.0    89.0     NaN        NaN     NaN\n",
      "5    NaN     NaN     NaN    73.0       80.0    77.0\n",
      "7    NaN     NaN     NaN    10.0       65.0    72.0\n"
     ]
    }
   ],
   "source": [
    "import numpy as np\n",
    "import pandas as pd\n",
    "\n",
    "# 指定のインデックスとカラムを持つDataFrameを乱数によって作成する関数です\n",
    "def make_random_df(index, columns, seed):\n",
    "    np.random.seed(seed)\n",
    "    df = pd.DataFrame()\n",
    "    for column in columns:\n",
    "        df[column] = np.random.choice(range(1, 101), len(index))\n",
    "    df.index = index\n",
    "    return df\n",
    "\n",
    "columns1 = [\"apple\", \"orange\", \"banana\"]\n",
    "columns2 = [\"orange\", \"kiwifruit\", \"banana\"]\n",
    "# インデックスが1,2,3,4, カラムがcolumns1のDataFrameを作成します\n",
    "df_data1 = make_random_df(range(1, 5), columns1, 0)\n",
    "# インデックスが1,3,5,7, カラムがcolumns2のDataFrameを作成します\n",
    "df_data2 = make_random_df(np.arange(1, 8, 2), columns2, 1)\n",
    "\n",
    "# df_data1とdf_data2を縦方向に連結しdf1に代入してください\n",
    "df1 = pd.concat([df_data1, df_data2], axis=0)\n",
    "\n",
    "# df_data1とdf_data2を横方向に連結しdf2に代入してください\n",
    "df2 = pd.concat([df_data1, df_data2], axis=1)\n",
    "\n",
    "print(df1)\n",
    "print(df2)"
   ]
  },
  {
   "cell_type": "markdown",
   "metadata": {},
   "source": [
    "**リスト 9.4：解答例**"
   ]
  },
  {
   "cell_type": "markdown",
   "metadata": {
    "courseId": 4010,
    "exerciseId": "HySHFhIiIlz",
    "id": "code_session_name",
    "important": true,
    "isDL": false,
    "timeoutSecs": 5
   },
   "source": [
    "### 〇9.2.3 連結する際のラベルの指定"
   ]
  },
  {
   "cell_type": "markdown",
   "metadata": {},
   "source": [
    "#### □問題"
   ]
  },
  {
   "cell_type": "code",
   "execution_count": null,
   "metadata": {
    "collapsed": true,
    "id": "index"
   },
   "outputs": [],
   "source": [
    "import numpy as np\n",
    "import pandas as pd\n",
    "\n",
    "# 指定のインデックスとカラムを持つDataFrameを乱数によって作成する関数です\n",
    "def make_random_df(index, columns, seed):\n",
    "    np.random.seed(seed)\n",
    "    df = pd.DataFrame()\n",
    "    for column in columns:\n",
    "        df[column] = np.random.choice(range(1, 101), len(index))\n",
    "    df.index = index\n",
    "    return df\n",
    "\n",
    "columns = [\"apple\", \"orange\", \"banana\"]\n",
    "df_data1 = make_random_df(range(1, 5), columns, 0)\n",
    "df_data2 = make_random_df(range(1, 5), columns, 1)\n",
    "\n",
    "# df_data1とdf_data2を横方向に連結し、Keysに\"X\"、\"Y\"を指定してMultiIndexにしてdfに代入してください\n",
    "\n",
    "\n",
    "#  dfの\"Y\"ラベルの\"banana\"をY_bananaに代入してください\n",
    "\n",
    "\n",
    "print(df)\n",
    "print()\n",
    "print(Y_banana)"
   ]
  },
  {
   "cell_type": "markdown",
   "metadata": {},
   "source": [
    "**リスト 9.5：問題**　Keysに\"X\"、"
   ]
  },
  {
   "cell_type": "markdown",
   "metadata": {},
   "source": [
    "#### □解答例"
   ]
  },
  {
   "cell_type": "code",
   "execution_count": 2,
   "metadata": {
    "id": "answer"
   },
   "outputs": [
    {
     "name": "stdout",
     "output_type": "stream",
     "text": [
      "      X                   Y              \n",
      "  apple orange banana apple orange banana\n",
      "1    45     68     37    38     76     17\n",
      "2    48     10     88    13      6      2\n",
      "3    65     84     71    73     80     77\n",
      "4    68     22     89    10     65     72\n",
      "\n",
      "1    17\n",
      "2     2\n",
      "3    77\n",
      "4    72\n",
      "Name: (Y, banana), dtype: int32\n"
     ]
    }
   ],
   "source": [
    "import numpy as np\n",
    "import pandas as pd\n",
    "\n",
    "# 指定のインデックスとカラムを持つDataFrameを乱数によって作成する関数です\n",
    "def make_random_df(index, columns, seed):\n",
    "    np.random.seed(seed)\n",
    "    df = pd.DataFrame()\n",
    "    for column in columns:\n",
    "        df[column] = np.random.choice(range(1, 101), len(index))\n",
    "    df.index = index\n",
    "    return df\n",
    "\n",
    "columns = [\"apple\", \"orange\", \"banana\"]\n",
    "df_data1 = make_random_df(range(1, 5), columns, 0)\n",
    "df_data2 = make_random_df(range(1, 5), columns, 1)\n",
    "\n",
    "# df_data1とdf_data2を横方向に連結し、Keysに\"X\"、\"Y\"を指定してMultiIndexにしてdfに代入してください\n",
    "df = pd.concat([df_data1, df_data2], axis=1, keys=[\"X\", \"Y\"])\n",
    "\n",
    "#  dfの\"Y\"ラベルの\"banana\"をY_bananaに代入してください\n",
    "Y_banana = df[\"Y\", \"banana\"]\n",
    "\n",
    "print(df)\n",
    "print()\n",
    "print(Y_banana)"
   ]
  },
  {
   "cell_type": "markdown",
   "metadata": {},
   "source": [
    "**リスト 9.6：解答例**　Keysに\"X\"、"
   ]
  },
  {
   "cell_type": "markdown",
   "metadata": {
    "id": "section_name",
    "sectionId": "SytlORmbgbG"
   },
   "source": [
    "## ●9.3 DataFrameの結合"
   ]
  },
  {
   "cell_type": "markdown",
   "metadata": {
    "courseId": 4010,
    "exerciseId": "SyUrtnIjIxz",
    "id": "quiz_session_name",
    "important": true,
    "isDL": false,
    "timeoutSecs": 5
   },
   "source": [
    "### 〇9.3.1 結合の種類"
   ]
  },
  {
   "cell_type": "markdown",
   "metadata": {},
   "source": [
    "この項にサンプルはありません"
   ]
  },
  {
   "cell_type": "markdown",
   "metadata": {
    "courseId": 4010,
    "exerciseId": "B1PHFhLiIgf",
    "id": "code_session_name",
    "important": true,
    "isDL": false,
    "timeoutSecs": 5
   },
   "source": [
    "### 〇9.3.2 内部結合の基本"
   ]
  },
  {
   "cell_type": "markdown",
   "metadata": {},
   "source": [
    "#### □問題"
   ]
  },
  {
   "cell_type": "code",
   "execution_count": null,
   "metadata": {
    "collapsed": true,
    "id": "index"
   },
   "outputs": [],
   "source": [
    "import numpy as np\n",
    "import pandas as pd\n",
    "\n",
    "data1 = {\"fruits\": [\"apple\", \"orange\", \"banana\", \"strawberry\", \"kiwifruit\"],\n",
    "        \"year\": [2001, 2002, 2001, 2008, 2006],\n",
    "        \"amount\": [1, 4, 5, 6, 3]}\n",
    "df1 = pd.DataFrame(data1)\n",
    "\n",
    "data2 = {\"fruits\": [\"apple\", \"orange\", \"banana\", \"strawberry\", \"mango\"],\n",
    "        \"year\": [2001, 2002, 2001, 2008, 2007],\n",
    "        \"price\": [150, 120, 100, 250, 3000]}\n",
    "df2 = pd.DataFrame(data2)\n",
    "\n",
    "# df1, df2の中身を確認してください\n",
    "print(df1)\n",
    "print()\n",
    "print(df2)\n",
    "print()\n",
    "\n",
    "# df1とdf2を\"fruits\"をKeyに内部結合して作成したDataFrameをdf3に代入してください\n",
    "\n",
    "\n",
    "# 出力します\n",
    "# 内部結合を行った時の挙動を確認しましょう\n",
    "print(df3)"
   ]
  },
  {
   "cell_type": "markdown",
   "metadata": {},
   "source": [
    "**リスト 9.7：問題**"
   ]
  },
  {
   "cell_type": "markdown",
   "metadata": {},
   "source": [
    "#### □解答例"
   ]
  },
  {
   "cell_type": "code",
   "execution_count": 3,
   "metadata": {
    "id": "answer"
   },
   "outputs": [
    {
     "name": "stdout",
     "output_type": "stream",
     "text": [
      "   amount      fruits  year\n",
      "0       1       apple  2001\n",
      "1       4      orange  2002\n",
      "2       5      banana  2001\n",
      "3       6  strawberry  2008\n",
      "4       3   kiwifruit  2006\n",
      "\n",
      "       fruits  price  year\n",
      "0       apple    150  2001\n",
      "1      orange    120  2002\n",
      "2      banana    100  2001\n",
      "3  strawberry    250  2008\n",
      "4       mango   3000  2007\n",
      "\n",
      "   amount      fruits  year_x  price  year_y\n",
      "0       1       apple    2001    150    2001\n",
      "1       4      orange    2002    120    2002\n",
      "2       5      banana    2001    100    2001\n",
      "3       6  strawberry    2008    250    2008\n"
     ]
    }
   ],
   "source": [
    "import numpy as np\n",
    "import pandas as pd\n",
    "\n",
    "data1 = {\"fruits\": [\"apple\", \"orange\", \"banana\", \"strawberry\", \"kiwifruit\"],\n",
    "        \"year\": [2001, 2002, 2001, 2008, 2006],\n",
    "        \"amount\": [1, 4, 5, 6, 3]}\n",
    "df1 = pd.DataFrame(data1)\n",
    "\n",
    "data2 = {\"fruits\": [\"apple\", \"orange\", \"banana\", \"strawberry\", \"mango\"],\n",
    "        \"year\": [2001, 2002, 2001, 2008, 2007],\n",
    "        \"price\": [150, 120, 100, 250, 3000]}\n",
    "df2 = pd.DataFrame(data2)\n",
    "\n",
    "# df1, df2の中身を確認してください\n",
    "print(df1)\n",
    "print()\n",
    "print(df2)\n",
    "print()\n",
    "\n",
    "# df1とdf2を\"fruits\"をKeyに内部結合して作成したDataFrameをdf3に代入してください\n",
    "df3 = pd.merge(df1, df2, on=\"fruits\", how=\"inner\")\n",
    "\n",
    "# 出力します\n",
    "# 内部結合を行った時の挙動を確認しましょう\n",
    "print(df3)"
   ]
  },
  {
   "cell_type": "markdown",
   "metadata": {},
   "source": [
    "**リスト 9.8：解答例**"
   ]
  },
  {
   "cell_type": "markdown",
   "metadata": {
    "courseId": 4010,
    "exerciseId": "H1dHtnLiLeG",
    "id": "code_session_name",
    "important": true,
    "isDL": false,
    "timeoutSecs": 5
   },
   "source": [
    "### 〇9.3.3 外部結合の基本"
   ]
  },
  {
   "cell_type": "markdown",
   "metadata": {},
   "source": [
    "#### □問題"
   ]
  },
  {
   "cell_type": "code",
   "execution_count": null,
   "metadata": {
    "collapsed": true,
    "id": "index"
   },
   "outputs": [],
   "source": [
    "import numpy as np\n",
    "import pandas as pd\n",
    "\n",
    "data1 = {\"fruits\": [\"apple\", \"orange\", \"banana\", \"strawberry\", \"kiwifruit\"],\n",
    "        \"year\": [2001, 2002, 2001, 2008, 2006],\n",
    "        \"amount\": [1, 4, 5, 6, 3]}\n",
    "df1 = pd.DataFrame(data1)\n",
    "\n",
    "data2 = {\"fruits\": [\"apple\", \"orange\", \"banana\", \"strawberry\", \"mango\"],\n",
    "        \"year\": [2001, 2002, 2001, 2008, 2007],\n",
    "        \"price\": [150, 120, 100, 250, 3000]}\n",
    "df2 = pd.DataFrame(data2)\n",
    "\n",
    "# df1, df2の中身を確認してください\n",
    "print(df1)\n",
    "print()\n",
    "print(df2)\n",
    "print()\n",
    "\n",
    "# df1とdf2を\"fruits\"をKeyに外部結合して作成したDataFrameをdf3に代入してください\n",
    "\n",
    "# 出力します\n",
    "# 外部結合を行った時の挙動を確認しましょう\n",
    "print(df3)"
   ]
  },
  {
   "cell_type": "markdown",
   "metadata": {},
   "source": [
    "**リスト 9.9：問題**"
   ]
  },
  {
   "cell_type": "markdown",
   "metadata": {},
   "source": [
    "#### □解答例"
   ]
  },
  {
   "cell_type": "code",
   "execution_count": 4,
   "metadata": {
    "id": "answer"
   },
   "outputs": [
    {
     "name": "stdout",
     "output_type": "stream",
     "text": [
      "   amount      fruits  year\n",
      "0       1       apple  2001\n",
      "1       4      orange  2002\n",
      "2       5      banana  2001\n",
      "3       6  strawberry  2008\n",
      "4       3   kiwifruit  2006\n",
      "\n",
      "       fruits  price  year\n",
      "0       apple    150  2001\n",
      "1      orange    120  2002\n",
      "2      banana    100  2001\n",
      "3  strawberry    250  2008\n",
      "4       mango   3000  2007\n",
      "\n",
      "   amount      fruits  year_x   price  year_y\n",
      "0     1.0       apple  2001.0   150.0  2001.0\n",
      "1     4.0      orange  2002.0   120.0  2002.0\n",
      "2     5.0      banana  2001.0   100.0  2001.0\n",
      "3     6.0  strawberry  2008.0   250.0  2008.0\n",
      "4     3.0   kiwifruit  2006.0     NaN     NaN\n",
      "5     NaN       mango     NaN  3000.0  2007.0\n"
     ]
    }
   ],
   "source": [
    "import numpy as np\n",
    "import pandas as pd\n",
    "\n",
    "data1 = {\"fruits\": [\"apple\", \"orange\", \"banana\", \"strawberry\", \"kiwifruit\"],\n",
    "        \"year\": [2001, 2002, 2001, 2008, 2006],\n",
    "        \"amount\": [1, 4, 5, 6, 3]}\n",
    "df1 = pd.DataFrame(data1)\n",
    "\n",
    "data2 = {\"fruits\": [\"apple\", \"orange\", \"banana\", \"strawberry\", \"mango\"],\n",
    "        \"year\": [2001, 2002, 2001, 2008, 2007],\n",
    "        \"price\": [150, 120, 100, 250, 3000]}\n",
    "df2 = pd.DataFrame(data2)\n",
    "\n",
    "# df1, df2の中身を確認してください\n",
    "print(df1)\n",
    "print()\n",
    "print(df2)\n",
    "print()\n",
    "\n",
    "# df1とdf2を\"fruits\"をKeyに外部結合して作成したDataFrameをdf3に代入してください\n",
    "df3 = pd.merge(df1, df2, on=\"fruits\", how=\"outer\")\n",
    "\n",
    "# 出力します\n",
    "# 外部結合を行った時の挙動を確認しましょう\n",
    "print(df3)"
   ]
  },
  {
   "cell_type": "markdown",
   "metadata": {},
   "source": [
    "**リスト 9.10：解答例**"
   ]
  },
  {
   "cell_type": "markdown",
   "metadata": {
    "courseId": 4010,
    "exerciseId": "SyYBF2UiIlM",
    "id": "code_session_name",
    "important": false,
    "isDL": false,
    "timeoutSecs": 5
   },
   "source": [
    "### 〇9.3.4 同名でない列をKeyにして結合する"
   ]
  },
  {
   "cell_type": "markdown",
   "metadata": {},
   "source": [
    "#### □問題"
   ]
  },
  {
   "cell_type": "code",
   "execution_count": null,
   "metadata": {
    "collapsed": true
   },
   "outputs": [],
   "source": [
    "import pandas as pd\n",
    "\n",
    "# 注文情報です\n",
    "order_df = pd.DataFrame([[1000, 2546, 103],\n",
    "                         [1001, 4352, 101],\n",
    "                         [1002, 342, 101]],\n",
    "                         columns=[\"id\", \"item_id\", \"customer_id\"])\n",
    "# 顧客情報です\n",
    "customer_df = pd.DataFrame([[101, \"Tanaka\"],\n",
    "                           [102, \"Suzuki\"],\n",
    "                           [103, \"Kato\"]],\n",
    "                           columns=[\"id\", \"name\"])\n",
    "\n",
    "# order_dfを元に\"id\"をcustomer_dfに結合してorder_dfに代入してください\n",
    "\n",
    "\n",
    "print(order_df)"
   ]
  },
  {
   "cell_type": "markdown",
   "metadata": {},
   "source": [
    "**リスト 9.11：問題**"
   ]
  },
  {
   "cell_type": "markdown",
   "metadata": {},
   "source": [
    "#### □解答例"
   ]
  },
  {
   "cell_type": "code",
   "execution_count": 5,
   "metadata": {
    "id": "answer"
   },
   "outputs": [
    {
     "name": "stdout",
     "output_type": "stream",
     "text": [
      "   id_x  item_id  customer_id  id_y    name\n",
      "0  1000     2546          103   103    Kato\n",
      "1  1001     4352          101   101  Tanaka\n",
      "2  1002      342          101   101  Tanaka\n"
     ]
    }
   ],
   "source": [
    "import pandas as pd\n",
    "\n",
    "# 注文情報です\n",
    "order_df = pd.DataFrame([[1000, 2546, 103],\n",
    "                         [1001, 4352, 101],\n",
    "                         [1002, 342, 101]],\n",
    "                         columns=[\"id\", \"item_id\", \"customer_id\"])\n",
    "# 顧客情報です\n",
    "customer_df = pd.DataFrame([[101, \"Tanaka\"],\n",
    "                           [102, \"Suzuki\"],\n",
    "                           [103, \"Kato\"]],\n",
    "                           columns=[\"id\", \"name\"])\n",
    "\n",
    "# order_dfを元に\"id\"をcustomer_dfに結合してorder_dfに代入してください\n",
    "order_df = pd.merge(order_df, customer_df, left_on=\"customer_id\", right_on=\"id\", how=\"inner\")\n",
    "\n",
    "print(order_df)"
   ]
  },
  {
   "cell_type": "markdown",
   "metadata": {},
   "source": [
    "**リスト 9.12：解答例**"
   ]
  },
  {
   "cell_type": "markdown",
   "metadata": {
    "courseId": 4010,
    "exerciseId": "Hy5rYh8j8ez",
    "id": "code_session_name",
    "important": false,
    "isDL": false,
    "timeoutSecs": 5
   },
   "source": [
    "### 〇9.3.5 インデックスをKeyにして結合する"
   ]
  },
  {
   "cell_type": "markdown",
   "metadata": {},
   "source": [
    "#### □問題"
   ]
  },
  {
   "cell_type": "code",
   "execution_count": null,
   "metadata": {
    "collapsed": true,
    "id": "index"
   },
   "outputs": [],
   "source": [
    "import pandas as pd\n",
    "\n",
    "# 注文情報です\n",
    "order_df = pd.DataFrame([[1000, 2546, 103],\n",
    "                         [1001, 4352, 101],\n",
    "                         [1002, 342, 101]],\n",
    "                         columns=[\"id\", \"item_id\", \"customer_id\"])\n",
    "# 顧客情報です\n",
    "customer_df = pd.DataFrame([[\"Tanaka\"],\n",
    "                           [\"Suzuki\"],\n",
    "                           [\"Kato\"]],\n",
    "                           columns=[\"name\"])\n",
    "customer_df.index = [101, 102, 103]\n",
    "\n",
    "# customer_dfを元に\"name\"をorder_dfに結合してorder_dfに代入してください\n",
    "\n",
    "\n",
    "print(order_df)"
   ]
  },
  {
   "cell_type": "markdown",
   "metadata": {},
   "source": [
    "**リスト 9.13：問題**"
   ]
  },
  {
   "cell_type": "markdown",
   "metadata": {},
   "source": [
    "#### □解答例"
   ]
  },
  {
   "cell_type": "code",
   "execution_count": 6,
   "metadata": {
    "id": "answer"
   },
   "outputs": [
    {
     "name": "stdout",
     "output_type": "stream",
     "text": [
      "     id  item_id  customer_id    name\n",
      "0  1000     2546          103    Kato\n",
      "1  1001     4352          101  Tanaka\n",
      "2  1002      342          101  Tanaka\n"
     ]
    }
   ],
   "source": [
    "import pandas as pd\n",
    "\n",
    "# 注文情報です\n",
    "order_df = pd.DataFrame([[1000, 2546, 103],\n",
    "                         [1001, 4352, 101],\n",
    "                         [1002, 342, 101]],\n",
    "                         columns=[\"id\", \"item_id\", \"customer_id\"])\n",
    "# 顧客情報です\n",
    "customer_df = pd.DataFrame([[\"Tanaka\"],\n",
    "                           [\"Suzuki\"],\n",
    "                           [\"Kato\"]],\n",
    "                           columns=[\"name\"])\n",
    "customer_df.index = [101, 102, 103]\n",
    "\n",
    "# customer_dfを元に\"name\"をorder_dfに結合してorder_dfに代入してください\n",
    "order_df = pd.merge(order_df, customer_df, left_on=\"customer_id\", right_index=True, how=\"inner\")\n",
    "\n",
    "print(order_df)"
   ]
  },
  {
   "cell_type": "markdown",
   "metadata": {},
   "source": [
    "**リスト 9.14：解答例**"
   ]
  },
  {
   "cell_type": "markdown",
   "metadata": {
    "id": "section_name",
    "sectionId": "HycedRXbl-f"
   },
   "source": [
    "## ●9.4 DataFrameを用いたデータ分析"
   ]
  },
  {
   "cell_type": "markdown",
   "metadata": {
    "courseId": 4010,
    "exerciseId": "SkiSt3UsUlM",
    "id": "code_session_name",
    "important": true,
    "isDL": false,
    "timeoutSecs": 5
   },
   "source": [
    "### 〇9.4.1 一部の行を得る"
   ]
  },
  {
   "cell_type": "markdown",
   "metadata": {},
   "source": [
    "#### □問題"
   ]
  },
  {
   "cell_type": "code",
   "execution_count": null,
   "metadata": {
    "collapsed": true,
    "id": "index"
   },
   "outputs": [],
   "source": [
    "import numpy as np\n",
    "import pandas as pd\n",
    "np.random.seed(0)\n",
    "columns = [\"apple\", \"orange\", \"banana\", \"strawberry\", \"kiwifruit\"]\n",
    "\n",
    "# DataFrameを生成し、列を追加します\n",
    "df = pd.DataFrame()\n",
    "for column in columns:\n",
    "    df[column] = np.random.choice(range(1, 11), 10)\n",
    "df.index = range(1, 11)\n",
    "\n",
    "# dfの冒頭3行を取得し、df_headに代入してください\n",
    "\n",
    "\n",
    "# dfの末尾3行を取得し、df_tailに代入してください\n",
    "\n",
    "\n",
    "# 出力します\n",
    "print(df_head)\n",
    "print(df_tail)"
   ]
  },
  {
   "cell_type": "markdown",
   "metadata": {},
   "source": [
    "**リスト9.15：問題**"
   ]
  },
  {
   "cell_type": "markdown",
   "metadata": {},
   "source": [
    "#### □解答例"
   ]
  },
  {
   "cell_type": "code",
   "execution_count": 7,
   "metadata": {
    "id": "answer"
   },
   "outputs": [
    {
     "name": "stdout",
     "output_type": "stream",
     "text": [
      "   apple  orange  banana  strawberry  kiwifruit\n",
      "1      6       8       6           3         10\n",
      "2      1       7      10           4         10\n",
      "3      4       9       9           9          1\n",
      "    apple  orange  banana  strawberry  kiwifruit\n",
      "8       6       8       4           8          8\n",
      "9       3       9       6           1          3\n",
      "10      5       2       1           2          1\n"
     ]
    }
   ],
   "source": [
    "import numpy as np\n",
    "import pandas as pd\n",
    "np.random.seed(0)\n",
    "columns = [\"apple\", \"orange\", \"banana\", \"strawberry\", \"kiwifruit\"]\n",
    "\n",
    "# DataFrameを生成し、列を追加します\n",
    "df = pd.DataFrame()\n",
    "for column in columns:\n",
    "    df[column] = np.random.choice(range(1, 11), 10)\n",
    "df.index = range(1, 11)\n",
    "\n",
    "# dfの冒頭3行を取得し、df_headに代入してください\n",
    "df_head = df.head(3)\n",
    "\n",
    "# dfの末尾3行を取得し、df_tailに代入してください\n",
    "df_tail = df.tail(3)\n",
    "\n",
    "# 出力します\n",
    "print(df_head)\n",
    "print(df_tail)"
   ]
  },
  {
   "cell_type": "markdown",
   "metadata": {},
   "source": [
    "**リスト 9.16：解答例**"
   ]
  },
  {
   "cell_type": "markdown",
   "metadata": {
    "courseId": 4010,
    "exerciseId": "rJnSFnIsLxz",
    "id": "code_session_name",
    "important": true,
    "isDL": false,
    "timeoutSecs": 5
   },
   "source": [
    "### 〇9.4.2 計算処理を適用する"
   ]
  },
  {
   "cell_type": "markdown",
   "metadata": {},
   "source": [
    "#### □問題"
   ]
  },
  {
   "cell_type": "code",
   "execution_count": null,
   "metadata": {
    "collapsed": true,
    "id": "index"
   },
   "outputs": [],
   "source": [
    "import numpy as np\n",
    "import pandas as pd\n",
    "import math\n",
    "np.random.seed(0)\n",
    "columns = [\"apple\", \"orange\", \"banana\", \"strawberry\", \"kiwifruit\"]\n",
    "\n",
    "# DataFrameを生成し、列を追加します\n",
    "df = pd.DataFrame()\n",
    "for column in columns:\n",
    "    df[column] = np.random.choice(range(1, 11), 10)\n",
    "df.index = range(1, 11)\n",
    "\n",
    "# dfの各要素を2倍し、double_dfに代入してください\n",
    "\n",
    "\n",
    "# dfの各要素を2乗し、square_dfに代入してください\n",
    "\n",
    "\n",
    "# dfの各要素の平方根を計算し、sqrt_dfに代入してください\n",
    "\n",
    "\n",
    "\n",
    "# 出力します\n",
    "print(double_df)\n",
    "print(square_df)\n",
    "print(sqrt_df)"
   ]
  },
  {
   "cell_type": "markdown",
   "metadata": {},
   "source": [
    "**リスト 9.17：問題**"
   ]
  },
  {
   "cell_type": "markdown",
   "metadata": {},
   "source": [
    "#### □解答例"
   ]
  },
  {
   "cell_type": "code",
   "execution_count": 8,
   "metadata": {
    "id": "answer",
    "scrolled": false
   },
   "outputs": [
    {
     "name": "stdout",
     "output_type": "stream",
     "text": [
      "    apple  orange  banana  strawberry  kiwifruit\n",
      "1      12      16      12           6         20\n",
      "2       2      14      20           8         20\n",
      "3       8      18      18          18          2\n",
      "4       8      18      20           4         10\n",
      "5      16       4      10           8         16\n",
      "6      20      14       8           8          8\n",
      "7       8      16       2           8          6\n",
      "8      12      16       8          16         16\n",
      "9       6      18      12           2          6\n",
      "10     10       4       2           4          2\n",
      "    apple  orange  banana  strawberry  kiwifruit\n",
      "1      36      64      36           9        100\n",
      "2       1      49     100          16        100\n",
      "3      16      81      81          81          1\n",
      "4      16      81     100           4         25\n",
      "5      64       4      25          16         64\n",
      "6     100      49      16          16         16\n",
      "7      16      64       1          16          9\n",
      "8      36      64      16          64         64\n",
      "9       9      81      36           1          9\n",
      "10     25       4       1           4          1\n",
      "       apple    orange    banana  strawberry  kiwifruit\n",
      "1   2.449490  2.828427  2.449490    1.732051   3.162278\n",
      "2   1.000000  2.645751  3.162278    2.000000   3.162278\n",
      "3   2.000000  3.000000  3.000000    3.000000   1.000000\n",
      "4   2.000000  3.000000  3.162278    1.414214   2.236068\n",
      "5   2.828427  1.414214  2.236068    2.000000   2.828427\n",
      "6   3.162278  2.645751  2.000000    2.000000   2.000000\n",
      "7   2.000000  2.828427  1.000000    2.000000   1.732051\n",
      "8   2.449490  2.828427  2.000000    2.828427   2.828427\n",
      "9   1.732051  3.000000  2.449490    1.000000   1.732051\n",
      "10  2.236068  1.414214  1.000000    1.414214   1.000000\n"
     ]
    }
   ],
   "source": [
    "import numpy as np\n",
    "import pandas as pd\n",
    "import math\n",
    "np.random.seed(0)\n",
    "columns = [\"apple\", \"orange\", \"banana\", \"strawberry\", \"kiwifruit\"]\n",
    "\n",
    "# DataFrameを生成し、列を追加します\n",
    "df = pd.DataFrame()\n",
    "for column in columns:\n",
    "    df[column] = np.random.choice(range(1, 11), 10)\n",
    "df.index = range(1, 11)\n",
    "\n",
    "# dfの各要素を2倍し、double_dfに代入してください\n",
    "double_df = df * 2 # double_df = df + dfもOK\n",
    "\n",
    "# dfの各要素を2乗し、square_dfに代入してください\n",
    "square_df = df * df #square_df = df**2 でもOK\n",
    "\n",
    "# dfの各要素の平方根を計算し、sqrt_dfに代入してください\n",
    "sqrt_df = np.sqrt(df)\n",
    "\n",
    "\n",
    "# 出力します\n",
    "print(double_df)\n",
    "print(square_df)\n",
    "print(sqrt_df)"
   ]
  },
  {
   "cell_type": "markdown",
   "metadata": {},
   "source": [
    "**リスト 9.18：解答例**"
   ]
  },
  {
   "cell_type": "markdown",
   "metadata": {
    "courseId": 4010,
    "exerciseId": "HypSY3UsLgf",
    "id": "code_session_name",
    "important": true,
    "isDL": false,
    "timeoutSecs": 5
   },
   "source": [
    "### 〇9.4.3 要約統計量を得る"
   ]
  },
  {
   "cell_type": "markdown",
   "metadata": {},
   "source": [
    "#### □問題"
   ]
  },
  {
   "cell_type": "code",
   "execution_count": null,
   "metadata": {
    "collapsed": true,
    "id": "index"
   },
   "outputs": [],
   "source": [
    "import numpy as np\n",
    "import pandas as pd\n",
    "np.random.seed(0)\n",
    "columns = [\"apple\", \"orange\", \"banana\", \"strawberry\", \"kiwifruit\"]\n",
    "\n",
    "# DataFrameを生成し、列を追加します\n",
    "df = pd.DataFrame()\n",
    "for column in columns:\n",
    "    df[column] = np.random.choice(range(1, 11), 10)\n",
    "df.index = range(1, 11)\n",
    "\n",
    "# dfの要約統計量のうち、\"mean\", \"max\", \"min\"を取り出してdf_desに代入してください\n",
    "\n",
    "\n",
    "print(df_des)"
   ]
  },
  {
   "cell_type": "markdown",
   "metadata": {},
   "source": [
    "**リスト 9.19：問題**"
   ]
  },
  {
   "cell_type": "markdown",
   "metadata": {},
   "source": [
    "#### □解答例"
   ]
  },
  {
   "cell_type": "code",
   "execution_count": 9,
   "metadata": {
    "id": "answer"
   },
   "outputs": [
    {
     "name": "stdout",
     "output_type": "stream",
     "text": [
      "      apple  orange  banana  strawberry  kiwifruit\n",
      "mean    5.1     6.9     5.6         4.1        5.3\n",
      "max    10.0     9.0    10.0         9.0       10.0\n",
      "min     1.0     2.0     1.0         1.0        1.0\n"
     ]
    }
   ],
   "source": [
    "import numpy as np\n",
    "import pandas as pd\n",
    "np.random.seed(0)\n",
    "columns = [\"apple\", \"orange\", \"banana\", \"strawberry\", \"kiwifruit\"]\n",
    "\n",
    "# DataFrameを生成し、列を追加します\n",
    "df = pd.DataFrame()\n",
    "for column in columns:\n",
    "    df[column] = np.random.choice(range(1, 11), 10)\n",
    "df.index = range(1, 11)\n",
    "\n",
    "# dfの要約統計量のうち、\"mean\", \"max\", \"min\"を取り出してdf_desに代入してください\n",
    "df_des = df.describe().loc[[\"mean\", \"max\", \"min\"]]\n",
    "\n",
    "print(df_des)"
   ]
  },
  {
   "cell_type": "markdown",
   "metadata": {},
   "source": [
    "**リスト 9.20：解答例**"
   ]
  },
  {
   "cell_type": "markdown",
   "metadata": {
    "courseId": 4010,
    "exerciseId": "BkCSFnUsUxf",
    "id": "code_session_name",
    "important": false,
    "isDL": false,
    "timeoutSecs": 5
   },
   "source": [
    "### 〇9.4.4 DataFrameの行間または列間の差を求める"
   ]
  },
  {
   "cell_type": "markdown",
   "metadata": {},
   "source": [
    "#### □問題"
   ]
  },
  {
   "cell_type": "code",
   "execution_count": null,
   "metadata": {
    "collapsed": true,
    "id": "index"
   },
   "outputs": [],
   "source": [
    "import numpy as np\n",
    "import pandas as pd\n",
    "np.random.seed(0)\n",
    "columns = [\"apple\", \"orange\", \"banana\", \"strawberry\", \"kiwifruit\"]\n",
    "\n",
    "# DataFrameを生成し、列を追加します\n",
    "df = pd.DataFrame()\n",
    "for column in columns:\n",
    "    df[column] = np.random.choice(range(1, 11), 10)\n",
    "df.index = range(1, 11)\n",
    "\n",
    "# dfの各行について、2行後の行との差を計算したDataFrameをdf_diffに代入してください\n",
    "\n",
    "\n",
    "# dfとdf_diffの中身を比較して処理内容を確認してください\n",
    "print(df)\n",
    "print(df_diff)"
   ]
  },
  {
   "cell_type": "markdown",
   "metadata": {},
   "source": [
    "**リスト 9.21：問題**"
   ]
  },
  {
   "cell_type": "markdown",
   "metadata": {},
   "source": [
    "#### □解答例"
   ]
  },
  {
   "cell_type": "code",
   "execution_count": 10,
   "metadata": {
    "id": "answer"
   },
   "outputs": [
    {
     "name": "stdout",
     "output_type": "stream",
     "text": [
      "    apple  orange  banana  strawberry  kiwifruit\n",
      "1       6       8       6           3         10\n",
      "2       1       7      10           4         10\n",
      "3       4       9       9           9          1\n",
      "4       4       9      10           2          5\n",
      "5       8       2       5           4          8\n",
      "6      10       7       4           4          4\n",
      "7       4       8       1           4          3\n",
      "8       6       8       4           8          8\n",
      "9       3       9       6           1          3\n",
      "10      5       2       1           2          1\n",
      "    apple  orange  banana  strawberry  kiwifruit\n",
      "1     2.0    -1.0    -3.0        -6.0        9.0\n",
      "2    -3.0    -2.0     0.0         2.0        5.0\n",
      "3    -4.0     7.0     4.0         5.0       -7.0\n",
      "4    -6.0     2.0     6.0        -2.0        1.0\n",
      "5     4.0    -6.0     4.0         0.0        5.0\n",
      "6     4.0    -1.0     0.0        -4.0       -4.0\n",
      "7     1.0    -1.0    -5.0         3.0        0.0\n",
      "8     1.0     6.0     3.0         6.0        7.0\n",
      "9     NaN     NaN     NaN         NaN        NaN\n",
      "10    NaN     NaN     NaN         NaN        NaN\n"
     ]
    }
   ],
   "source": [
    "import numpy as np\n",
    "import pandas as pd\n",
    "np.random.seed(0)\n",
    "columns = [\"apple\", \"orange\", \"banana\", \"strawberry\", \"kiwifruit\"]\n",
    "\n",
    "# DataFrameを生成し、列を追加します\n",
    "df = pd.DataFrame()\n",
    "for column in columns:\n",
    "    df[column] = np.random.choice(range(1, 11), 10)\n",
    "df.index = range(1, 11)\n",
    "\n",
    "# dfの各行について、2行後の行との差を計算したDataFrameをdf_diffに代入してください\n",
    "df_diff = df.diff(-2, axis=0)\n",
    "\n",
    "# dfとdf_diffの中身を比較して処理内容を確認してください\n",
    "print(df)\n",
    "print(df_diff)"
   ]
  },
  {
   "cell_type": "markdown",
   "metadata": {},
   "source": [
    "**リスト 9.22：解答例**"
   ]
  },
  {
   "cell_type": "markdown",
   "metadata": {
    "courseId": 4010,
    "exerciseId": "S1JIF3Uj8xz",
    "id": "code_session_name",
    "important": false,
    "isDL": false,
    "timeoutSecs": 5
   },
   "source": [
    "### 〇9.4.5 グループ化"
   ]
  },
  {
   "cell_type": "markdown",
   "metadata": {},
   "source": [
    "#### □問題"
   ]
  },
  {
   "cell_type": "code",
   "execution_count": null,
   "metadata": {
    "collapsed": true,
    "id": "index"
   },
   "outputs": [],
   "source": [
    "import pandas as pd\n",
    "\n",
    "# 一部の都道府県に関するDataFrameを作成します\n",
    "prefecture_df = pd.DataFrame([[\"Tokyo\", 2190, 13636, \"Kanto\"],\n",
    "                              [\"Kanagawa\", 2415, 9145, \"Kanto\"],\n",
    "                              [\"Osaka\", 1904, 8837, \"Kinki\"],\n",
    "                              [\"Kyoto\", 4610, 2605, \"Kinki\"],\n",
    "                              [\"Aichi\", 5172, 7505, \"Chubu\"]], \n",
    "                             columns=[\"Prefecture\", \"Area\", \n",
    "                                      \"Population\", \"Region\"])\n",
    "# 出力します\n",
    "print(prefecture_df)\n",
    "\n",
    "# prefecture_dfを地域(Region)についてグループ化し、grouped_regionに代入してください\n",
    "\n",
    "\n",
    "# prefecture_dfに出てきた地域ごとの、面積(Area)と人口(Population)の平均をmean_dfに代入してください\n",
    "\n",
    "\n",
    "# 出力します\n",
    "print(mean_df)"
   ]
  },
  {
   "cell_type": "markdown",
   "metadata": {},
   "source": [
    "**リスト 9.23：問題**"
   ]
  },
  {
   "cell_type": "markdown",
   "metadata": {},
   "source": [
    "#### □解答例"
   ]
  },
  {
   "cell_type": "code",
   "execution_count": 11,
   "metadata": {
    "id": "answer",
    "scrolled": false
   },
   "outputs": [
    {
     "name": "stdout",
     "output_type": "stream",
     "text": [
      "  Prefecture  Area  Population Region\n",
      "0      Tokyo  2190       13636  Kanto\n",
      "1   Kanagawa  2415        9145  Kanto\n",
      "2      Osaka  1904        8837  Kinki\n",
      "3      Kyoto  4610        2605  Kinki\n",
      "4      Aichi  5172        7505  Chubu\n",
      "          Area  Population\n",
      "Region                    \n",
      "Chubu   5172.0      7505.0\n",
      "Kanto   2302.5     11390.5\n",
      "Kinki   3257.0      5721.0\n"
     ]
    }
   ],
   "source": [
    "import pandas as pd\n",
    "\n",
    "# 一部の都道府県に関するDataFrameを作成します\n",
    "prefecture_df = pd.DataFrame([[\"Tokyo\", 2190, 13636, \"Kanto\"], \n",
    "                              [\"Kanagawa\", 2415, 9145, \"Kanto\"],\n",
    "                              [\"Osaka\", 1904, 8837, \"Kinki\"], \n",
    "                              [\"Kyoto\", 4610, 2605, \"Kinki\"],\n",
    "                              [\"Aichi\", 5172, 7505, \"Chubu\"]], \n",
    "                             columns=[\"Prefecture\", \"Area\", \n",
    "                                      \"Population\", \"Region\"])\n",
    "# 出力します\n",
    "print(prefecture_df)\n",
    "\n",
    "# prefecture_dfを地域(Region)についてグループ化し、grouped_regionに代入してください\n",
    "grouped_region = prefecture_df.groupby(\"Region\")\n",
    "\n",
    "# prefecture_dfに出てきた地域ごとの、面積(Area)と人口(Population)の平均をmean_dfに代入してください\n",
    "mean_df = grouped_region.mean()\n",
    "\n",
    "# 出力します\n",
    "print(mean_df)"
   ]
  },
  {
   "cell_type": "markdown",
   "metadata": {},
   "source": [
    "**リスト 9.24：解答例**"
   ]
  },
  {
   "cell_type": "markdown",
   "metadata": {
    "id": "chapter_exam"
   },
   "source": [
    "## ●添削問題"
   ]
  },
  {
   "cell_type": "markdown",
   "metadata": {},
   "source": [
    "#### □問題"
   ]
  },
  {
   "cell_type": "code",
   "execution_count": null,
   "metadata": {
    "collapsed": true,
    "id": "index",
    "scrolled": true
   },
   "outputs": [],
   "source": [
    "import pandas as pd\n",
    "\n",
    "# それぞれのDataFrameの定義です\n",
    "df1 = pd.DataFrame([[\"apple\", \"Fruit\", 120],\n",
    "                    [\"orange\", \"Fruit\", 60],\n",
    "                    [\"banana\", \"Fruit\", 100],\n",
    "                    [\"pumpkin\", \"Vegetable\", 150],\n",
    "                    [\"potato\", \"Vegetable\", 80]],\n",
    "                    columns=[\"Name\", \"Type\", \"Price\"])\n",
    "\n",
    "df2 = pd.DataFrame([[\"onion\", \"Vegetable\", 60],\n",
    "                    [\"carrot\", \"Vegetable\", 50],\n",
    "                    [\"beans\", \"Vegetable\", 100],\n",
    "                    [\"grape\", \"Fruit\", 160],\n",
    "                    [\"kiwifruit\", \"Fruit\", 80]],\n",
    "                    columns=[\"Name\", \"Type\", \"Price\"])\n",
    "\n",
    "# ここに解答を記述してください\n"
   ]
  },
  {
   "cell_type": "markdown",
   "metadata": {},
   "source": [
    "**リスト 9.25：問題**"
   ]
  },
  {
   "cell_type": "markdown",
   "metadata": {},
   "source": [
    "#### □解答例"
   ]
  },
  {
   "cell_type": "code",
   "execution_count": 12,
   "metadata": {
    "id": "answer",
    "scrolled": true
   },
   "outputs": [
    {
     "name": "stdout",
     "output_type": "stream",
     "text": [
      "430\n"
     ]
    }
   ],
   "source": [
    "import pandas as pd\n",
    "\n",
    "# それぞれのDataFrameの定義です\n",
    "df1 = pd.DataFrame([[\"apple\", \"Fruit\", 120],\n",
    "                    [\"orange\", \"Fruit\", 60],\n",
    "                    [\"banana\", \"Fruit\", 100],\n",
    "                    [\"pumpkin\", \"Vegetable\", 150],\n",
    "                    [\"potato\", \"Vegetable\", 80]],\n",
    "                    columns=[\"Name\", \"Type\", \"Price\"])\n",
    "\n",
    "df2 = pd.DataFrame([[\"onion\", \"Vegetable\", 60],\n",
    "                    [\"carrot\", \"Vegetable\", 50],\n",
    "                    [\"beans\", \"Vegetable\", 100],\n",
    "                    [\"grape\", \"Fruit\", 160],\n",
    "                    [\"kiwifruit\", \"Fruit\", 80]],\n",
    "                    columns=[\"Name\", \"Type\", \"Price\"])\n",
    "\n",
    "# ここに解答を記述してください\n",
    "# 結合合します\n",
    "df3 = pd.concat([df1, df2], axis=0)\n",
    "\n",
    "# 果物のみを抽出し、Priceでソート合します\n",
    "df_fruit = df3.loc[df3[\"Type\"] == \"Fruit\"]\n",
    "df_fruit = df_fruit.sort_values(by=\"Price\")\n",
    "\n",
    "# 野菜のみを抽出し、Priceでソート合します\n",
    "df_veg = df3.loc[df3[\"Type\"] == \"Vegetable\"]\n",
    "df_veg = df_veg.sort_values(by=\"Price\")\n",
    "\n",
    "# それぞれの上3つの要素のPriceの合計金額を計算します\n",
    "print(sum(df_fruit[:3][\"Price\"]) + sum(df_veg[:3][\"Price\"]))"
   ]
  },
  {
   "cell_type": "markdown",
   "metadata": {},
   "source": [
    "**リスト 9.26：解答例**beansに修正"
   ]
  },
  {
   "cell_type": "markdown",
   "metadata": {},
   "source": [
    "# 総合添削問題"
   ]
  },
  {
   "cell_type": "markdown",
   "metadata": {},
   "source": [
    "#### □問題"
   ]
  },
  {
   "cell_type": "code",
   "execution_count": null,
   "metadata": {},
   "outputs": [],
   "source": [
    "import pandas as pd\n",
    "\n",
    "index = [\"taro\", \"mike\", \"kana\", \"jun\", \"sachi\"]\n",
    "columns = [\"国語\", \"数学\", \"社会\", \"理科\", \"英語\"]\n",
    "data = [[30, 45, 12, 45, 87], [65, 47, 83, 17, 58], [64, 63, 86, 57, 46, ], [38, 47, 62, 91, 63], [65, 36, 85, 94, 36]]\n",
    "df = pd.DataFrame(data, index=index, columns=columns)\n",
    "\n",
    "# dfの新しい列\"体育\"にpe_columnのデータを追加してください\n",
    "pe_column = pd.Series([56, 43, 73, 82, 62],  index=[\"taro\", \"mike\", \"kana\", \"jun\", \"sachi\"])\n",
    "df\n",
    "print(df)\n",
    "print()\n",
    "\n",
    "# 数学を昇順で並び替えてください\n",
    "df1 = \n",
    "print(df1)\n",
    "print()\n",
    "\n",
    "# df1の各要素に5点を足してください\n",
    "df2 = \n",
    "print(df2)\n",
    "print()\n",
    "\n",
    "# dfの要約統計量のうち、\"mean\",  \"max\",  \"min\"を出力してください\n",
    "print()\n"
   ]
  },
  {
   "cell_type": "markdown",
   "metadata": {},
   "source": [
    "**リスト9.27：問題**"
   ]
  },
  {
   "cell_type": "code",
   "execution_count": 13,
   "metadata": {},
   "outputs": [
    {
     "name": "stdout",
     "output_type": "stream",
     "text": [
      "       国語  数学  社会  理科  英語  体育\n",
      "taro   30  45  12  45  87  56\n",
      "mike   65  47  83  17  58  43\n",
      "kana   64  63  86  57  46  73\n",
      "jun    38  47  62  91  63  82\n",
      "sachi  65  36  85  94  36  62\n",
      "\n",
      "       国語  数学  社会  理科  英語  体育\n",
      "sachi  65  36  85  94  36  62\n",
      "taro   30  45  12  45  87  56\n",
      "mike   65  47  83  17  58  43\n",
      "jun    38  47  62  91  63  82\n",
      "kana   64  63  86  57  46  73\n",
      "\n",
      "       国語  数学  社会  理科  英語  体育\n",
      "sachi  70  41  90  99  41  67\n",
      "taro   35  50  17  50  92  61\n",
      "mike   70  52  88  22  63  48\n",
      "jun    43  52  67  96  68  87\n",
      "kana   69  68  91  62  51  78\n",
      "\n",
      "        国語    数学    社会    理科    英語    体育\n",
      "mean  57.4  52.6  70.6  65.8  63.0  68.2\n",
      "max   70.0  68.0  91.0  99.0  92.0  87.0\n",
      "min   35.0  41.0  17.0  22.0  41.0  48.0\n"
     ]
    }
   ],
   "source": [
    "import pandas as pd\n",
    "\n",
    "index = [\"taro\", \"mike\", \"kana\", \"jun\", \"sachi\"]\n",
    "columns = [\"国語\", \"数学\", \"社会\", \"理科\", \"英語\"]\n",
    "data = [[30, 45, 12, 45, 87], [65, 47, 83, 17, 58], [64, 63, 86, 57, 46, ], [38, 47, 62, 91, 63], [65, 36, 85, 94, 36]]\n",
    "df = pd.DataFrame(data, index=index, columns=columns)\n",
    "\n",
    "# dfの新しい列\"体育\"にpe_columnのデータを追加してください\n",
    "pe_column = pd.Series([56, 43, 73, 82, 62],  index=[\"taro\", \"mike\", \"kana\", \"jun\", \"sachi\"])\n",
    "df[\"体育\"] = pe_column\n",
    "print(df)\n",
    "print()\n",
    "\n",
    "# 数学を昇順で並び替えてください\n",
    "df1 = df.sort_values(by=\"数学\",  ascending=True)\n",
    "print(df1)\n",
    "print()\n",
    "\n",
    "# df1の各要素に5点を足してください\n",
    "df2 = df1 + 5\n",
    "print(df2)\n",
    "print()\n",
    "\n",
    "# dfの要約統計量のうち、\"mean\",  \"max\",  \"min\"を出力してください\n",
    "print(df2.describe().loc[[\"mean\",  \"max\",  \"min\"]])"
   ]
  },
  {
   "cell_type": "markdown",
   "metadata": {},
   "source": [
    "**リスト9.28：解答例**"
   ]
  }
 ],
 "metadata": {
  "anaconda-cloud": {},
  "celltoolbar": "Edit Metadata",
  "kernelspec": {
   "display_name": "Python 3",
   "language": "python",
   "name": "python3"
  },
  "language_info": {
   "codemirror_mode": {
    "name": "ipython",
    "version": 3
   },
   "file_extension": ".py",
   "mimetype": "text/x-python",
   "name": "python",
   "nbconvert_exporter": "python",
   "pygments_lexer": "ipython3",
   "version": "3.6.6"
  },
  "varInspector": {
   "cols": {
    "lenName": 16,
    "lenType": 16,
    "lenVar": 40
   },
   "kernels_config": {
    "python": {
     "delete_cmd_postfix": "",
     "delete_cmd_prefix": "del ",
     "library": "var_list.py",
     "varRefreshCmd": "print(var_dic_list())"
    },
    "r": {
     "delete_cmd_postfix": ") ",
     "delete_cmd_prefix": "rm(",
     "library": "var_list.r",
     "varRefreshCmd": "cat(var_dic_list()) "
    }
   },
   "types_to_exclude": [
    "module",
    "function",
    "builtin_function_or_method",
    "instance",
    "_Feature"
   ],
   "window_display": false
  }
 },
 "nbformat": 4,
 "nbformat_minor": 2
}
