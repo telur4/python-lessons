{
 "cells": [
  {
   "cell_type": "markdown",
   "metadata": {
    "chapterId": "BJjluCQZg-f",
    "id": "chapter_name"
   },
   "source": [
    "# Chapter13　lambdaやmapなどの便利なPython記法"
   ]
  },
  {
   "cell_type": "markdown",
   "metadata": {
    "id": "table"
   },
   "source": [
    "</span>\n",
    "\n",
    "- **13.1 lambda式の基礎**\n",
    "    - **13.1.1 無名関数の作成**\n",
    "    - **13.1.2 lambdaによる計算**\n",
    "    - **13.1.3 ifを用いたlambda**\n",
    "<br><br>\n",
    "- **13.2 lambda式の利用**\n",
    "    - **13.2.1 listの分割（split）**\n",
    "    - **13.2.2 listの分割（re.split）**\n",
    "    - **13.2.3 高階関数（map）**\n",
    "    - **13.2.4 filter**\n",
    "    - **13.2.5 sorted**\n",
    "<br><br>\n",
    "- **13.3 リスト内包表記**\n",
    "    - **13.3.1 リストの生成**\n",
    "    - **13.3.2 if文を用いたループ**\n",
    "    - **13.3.3 複数配列の同時ループ**\n",
    "    - **13.3.4 多重ループ**\n",
    "<br><br>\n",
    "- **13.4 辞書オブジェクト**\n",
    "    - **13.4.1 defaultdict**\n",
    "    - **13.4.2 value 内の要素の追加**\n",
    "    - **13.4.3 Counter**\n",
    "<br><br>\n",
    "- **添削問題**"
   ]
  },
  {
   "cell_type": "markdown",
   "metadata": {
    "id": "section_name",
    "sectionId": "rJneOCmZlZM"
   },
   "source": [
    "## ●13.1 lambda式の基礎"
   ]
  },
  {
   "cell_type": "markdown",
   "metadata": {
    "courseId": 4050,
    "exerciseId": "H1x8FnUjUeG",
    "id": "code_session_name",
    "important": true,
    "isDL": false,
    "timeoutSecs": 5
   },
   "source": [
    "### ○13.1.1 無名関数の作成"
   ]
  },
  {
   "cell_type": "code",
   "execution_count": 1,
   "metadata": {},
   "outputs": [],
   "source": [
    "# 例: x^2を出力する関数pow1(x)です\n",
    "def pow1(x):\n",
    "    return x ** 2 "
   ]
  },
  {
   "cell_type": "markdown",
   "metadata": {},
   "source": [
    "**リスト 13.1：関数の定義の例**\n"
   ]
  },
  {
   "cell_type": "code",
   "execution_count": 2,
   "metadata": {},
   "outputs": [],
   "source": [
    "# pow1(x)と同じ働きを持つ無名関数pow2です\n",
    "pow2 = lambda x: x ** 2"
   ]
  },
  {
   "cell_type": "markdown",
   "metadata": {},
   "source": [
    "**リスト 13.2：無名関数の例①**"
   ]
  },
  {
   "cell_type": "code",
   "execution_count": null,
   "metadata": {},
   "outputs": [],
   "source": [
    "# pow2に引数aを渡して、計算結果をbに格納します\n",
    "b = pow2(a)"
   ]
  },
  {
   "cell_type": "markdown",
   "metadata": {},
   "source": [
    "**リスト 13.3：無名関数の例**"
   ]
  },
  {
   "cell_type": "markdown",
   "metadata": {},
   "source": [
    "#### □問題"
   ]
  },
  {
   "cell_type": "code",
   "execution_count": null,
   "metadata": {
    "collapsed": true,
    "id": "index"
   },
   "outputs": [],
   "source": [
    "# 代入する引数aです\n",
    "a = 4\n",
    "\n",
    "# defを用いてfunc1を作成してください\n",
    "\n",
    "\n",
    "\n",
    "# lambdaを用いてfunc2を作成してください\n",
    "\n",
    "\n",
    "# 返り値の出力です\n",
    "print(func1(a))\n",
    "print(func2(a))"
   ]
  },
  {
   "cell_type": "markdown",
   "metadata": {},
   "source": [
    "**リスト 13.4：問題**"
   ]
  },
  {
   "cell_type": "markdown",
   "metadata": {},
   "source": [
    "#### □解答例"
   ]
  },
  {
   "cell_type": "code",
   "execution_count": 1,
   "metadata": {
    "id": "answer"
   },
   "outputs": [
    {
     "name": "stdout",
     "output_type": "stream",
     "text": [
      "21\n",
      "21\n"
     ]
    }
   ],
   "source": [
    "# 代入する引数aです\n",
    "a = 4\n",
    "\n",
    "# defを用いてfunc1を作成してください\n",
    "def func1(x):\n",
    "    return 2 * x**2 - 3*x + 1\n",
    "\n",
    "# lambdaを用いてfunc2を作成してください\n",
    "func2 = lambda x: 2 * x**2 - 3*x + 1\n",
    "\n",
    "# 返り値の出力です\n",
    "print(func1(a))\n",
    "print(func2(a))"
   ]
  },
  {
   "cell_type": "markdown",
   "metadata": {},
   "source": [
    "**リスト 13.5：解答例**"
   ]
  },
  {
   "cell_type": "markdown",
   "metadata": {
    "courseId": 4050,
    "exerciseId": "rk-IFnLiLeG",
    "id": "code_session_name",
    "important": true,
    "isDL": false,
    "timeoutSecs": 5
   },
   "source": [
    "### ○13.1.2 lambdaによる計算"
   ]
  },
  {
   "cell_type": "code",
   "execution_count": 5,
   "metadata": {},
   "outputs": [],
   "source": [
    "# 例: 2つの引数を足し合わせる関数add1\n",
    "add1 = lambda x, y: x + y"
   ]
  },
  {
   "cell_type": "markdown",
   "metadata": {},
   "source": [
    "**リスト 13.6：lambda による計算例①**"
   ]
  },
  {
   "cell_type": "code",
   "execution_count": 2,
   "metadata": {},
   "outputs": [
    {
     "name": "stdout",
     "output_type": "stream",
     "text": [
      "8\n"
     ]
    }
   ],
   "source": [
    "print((lambda x, y: x + y)(3, 5))"
   ]
  },
  {
   "cell_type": "markdown",
   "metadata": {},
   "source": [
    "**リスト 13.7：lambda による計算例②**"
   ]
  },
  {
   "cell_type": "markdown",
   "metadata": {},
   "source": [
    "#### □問題"
   ]
  },
  {
   "cell_type": "code",
   "execution_count": null,
   "metadata": {
    "collapsed": true,
    "id": "index"
   },
   "outputs": [],
   "source": [
    "# 代入する引数x, y, zです\n",
    "x = 5\n",
    "y = 6\n",
    "z = 2\n",
    "\n",
    "# defを用いてfunc3を作成してください\n",
    "\n",
    "\n",
    "\n",
    "# lambdaを用いてfunc4を作成してください\n",
    "\n",
    "\n",
    "# 出力します\n",
    "print(func3(x, y, z))\n",
    "print(func4(x, y, z))"
   ]
  },
  {
   "cell_type": "markdown",
   "metadata": {},
   "source": [
    "**リスト 13.8：問題**"
   ]
  },
  {
   "cell_type": "markdown",
   "metadata": {},
   "source": [
    "#### □解答例"
   ]
  },
  {
   "cell_type": "code",
   "execution_count": 2,
   "metadata": {
    "id": "answer"
   },
   "outputs": [
    {
     "name": "stdout",
     "output_type": "stream",
     "text": [
      "32\n",
      "32\n"
     ]
    }
   ],
   "source": [
    "# 代入する引数x, y, zです\n",
    "x = 5\n",
    "y = 6\n",
    "z = 2\n",
    "\n",
    "# defを用いてfunc3を作成してください\n",
    "def func3(x, y, z):\n",
    "    return x*y + z\n",
    "\n",
    "# lambdaを用いてfunc4を作成してください\n",
    "func4 = lambda x, y, z: x*y + z\n",
    "\n",
    "# 出力します\n",
    "print(func3(x, y, z))\n",
    "print(func4(x, y, z))"
   ]
  },
  {
   "cell_type": "markdown",
   "metadata": {},
   "source": [
    "**リスト 13.9：解答例**"
   ]
  },
  {
   "cell_type": "markdown",
   "metadata": {
    "courseId": 4050,
    "exerciseId": "S1MLF2LoUgz",
    "id": "code_session_name",
    "important": true,
    "isDL": false,
    "timeoutSecs": 5
   },
   "source": [
    "### ○13.1.3 ifを用いたlambda"
   ]
  },
  {
   "cell_type": "code",
   "execution_count": 11,
   "metadata": {},
   "outputs": [],
   "source": [
    "# \"hello.\"と出力する関数です\n",
    "def say_hello():\n",
    "    print(\"hello.\")"
   ]
  },
  {
   "cell_type": "markdown",
   "metadata": {},
   "source": [
    "**リスト 13.10：if を用いた lambda の例①**"
   ]
  },
  {
   "cell_type": "code",
   "execution_count": 4,
   "metadata": {},
   "outputs": [],
   "source": [
    "# 引数が3未満ならば2を掛け、3以上ならば3で割って5で足す関数です\n",
    "def lower_three1(x):\n",
    "    if x < 3:\n",
    "        return x * 2\n",
    "    else:\n",
    "        return x/3 + 5"
   ]
  },
  {
   "cell_type": "markdown",
   "metadata": {},
   "source": [
    "**リスト 13.11：if を用いた lambda の例②**"
   ]
  },
  {
   "cell_type": "code",
   "execution_count": 5,
   "metadata": {},
   "outputs": [],
   "source": [
    "# lower_three1と同じ関数\n",
    "lower_three2 = lambda x: x * 2 if x < 3 else x/3 + 5"
   ]
  },
  {
   "cell_type": "markdown",
   "metadata": {},
   "source": [
    "**リスト 13.12：if を用いた lambda の例③**"
   ]
  },
  {
   "cell_type": "markdown",
   "metadata": {},
   "source": [
    "#### □問題"
   ]
  },
  {
   "cell_type": "code",
   "execution_count": null,
   "metadata": {},
   "outputs": [],
   "source": [
    "# 代入する引数a1, a2です\n",
    "a1 = 13\n",
    "a2 = 32\n",
    "\n",
    "# lambdaを用いてfunc5を作成してください\n",
    "\n",
    "\n",
    "# 返り値を出力します\n",
    "print(func5(a1))\n",
    "print(func5(a2))"
   ]
  },
  {
   "cell_type": "markdown",
   "metadata": {},
   "source": [
    "**リスト 13.13：問題**"
   ]
  },
  {
   "cell_type": "markdown",
   "metadata": {},
   "source": [
    "#### □解答例"
   ]
  },
  {
   "cell_type": "code",
   "execution_count": 6,
   "metadata": {
    "id": "answer"
   },
   "outputs": [
    {
     "name": "stdout",
     "output_type": "stream",
     "text": [
      "-1\n",
      "50\n"
     ]
    }
   ],
   "source": [
    "# 代入する引数a1, a2です\n",
    "a1 = 13\n",
    "a2 = 32\n",
    "\n",
    "# lambdaを用いてfunc5を作成してください\n",
    "func5 = lambda x: x**2 - 40*x + 350 if x >= 10 and x < 30 else 50\n",
    "\n",
    "# 返り値を出力します\n",
    "print(func5(a1))\n",
    "print(func5(a2))"
   ]
  },
  {
   "cell_type": "markdown",
   "metadata": {},
   "source": [
    "**リスト 13.14：解答例**"
   ]
  },
  {
   "cell_type": "markdown",
   "metadata": {
    "id": "section_name",
    "sectionId": "BJTl_RX-ebf"
   },
   "source": [
    "## ●13.2 lambda式の利用"
   ]
  },
  {
   "cell_type": "markdown",
   "metadata": {
    "courseId": 4050,
    "exerciseId": "Hy7IYnIoLlz",
    "id": "code_session_name",
    "important": true,
    "isDL": false,
    "timeoutSecs": 5
   },
   "source": [
    "### ○13.2.1 listの分割（split）"
   ]
  },
  {
   "cell_type": "code",
   "execution_count": 3,
   "metadata": {},
   "outputs": [
    {
     "data": {
      "text/plain": [
       "['this', 'is', 'a', 'test', 'sentence.']"
      ]
     },
     "execution_count": 3,
     "metadata": {},
     "output_type": "execute_result"
    }
   ],
   "source": [
    "# 切り分けたい文字列です\n",
    "test_sentence = \"this is a test sentence.\"\n",
    "# splitでリストにします\n",
    "test_sentence.split(\" \")"
   ]
  },
  {
   "cell_type": "markdown",
   "metadata": {},
   "source": [
    "**リスト 13.15：split 関数の例**"
   ]
  },
  {
   "cell_type": "markdown",
   "metadata": {},
   "source": [
    "#### □問題"
   ]
  },
  {
   "cell_type": "code",
   "execution_count": null,
   "metadata": {
    "collapsed": true,
    "id": "index"
   },
   "outputs": [],
   "source": [
    "# 自己紹介文が入っている文字列self_dataです\n",
    "self_data = \"My name is Yamada\"\n",
    "\n",
    "# self_dataを切り分けて、listを作成してください\n",
    "\n",
    "\n",
    "# \"氏名\"の部分を出力してください\n"
   ]
  },
  {
   "cell_type": "markdown",
   "metadata": {},
   "source": [
    "**リスト 13.16：問題**"
   ]
  },
  {
   "cell_type": "markdown",
   "metadata": {},
   "source": [
    "#### □解答例"
   ]
  },
  {
   "cell_type": "code",
   "execution_count": 4,
   "metadata": {
    "id": "answer"
   },
   "outputs": [
    {
     "name": "stdout",
     "output_type": "stream",
     "text": [
      "Yamada\n"
     ]
    }
   ],
   "source": [
    "# 自己紹介文が入っている文字列self_dataです\n",
    "self_data = \"My name is Yamada\"\n",
    "\n",
    "# self_dataを切り分けて、listを作成してください\n",
    "word_list = self_data.split(\" \")\n",
    "\n",
    "# \"氏名\"の部分を出力してください\n",
    "print(word_list[3])"
   ]
  },
  {
   "cell_type": "markdown",
   "metadata": {},
   "source": [
    "**リスト 13.17：解答例**"
   ]
  },
  {
   "cell_type": "markdown",
   "metadata": {
    "courseId": 4050,
    "exerciseId": "B1sWMjqgz",
    "heading_collapsed": true,
    "id": "code_session_name",
    "important": false,
    "isDL": false,
    "timeoutSecs": 5
   },
   "source": [
    "### ○13.2.2 listの分割（re.split）"
   ]
  },
  {
   "cell_type": "code",
   "execution_count": 6,
   "metadata": {},
   "outputs": [
    {
     "data": {
      "text/plain": [
       "['this', 'is', 'a', 'test', 'sentence']"
      ]
     },
     "execution_count": 6,
     "metadata": {},
     "output_type": "execute_result"
    }
   ],
   "source": [
    "# reモジュールをimportします\n",
    "import re\n",
    "# 切り分けたい文字列です\n",
    "test_sentence = \"this,is a.test,sentence\"\n",
    "# \",\"と\" \"と\".\"で切り分け、リストにします\n",
    "re.split(\"[, .]\", test_sentence)"
   ]
  },
  {
   "cell_type": "markdown",
   "metadata": {},
   "source": [
    "**リスト 13.18：re.split()関数の例**"
   ]
  },
  {
   "cell_type": "markdown",
   "metadata": {
    "hidden": true
   },
   "source": [
    "#### □問題"
   ]
  },
  {
   "cell_type": "code",
   "execution_count": null,
   "metadata": {
    "collapsed": true,
    "hidden": true,
    "id": "index"
   },
   "outputs": [],
   "source": [
    "import re\n",
    "# 時間データが入っている文字列time_dataです\n",
    "time_data = \"2017/4/1_22:15\"\n",
    "\n",
    "# time_dataを切り分けて、listを作成してください\n",
    "\n",
    "\n",
    "# \"月\"と\"時\"の部分を出力してください\n",
    "\n"
   ]
  },
  {
   "cell_type": "markdown",
   "metadata": {},
   "source": [
    "**リスト 13.19：問題**"
   ]
  },
  {
   "cell_type": "markdown",
   "metadata": {
    "hidden": true
   },
   "source": [
    "#### □解答例"
   ]
  },
  {
   "cell_type": "code",
   "execution_count": 7,
   "metadata": {
    "hidden": true,
    "id": "answer"
   },
   "outputs": [
    {
     "name": "stdout",
     "output_type": "stream",
     "text": [
      "4\n",
      "22\n"
     ]
    }
   ],
   "source": [
    "import re\n",
    "# 時間データが入っている文字列time_dataです\n",
    "time_data = \"2017/4/1_22:15\"\n",
    "\n",
    "# time_dataを切り分けて、listを作成してください\n",
    "time_list = re.split(\"[/_:]\",time_data)\n",
    "\n",
    "# \"月\"と\"時\"の部分を出力してください\n",
    "print(time_list[1])\n",
    "print(time_list[3])"
   ]
  },
  {
   "cell_type": "markdown",
   "metadata": {},
   "source": [
    "**リスト 13.20：解答例**"
   ]
  },
  {
   "cell_type": "markdown",
   "metadata": {
    "courseId": 4050,
    "exerciseId": "HJVLK38oLlM",
    "id": "code_session_name",
    "important": true,
    "isDL": false,
    "timeoutSecs": 5
   },
   "source": [
    "### ○13.2.3 高階関数（map）"
   ]
  },
  {
   "cell_type": "code",
   "execution_count": 8,
   "metadata": {},
   "outputs": [
    {
     "name": "stdout",
     "output_type": "stream",
     "text": [
      "[1, 2, 3, 4, 5]\n"
     ]
    }
   ],
   "source": [
    "# forループで関数を適用します\n",
    "a = [1, -2, 3, -4, 5]\n",
    "new = []\n",
    "for x in a:\n",
    "    new.append(abs(x))\n",
    "print(new)"
   ]
  },
  {
   "cell_type": "markdown",
   "metadata": {},
   "source": [
    "**リスト 13.21：map()関数の例①**"
   ]
  },
  {
   "cell_type": "code",
   "execution_count": 9,
   "metadata": {},
   "outputs": [
    {
     "data": {
      "text/plain": [
       "[1, 2, 3, 4, 5]"
      ]
     },
     "execution_count": 9,
     "metadata": {},
     "output_type": "execute_result"
    }
   ],
   "source": [
    "# mapで関数を適用します\n",
    "a = [1, -2, 3, -4, 5]\n",
    "list(map(abs, a))"
   ]
  },
  {
   "cell_type": "markdown",
   "metadata": {},
   "source": [
    "**リスト 13.22：map()関数の例②**"
   ]
  },
  {
   "cell_type": "markdown",
   "metadata": {},
   "source": [
    "#### □問題　　"
   ]
  },
  {
   "cell_type": "code",
   "execution_count": null,
   "metadata": {
    "collapsed": true,
    "id": "index"
   },
   "outputs": [],
   "source": [
    "import re\n",
    "# 配列time_list\n",
    "time_list = [\n",
    "    \"2006/11/26_2:40\",\n",
    "    \"2009/1/16_23:35\",\n",
    "    \"2014/5/4_14:26\",\n",
    "    \"2017/8/9_7:5\",\n",
    "    \"2017/4/1_22:15\"\n",
    "]\n",
    "# 文字列から\"時\"を取り出す関数を作成してください\n",
    "\n",
    "\n",
    "# 上で作った関数を用いて各要素の\"時\"を取り出し、配列にしてください\n",
    "\n",
    "\n",
    "# 出力してください\n"
   ]
  },
  {
   "cell_type": "markdown",
   "metadata": {},
   "source": [
    "**リスト 13.23：問題**"
   ]
  },
  {
   "cell_type": "markdown",
   "metadata": {},
   "source": [
    "#### □解答例"
   ]
  },
  {
   "cell_type": "code",
   "execution_count": 10,
   "metadata": {
    "id": "answer"
   },
   "outputs": [
    {
     "name": "stdout",
     "output_type": "stream",
     "text": [
      "[2, 23, 14, 7, 22]\n"
     ]
    }
   ],
   "source": [
    "import re\n",
    "# 配列time_list\n",
    "time_list = [\n",
    "    \"2006/11/26_2:40\",\n",
    "    \"2009/1/16_23:35\",\n",
    "    \"2014/5/4_14:26\",\n",
    "    \"2017/8/9_7:5\",\n",
    "    \"2017/4/1_22:15\"\n",
    "]\n",
    "# 文字列から\"時\"を取り出す関数を作成してください\n",
    "get_hour = lambda x: int(re.split(\"[/_:]\",x)[3]) # int()でstring型をint型に替える\n",
    "\n",
    "# 上で作った関数を用いて各要素の \" 時 \" を取り出し、配列にしてください\n",
    "hour_list = list(map(get_hour, time_list))\n",
    "\n",
    "# 出力してください\n",
    "print(hour_list)"
   ]
  },
  {
   "cell_type": "markdown",
   "metadata": {},
   "source": [
    "**リスト 13.24：解答例**"
   ]
  },
  {
   "cell_type": "markdown",
   "metadata": {
    "courseId": 4050,
    "exerciseId": "BJr8FhIjIxG",
    "id": "code_session_name",
    "important": true,
    "isDL": false,
    "timeoutSecs": 5
   },
   "source": [
    "### ○13.2.4 filter"
   ]
  },
  {
   "cell_type": "code",
   "execution_count": 13,
   "metadata": {},
   "outputs": [],
   "source": [
    "# forループでフィルタリングします\n",
    "a = [1, -2, 3, -4, 5]\n",
    "new = []\n",
    "for x in a:\n",
    "    if x > 0:\n",
    "        new.append(x)"
   ]
  },
  {
   "cell_type": "markdown",
   "metadata": {},
   "source": [
    "**リスト 13.25：filter()関数の例①**"
   ]
  },
  {
   "cell_type": "code",
   "execution_count": 14,
   "metadata": {},
   "outputs": [
    {
     "name": "stdout",
     "output_type": "stream",
     "text": [
      "[1, 3, 5]\n"
     ]
    }
   ],
   "source": [
    "# filterでフィルタリングします\n",
    "print(list(filter(lambda x: x>0, a)))"
   ]
  },
  {
   "cell_type": "markdown",
   "metadata": {},
   "source": [
    "**リスト 13.26：filter()関数の例②**"
   ]
  },
  {
   "cell_type": "markdown",
   "metadata": {},
   "source": [
    "#### □問題"
   ]
  },
  {
   "cell_type": "code",
   "execution_count": null,
   "metadata": {
    "collapsed": true,
    "id": "index"
   },
   "outputs": [],
   "source": [
    "import re\n",
    "# time_list...\"年/月/日_時:分\"\n",
    "time_list = [\n",
    "    \"2006/11/26_2:40\",\n",
    "    \"2009/1/16_23:35\",\n",
    "    \"2014/5/4_14:26\",\n",
    "    \"2017/8/9_7:5\",\n",
    "    \"2017/4/1_22:15\"\n",
    "]\n",
    "# 文字列の\"月\"が条件を満たす時にTrueを返す関数を作成してください\n",
    "\n",
    "\n",
    "# 上で作った関数を用いて条件を満たす要素を抜き出し、配列にしてください\n",
    "\n",
    "\n",
    "# 出力してください\n"
   ]
  },
  {
   "cell_type": "markdown",
   "metadata": {},
   "source": [
    "**リスト 13.27：問題**　とき→時\n"
   ]
  },
  {
   "cell_type": "markdown",
   "metadata": {},
   "source": [
    "#### □解答例"
   ]
  },
  {
   "cell_type": "code",
   "execution_count": 15,
   "metadata": {
    "id": "answer"
   },
   "outputs": [
    {
     "name": "stdout",
     "output_type": "stream",
     "text": [
      "['2009/1/16_23:35', '2014/5/4_14:26', '2017/4/1_22:15']\n"
     ]
    }
   ],
   "source": [
    "import re\n",
    "# time_list...\"年/月/日_時:分\"\n",
    "time_list = [\n",
    "    \"2006/11/26_2:40\",\n",
    "    \"2009/1/16_23:35\",\n",
    "    \"2014/5/4_14:26\",\n",
    "    \"2017/8/9_7:5\",\n",
    "    \"2017/4/1_22:15\"\n",
    "]\n",
    "# 文字列の\"月\"が条件を満たす時にTrueを返す関数を作成してください\n",
    "is_first_half = lambda x: int(re.split(\"[/_:]\", x)[1]) - 7 < 0\n",
    "\n",
    "# 上で作った関数を用いて条件を満たす要素を抜き出し、配列にしてください\n",
    "first_half_list = list(filter(is_first_half, time_list))\n",
    "\n",
    "# 出力してください\n",
    "print(first_half_list)"
   ]
  },
  {
   "cell_type": "markdown",
   "metadata": {},
   "source": [
    "**リスト 13.28：解答例**　"
   ]
  },
  {
   "cell_type": "markdown",
   "metadata": {
    "courseId": 4050,
    "exerciseId": "rJUIYh8iIez",
    "id": "code_session_name",
    "important": false,
    "isDL": false,
    "timeoutSecs": 5
   },
   "source": [
    "### ○13.2.5 sorted"
   ]
  },
  {
   "cell_type": "code",
   "execution_count": 16,
   "metadata": {},
   "outputs": [
    {
     "data": {
      "text/plain": [
       "[[4, 5], [3, 6], [2, 7], [1, 8], [0, 9]]"
      ]
     },
     "execution_count": 16,
     "metadata": {},
     "output_type": "execute_result"
    }
   ],
   "source": [
    "# 入れ子の配列です\n",
    "nest_list = [\n",
    "    [0, 9],\n",
    "    [1, 8],\n",
    "    [2, 7],\n",
    "    [3, 6],\n",
    "    [4, 5]\n",
    "]\n",
    "# 第二要素をキーとしてソートします\n",
    "sorted(nest_list, key=lambda x: x[1])"
   ]
  },
  {
   "cell_type": "markdown",
   "metadata": {},
   "source": [
    "**リスト 13.29：sorted()関数の例**"
   ]
  },
  {
   "cell_type": "markdown",
   "metadata": {},
   "source": [
    "#### □問題"
   ]
  },
  {
   "cell_type": "code",
   "execution_count": null,
   "metadata": {
    "collapsed": true,
    "id": "index"
   },
   "outputs": [],
   "source": [
    "# time_data...[年, 月, 日, 時, 分]\n",
    "time_data = [\n",
    "    [2006, 11, 26,  2, 40],\n",
    "    [2009,  1, 16, 23, 35],\n",
    "    [2014,  5,  4, 14, 26],\n",
    "    [2017,  8,  9,  7,  5],\n",
    "    [2017,  4,  1, 22, 15]\n",
    "]\n",
    "# \"時\"をキーとしてソートし、配列にしてください\n",
    "\n",
    "\n",
    "# 出力してください\n"
   ]
  },
  {
   "cell_type": "markdown",
   "metadata": {},
   "source": [
    "**リスト 13.30：問題**"
   ]
  },
  {
   "cell_type": "markdown",
   "metadata": {},
   "source": [
    "#### □解答例"
   ]
  },
  {
   "cell_type": "code",
   "execution_count": 20,
   "metadata": {
    "id": "answer"
   },
   "outputs": [
    {
     "name": "stdout",
     "output_type": "stream",
     "text": [
      "[[2006, 11, 26, 2, 40], [2017, 8, 9, 7, 5], [2014, 5, 4, 14, 26], [2017, 4, 1, 22, 15], [2009, 1, 16, 23, 35]]\n"
     ]
    }
   ],
   "source": [
    "# time_data...[年, 月, 日, 時, 分]\n",
    "time_data = [\n",
    "    [2006, 11, 26,  2, 40],\n",
    "    [2009,  1, 16, 23, 35],\n",
    "    [2014,  5,  4, 14, 26],\n",
    "    [2017,  8,  9,  7,  5],\n",
    "    [2017,  4,  1, 22, 15]\n",
    "]\n",
    "# \"時\"をキーとしてソートし、配列にしてください\n",
    "sort_by_time = sorted(time_data, key=lambda x: x[3])\n",
    "\n",
    "# 出力してください\n",
    "print(sort_by_time)"
   ]
  },
  {
   "cell_type": "markdown",
   "metadata": {},
   "source": [
    "**リスト 13.31：解答例**"
   ]
  },
  {
   "cell_type": "markdown",
   "metadata": {
    "id": "section_name",
    "sectionId": "HkRluAX-gbf"
   },
   "source": [
    "## ●13.3 リスト内包表記"
   ]
  },
  {
   "cell_type": "markdown",
   "metadata": {
    "courseId": 4050,
    "exerciseId": "BkvLK28jLlz",
    "id": "code_session_name",
    "important": true,
    "isDL": false,
    "timeoutSecs": 5
   },
   "source": [
    "### ○13.3.1 リストの生成"
   ]
  },
  {
   "cell_type": "code",
   "execution_count": 21,
   "metadata": {},
   "outputs": [
    {
     "name": "stdout",
     "output_type": "stream",
     "text": [
      "[1, 2, 3, 4, 5]\n"
     ]
    }
   ],
   "source": [
    "# リスト内包表記で各要素の絶対値を取ります\n",
    "a = [1, -2, 3, -4, 5]\n",
    "print([abs(x) for x in a])"
   ]
  },
  {
   "cell_type": "markdown",
   "metadata": {},
   "source": [
    "**リスト 13.32：リストの生成例①**"
   ]
  },
  {
   "cell_type": "code",
   "execution_count": 22,
   "metadata": {},
   "outputs": [
    {
     "name": "stdout",
     "output_type": "stream",
     "text": [
      "[1, 2, 3, 4, 5]\n"
     ]
    }
   ],
   "source": [
    "# mapでlistを作成します\n",
    "list(map(abs, a))\n",
    "print(list(map(abs, a)))"
   ]
  },
  {
   "cell_type": "markdown",
   "metadata": {},
   "source": [
    "**リスト 13.33：リストの生成例②**"
   ]
  },
  {
   "cell_type": "markdown",
   "metadata": {},
   "source": [
    "#### □問題"
   ]
  },
  {
   "cell_type": "code",
   "execution_count": null,
   "metadata": {
    "collapsed": true,
    "id": "index"
   },
   "outputs": [],
   "source": [
    "# minute_data、単位は分です\n",
    "minute_data = [30, 155, 180, 74, 11, 60, 82]\n",
    "\n",
    "# 分を[時, 分]に換算する関数を作成してください\n",
    "\n",
    "\n",
    "# リスト内包表記を用いて所定の配列を作成してください\n",
    "\n",
    "\n",
    "# 出力してください\n"
   ]
  },
  {
   "cell_type": "markdown",
   "metadata": {},
   "source": [
    "**リスト 13.34：問題**"
   ]
  },
  {
   "cell_type": "markdown",
   "metadata": {},
   "source": [
    "#### □解答例"
   ]
  },
  {
   "cell_type": "code",
   "execution_count": 17,
   "metadata": {
    "id": "answer"
   },
   "outputs": [
    {
     "name": "stdout",
     "output_type": "stream",
     "text": [
      "[[0, 30], [2, 35], [3, 0], [1, 14], [0, 11], [1, 0], [1, 22]]\n"
     ]
    }
   ],
   "source": [
    "# minute_data、単位は分です\n",
    "minute_data = [30, 155, 180, 74, 11, 60, 82]\n",
    "\n",
    "# 分を[時, 分]に換算する関数を作成してください\n",
    "h_m_split = lambda x: [x // 60, x % 60]\n",
    "\n",
    "# リスト内包表記を用いて所定の配列を作成してください\n",
    "h_m_data = [h_m_split(x) for x in minute_data]\n",
    "\n",
    "# 出力してください\n",
    "print(h_m_data)"
   ]
  },
  {
   "cell_type": "markdown",
   "metadata": {},
   "source": [
    "**リスト 13.35：解答例**"
   ]
  },
  {
   "cell_type": "markdown",
   "metadata": {
    "courseId": 4050,
    "exerciseId": "B1u8Kn8sIgG",
    "id": "code_session_name",
    "important": false,
    "isDL": false,
    "timeoutSecs": 5
   },
   "source": [
    "### ○13.3.2 if文を用いたループ"
   ]
  },
  {
   "cell_type": "code",
   "execution_count": 18,
   "metadata": {},
   "outputs": [
    {
     "name": "stdout",
     "output_type": "stream",
     "text": [
      "[1, 3, 5]\n"
     ]
    }
   ],
   "source": [
    "# リスト内包表記フィルタリング(後置if)\n",
    "a = [1, -2, 3, -4, 5]\n",
    "print([x for x in a if x > 0])"
   ]
  },
  {
   "cell_type": "markdown",
   "metadata": {},
   "source": [
    "**リスト 13.36：if 文を用いたループの例**"
   ]
  },
  {
   "cell_type": "markdown",
   "metadata": {},
   "source": [
    "#### □問題"
   ]
  },
  {
   "cell_type": "code",
   "execution_count": null,
   "metadata": {
    "collapsed": true,
    "id": "index"
   },
   "outputs": [],
   "source": [
    "# minute_data、単位は分です\n",
    "minute_data = [30, 155, 180, 74, 11, 60, 82]\n",
    "\n",
    "# リスト内包表記を用いて所定の配列を作成してください\n",
    "\n",
    "\n",
    "# 出力してください\n"
   ]
  },
  {
   "cell_type": "markdown",
   "metadata": {},
   "source": [
    "**リスト 13.37：問題**"
   ]
  },
  {
   "cell_type": "markdown",
   "metadata": {},
   "source": [
    "#### □解答例"
   ]
  },
  {
   "cell_type": "code",
   "execution_count": 24,
   "metadata": {
    "id": "answer"
   },
   "outputs": [
    {
     "name": "stdout",
     "output_type": "stream",
     "text": [
      "[180, 60]\n"
     ]
    }
   ],
   "source": [
    "# minute_data、単位は分です\n",
    "minute_data = [30, 155, 180, 74, 11, 60, 82]\n",
    "\n",
    "# リスト内包表記を用いて所定の配列を作成してください\n",
    "just_hour_data = [x for x in minute_data if x % 60 == 0 ]\n",
    "\n",
    "# 出力してください\n",
    "print(just_hour_data)"
   ]
  },
  {
   "cell_type": "markdown",
   "metadata": {},
   "source": [
    "**リスト 13.38：解答例**"
   ]
  },
  {
   "cell_type": "markdown",
   "metadata": {
    "courseId": 4050,
    "exerciseId": "rJK8t3UjLgM",
    "id": "code_session_name",
    "important": false,
    "isDL": false,
    "timeoutSecs": 5
   },
   "source": [
    "### ○13.3.3 複数配列の同時ループ"
   ]
  },
  {
   "cell_type": "code",
   "execution_count": 19,
   "metadata": {},
   "outputs": [
    {
     "name": "stdout",
     "output_type": "stream",
     "text": [
      "1 9\n",
      "-2 8\n",
      "3 -7\n",
      "-4 -6\n",
      "5 -5\n"
     ]
    }
   ],
   "source": [
    "# zipを用いた同時ループです\n",
    "a = [1, -2, 3, -4, 5]\n",
    "b = [9, 8, -7, -6, -5]\n",
    "for x, y in zip(a, b):\n",
    "    print(x, y)"
   ]
  },
  {
   "cell_type": "markdown",
   "metadata": {},
   "source": [
    "**リスト 13.39：複数配列の同時ループの例①**"
   ]
  },
  {
   "cell_type": "code",
   "execution_count": 20,
   "metadata": {},
   "outputs": [
    {
     "name": "stdout",
     "output_type": "stream",
     "text": [
      "[82, 68, 58, 52, 50]\n"
     ]
    }
   ],
   "source": [
    "# リスト内包表記で同時に処理します\n",
    "a = [1, -2, 3, -4, 5]\n",
    "b = [9, 8, -7, -6, -5]\n",
    "print([x**2 + y**2 for x, y in zip(a, b)])"
   ]
  },
  {
   "cell_type": "markdown",
   "metadata": {},
   "source": [
    "**リスト 13.40：複数配列の同時ループの例②**"
   ]
  },
  {
   "cell_type": "markdown",
   "metadata": {},
   "source": [
    "#### □問題"
   ]
  },
  {
   "cell_type": "code",
   "execution_count": null,
   "metadata": {
    "collapsed": true,
    "id": "index"
   },
   "outputs": [],
   "source": [
    "# 時間データhour, 分データminute\n",
    "hour = [0, 2, 3, 1, 0, 1, 1]\n",
    "minute = [30, 35, 0, 14, 11, 0, 22]\n",
    "\n",
    "# 時, 分を引数に、分に換算する関数を作成してください\n",
    "\n",
    "\n",
    "# リスト内包表記を用いて所定の配列を作成してください\n",
    "\n",
    "\n",
    "# 出力してください\n"
   ]
  },
  {
   "cell_type": "markdown",
   "metadata": {},
   "source": [
    "**リスト 13.41：問題**"
   ]
  },
  {
   "cell_type": "markdown",
   "metadata": {},
   "source": [
    "#### □解答例"
   ]
  },
  {
   "cell_type": "code",
   "execution_count": 22,
   "metadata": {
    "id": "answer"
   },
   "outputs": [
    {
     "name": "stdout",
     "output_type": "stream",
     "text": [
      "[30, 155, 180, 74, 11, 60, 82]\n"
     ]
    }
   ],
   "source": [
    "# 時間データhour, 分データminute\n",
    "hour = [0, 2, 3, 1, 0, 1, 1]\n",
    "minute = [30, 35, 0, 14, 11, 0, 22]\n",
    "\n",
    "# 時, 分を引数に、分に換算する関数を作成してください\n",
    "h_m_combine = lambda x, y: x*60 + y\n",
    "\n",
    "# リスト内包表記を用いて所定の配列を作成してください\n",
    "minute_data1 = [h_m_combine(x, y) for x, y in zip(hour, minute)]\n",
    "\n",
    "# 出力してください\n",
    "print(minute_data1)"
   ]
  },
  {
   "cell_type": "markdown",
   "metadata": {},
   "source": [
    "**リスト 13.42：解答例**"
   ]
  },
  {
   "cell_type": "markdown",
   "metadata": {
    "courseId": 4050,
    "exerciseId": "HJ9LK2IjLlM",
    "id": "code_session_name",
    "important": false,
    "isDL": false,
    "timeoutSecs": 5
   },
   "source": [
    "### ○13.3.4 多重ループ"
   ]
  },
  {
   "cell_type": "code",
   "execution_count": 24,
   "metadata": {},
   "outputs": [
    {
     "name": "stdout",
     "output_type": "stream",
     "text": [
      "1 9\n",
      "1 8\n",
      "-2 9\n",
      "-2 8\n",
      "3 9\n",
      "3 8\n"
     ]
    }
   ],
   "source": [
    "a =[1, -2, 3]\n",
    "b = [9, 8]\n",
    "# 二重ループです\n",
    "for x in a:\n",
    "    for y in b:\n",
    "        print(x, y)"
   ]
  },
  {
   "cell_type": "markdown",
   "metadata": {},
   "source": [
    "**リスト 13.43：多重ループの例①**"
   ]
  },
  {
   "cell_type": "code",
   "execution_count": 25,
   "metadata": {},
   "outputs": [
    {
     "name": "stdout",
     "output_type": "stream",
     "text": [
      "[[1, 9], [1, 8], [-2, 9], [-2, 8], [3, 9], [3, 8]]\n"
     ]
    }
   ],
   "source": [
    "# リスト内包表記で二重ループになります\n",
    "print([[x, y] for x in a for y in b])"
   ]
  },
  {
   "cell_type": "markdown",
   "metadata": {},
   "source": [
    "**リスト 13.44：多重ループの例②**"
   ]
  },
  {
   "cell_type": "markdown",
   "metadata": {},
   "source": [
    "#### □問題"
   ]
  },
  {
   "cell_type": "code",
   "execution_count": null,
   "metadata": {
    "collapsed": true,
    "id": "index"
   },
   "outputs": [],
   "source": [
    "# 二進数の桁です\n",
    "fours_place = [0, 1]\n",
    "twos_place  = [0, 1]\n",
    "ones_place  = [0, 1]\n",
    "\n",
    "# リスト内包表記の多重ループを用いて0から7までの整数を計算し、配列にしてください\n",
    "\n",
    "\n",
    "# 出力してください\n"
   ]
  },
  {
   "cell_type": "markdown",
   "metadata": {},
   "source": [
    "**リスト 13.45：問題**"
   ]
  },
  {
   "cell_type": "markdown",
   "metadata": {},
   "source": [
    "#### □解答例"
   ]
  },
  {
   "cell_type": "code",
   "execution_count": 27,
   "metadata": {
    "id": "answer"
   },
   "outputs": [
    {
     "name": "stdout",
     "output_type": "stream",
     "text": [
      "[0, 1, 2, 3, 4, 5, 6, 7]\n"
     ]
    }
   ],
   "source": [
    "# 二進数の桁です\n",
    "fours_place = [0, 1]\n",
    "twos_place  = [0, 1]\n",
    "ones_place  = [0, 1]\n",
    "\n",
    "# リスト内包表記の多重ループを用いて0から7までの整数を計算し、配列にしてください\n",
    "digit = [x*4 + y*2 + z for x in fours_place for y in twos_place for z in ones_place]\n",
    "\n",
    "# 出力してください\n",
    "print(digit)"
   ]
  },
  {
   "cell_type": "markdown",
   "metadata": {},
   "source": [
    "**リスト 13.46：解答例**"
   ]
  },
  {
   "cell_type": "markdown",
   "metadata": {
    "id": "section_name",
    "sectionId": "By1ZOC7Zl-M"
   },
   "source": [
    "## ●13.4 辞書オブジェクト"
   ]
  },
  {
   "cell_type": "markdown",
   "metadata": {
    "courseId": 4050,
    "exerciseId": "SJjUFhLiIxM",
    "id": "code_session_name",
    "important": false,
    "isDL": false,
    "timeoutSecs": 5
   },
   "source": [
    "### ○13.4.1 defaultdict"
   ]
  },
  {
   "cell_type": "code",
   "execution_count": 28,
   "metadata": {},
   "outputs": [
    {
     "name": "stdout",
     "output_type": "stream",
     "text": [
      "{'foo': 2, 'bar': 1, 'pop': 2, 'popo': 1}\n"
     ]
    }
   ],
   "source": [
    "# 辞書に要素の出現回数を記録します\n",
    "d = {}\n",
    "lst = [\"foo\", \"bar\", \"pop\", \"pop\", \"foo\", \"popo\"]\n",
    "for key in lst:\n",
    "    # dにkeyが存在するかしないかで場合分けします\n",
    "    if key in d:\n",
    "        d[key] += 1\n",
    "    else:\n",
    "        d[key] = 1\n",
    "print(d)"
   ]
  },
  {
   "cell_type": "markdown",
   "metadata": {},
   "source": [
    "**リスト 13.47：defaultdict の例①**"
   ]
  },
  {
   "cell_type": "code",
   "execution_count": 37,
   "metadata": {},
   "outputs": [
    {
     "name": "stdout",
     "output_type": "stream",
     "text": [
      "defaultdict(<class 'int'>, {'foo': 2, 'bar': 1, 'pop': 2, 'popo': 1})\n"
     ]
    }
   ],
   "source": [
    "from collections import defaultdict \n",
    "# 辞書に要素の出現回数を記録します\n",
    "d = defaultdict(int)\n",
    "lst = [\"foo\", \"bar\", \"pop\", \"pop\", \"foo\", \"popo\"]\n",
    "for key in lst:\n",
    "    d[key] += 1\n",
    "print(d)"
   ]
  },
  {
   "cell_type": "markdown",
   "metadata": {},
   "source": [
    "**リスト 13.48：defaultdict の例②**"
   ]
  },
  {
   "cell_type": "markdown",
   "metadata": {},
   "source": [
    "#### □問題"
   ]
  },
  {
   "cell_type": "code",
   "execution_count": null,
   "metadata": {
    "collapsed": true,
    "id": "index"
   },
   "outputs": [],
   "source": [
    "from collections import defaultdict \n",
    "# 文字列 description\n",
    "description = \\\n",
    "\"Artificial intelligence (AI, also machine intelligence, MI) is \" + \\\n",
    "\"intelligence exhibited by machines, rather than \" + \\\n",
    "\"humans or other animals (natural intelligence, NI).\"\n",
    "\n",
    "# defaultdictを定義してください\n",
    "\n",
    "\n",
    "# 文字の出現回数を記録してください\n",
    "\n",
    "\n",
    "\n",
    "# ソートし、上位10要素を出力してください\n"
   ]
  },
  {
   "cell_type": "markdown",
   "metadata": {},
   "source": [
    "**リスト 13.49：問題**"
   ]
  },
  {
   "cell_type": "markdown",
   "metadata": {},
   "source": [
    "#### □解答例"
   ]
  },
  {
   "cell_type": "code",
   "execution_count": 33,
   "metadata": {
    "id": "answer"
   },
   "outputs": [
    {
     "name": "stdout",
     "output_type": "stream",
     "text": [
      "[(' ', 20), ('e', 18), ('i', 17), ('n', 14), ('l', 12), ('a', 11), ('t', 10), ('c', 7), ('h', 7), ('r', 6)]\n"
     ]
    }
   ],
   "source": [
    "from collections import defaultdict \n",
    "# 文字列description\n",
    "description = \\\n",
    "\"Artificial intelligence (AI, also machine intelligence, MI) is \" + \\\n",
    "\"intelligence exhibited by machines, rather than \" + \\\n",
    "\"humans or other animals (natural intelligence, NI).\"\n",
    "\n",
    "# defaultdictを定義してください\n",
    "char_freq = defaultdict(int)\n",
    "\n",
    "# 文字の出現回数を記録してください\n",
    "for i in description:\n",
    "    char_freq[i] += 1\n",
    "    \n",
    "# ソートし、上位10要素を出力してください\n",
    "print(sorted(char_freq.items(), key=lambda x: x[1], reverse=True)[:10])"
   ]
  },
  {
   "cell_type": "markdown",
   "metadata": {},
   "source": [
    "**リスト 13.50：解答例**"
   ]
  },
  {
   "cell_type": "markdown",
   "metadata": {
    "courseId": 4050,
    "exerciseId": "S1hLK3LiLlf",
    "id": "code_session_name",
    "important": false,
    "isDL": false,
    "timeoutSecs": 5
   },
   "source": [
    "### ○13.4.2 value内の要素の追加"
   ]
  },
  {
   "cell_type": "code",
   "execution_count": 34,
   "metadata": {},
   "outputs": [
    {
     "data": {
      "text/plain": [
       "defaultdict(list, {})"
      ]
     },
     "execution_count": 34,
     "metadata": {},
     "output_type": "execute_result"
    }
   ],
   "source": [
    "from collections import defaultdict\n",
    "defaultdict(list)"
   ]
  },
  {
   "cell_type": "markdown",
   "metadata": {},
   "source": [
    "**リスト 13.51：value 内の要素の追加の例①**"
   ]
  },
  {
   "cell_type": "code",
   "execution_count": 4,
   "metadata": {},
   "outputs": [
    {
     "name": "stdout",
     "output_type": "stream",
     "text": [
      "{'apple': [50, 70], 'banana': [120], 'grape': [500, 1000], 'lemon': [150]}\n"
     ]
    }
   ],
   "source": [
    "# 辞書にvalueの要素を追加します\n",
    "d ={}\n",
    "price = [\n",
    "    (\"apple\", 50),\n",
    "    (\"banana\", 120),\n",
    "    (\"grape\", 500),\n",
    "    (\"apple\", 70),\n",
    "    (\"lemon\", 150),\n",
    "    (\"grape\", 1000)\n",
    "]\n",
    "for key, value in price:\n",
    "    # keyの存在で条件分岐します\n",
    "    if key in d:\n",
    "        d[key].append(value)\n",
    "    else:\n",
    "        d[key] = [value]\n",
    "print(d)"
   ]
  },
  {
   "cell_type": "markdown",
   "metadata": {},
   "source": [
    "**リスト 13.52：value 内の要素の追加の例②**"
   ]
  },
  {
   "cell_type": "markdown",
   "metadata": {},
   "source": [
    "#### □問題"
   ]
  },
  {
   "cell_type": "code",
   "execution_count": null,
   "metadata": {
    "collapsed": true,
    "id": "index"
   },
   "outputs": [],
   "source": [
    "from collections import defaultdict\n",
    "# まとめたいデータprice...(名前, 値段)です\n",
    "price = [\n",
    "    (\"apple\", 50),\n",
    "    (\"banana\", 120),\n",
    "    (\"grape\", 500),\n",
    "    (\"apple\", 70),\n",
    "    (\"lemon\", 150),\n",
    "    (\"grape\", 1000)\n",
    "]\n",
    "# defaultdictを定義してください\n",
    "\n",
    "\n",
    "# リスト13.52と同様にvalueの要素に値段を追加してください\n",
    "\n",
    "\n",
    "\n",
    "# 各valueの平均値を計算し、配列にして出力してください\n"
   ]
  },
  {
   "cell_type": "markdown",
   "metadata": {},
   "source": [
    "**リスト 13.53：問題**　"
   ]
  },
  {
   "cell_type": "markdown",
   "metadata": {},
   "source": [
    "#### □解答例"
   ]
  },
  {
   "cell_type": "code",
   "execution_count": 3,
   "metadata": {
    "id": "answer"
   },
   "outputs": [
    {
     "name": "stdout",
     "output_type": "stream",
     "text": [
      "[60.0, 120.0, 750.0, 150.0]\n"
     ]
    }
   ],
   "source": [
    "from collections import defaultdict\n",
    "# まとめたいデータprice...(名前, 値段)です\n",
    "price = [\n",
    "    (\"apple\", 50),\n",
    "    (\"banana\", 120),\n",
    "    (\"grape\", 500),\n",
    "    (\"apple\", 70),\n",
    "    (\"lemon\", 150),\n",
    "    (\"grape\", 1000)\n",
    "]\n",
    "# defaultdictを定義してください\n",
    "d = defaultdict(list)\n",
    "\n",
    "# リスト13.52と同様にvalueの要素に値段を追加してください\n",
    "for key, value in price:\n",
    "        d[key].append(value)\n",
    "\n",
    "# 各valueの平均値を計算し、配列にして出力してください\n",
    "print([sum(x) / len(x) for x in d.values()])"
   ]
  },
  {
   "cell_type": "markdown",
   "metadata": {},
   "source": [
    "**リスト 13.54：解答例**　"
   ]
  },
  {
   "cell_type": "markdown",
   "metadata": {
    "courseId": 4050,
    "exerciseId": "rJaLtnUiLgG",
    "id": "code_session_name",
    "important": false,
    "isDL": false,
    "timeoutSecs": 5
   },
   "source": [
    "### ○13.4.3 Counter"
   ]
  },
  {
   "cell_type": "code",
   "execution_count": 6,
   "metadata": {},
   "outputs": [
    {
     "name": "stdout",
     "output_type": "stream",
     "text": [
      "Counter({'foo': 2, 'pop': 2, 'bar': 1, 'popo': 1})\n"
     ]
    }
   ],
   "source": [
    "# Counterのをimportします\n",
    "from collections import Counter\n",
    "# 辞書に要素の出現回数を記録します\n",
    "lst = [\"foo\", \"bar\", \"pop\", \"pop\", \"foo\", \"popo\"]\n",
    "d = Counter(lst)\n",
    "\n",
    "print(d)"
   ]
  },
  {
   "cell_type": "markdown",
   "metadata": {},
   "source": [
    "**リスト 13.55：Counter の例①**"
   ]
  },
  {
   "cell_type": "code",
   "execution_count": 9,
   "metadata": {},
   "outputs": [
    {
     "name": "stdout",
     "output_type": "stream",
     "text": [
      "[(' ', 9), ('s', 6), ('o', 4), ('t', 4), ('a', 4)]\n"
     ]
    }
   ],
   "source": [
    "# Counterに文字列を格納、文字の出現頻度を数え上げます\n",
    "d = Counter(\"A Counter is a dict subclass for counting hashable objects.\")\n",
    "# 最も多い5要素を並べます\n",
    "print(d.most_common(5))"
   ]
  },
  {
   "cell_type": "markdown",
   "metadata": {},
   "source": [
    "**リスト 13.56：Counter の例②**"
   ]
  },
  {
   "cell_type": "markdown",
   "metadata": {},
   "source": [
    "#### □問題"
   ]
  },
  {
   "cell_type": "code",
   "execution_count": null,
   "metadata": {
    "collapsed": true,
    "id": "index"
   },
   "outputs": [],
   "source": [
    "from collections import Counter\n",
    "# 文字列descriptionです\n",
    "description = \\\n",
    "\"Artificial intelligence (AI, also machine intelligence, MI) is \" + \\\n",
    "\"intelligence exhibited by machines, rather than \" + \\\n",
    "\"humans or other animals (natural intelligence, NI).\"\n",
    "\n",
    "# Counterを定義してください\n",
    "\n",
    "\n",
    "\n",
    "# ソートし、上位10要素を出力してください\n"
   ]
  },
  {
   "cell_type": "markdown",
   "metadata": {},
   "source": [
    "**リスト 13.57：問題**"
   ]
  },
  {
   "cell_type": "markdown",
   "metadata": {},
   "source": [
    "#### □解答例"
   ]
  },
  {
   "cell_type": "code",
   "execution_count": 13,
   "metadata": {
    "id": "answer"
   },
   "outputs": [
    {
     "name": "stdout",
     "output_type": "stream",
     "text": [
      "[(' ', 20), ('e', 18), ('i', 17), ('n', 14), ('l', 12), ('a', 11), ('t', 10), ('c', 7), ('h', 7), ('r', 6)]\n"
     ]
    }
   ],
   "source": [
    "from collections import Counter\n",
    "# 文字列descriptionです\n",
    "description = \\\n",
    "\"Artificial intelligence (AI, also machine intelligence, MI) is \" + \\\n",
    "\"intelligence exhibited by machines, rather than \" + \\\n",
    "\"humans or other animals (natural intelligence, NI).\"\n",
    "\n",
    "# Counterを定義してください\n",
    "char_freq = Counter(description)\n",
    "\n",
    "# ソートし、上位10要素を出力してください\n",
    "print(char_freq.most_common(10))"
   ]
  },
  {
   "cell_type": "markdown",
   "metadata": {},
   "source": [
    "**リスト 13.58：解答例**"
   ]
  },
  {
   "cell_type": "markdown",
   "metadata": {
    "config": [
     "leap"
    ],
    "id": "chapter_exam"
   },
   "source": [
    "## ●添削問題"
   ]
  },
  {
   "cell_type": "markdown",
   "metadata": {},
   "source": [
    "#### □問題"
   ]
  },
  {
   "cell_type": "code",
   "execution_count": null,
   "metadata": {
    "collapsed": true,
    "id": "index"
   },
   "outputs": [],
   "source": [
    "# if とlamdaを用いて計算してください（引数aが8未満ならば、5倍にし、8以上ならば2で割る）\n",
    "a = 8\n",
    "basic =　\n",
    "print('計算結果')\n",
    "print(basic(a))\n",
    "\n",
    "\n",
    "import re\n",
    "# 配列time_list\n",
    "time_list = [\n",
    "    \"2018/1/23_19:40\",\n",
    "    \"2016/5/7_5:25\",\n",
    "    \"2018/8/21_10:50\",\n",
    "    \"2017/8/9_7:5\",\n",
    "    \"2015/4/1_22:15\"\n",
    "]\n",
    "# 文字列から\"月\"を取り出す関数を作成してください\n",
    "get_month = \n",
    "\n",
    "# 各要素の\"月\"を取り出して配列にしてください\n",
    "month_list = \n",
    "\n",
    "# 出力してください\n",
    "print()\n",
    "print('月')\n",
    "print(month_list)\n",
    "\n",
    "\n",
    "# リスト内包表記を用いて体積を計算してください\n",
    "length= [3, 1, 6, 2, 8, 2, 9]\n",
    "side = [4, 1, 15, 18, 7, 2, 19]\n",
    "height = [10, 15, 17, 13, 11, 19, 18]\n",
    "\n",
    "# 体積を計算してください\n",
    "volume = \n",
    "\n",
    "# 出力してください\n",
    "print()\n",
    "print('体積')\n",
    "print(volume)\n",
    "\n",
    "\n",
    "# 各valueの平均値の計算とpriceリストの中のフルーツ名を数え上げてください\n",
    "from collections import defaultdict\n",
    "from collections import Counter\n",
    "\n",
    "# まとめたいデータprice\n",
    "price = [\n",
    "    (\"strawberry\", 520),\n",
    "    (\"pear\", 200),\n",
    "    (\"peach\", 400),\n",
    "    (\"apple\", 170),\n",
    "    (\"lemon\", 150),\n",
    "    (\"grape\", 1000),\n",
    "    (\"strawberry\", 750),\n",
    "    (\"pear\", 400),\n",
    "    (\"peach\", 500),\n",
    "    (\"strawberry\", 70),\n",
    "    (\"lemon\", 300),\n",
    "    (\"strawberry\", 700)\n",
    "]\n",
    "# defaultdictを定義してください\n",
    "d = \n",
    "\n",
    "# 上記の例と同様にvalueに値段とkeyにフルーツ名を追加してください\n",
    "price_key_count = []\n",
    "for key, value in price:\n",
    "        \n",
    "        \n",
    "# 各valueの平均値を計算し、配列にして出力してください\n",
    "print()\n",
    "print('valueの平均値')\n",
    "print()\n",
    "\n",
    "# 上記のpriceリストの中のフルーツ名を数え上げてください\n",
    "key_count = \n",
    "print()\n",
    "print('フルーツ名')\n",
    "print(key_count)"
   ]
  },
  {
   "cell_type": "markdown",
   "metadata": {},
   "source": [
    "**リスト 13.59：問題**　体積を計算してください"
   ]
  },
  {
   "cell_type": "markdown",
   "metadata": {},
   "source": [
    "#### □解答例"
   ]
  },
  {
   "cell_type": "code",
   "execution_count": 14,
   "metadata": {
    "id": "answer"
   },
   "outputs": [
    {
     "name": "stdout",
     "output_type": "stream",
     "text": [
      "計算結果\n",
      "4.0\n",
      "\n",
      "月\n",
      "[1, 5, 8, 8, 4]\n",
      "\n",
      "体積\n",
      "[120, 15, 1530, 468, 616, 76, 3078]\n",
      "\n",
      "valueの平均値\n",
      "[510.0, 300.0, 450.0, 170.0, 225.0, 1000.0]\n",
      "\n",
      "フルーツ名\n",
      "Counter({'strawberry': 4, 'pear': 2, 'peach': 2, 'lemon': 2, 'apple': 1, 'grape': 1})\n"
     ]
    }
   ],
   "source": [
    "# if とlamdaを用いて計算してください（引数aが8未満ならば、5倍にし、8以上ならば2で割る）\n",
    "a = 8\n",
    "basic = lambda x: x * 5 if x < 8 else x / 2\n",
    "print('計算結果')\n",
    "print(basic(a))\n",
    "\n",
    "\n",
    "import re\n",
    "# 配列time_list\n",
    "time_list = [\n",
    "    \"2018/1/23_19:40\",\n",
    "    \"2016/5/7_5:25\",\n",
    "    \"2018/8/21_10:50\",\n",
    "    \"2017/8/9_7:5\",\n",
    "    \"2015/4/1_22:15\"\n",
    "]\n",
    "# 文字列から\"月\"を取り出す関数を作成してください\n",
    "get_month = lambda x: int(re.split(\"[/_:]\",x)[1])\n",
    "\n",
    "# 各要素の\"月\"を取り出して配列にしてください\n",
    "month_list = list(map(get_month, time_list))\n",
    "\n",
    "# 出力してください\n",
    "print()\n",
    "print('月')\n",
    "print(month_list)\n",
    "\n",
    "# リスト内包表記を用いて体積を計算してください\n",
    "length= [3, 1, 6, 2, 8, 2, 9]\n",
    "side = [4, 1, 15, 18, 7, 2, 19]\n",
    "height = [10, 15, 17, 13, 11, 19, 18]\n",
    "\n",
    "# 体積を計算してください\n",
    "volume = [x * y * z for x, y,z  in zip(length, side, height)]\n",
    "\n",
    "# 出力してください\n",
    "print()\n",
    "print('体積')\n",
    "print(volume)\n",
    "\n",
    "# 各valueの平均値の計算とpriceリストの中のフルーツ名を数え上げてください\n",
    "from collections import defaultdict\n",
    "from collections import Counter\n",
    "\n",
    "# まとめたいデータprice\n",
    "price = [\n",
    "    (\"strawberry\", 520),\n",
    "    (\"pear\", 200),\n",
    "    (\"peach\", 400),\n",
    "    (\"apple\", 170),\n",
    "    (\"lemon\", 150),\n",
    "    (\"grape\", 1000),\n",
    "    (\"strawberry\", 750),\n",
    "    (\"pear\", 400),\n",
    "    (\"peach\", 500),\n",
    "    (\"strawberry\", 70),\n",
    "    (\"lemon\", 300),\n",
    "    (\"strawberry\", 700)\n",
    "]\n",
    "# defaultdictを定義してください\n",
    "d = defaultdict(list)\n",
    "\n",
    "# 上記の例と同様にvalueに値段とkeyにフルーツ名を追加してください\n",
    "price_key_count = []\n",
    "for key, value in price:\n",
    "        d[key].append(value)\n",
    "        price_key_count.append(key)\n",
    "        \n",
    "# 各valueの平均値を計算し、配列にして出力してください\n",
    "print()\n",
    "print('valueの平均値')\n",
    "print([sum(x) / len(x) for x in d.values()])\n",
    "\n",
    "# 上記のpriceリストの中のフルーツ名を数え上げてください\n",
    "key_count = Counter(price_key_count)\n",
    "print()\n",
    "print('フルーツ名')\n",
    "print(key_count)"
   ]
  },
  {
   "cell_type": "markdown",
   "metadata": {},
   "source": [
    "**リスト 13.60：解答例**　"
   ]
  }
 ],
 "metadata": {
  "celltoolbar": "Edit Metadata",
  "kernelspec": {
   "display_name": "Python 3",
   "language": "python",
   "name": "python3"
  },
  "language_info": {
   "codemirror_mode": {
    "name": "ipython",
    "version": 3
   },
   "file_extension": ".py",
   "mimetype": "text/x-python",
   "name": "python",
   "nbconvert_exporter": "python",
   "pygments_lexer": "ipython3",
   "version": "3.6.6"
  },
  "toc": {
   "colors": {
    "hover_highlight": "#DAA520",
    "navigate_num": "#000000",
    "navigate_text": "#333333",
    "running_highlight": "#FF0000",
    "selected_highlight": "#FFD700",
    "sidebar_border": "#EEEEEE",
    "wrapper_background": "#FFFFFF"
   },
   "moveMenuLeft": true,
   "nav_menu": {
    "height": "512px",
    "width": "252px"
   },
   "navigate_menu": true,
   "number_sections": false,
   "sideBar": true,
   "threshold": 4,
   "toc_cell": false,
   "toc_section_display": "block",
   "toc_window_display": false,
   "widenNotebook": false
  },
  "varInspector": {
   "cols": {
    "lenName": 16,
    "lenType": 16,
    "lenVar": 40
   },
   "kernels_config": {
    "python": {
     "delete_cmd_postfix": "",
     "delete_cmd_prefix": "del ",
     "library": "var_list.py",
     "varRefreshCmd": "print(var_dic_list())"
    },
    "r": {
     "delete_cmd_postfix": ") ",
     "delete_cmd_prefix": "rm(",
     "library": "var_list.r",
     "varRefreshCmd": "cat(var_dic_list()) "
    }
   },
   "types_to_exclude": [
    "module",
    "function",
    "builtin_function_or_method",
    "instance",
    "_Feature"
   ],
   "window_display": false
  }
 },
 "nbformat": 4,
 "nbformat_minor": 2
}
