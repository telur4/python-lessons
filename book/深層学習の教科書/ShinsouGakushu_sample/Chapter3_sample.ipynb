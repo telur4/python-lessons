{
 "cells": [
  {
   "cell_type": "markdown",
   "metadata": {
    "chapterId": "HJIGOAX-xbM",
    "id": "chapter_name"
   },
   "source": [
    "# Chapter3 性能評価指標"
   ]
  },
  {
   "cell_type": "markdown",
   "metadata": {
    "id": "table"
   },
   "source": [
    "- **3.1 性能評価指標**\n",
    "    - **3.1.1 混同行列を理解する**\n",
    "    - **3.1.2 混同行列を実装する**\n",
    "    - **3.1.3 正解率**\n",
    "    - **3.1.4 Ｆ値**\n",
    "    - **3.1.5 性能評価指標を実装する**\n",
    "<br><br>\n",
    "- **3.2 PR 曲線**\n",
    "    - **3.2.1 再現率と適合率の関係**\n",
    "    - **3.2.2 PR曲線とは**\n",
    "    - **3.2.3 PR曲線を用いたモデルの評価**\n",
    "<br><br>\n",
    "- **添削問題**\n",
    "- **総合添削問題**"
   ]
  },
  {
   "cell_type": "markdown",
   "metadata": {
    "id": "section_name",
    "sectionId": "Hkwfu0mWgWG"
   },
   "source": [
    "## ●3.1 性能評価指標"
   ]
  },
  {
   "cell_type": "markdown",
   "metadata": {},
   "source": [
    "### 〇3.1.1 混同行列を理解する"
   ]
  },
  {
   "cell_type": "markdown",
   "metadata": {},
   "source": [
    "この項にサンプルはありません"
   ]
  },
  {
   "cell_type": "markdown",
   "metadata": {
    "courseId": 2010,
    "exerciseId": "S1pKhUjUlG",
    "id": "code_session_name",
    "important": true,
    "isDL": false,
    "timeoutSecs": 5
   },
   "source": [
    "### 〇3.1.2 混同行列を実装する"
   ]
  },
  {
   "cell_type": "markdown",
   "metadata": {},
   "source": [
    "#### □問題"
   ]
  },
  {
   "cell_type": "code",
   "execution_count": null,
   "metadata": {
    "collapsed": true,
    "id": "index"
   },
   "outputs": [],
   "source": [
    "# ここで必要となるモジュールをimportします\n",
    "import numpy\n",
    "from sklearn.metrics import confusion_matrix\n",
    "\n",
    "# データを格納します。ここでは0が陽性、1が陰性を示しています\n",
    "y_true = [0,0,0,1,1,1]\n",
    "y_pred = [1,0,0,1,1,1]\n",
    "\n",
    "# 以下の行に変数confmatにy_trueとy_predの混同行列を格納してください\n",
    "\n",
    "\n",
    "# 結果を出力します\n",
    "print (confmat)"
   ]
  },
  {
   "cell_type": "markdown",
   "metadata": {},
   "source": [
    "**リスト3.1：問題**"
   ]
  },
  {
   "cell_type": "markdown",
   "metadata": {},
   "source": [
    "#### □解答例"
   ]
  },
  {
   "cell_type": "code",
   "execution_count": 1,
   "metadata": {
    "id": "answer"
   },
   "outputs": [
    {
     "name": "stdout",
     "output_type": "stream",
     "text": [
      "[[2 1]\n",
      " [0 3]]\n"
     ]
    }
   ],
   "source": [
    "# ここで必要となるモジュールをimportします\n",
    "import numpy\n",
    "from sklearn.metrics import confusion_matrix\n",
    "\n",
    "# データを格納します。ここでは0が陽性、1が陰性を示しています\n",
    "y_true = [0,0,0,1,1,1]\n",
    "y_pred = [1,0,0,1,1,1]\n",
    "\n",
    "# 以下の行に変数confmatにy_trueとy_predの混同行列を格納してください\n",
    "confmat = confusion_matrix(y_true, y_pred)\n",
    "\n",
    "# 結果を出力します\n",
    "print (confmat)"
   ]
  },
  {
   "cell_type": "markdown",
   "metadata": {},
   "source": [
    "**リスト3.2：解答例**"
   ]
  },
  {
   "cell_type": "markdown",
   "metadata": {
    "courseId": 2010,
    "exerciseId": "HJglFn8sUez",
    "id": "code_session_name",
    "important": true,
    "isDL": false,
    "timeoutSecs": 5
   },
   "source": [
    "### 〇3.1.5 性能評価指標を実装する"
   ]
  },
  {
   "cell_type": "code",
   "execution_count": 2,
   "metadata": {},
   "outputs": [
    {
     "name": "stdout",
     "output_type": "stream",
     "text": [
      "Precision: 0.750\n",
      "Recall: 1.000\n",
      "F1: 0.857\n"
     ]
    }
   ],
   "source": [
    "# 適合率、再現率、F\n",
    "from sklearn.metrics import precision_score\n",
    "from sklearn.metrics import recall_score, f1_score\n",
    "\n",
    "# データを格納します。ここでは0が陽性、1が陰性を示しています\n",
    "y_true = [0,0,0,1,1,1]\n",
    "y_pred = [1,0,0,1,1,1]\n",
    "\n",
    "# y_trueには正解のラベルを、y_predには予測結果のラベルをそれぞれ渡します\n",
    "print(\"Precision: %.3f\" % precision_score(y_true, y_pred))\n",
    "print(\"Recall: %.3f\" % recall_score(y_true, y_pred))\n",
    "print(\"F1: %.3f\" % f1_score(y_true, y_pred))"
   ]
  },
  {
   "cell_type": "markdown",
   "metadata": {},
   "source": [
    "**リスト 3.3：性能評価指標の実装**"
   ]
  },
  {
   "cell_type": "markdown",
   "metadata": {},
   "source": [
    "#### □問題"
   ]
  },
  {
   "cell_type": "code",
   "execution_count": null,
   "metadata": {},
   "outputs": [],
   "source": [
    "# 適合率、再現率、F1\n",
    "from sklearn.metrics import precision_score\n",
    "from sklearn.metrics import recall_score, f1_score\n",
    "\n",
    "# データを格納します。ここでは0が陰性、1が陽性を示しています\n",
    "y_true = [1,1,1,0,0,0]\n",
    "y_pred = [0,1,1,0,0,0]\n",
    "\n",
    "# 適合率と再現率をあらかじめ計算します\n",
    "precision = precision_score(y_true, y_pred)\n",
    "recall = recall_score(y_true, y_pred)\n",
    "\n",
    "# 以下の行にF1スコアの定義式を記述してください\n",
    "f1_score =\n",
    "\n",
    "print(\"F1: %.3f\" % f1_score)"
   ]
  },
  {
   "cell_type": "markdown",
   "metadata": {},
   "source": [
    "**リスト3.4：問題**"
   ]
  },
  {
   "cell_type": "markdown",
   "metadata": {},
   "source": [
    "#### □解答例"
   ]
  },
  {
   "cell_type": "code",
   "execution_count": 5,
   "metadata": {
    "id": "answer"
   },
   "outputs": [
    {
     "name": "stdout",
     "output_type": "stream",
     "text": [
      "F1: 0.800\n"
     ]
    }
   ],
   "source": [
    "# 適合率、再現率、F1\n",
    "from sklearn.metrics import precision_score\n",
    "from sklearn.metrics import recall_score, f1_score\n",
    "\n",
    "# データを格納します。ここでは0が陰性、1が陽性を示しています\n",
    "y_true = [1,1,1,0,0,0]\n",
    "y_pred = [0,1,1,0,0,0]\n",
    "\n",
    "# 適合率と再現率をあらかじめ計算します\n",
    "precision = precision_score(y_true, y_pred)\n",
    "recall = recall_score(y_true, y_pred)\n",
    "\n",
    "# 以下の行にF1スコアの定義式を記述してください\n",
    "f1_score =2 *(precision*recall) / (precision+recall)\n",
    "\n",
    "print(\"F1: %.3f\" % f1_score)"
   ]
  },
  {
   "cell_type": "markdown",
   "metadata": {},
   "source": [
    "**リスト 3.5：解答例**"
   ]
  },
  {
   "cell_type": "markdown",
   "metadata": {},
   "source": [
    "## ●3.2 PR 曲線"
   ]
  },
  {
   "cell_type": "markdown",
   "metadata": {},
   "source": [
    "### 〇3.2.1 再現率と適合率の関係"
   ]
  },
  {
   "cell_type": "markdown",
   "metadata": {},
   "source": [
    "この項にサンプルはありません"
   ]
  },
  {
   "cell_type": "markdown",
   "metadata": {},
   "source": [
    "### 〇3.2.2 PR 曲線とは"
   ]
  },
  {
   "cell_type": "markdown",
   "metadata": {},
   "source": [
    "この項にサンプルはありません"
   ]
  },
  {
   "cell_type": "markdown",
   "metadata": {},
   "source": [
    "### 〇3.2.3 PR 曲線を用いたモデルの評価"
   ]
  },
  {
   "cell_type": "markdown",
   "metadata": {},
   "source": [
    "この項にサンプルはありません"
   ]
  },
  {
   "cell_type": "markdown",
   "metadata": {},
   "source": [
    "## ●添削問題"
   ]
  },
  {
   "cell_type": "markdown",
   "metadata": {},
   "source": [
    "この項にサンプルはありません"
   ]
  },
  {
   "cell_type": "markdown",
   "metadata": {},
   "source": [
    "## ●総合添削問題"
   ]
  },
  {
   "cell_type": "markdown",
   "metadata": {},
   "source": [
    "#### □問題"
   ]
  },
  {
   "cell_type": "code",
   "execution_count": 4,
   "metadata": {},
   "outputs": [
    {
     "name": "stdout",
     "output_type": "stream",
     "text": [
      "Accuracy: 0.60\n"
     ]
    }
   ],
   "source": [
    "import matplotlib.pyplot as plt\n",
    "import numpy as np\n",
    "import pandas as pd\n",
    "from sklearn import datasets\n",
    "from sklearn import svm\n",
    "from sklearn.model_selection import train_test_split\n",
    "from sklearn.metrics import accuracy_score\n",
    "\n",
    "# (1.)\n",
    "# Irisデータセットをロードします\n",
    "iris = datasets.load_iris()\n",
    "# 3,4列目の特徴量を抽出します\n",
    "X = iris.data[:, [2,3]]\n",
    "# クラスラベルを取得します\n",
    "y = iris.target\n",
    "\n",
    "# (2.)\n",
    "X_train, X_test, y_train, y_test = train_test_split(\n",
    "    X, y, test_size=0.3, random_state=0)\n",
    "\n",
    "# (3.)\n",
    "svc = svm.SVC(C=1, kernel='rbf', gamma=0.001)\n",
    "svc.fit(X_train, y_train)\n",
    "\n",
    "# (4.)\n",
    "y_pred = svc.predict(X_test)\n",
    "print (\"Accuracy: %.2f\"% accuracy_score(y_test, y_pred))"
   ]
  },
  {
   "cell_type": "markdown",
   "metadata": {},
   "source": [
    "**リスト 3.6：問題**"
   ]
  },
  {
   "cell_type": "markdown",
   "metadata": {},
   "source": [
    "####  □解答例"
   ]
  },
  {
   "cell_type": "markdown",
   "metadata": {},
   "source": [
    "1. 教師ありデータを用意しています。\n",
    "1. 教師ありデータをトレーニングデータとテストデータに分割しています。\n",
    "1. 機械学習アルゴリズムを用いて、トレーニングデータを学習させています。\n",
    "1. テストデータを用いてどれほど予測が当たったかを調べ、機械学習アルゴリズムの性能をチェックしています。"
   ]
  }
 ],
 "metadata": {
  "celltoolbar": "Edit Metadata",
  "kernelspec": {
   "display_name": "Python 3",
   "language": "python",
   "name": "python3"
  },
  "language_info": {
   "codemirror_mode": {
    "name": "ipython",
    "version": 3
   },
   "file_extension": ".py",
   "mimetype": "text/x-python",
   "name": "python",
   "nbconvert_exporter": "python",
   "pygments_lexer": "ipython3",
   "version": "3.6.6"
  },
  "varInspector": {
   "cols": {
    "lenName": 16,
    "lenType": 16,
    "lenVar": 40
   },
   "kernels_config": {
    "python": {
     "delete_cmd_postfix": "",
     "delete_cmd_prefix": "del ",
     "library": "var_list.py",
     "varRefreshCmd": "print(var_dic_list())"
    },
    "r": {
     "delete_cmd_postfix": ") ",
     "delete_cmd_prefix": "rm(",
     "library": "var_list.r",
     "varRefreshCmd": "cat(var_dic_list()) "
    }
   },
   "types_to_exclude": [
    "module",
    "function",
    "builtin_function_or_method",
    "instance",
    "_Feature"
   ],
   "window_display": false
  }
 },
 "nbformat": 4,
 "nbformat_minor": 2
}
