{
 "cells": [
  {
   "cell_type": "markdown",
   "metadata": {
    "chapterId": "ryAdAX-gZf",
    "id": "chapter_name"
   },
   "source": [
    "#  Chapter7　NumPy"
   ]
  },
  {
   "cell_type": "markdown",
   "metadata": {
    "id": "table"
   },
   "source": [
    "- **7.1 NumPy の概観**\n",
    "    - **7.1.1 NumPyとは**\n",
    "    - **7.1.2 NumPyの高速な処理の体験**\n",
    "<br><br>\n",
    "- **7.2 NumPy 1次元配列**\n",
    "    - **7.2.1 import**\n",
    "    - **7.2.2 1次元配列**\n",
    "    - **7.2.3 1次元配列の計算**\n",
    "    - **7.2.4 インデックス参照とスライス**\n",
    "    - **7.2.5 ndarrayの注意点**\n",
    "    - **7.2.6 viewとcopy**\n",
    "    - **7.2.7 ブールインデックス参照** \n",
    "    - **7.2.8 ユニバーサル関数**\n",
    "    - **7.2.9 集合関数**  \n",
    "    - **7.2.10 乱数**\n",
    "<br><br>\n",
    "- **7.3 NumPy 2次元配列**\n",
    "    - **7.3.1 2次元配列**\n",
    "    - **7.3.2 インデックス参照とスライス**\n",
    "    - **7.3.3 axis**\n",
    "    - **7.3.4 ファンシーインデックス参照**\n",
    "    - **7.3.5 転置行列**\n",
    "    - **7.3.6 ソート**\n",
    "    - **7.3.7 行列計算**\n",
    "    - **7.3.8 数学関数**\n",
    "    - **7.3.9 ブロードキャスト**\n",
    "<br><br>\n",
    "- **添削問題**\n",
    "- **総合添削問題**"
   ]
  },
  {
   "cell_type": "markdown",
   "metadata": {
    "id": "section_name",
    "sectionId": "S1kgd07-lWz"
   },
   "source": [
    "## ●7.1 NumPy の概観"
   ]
  },
  {
   "cell_type": "markdown",
   "metadata": {},
   "source": [
    "### ○7.1.1 NumPy とは"
   ]
  },
  {
   "cell_type": "markdown",
   "metadata": {},
   "source": [
    "この項にサンプルはありません"
   ]
  },
  {
   "cell_type": "markdown",
   "metadata": {
    "courseId": 4000,
    "exerciseId": "HJcMYh8jLgf",
    "id": "code_session_name",
    "important": true,
    "isDL": false,
    "timeoutSecs": 10
   },
   "source": [
    "### ○7.1.2 NumPyの高速な処理の体験"
   ]
  },
  {
   "cell_type": "markdown",
   "metadata": {},
   "source": [
    "#### □問題\n"
   ]
  },
  {
   "cell_type": "code",
   "execution_count": null,
   "metadata": {
    "id": "index",
    "timeout": 20
   },
   "outputs": [],
   "source": [
    "# 必要なライブラリをimportします\n",
    "import numpy as np\n",
    "import time\n",
    "from numpy.random import rand\n",
    "\n",
    "# 行、列の大きさ\n",
    "N = 150\n",
    "\n",
    "# 行列を初期化します\n",
    "matA = np.array(rand(N, N))\n",
    "matB = np.array(rand(N, N))\n",
    "matC = np.array([[0] * N for _ in range(N)])\n",
    "\n",
    "# Pythonのリストを使って計算します\n",
    "\n",
    "# 開始時間を取得します\n",
    "start = time.time()\n",
    "\n",
    "# for文を使って行列の掛け算を実行します\n",
    "for i in range(N):\n",
    "    for j in range(N):\n",
    "        for k in range(N):\n",
    "            matC[i][j] = matA[i][k] * matB[k][j]\n",
    "\n",
    "print(\"Pythonの機能のみでの計算結果：%.2f[sec]\" % float(time.time() - start))\n",
    "\n",
    "# NumPyを使って計算します\n",
    "\n",
    "# 開始時間を取得します\n",
    "start = time.time()\n",
    "\n",
    "# NumPyを使って行列の掛け算を実行します\n",
    "matC = np.dot(matA, matB)\n",
    "\n",
    "# 少数第2位の桁で打ち切っているのでNumPyは0.00[sec]と表示されます\n",
    "print(\"NumPyを使った場合の計算結果：%.2f[sec]\" % float(time.time() - start))"
   ]
  },
  {
   "cell_type": "markdown",
   "metadata": {},
   "source": [
    "**リスト7.2：問題**"
   ]
  },
  {
   "cell_type": "markdown",
   "metadata": {},
   "source": [
    "#### □解答例（出力結果は誌面と異なります）"
   ]
  },
  {
   "cell_type": "code",
   "execution_count": 1,
   "metadata": {
    "id": "answer",
    "timeout": 20
   },
   "outputs": [
    {
     "name": "stdout",
     "output_type": "stream",
     "text": [
      "Pythonの機能のみでの計算結果：3.20[sec]\n",
      "NumPyを使った場合の計算結果：0.32[sec]\n"
     ]
    }
   ],
   "source": [
    "# 必要なライブラリをimportします\n",
    "import numpy as np\n",
    "import time\n",
    "from numpy.random import rand\n",
    "\n",
    "# 行、列の大きさ\n",
    "N = 150\n",
    "\n",
    "# 行列の初期化します\n",
    "matA = np.array(rand(N, N))\n",
    "matB = np.array(rand(N, N))\n",
    "matC = np.array([[0] * N for _ in range(N)])\n",
    "\n",
    "# Pythonのリストを使って計算します\n",
    "\n",
    "# 開始時間を取得します\n",
    "start = time.time()\n",
    "\n",
    "# for文を使って行列の掛け算を実行します\n",
    "for i in range(N):\n",
    "    for j in range(N):\n",
    "        for k in range(N):\n",
    "            matC[i][j] = matA[i][k] * matB[k][j]\n",
    "\n",
    "print(\"Pythonの機能のみでの計算結果：%.2f[sec]\" % float(time.time() - start))\n",
    "\n",
    "# NumPyを使って計算します\n",
    "\n",
    "# 開始時間を取得します\n",
    "start = time.time()\n",
    "\n",
    "# NumPyを使って行列の掛け算を実行します\n",
    "matC = np.dot(matA, matB)\n",
    "\n",
    "# 少数第2位の桁で打ち切っているのでNumPyは0.00[sec]と表示されます\n",
    "print(\"NumPyを使った場合の計算結果：%.2f[sec]\" % float(time.time() - start))"
   ]
  },
  {
   "cell_type": "markdown",
   "metadata": {},
   "source": [
    "**リスト7.2：解答例**"
   ]
  },
  {
   "cell_type": "markdown",
   "metadata": {
    "id": "section_name",
    "sectionId": "rJxluRQWgZz"
   },
   "source": [
    "## ○7.2 NumPy 1次元配列"
   ]
  },
  {
   "cell_type": "markdown",
   "metadata": {
    "courseId": 4000,
    "exerciseId": "S1izFnUoUez",
    "id": "code_session_name",
    "important": true,
    "isDL": false,
    "timeoutSecs": 5
   },
   "source": [
    "### □7.2.1 import"
   ]
  },
  {
   "cell_type": "markdown",
   "metadata": {},
   "source": [
    "#### □問題"
   ]
  },
  {
   "cell_type": "code",
   "execution_count": null,
   "metadata": {
    "id": "index"
   },
   "outputs": [],
   "source": [
    "# NumPyをimportしてください\n",
    "\n"
   ]
  },
  {
   "cell_type": "markdown",
   "metadata": {},
   "source": [
    "**リスト7.3：問題**"
   ]
  },
  {
   "cell_type": "markdown",
   "metadata": {},
   "source": [
    "#### □解答例"
   ]
  },
  {
   "cell_type": "code",
   "execution_count": 2,
   "metadata": {
    "id": "answer"
   },
   "outputs": [],
   "source": [
    "# NumPyをimportしてください\n",
    "import numpy as np"
   ]
  },
  {
   "cell_type": "markdown",
   "metadata": {},
   "source": [
    "**リスト7.4：解答例**"
   ]
  },
  {
   "cell_type": "markdown",
   "metadata": {
    "courseId": 4000,
    "exerciseId": "Hy3fF3Li8lM",
    "id": "code_session_name",
    "important": true,
    "isDL": false,
    "timeoutSecs": 5
   },
   "source": [
    "### ○7.2.2 1次元配列"
   ]
  },
  {
   "cell_type": "markdown",
   "metadata": {},
   "source": [
    "#### □問題"
   ]
  },
  {
   "cell_type": "code",
   "execution_count": null,
   "metadata": {},
   "outputs": [],
   "source": [
    "import numpy as np\n",
    "\n",
    "storages = [24, 3, 4, 23, 10, 12]\n",
    "print(storages)\n",
    "\n",
    "# ndarray配列を生成し、変数np_storagesに代入してください\n",
    "\n",
    "\n",
    "# 変数np_storagesの型を出力してください\n",
    "print()"
   ]
  },
  {
   "cell_type": "markdown",
   "metadata": {},
   "source": [
    "**リスト7.5：問題** 修正 余計な行削除"
   ]
  },
  {
   "cell_type": "markdown",
   "metadata": {},
   "source": [
    "#### □解答例"
   ]
  },
  {
   "cell_type": "code",
   "execution_count": 3,
   "metadata": {
    "id": "answer"
   },
   "outputs": [
    {
     "name": "stdout",
     "output_type": "stream",
     "text": [
      "[24, 3, 4, 23, 10, 12]\n",
      "<class 'numpy.ndarray'>\n"
     ]
    }
   ],
   "source": [
    "import numpy as np\n",
    "\n",
    "storages = [24, 3, 4, 23, 10, 12]\n",
    "print(storages)\n",
    "\n",
    "# ndarray配列を生成し、変数np_storagesに代入してください\n",
    "np_storages = np.array(storages)\n",
    "\n",
    "# 変数np_storagesの型を出力してください\n",
    "print(type(np_storages))"
   ]
  },
  {
   "cell_type": "markdown",
   "metadata": {},
   "source": [
    "**リスト7.6：解答例**"
   ]
  },
  {
   "cell_type": "markdown",
   "metadata": {
    "courseId": 4000,
    "exerciseId": "BJpMY2Ij8lf",
    "id": "code_session_name",
    "important": true,
    "isDL": false,
    "timeoutSecs": 5
   },
   "source": [
    "### ○7.2.3 1次元配列の計算"
   ]
  },
  {
   "cell_type": "code",
   "execution_count": 5,
   "metadata": {},
   "outputs": [
    {
     "name": "stdout",
     "output_type": "stream",
     "text": [
      "[2, 4, 6, 8]\n"
     ]
    }
   ],
   "source": [
    "# NumPyを使わないで実行します\n",
    "storages = [1, 2, 3, 4]\n",
    "new_storages = []\n",
    "for n in storages:\n",
    "    n += n\n",
    "    new_storages.append(n)\n",
    "print(new_storages)"
   ]
  },
  {
   "cell_type": "markdown",
   "metadata": {},
   "source": [
    "**リスト7.7：1 次元配列の計算の例①**"
   ]
  },
  {
   "cell_type": "code",
   "execution_count": 6,
   "metadata": {},
   "outputs": [
    {
     "name": "stdout",
     "output_type": "stream",
     "text": [
      "[2 4 6 8]\n"
     ]
    }
   ],
   "source": [
    "# NumPyを使って実行します\n",
    "import numpy as np\n",
    "storages = np.array([1, 2, 3, 4])\n",
    "storages += storages\n",
    "print(storages)"
   ]
  },
  {
   "cell_type": "markdown",
   "metadata": {},
   "source": [
    "**リスト 7.8：1 次元配列の計算の例②**"
   ]
  },
  {
   "cell_type": "markdown",
   "metadata": {},
   "source": [
    "#### □問題\n"
   ]
  },
  {
   "cell_type": "code",
   "execution_count": null,
   "metadata": {
    "id": "index"
   },
   "outputs": [],
   "source": [
    "import numpy as np\n",
    "\n",
    "arr = np.array([2, 5, 3, 4, 8])\n",
    "\n",
    "# arr + arr\n",
    "print()\n",
    "\n",
    "# arr - arr\n",
    "print()\n",
    "\n",
    "# arr ** 3\n",
    "print()\n",
    "\n",
    "# 1 / arr\n",
    "print()"
   ]
  },
  {
   "cell_type": "markdown",
   "metadata": {},
   "source": [
    "**リスト7.9：問題**"
   ]
  },
  {
   "cell_type": "markdown",
   "metadata": {},
   "source": [
    "#### □解答例"
   ]
  },
  {
   "cell_type": "code",
   "execution_count": 7,
   "metadata": {
    "id": "answer"
   },
   "outputs": [
    {
     "name": "stdout",
     "output_type": "stream",
     "text": [
      "arr + arr\n",
      "[ 4 10  6  8 16]\n",
      "\n",
      "arr - arr\n",
      "[0 0 0 0 0]\n",
      "\n",
      "arr ** 3\n",
      "[  8 125  27  64 512]\n",
      "\n",
      "1 / arr\n",
      "[0.5        0.2        0.33333333 0.25       0.125     ]\n",
      "\n"
     ]
    }
   ],
   "source": [
    "import numpy as np\n",
    "\n",
    "arr = np.array([2, 5, 3, 4, 8])\n",
    "\n",
    "# arr + arr\n",
    "print('arr + arr')\n",
    "print(arr + arr)\n",
    "print()\n",
    "\n",
    "# arr - arr\n",
    "print('arr - arr')\n",
    "print(arr - arr)\n",
    "print()\n",
    "\n",
    "# arr ** 3\n",
    "print('arr ** 3')\n",
    "print(arr ** 3)\n",
    "print()\n",
    "\n",
    "# 1 / arr\n",
    "print('1 / arr')\n",
    "print(1 / arr)\n",
    "print()"
   ]
  },
  {
   "cell_type": "markdown",
   "metadata": {},
   "source": [
    "**リスト7.10：解答例**"
   ]
  },
  {
   "cell_type": "markdown",
   "metadata": {
    "courseId": 4000,
    "exerciseId": "S1RMY2UiIxG",
    "id": "code_session_name",
    "important": true,
    "isDL": false,
    "timeoutSecs": 5
   },
   "source": [
    "### ○7.2.4 インデックス参照とスライス"
   ]
  },
  {
   "cell_type": "code",
   "execution_count": 8,
   "metadata": {},
   "outputs": [
    {
     "name": "stdout",
     "output_type": "stream",
     "text": [
      "[0 1 2 3 4 5 6 7 8 9]\n"
     ]
    }
   ],
   "source": [
    "\n",
    "arr = np.arange(10)\n",
    "print(arr)"
   ]
  },
  {
   "cell_type": "markdown",
   "metadata": {},
   "source": [
    "**リスト7.11：スライスの例①**　"
   ]
  },
  {
   "cell_type": "code",
   "execution_count": 12,
   "metadata": {},
   "outputs": [
    {
     "name": "stdout",
     "output_type": "stream",
     "text": [
      "[1 1 1 3 4 5 6 7 8 9]\n"
     ]
    }
   ],
   "source": [
    "arr = np.arange(10)\n",
    "arr[0:3] = 1\n",
    "print(arr)"
   ]
  },
  {
   "cell_type": "markdown",
   "metadata": {},
   "source": [
    "**リスト7.12：スライスの例②**"
   ]
  },
  {
   "cell_type": "markdown",
   "metadata": {},
   "source": [
    "#### □問題"
   ]
  },
  {
   "cell_type": "code",
   "execution_count": null,
   "metadata": {
    "id": "index"
   },
   "outputs": [],
   "source": [
    "import numpy as np\n",
    "\n",
    "arr = np.arange(10)\n",
    "print(arr)\n",
    "\n",
    "# 変数arrの要素のうち3, 4, 5だけを出力してください\n",
    "print()\n",
    "\n",
    "# 変数arrの要素のうち3, 4, 5を24に変更してください\n",
    "\n",
    "print(arr)"
   ]
  },
  {
   "cell_type": "markdown",
   "metadata": {},
   "source": [
    "**リスト7.13：問題**"
   ]
  },
  {
   "cell_type": "markdown",
   "metadata": {},
   "source": [
    "#### □解答例"
   ]
  },
  {
   "cell_type": "code",
   "execution_count": 9,
   "metadata": {
    "id": "answer"
   },
   "outputs": [
    {
     "name": "stdout",
     "output_type": "stream",
     "text": [
      "[0 1 2 3 4 5 6 7 8 9]\n",
      "[3 4 5]\n",
      "[ 0  1  2 24 24 24  6  7  8  9]\n"
     ]
    }
   ],
   "source": [
    "import numpy as np\n",
    "\n",
    "arr = np.arange(10)\n",
    "print(arr)\n",
    "\n",
    "# 変数arrの要素のうち3, 4, 5だけを出力してください\n",
    "print(arr[3:6])\n",
    "\n",
    "# 変数arrの要素のうち3, 4, 5を24に変更してください\n",
    "arr[3:6] = 24\n",
    "print(arr)"
   ]
  },
  {
   "cell_type": "markdown",
   "metadata": {},
   "source": [
    "**リスト7.14：解答例**"
   ]
  },
  {
   "cell_type": "markdown",
   "metadata": {
    "courseId": 4000,
    "exerciseId": "H1kXF2UsUxG",
    "id": "code_session_name",
    "important": true,
    "isDL": false,
    "timeoutSecs": 5
   },
   "source": [
    "### ○7.2.5 ndarrayの注意点"
   ]
  },
  {
   "cell_type": "markdown",
   "metadata": {},
   "source": [
    "#### □問題\n"
   ]
  },
  {
   "cell_type": "code",
   "execution_count": null,
   "metadata": {
    "id": "index"
   },
   "outputs": [],
   "source": [
    "import numpy as np\n",
    "\n",
    "# ndarrayをそのまま別の変数に代入した場合の挙動を見て行きましょう\n",
    "arr1 = np.array([1, 2, 3, 4, 5])\n",
    "print(arr1)\n",
    "\n",
    "arr2 = arr1\n",
    "arr2[0] = 100\n",
    "\n",
    "# 別の変数への変更が元の変数にも影響されています\n",
    "print(arr1)\n",
    "\n",
    "# ndarrayをcopy( )を使って別の変数に代入した場合の挙動を見て行きましょう\n",
    "arr1 = np.array([1, 2, 3, 4, 5])\n",
    "print(arr1)\n",
    "\n",
    "arr2 = arr1.copy()\n",
    "arr2[0] = 100\n",
    "\n",
    "# 別の変数への変更が元の変数には影響を与えていません\n",
    "print(arr1)"
   ]
  },
  {
   "cell_type": "markdown",
   "metadata": {},
   "source": [
    "**リスト7.15：問題**"
   ]
  },
  {
   "cell_type": "markdown",
   "metadata": {},
   "source": [
    "#### □解答例"
   ]
  },
  {
   "cell_type": "code",
   "execution_count": 10,
   "metadata": {
    "id": "answer"
   },
   "outputs": [
    {
     "name": "stdout",
     "output_type": "stream",
     "text": [
      "[1 2 3 4 5]\n",
      "[100   2   3   4   5]\n",
      "[1 2 3 4 5]\n",
      "[1 2 3 4 5]\n"
     ]
    }
   ],
   "source": [
    "import numpy as np\n",
    "\n",
    "# ndarrayをそのまま別の変数に代入した場合の挙動を見て行きましょう\n",
    "arr1 = np.array([1, 2, 3, 4, 5])\n",
    "print(arr1)\n",
    "\n",
    "arr2 = arr1\n",
    "arr2[0] = 100\n",
    "\n",
    "# 別の変数への変更が元の変数にも影響されています\n",
    "print(arr1)\n",
    "\n",
    "# ndarrayをcopy( )を使って別の変数に代入した場合の挙動を見て行きましょう\n",
    "arr1 = np.array([1, 2, 3, 4, 5])\n",
    "print(arr1)\n",
    "\n",
    "arr2 = arr1.copy()\n",
    "arr2[0] = 100\n",
    "\n",
    "# 別の変数への変更が元の変数には影響を与えていません\n",
    "print(arr1)"
   ]
  },
  {
   "cell_type": "markdown",
   "metadata": {},
   "source": [
    "**リスト7.16：解答例**"
   ]
  },
  {
   "cell_type": "markdown",
   "metadata": {
    "courseId": 4000,
    "exerciseId": "HyxQY2Ui8lM",
    "id": "code_session_name",
    "important": true,
    "isDL": false,
    "timeoutSecs": 5
   },
   "source": [
    "### ○7.2.6 viewとcopy"
   ]
  },
  {
   "cell_type": "markdown",
   "metadata": {},
   "source": [
    "#### □問題\n"
   ]
  },
  {
   "cell_type": "code",
   "execution_count": null,
   "metadata": {
    "id": "index"
   },
   "outputs": [],
   "source": [
    "import numpy as np\n",
    "\n",
    "# Pythonのリストでスライスを用いた場合の挙動を確認しましょう\n",
    "arr_List = [x for x in range(10)]\n",
    "print(\"リスト型データです\")\n",
    "print(\"arr_List:\",arr_List)\n",
    "\n",
    "print()\n",
    "arr_List_copy = arr_List[:]\n",
    "arr_List_copy[0] = 100\n",
    "\n",
    "\n",
    "print(\"リストのスライスではコピーが作られるので、arr_Listにはarr_List_copyの変更が反映されません\")\n",
    "print(\"arr_List:\",arr_List)\n",
    "print()\n",
    "\n",
    "# NumPyのndarrayでスライスを用いた場合での挙動を確認しましょう\n",
    "arr_NumPy = np.arange(10)\n",
    "print(\"NumPyのndarrayデータです\")\n",
    "print(\"arr_NumPy:\",arr_NumPy)\n",
    "print()\n",
    "\n",
    "arr_NumPy_view = arr_NumPy[:]\n",
    "arr_NumPy_view[0] = 100\n",
    "\n",
    "print(\"NumPyのスライスではview(データが格納されている場所の情報)が代入されるので、arr_NumPy_viewの変更がarr_NumPyに反映されます\")\n",
    "print(\"arr_NumPy:\",arr_NumPy)\n",
    "print()\n",
    "\n",
    "# NumPyのndarrayでcopy()を用いた場合での挙動を確認しましょう\n",
    "arr_NumPy = np.arange(10)\n",
    "print('NumPyのndarrayでcopy()を用いた場合での挙動です')\n",
    "print(\"arr_NumPy:\",arr_NumPy)\n",
    "print()\n",
    "arr_NumPy_copy = arr_NumPy[:].copy()\n",
    "arr_NumPy_copy[0] = 100\n",
    "\n",
    "print(\"copy()を用いた場合は、コピーが生成されているのでarr_NumPy_copyはarr_NumPyに影響を与えません\")\n",
    "print(\"arr_NumPy:\",arr_NumPy)"
   ]
  },
  {
   "cell_type": "markdown",
   "metadata": {},
   "source": [
    "**リスト7.17：問題**"
   ]
  },
  {
   "cell_type": "markdown",
   "metadata": {},
   "source": [
    "#### □解答例"
   ]
  },
  {
   "cell_type": "code",
   "execution_count": 1,
   "metadata": {
    "id": "answer"
   },
   "outputs": [
    {
     "name": "stdout",
     "output_type": "stream",
     "text": [
      "リスト型データです\n",
      "arr_List: [0, 1, 2, 3, 4, 5, 6, 7, 8, 9]\n",
      "\n",
      "リストのスライスではコピーが作られるので、arr_Listにはarr_List_copyの変更が反映されません\n",
      "arr_List: [0, 1, 2, 3, 4, 5, 6, 7, 8, 9]\n",
      "\n",
      "NumPyのndarrayデータです\n",
      "arr_NumPy: [0 1 2 3 4 5 6 7 8 9]\n",
      "\n",
      "NumPyのスライスではview(データが格納されている場所の情報)が代入されるので、arr_NumPy_viewの変更がarr_NumPyに反映されます\n",
      "arr_NumPy: [100   1   2   3   4   5   6   7   8   9]\n",
      "\n",
      "NumPyのndarrayでcopy()を用いた場合での挙動です\n",
      "arr_NumPy: [0 1 2 3 4 5 6 7 8 9]\n",
      "\n",
      "copy()を用いた場合は、コピーが生成されているのでarr_NumPy_copyはarr_NumPyに影響を与えません\n",
      "arr_NumPy: [0 1 2 3 4 5 6 7 8 9]\n"
     ]
    }
   ],
   "source": [
    "import numpy as np\n",
    "\n",
    "# Pythonのリストでスライスを用いた場合の挙動を確認しましょう\n",
    "arr_List = [x for x in range(10)]\n",
    "print(\"リスト型データです\")\n",
    "print(\"arr_List:\",arr_List)\n",
    "\n",
    "print()\n",
    "arr_List_copy = arr_List[:]\n",
    "arr_List_copy[0] = 100\n",
    "\n",
    "print(\"リストのスライスではコピーが作られるので、arr_Listにはarr_List_copyの変更が反映されません\")\n",
    "print(\"arr_List:\",arr_List)\n",
    "print()\n",
    "\n",
    "# NumPyのndarrayでスライスを用いた場合での挙動を確認しましょう\n",
    "arr_NumPy = np.arange(10)\n",
    "print(\"NumPyのndarrayデータです\")\n",
    "print(\"arr_NumPy:\",arr_NumPy)\n",
    "print()\n",
    "\n",
    "arr_NumPy_view = arr_NumPy[:]\n",
    "arr_NumPy_view[0] = 100\n",
    "\n",
    "print(\"NumPyのスライスではview(データが格納されている場所の情報)が代入されるので、arr_NumPy_viewの変更がarr_NumPyに反映されます\")\n",
    "print(\"arr_NumPy:\",arr_NumPy)\n",
    "print()\n",
    "\n",
    "# NumPyのndarrayでcopy()を用いた場合での挙動を確認しましょう\n",
    "arr_NumPy = np.arange(10)\n",
    "print('NumPyのndarrayでcopy()を用いた場合での挙動です')\n",
    "print(\"arr_NumPy:\",arr_NumPy)\n",
    "print()\n",
    "arr_NumPy_copy = arr_NumPy[:].copy()\n",
    "arr_NumPy_copy[0] = 100\n",
    "\n",
    "print(\"copy()を用いた場合は、コピーが生成されているのでarr_NumPy_copyはarr_NumPyに影響を与えません\")\n",
    "print(\"arr_NumPy:\",arr_NumPy)"
   ]
  },
  {
   "cell_type": "markdown",
   "metadata": {},
   "source": [
    "**リスト7.18：解答例**"
   ]
  },
  {
   "cell_type": "markdown",
   "metadata": {
    "courseId": 4000,
    "exerciseId": "HkZ7F2IoLgM",
    "id": "code_session_name",
    "important": false,
    "isDL": false,
    "timeoutSecs": 5
   },
   "source": [
    "### ○7.2.7 ブールインデックス参照"
   ]
  },
  {
   "cell_type": "code",
   "execution_count": 13,
   "metadata": {},
   "outputs": [
    {
     "name": "stdout",
     "output_type": "stream",
     "text": [
      "[2 4 6]\n"
     ]
    }
   ],
   "source": [
    "arr = np.array([2, 4, 6, 7]) \n",
    "print(arr[np.array([True, True, True, False])])  "
   ]
  },
  {
   "cell_type": "markdown",
   "metadata": {},
   "source": [
    "**リスト7.19：ブールインデックス参照の例①**"
   ]
  },
  {
   "cell_type": "code",
   "execution_count": 16,
   "metadata": {},
   "outputs": [
    {
     "name": "stdout",
     "output_type": "stream",
     "text": [
      "[4 7]\n"
     ]
    }
   ],
   "source": [
    "arr = np.array([2, 4, 6, 7]) \n",
    "print(arr[arr % 3 == 1])"
   ]
  },
  {
   "cell_type": "markdown",
   "metadata": {},
   "source": [
    "**リスト7.20：ブールインデックス参照の例②**"
   ]
  },
  {
   "cell_type": "markdown",
   "metadata": {},
   "source": [
    "#### □問題\n"
   ]
  },
  {
   "cell_type": "code",
   "execution_count": null,
   "metadata": {
    "id": "index"
   },
   "outputs": [],
   "source": [
    "import numpy as np\n",
    "\n",
    "arr = np.array([2, 3, 4, 5, 6, 7])\n",
    "\n",
    "# 変数arrの各要素が2で割り切れるかどうかを示す真偽値の配列を出力してください\n",
    "print()\n",
    "\n",
    "# 変数arr各要素のうち2で割り切れる要素の配列を出力してください\n",
    "print()"
   ]
  },
  {
   "cell_type": "markdown",
   "metadata": {},
   "source": [
    "**リスト7.21：問題**"
   ]
  },
  {
   "cell_type": "markdown",
   "metadata": {},
   "source": [
    "#### □解答例"
   ]
  },
  {
   "cell_type": "code",
   "execution_count": 17,
   "metadata": {
    "id": "answer"
   },
   "outputs": [
    {
     "name": "stdout",
     "output_type": "stream",
     "text": [
      "[ True False  True False  True False]\n",
      "[2 4 6]\n"
     ]
    }
   ],
   "source": [
    "import numpy as np\n",
    "\n",
    "arr = np.array([2, 3, 4, 5, 6, 7])\n",
    "\n",
    "# 変数arrの各要素が2で割り切れるかどうかを示す真偽値の配列を出力してください\n",
    "print(arr % 2 == 0)\n",
    "\n",
    "# 変数arr各要素のうち2で割り切れる要素の配列を出力してください\n",
    "print(arr[arr % 2 == 0])"
   ]
  },
  {
   "cell_type": "markdown",
   "metadata": {},
   "source": [
    "**リスト7.22：解答例**"
   ]
  },
  {
   "cell_type": "markdown",
   "metadata": {
    "courseId": 4000,
    "exerciseId": "r1fQKnLoUef",
    "id": "code_session_name",
    "important": true,
    "isDL": false,
    "timeoutSecs": 5
   },
   "source": [
    "### ○7.2.8 ユニバーサル関数"
   ]
  },
  {
   "cell_type": "markdown",
   "metadata": {},
   "source": [
    "#### □問題\n"
   ]
  },
  {
   "cell_type": "code",
   "execution_count": null,
   "metadata": {
    "id": "index"
   },
   "outputs": [],
   "source": [
    "import numpy as np\n",
    "\n",
    "arr = np.array([4, -9, 16, -4, 20])\n",
    "print(arr)\n",
    "\n",
    "# 変数arrの各要素を絶対値にし、変数arr_absに代入してください\n",
    "arr_abs = \n",
    "print(arr_abs)\n",
    "\n",
    "# 変数arr_absの各要素のeのべき乗と平方根を出力してください\n",
    "print()\n",
    "print()"
   ]
  },
  {
   "cell_type": "markdown",
   "metadata": {},
   "source": [
    "**リスト7.23：問題**"
   ]
  },
  {
   "cell_type": "markdown",
   "metadata": {},
   "source": [
    "#### □解答例"
   ]
  },
  {
   "cell_type": "code",
   "execution_count": 18,
   "metadata": {
    "id": "answer"
   },
   "outputs": [
    {
     "name": "stdout",
     "output_type": "stream",
     "text": [
      "[ 4 -9 16 -4 20]\n",
      "[ 4  9 16  4 20]\n",
      "[5.45981500e+01 8.10308393e+03 8.88611052e+06 5.45981500e+01\n",
      " 4.85165195e+08]\n",
      "[2.         3.         4.         2.         4.47213595]\n"
     ]
    }
   ],
   "source": [
    "import numpy as np\n",
    "\n",
    "arr = np.array([4, -9, 16, -4, 20])\n",
    "print(arr)\n",
    "\n",
    "# 変数arrの各要素を絶対値にし、変数arr_absに代入してください\n",
    "arr_abs = np.abs(arr)\n",
    "print(arr_abs)\n",
    "\n",
    "# 変数arr_absの各要素のeのべき乗と平方根を出力してください\n",
    "print(np.exp(arr_abs))\n",
    "print(np.sqrt(arr_abs))"
   ]
  },
  {
   "cell_type": "markdown",
   "metadata": {},
   "source": [
    "**リスト7.24：解答例**"
   ]
  },
  {
   "cell_type": "markdown",
   "metadata": {
    "courseId": 4000,
    "exerciseId": "B1QXY28jUlz",
    "id": "code_session_name",
    "important": false,
    "isDL": false,
    "timeoutSecs": 5
   },
   "source": [
    "### ○7.2.9 集合関数"
   ]
  },
  {
   "cell_type": "markdown",
   "metadata": {},
   "source": [
    "#### □問題\n"
   ]
  },
  {
   "cell_type": "code",
   "execution_count": null,
   "metadata": {
    "id": "index"
   },
   "outputs": [],
   "source": [
    "import numpy as np\n",
    "\n",
    "arr1 = [2, 5, 7, 9, 5, 2]\n",
    "arr2 = [2, 5, 8, 3, 1]\n",
    "\n",
    "# np.unique()関数を用いて重複をなくした配列を変数new_arr1に代入してください\n",
    "new_arr1 = \n",
    "print(new_arr1)\n",
    "\n",
    "# 変数new_arr1と変数arr2の和集合を出力してください\n",
    "print()\n",
    "\n",
    "# 変数new_arr1と変数arr2の積集合を出力してください\n",
    "print()\n",
    "\n",
    "# 変数new_arr1から変数arr2を引いた差集合を出力してください\n",
    "print()"
   ]
  },
  {
   "cell_type": "markdown",
   "metadata": {},
   "source": [
    "**リスト7.25：問題**"
   ]
  },
  {
   "cell_type": "markdown",
   "metadata": {},
   "source": [
    "#### □解答例"
   ]
  },
  {
   "cell_type": "code",
   "execution_count": 19,
   "metadata": {
    "id": "answer"
   },
   "outputs": [
    {
     "name": "stdout",
     "output_type": "stream",
     "text": [
      "[2 5 7 9]\n",
      "[1 2 3 5 7 8 9]\n",
      "[2 5]\n",
      "[7 9]\n"
     ]
    }
   ],
   "source": [
    "import numpy as np\n",
    "\n",
    "arr1 = [2, 5, 7, 9, 5, 2]\n",
    "arr2 = [2, 5, 8, 3, 1]\n",
    "\n",
    "# np.unique()関数を用いて重複をなくした配列を変数new_arr1に代入してください\n",
    "new_arr1 = np.unique(arr1)\n",
    "print(new_arr1)\n",
    "\n",
    "# 変数new_arr1と変数arr2の和集合を出力してください\n",
    "print(np.union1d(new_arr1, arr2))\n",
    "\n",
    "# 変数new_arr1と変数arr2の積集合を出力してください\n",
    "print(np.intersect1d(new_arr1, arr2))\n",
    "\n",
    "# 変数new_arr1から変数arr2を引いた差集合を出力してください\n",
    "print(np.setdiff1d(new_arr1, arr2))"
   ]
  },
  {
   "cell_type": "markdown",
   "metadata": {},
   "source": [
    "**リスト7.26：解答**"
   ]
  },
  {
   "cell_type": "markdown",
   "metadata": {
    "courseId": 4000,
    "exerciseId": "Hy4XK28iLgG",
    "id": "code_session_name",
    "important": true,
    "isDL": false,
    "timeoutSecs": 5
   },
   "source": [
    "### ○7.2.10 乱数"
   ]
  },
  {
   "cell_type": "markdown",
   "metadata": {},
   "source": [
    "#### □問題\n"
   ]
  },
  {
   "cell_type": "code",
   "execution_count": null,
   "metadata": {
    "id": "index"
   },
   "outputs": [],
   "source": [
    "import numpy as np\n",
    "\n",
    "# randint()関数を np.randomと付けなくても良いように importしてください\n",
    "\n",
    "\n",
    "# 変数 arr1に、各要素が 0 以上 10 以内の整数の行列 (5 × 2)を代入してください\n",
    "arr1 = \n",
    "print(arr1)\n",
    "\n",
    "# 変数 arr2に 0～1までの一様乱数を 3 つ代入してください\n",
    "arr2 = \n",
    "print(arr2)"
   ]
  },
  {
   "cell_type": "markdown",
   "metadata": {},
   "source": [
    "**リスト7.27：問題**"
   ]
  },
  {
   "cell_type": "markdown",
   "metadata": {},
   "source": [
    "#### □解答例（出力結果は誌面と異なります）"
   ]
  },
  {
   "cell_type": "code",
   "execution_count": 20,
   "metadata": {
    "id": "answer",
    "scrolled": true
   },
   "outputs": [
    {
     "name": "stdout",
     "output_type": "stream",
     "text": [
      "[[6 7]\n",
      " [0 6]\n",
      " [9 5]\n",
      " [4 8]\n",
      " [7 7]]\n",
      "[0.63789953 0.25708531 0.05888615]\n"
     ]
    }
   ],
   "source": [
    "import numpy as np\n",
    "\n",
    "# randint()関数を np.randomと付けなくても良いように importしてください\n",
    "from numpy.random import randint\n",
    "\n",
    "# 変数 arr1に、各要素が 0 以上 10 以内の整数の行列 (5 × 2)を代入してください\n",
    "arr1 = randint(0, 11, (5, 2))\n",
    "print(arr1)\n",
    "\n",
    "# 変数 arr2に 0～1までの一様乱数を 3 つ代入してください\n",
    "arr2 = np.random.rand(3)\n",
    "print(arr2)"
   ]
  },
  {
   "cell_type": "markdown",
   "metadata": {},
   "source": [
    "**リスト7.28：解答例**"
   ]
  },
  {
   "cell_type": "markdown",
   "metadata": {
    "id": "section_name",
    "sectionId": "BkWx_C7beZG"
   },
   "source": [
    "## ●7.3 NumPy 2次元配列"
   ]
  },
  {
   "cell_type": "markdown",
   "metadata": {
    "courseId": 4000,
    "exerciseId": "H1Smt38i8gf",
    "id": "code_session_name",
    "important": true,
    "isDL": false,
    "timeoutSecs": 5
   },
   "source": [
    "### ○7.3.1 2次元配列"
   ]
  },
  {
   "cell_type": "markdown",
   "metadata": {},
   "source": [
    "#### □問題\n"
   ]
  },
  {
   "cell_type": "code",
   "execution_count": null,
   "metadata": {
    "id": "index"
   },
   "outputs": [],
   "source": [
    "import numpy as np\n",
    "\n",
    "# 変数arrに2次元配列を代入してください\n",
    "arr = \n",
    "print(arr)\n",
    "\n",
    "# 変数arrの行列の各次元ごとの要素数を出力してください\n",
    "print()\n",
    "\n",
    "# 変数arrを4行2列の行列に変換してください\n",
    "print()"
   ]
  },
  {
   "cell_type": "markdown",
   "metadata": {},
   "source": [
    "**リスト 7.29：問題**"
   ]
  },
  {
   "cell_type": "markdown",
   "metadata": {},
   "source": [
    "#### □解答例"
   ]
  },
  {
   "cell_type": "code",
   "execution_count": 21,
   "metadata": {
    "id": "answer"
   },
   "outputs": [
    {
     "name": "stdout",
     "output_type": "stream",
     "text": [
      "[[1 2 3 4]\n",
      " [5 6 7 8]]\n",
      "(2, 4)\n",
      "[[1 2]\n",
      " [3 4]\n",
      " [5 6]\n",
      " [7 8]]\n"
     ]
    }
   ],
   "source": [
    "import numpy as np\n",
    "\n",
    "# 変数arrに2次元配列を代入してください\n",
    "arr = np.array([[1, 2, 3, 4], [5, 6, 7, 8]])\n",
    "print(arr)\n",
    "\n",
    "# 変数arrの行列の各次元ごとの要素数を出力してください\n",
    "print(arr.shape)\n",
    "\n",
    "# 変数arrを4行2列の行列に変換してください\n",
    "print(arr.reshape(4, 2))"
   ]
  },
  {
   "cell_type": "markdown",
   "metadata": {},
   "source": [
    "**リスト7.30：解答例**"
   ]
  },
  {
   "cell_type": "markdown",
   "metadata": {
    "courseId": 4000,
    "exerciseId": "S1UXtnLi8eM",
    "id": "code_session_name",
    "important": true,
    "isDL": false,
    "timeoutSecs": 5
   },
   "source": [
    "### ○7.3.2 インデックス参照とスライス"
   ]
  },
  {
   "cell_type": "code",
   "execution_count": 22,
   "metadata": {},
   "outputs": [
    {
     "name": "stdout",
     "output_type": "stream",
     "text": [
      "[4 5 6]\n"
     ]
    }
   ],
   "source": [
    "arr = np.array([[1, 2 ,3], [4, 5, 6]])\n",
    "print(arr[1])"
   ]
  },
  {
   "cell_type": "markdown",
   "metadata": {},
   "source": [
    "**リスト7.31：インデックス参照の例①**"
   ]
  },
  {
   "cell_type": "code",
   "execution_count": 23,
   "metadata": {},
   "outputs": [
    {
     "name": "stdout",
     "output_type": "stream",
     "text": [
      "6\n"
     ]
    }
   ],
   "source": [
    "arr = np.array([[1, 2 ,3], [4, 5, 6]])\n",
    "print(arr[1,2])"
   ]
  },
  {
   "cell_type": "markdown",
   "metadata": {},
   "source": [
    "**リスト7.32：インデックス参照の例②**"
   ]
  },
  {
   "cell_type": "code",
   "execution_count": 24,
   "metadata": {},
   "outputs": [
    {
     "name": "stdout",
     "output_type": "stream",
     "text": [
      "[5 6]\n"
     ]
    }
   ],
   "source": [
    "# リスト7.33\n",
    "arr = np.array([[1, 2 ,3], [4, 5, 6]])\n",
    "print(arr[1,1:])"
   ]
  },
  {
   "cell_type": "markdown",
   "metadata": {},
   "source": [
    "**リスト7.33：スライスの例**"
   ]
  },
  {
   "cell_type": "markdown",
   "metadata": {},
   "source": [
    "#### □問題\n"
   ]
  },
  {
   "cell_type": "code",
   "execution_count": null,
   "metadata": {
    "id": "index"
   },
   "outputs": [],
   "source": [
    "import numpy as np\n",
    "\n",
    "arr = np.array([[1, 2, 3], [4, 5, 6], [7, 8, 9]])\n",
    "print(arr)\n",
    "\n",
    "# 変数arrの要素のうち3を出力してください\n",
    "print()\n",
    "\n",
    "# 変数arrから取り出し出力してください\n",
    "print()"
   ]
  },
  {
   "cell_type": "markdown",
   "metadata": {},
   "source": [
    "**リスト7.34：問題**"
   ]
  },
  {
   "cell_type": "markdown",
   "metadata": {},
   "source": [
    "#### □解答例"
   ]
  },
  {
   "cell_type": "code",
   "execution_count": 25,
   "metadata": {
    "id": "answer"
   },
   "outputs": [
    {
     "name": "stdout",
     "output_type": "stream",
     "text": [
      "[[1 2 3]\n",
      " [4 5 6]\n",
      " [7 8 9]]\n",
      "3\n",
      "[[4 5]\n",
      " [7 8]]\n"
     ]
    }
   ],
   "source": [
    "import numpy as np\n",
    "\n",
    "arr = np.array([[1, 2, 3], [4, 5, 6], [7, 8, 9]])\n",
    "print(arr)\n",
    "\n",
    "# 変数arrの要素のうち3を出力してください\n",
    "print(arr[0, 2])\n",
    "\n",
    "# 変数arrから取り出し出力してください\n",
    "# 以下では、「1行目以降」と「２列目まで」を取り出しています\n",
    "print(arr[1:, :2])"
   ]
  },
  {
   "cell_type": "markdown",
   "metadata": {},
   "source": [
    "**リスト7.35：解答例**"
   ]
  },
  {
   "cell_type": "markdown",
   "metadata": {
    "courseId": 4000,
    "exerciseId": "rJPmY38sLeG",
    "id": "code_session_name",
    "important": true,
    "isDL": false,
    "timeoutSecs": 5
   },
   "source": [
    "### ○7.3.3 axis"
   ]
  },
  {
   "cell_type": "code",
   "execution_count": 26,
   "metadata": {},
   "outputs": [
    {
     "name": "stdout",
     "output_type": "stream",
     "text": [
      "21\n",
      "[5 7 9]\n",
      "[ 6 15]\n"
     ]
    }
   ],
   "source": [
    "arr = np.array([[1, 2 ,3], [4, 5, 6]])\n",
    "\n",
    "print(arr.sum())\n",
    "print(arr.sum(axis=0))\n",
    "print(arr.sum(axis=1))"
   ]
  },
  {
   "cell_type": "markdown",
   "metadata": {},
   "source": [
    "**リスト7.36：axis の例**"
   ]
  },
  {
   "cell_type": "markdown",
   "metadata": {},
   "source": [
    "#### □問題\n"
   ]
  },
  {
   "cell_type": "code",
   "execution_count": null,
   "metadata": {
    "id": "index"
   },
   "outputs": [],
   "source": [
    "import numpy as np\n",
    "\n",
    "arr = np.array([[1, 2, 3], [4, 5, 12], [15, 20, 22]])\n",
    "\n",
    "# arrの行の合計値を求め、問題文の1次元配列を返してください\n",
    "print()"
   ]
  },
  {
   "cell_type": "markdown",
   "metadata": {},
   "source": [
    "**リスト7.37：問題**"
   ]
  },
  {
   "cell_type": "markdown",
   "metadata": {},
   "source": [
    "#### □解答例"
   ]
  },
  {
   "cell_type": "code",
   "execution_count": 27,
   "metadata": {
    "id": "answer"
   },
   "outputs": [
    {
     "name": "stdout",
     "output_type": "stream",
     "text": [
      "[ 6 21 57]\n"
     ]
    }
   ],
   "source": [
    "import numpy as np\n",
    "\n",
    "arr = np.array([[1, 2, 3], [4, 5, 12], [15, 20, 22]])\n",
    "\n",
    "# arrの行の合計値を求め、問題文の1次元配列を返してください\n",
    "print(arr.sum(axis=1))"
   ]
  },
  {
   "cell_type": "markdown",
   "metadata": {},
   "source": [
    "**リスト7.38：解答例**"
   ]
  },
  {
   "cell_type": "markdown",
   "metadata": {
    "courseId": 4000,
    "exerciseId": "S1O7FhIiLxz",
    "id": "code_session_name",
    "important": true,
    "isDL": false,
    "timeoutSecs": 5
   },
   "source": [
    "### ○7.3.4 ファンシーインデックス参照"
   ]
  },
  {
   "cell_type": "code",
   "execution_count": 28,
   "metadata": {},
   "outputs": [
    {
     "name": "stdout",
     "output_type": "stream",
     "text": [
      "[[7 8]\n",
      " [5 6]\n",
      " [1 2]]\n"
     ]
    }
   ],
   "source": [
    "arr = np.array([[1, 2], [3, 4], [5, 6], [7, 8]]) \n",
    "\n",
    "# 3行目、2行目、0行目の順番に行の要素を抽出し、新しい要素を作成します\n",
    "# インデックス番号は0から始まります\n",
    "print(arr[[3, 2, 0]]) "
   ]
  },
  {
   "cell_type": "markdown",
   "metadata": {},
   "source": [
    "**リスト7.39：ファンシーインデックス参照の例**"
   ]
  },
  {
   "cell_type": "markdown",
   "metadata": {},
   "source": [
    "#### □問題\n"
   ]
  },
  {
   "cell_type": "code",
   "execution_count": null,
   "metadata": {
    "id": "index"
   },
   "outputs": [],
   "source": [
    "import numpy as np\n",
    "\n",
    "arr = np.arange(25).reshape(5, 5)\n",
    "\n",
    "# 変数arrの行の順番を変更したものを出力してください\n",
    "print()"
   ]
  },
  {
   "cell_type": "markdown",
   "metadata": {},
   "source": [
    "**リスト7.40：問題**"
   ]
  },
  {
   "cell_type": "markdown",
   "metadata": {},
   "source": [
    "#### □解答例"
   ]
  },
  {
   "cell_type": "code",
   "execution_count": 28,
   "metadata": {
    "id": "answer"
   },
   "outputs": [
    {
     "name": "stdout",
     "output_type": "stream",
     "text": [
      "[[ 5  6  7  8  9]\n",
      " [15 16 17 18 19]\n",
      " [ 0  1  2  3  4]]\n"
     ]
    }
   ],
   "source": [
    "import numpy as np\n",
    "\n",
    "arr = np.arange(25).reshape(5, 5)\n",
    "\n",
    "# 変数arrの行の順番を変更したものを出力してください\n",
    "print(arr[[1, 3, 0]])"
   ]
  },
  {
   "cell_type": "markdown",
   "metadata": {},
   "source": [
    "**スト7.41：解答例**"
   ]
  },
  {
   "cell_type": "markdown",
   "metadata": {
    "courseId": 4000,
    "exerciseId": "HJKmYnIsUxM",
    "id": "code_session_name",
    "important": true,
    "isDL": false,
    "timeoutSecs": 5
   },
   "source": [
    "### ○7.3.5 転置行列"
   ]
  },
  {
   "cell_type": "markdown",
   "metadata": {},
   "source": [
    "#### □問題\n"
   ]
  },
  {
   "cell_type": "code",
   "execution_count": null,
   "metadata": {
    "id": "index"
   },
   "outputs": [],
   "source": [
    "import numpy as np\n",
    "\n",
    "arr = np.arange(10).reshape(2, 5)\n",
    "\n",
    "# 変数arrを転置させてください\n",
    "print()"
   ]
  },
  {
   "cell_type": "markdown",
   "metadata": {},
   "source": [
    "**リスト7.42：問題**"
   ]
  },
  {
   "cell_type": "markdown",
   "metadata": {},
   "source": [
    "#### □解答例"
   ]
  },
  {
   "cell_type": "code",
   "execution_count": 29,
   "metadata": {
    "id": "answer"
   },
   "outputs": [
    {
     "name": "stdout",
     "output_type": "stream",
     "text": [
      "[[0 5]\n",
      " [1 6]\n",
      " [2 7]\n",
      " [3 8]\n",
      " [4 9]]\n"
     ]
    }
   ],
   "source": [
    "import numpy as np\n",
    "\n",
    "arr = np.arange(10).reshape(2, 5)\n",
    "\n",
    "# 変数arrを転置させてください\n",
    "print(arr.T) # print(np.transpose(arr))"
   ]
  },
  {
   "cell_type": "markdown",
   "metadata": {},
   "source": [
    "**リスト7.43：解答例**"
   ]
  },
  {
   "cell_type": "markdown",
   "metadata": {
    "courseId": 4000,
    "exerciseId": "HJcXFhIjIgf",
    "id": "code_session_name",
    "important": true,
    "isDL": false,
    "timeoutSecs": 5
   },
   "source": [
    "### ○7.3.6 ソート"
   ]
  },
  {
   "cell_type": "code",
   "execution_count": 29,
   "metadata": {},
   "outputs": [
    {
     "data": {
      "text/plain": [
       "array([2, 0, 1], dtype=int64)"
      ]
     },
     "execution_count": 29,
     "metadata": {},
     "output_type": "execute_result"
    }
   ],
   "source": [
    "arr = np.array([15, 30, 5])\n",
    "arr.argsort()"
   ]
  },
  {
   "cell_type": "markdown",
   "metadata": {},
   "source": [
    "**リスト7.44：ソートの例**"
   ]
  },
  {
   "cell_type": "markdown",
   "metadata": {},
   "source": [
    "#### □問題\n"
   ]
  },
  {
   "cell_type": "code",
   "execution_count": null,
   "metadata": {
    "id": "index"
   },
   "outputs": [],
   "source": [
    "import numpy as np\n",
    "\n",
    "arr = np.array([[8, 4, 2], [3, 5, 1]])\n",
    "\n",
    "# # argsort()メソッドを用いて出力してください\n",
    "print()\n",
    "\n",
    "# np.sort()関数を用いてソートし出力してください\n",
    "print()\n",
    "\n",
    "# sort()メソッドを用いて行でソートしてください\n",
    "\n",
    "print(arr)"
   ]
  },
  {
   "cell_type": "markdown",
   "metadata": {},
   "source": [
    "**リスト7.45：問題**"
   ]
  },
  {
   "cell_type": "markdown",
   "metadata": {},
   "source": [
    "#### □解答例"
   ]
  },
  {
   "cell_type": "code",
   "execution_count": 30,
   "metadata": {
    "id": "answer"
   },
   "outputs": [
    {
     "name": "stdout",
     "output_type": "stream",
     "text": [
      "[[2 1 0]\n",
      " [2 0 1]]\n",
      "[[2 4 8]\n",
      " [1 3 5]]\n",
      "[[2 4 8]\n",
      " [1 3 5]]\n"
     ]
    }
   ],
   "source": [
    "import numpy as np\n",
    "\n",
    "arr = np.array([[8, 4, 2], [3, 5, 1]])\n",
    "\n",
    "# argsort()メソッドを用いて出力してください\n",
    "print(arr.argsort())\n",
    "\n",
    "# np.sort()関数を用いてソートし出力してください\n",
    "print(np.sort(arr))\n",
    "\n",
    "# sort()メソッドを用いて行でソートしてください\n",
    "arr.sort(1)\n",
    "print(arr)"
   ]
  },
  {
   "cell_type": "markdown",
   "metadata": {},
   "source": [
    "**リスト7.46：解答例**　"
   ]
  },
  {
   "cell_type": "markdown",
   "metadata": {
    "courseId": 4000,
    "exerciseId": "SJo7FhLjIgz",
    "id": "code_session_name",
    "important": true,
    "isDL": false,
    "timeoutSecs": 5
   },
   "source": [
    "### ○7.3.7 行列計算"
   ]
  },
  {
   "cell_type": "markdown",
   "metadata": {},
   "source": [
    "#### □問題\n"
   ]
  },
  {
   "cell_type": "code",
   "execution_count": null,
   "metadata": {
    "id": "index"
   },
   "outputs": [],
   "source": [
    "import numpy as np\n",
    "\n",
    "# arrを定義します\n",
    "arr = np.arange(9).reshape(3, 3)\n",
    "\n",
    "# 変数arrとarrの行列積を出力してください\n",
    "print()\n",
    "\n",
    "# vecを定義します\n",
    "vec = arr.reshape(9)\n",
    "\n",
    "# 変数vecのノルムを出力してください\n",
    "print()"
   ]
  },
  {
   "cell_type": "markdown",
   "metadata": {},
   "source": [
    "**リスト7.47：問題**"
   ]
  },
  {
   "cell_type": "markdown",
   "metadata": {},
   "source": [
    "#### □解答例"
   ]
  },
  {
   "cell_type": "code",
   "execution_count": 31,
   "metadata": {
    "id": "answer"
   },
   "outputs": [
    {
     "name": "stdout",
     "output_type": "stream",
     "text": [
      "[[ 15  18  21]\n",
      " [ 42  54  66]\n",
      " [ 69  90 111]]\n",
      "14.2828568570857\n"
     ]
    }
   ],
   "source": [
    "import numpy as np\n",
    "\n",
    "# arrを定義します\n",
    "arr = np.arange(9).reshape(3, 3)\n",
    "\n",
    "# 変数arrとarrの行列積を出力してください\n",
    "print(np.dot(arr, arr))\n",
    "\n",
    "# vecを定義します\n",
    "vec = arr.reshape(9)\n",
    "\n",
    "# 変数vecのノルムを出力してください\n",
    "print(np.linalg.norm(vec))"
   ]
  },
  {
   "cell_type": "markdown",
   "metadata": {},
   "source": [
    "**リスト7.48：解答例**"
   ]
  },
  {
   "cell_type": "markdown",
   "metadata": {
    "courseId": 4000,
    "exerciseId": "Sk37FnUj8lf",
    "id": "code_session_name",
    "important": true,
    "isDL": false,
    "timeoutSecs": 5
   },
   "source": [
    "### ○7.3.8 統計関数 "
   ]
  },
  {
   "cell_type": "markdown",
   "metadata": {},
   "source": [
    "#### □問題\n"
   ]
  },
  {
   "cell_type": "code",
   "execution_count": null,
   "metadata": {
    "id": "index"
   },
   "outputs": [],
   "source": [
    "import numpy as np\n",
    "\n",
    "arr = np.arange(15).reshape(3, 5)\n",
    "\n",
    "# 変数arrの列ごとの平均を出力してください\n",
    "print()\n",
    "\n",
    "# 変数arrの行の合計を出力してください\n",
    "print()\n",
    "\n",
    "# 変数arrの最小値を出力してください\n",
    "print()\n",
    "\n",
    "# 変数arrのそれぞれの列の最大値のインデックス番号を出力してください\n",
    "print()"
   ]
  },
  {
   "cell_type": "markdown",
   "metadata": {},
   "source": [
    "**リスト7.49：問題**"
   ]
  },
  {
   "cell_type": "markdown",
   "metadata": {},
   "source": [
    "#### □解答例"
   ]
  },
  {
   "cell_type": "code",
   "execution_count": 31,
   "metadata": {
    "id": "answer",
    "scrolled": false
   },
   "outputs": [
    {
     "name": "stdout",
     "output_type": "stream",
     "text": [
      "[5. 6. 7. 8. 9.]\n",
      "[10 35 60]\n",
      "0\n",
      "[2 2 2 2 2]\n"
     ]
    }
   ],
   "source": [
    "import numpy as np\n",
    "\n",
    "arr = np.arange(15).reshape(3, 5)\n",
    "\n",
    "# 変数arrの列ごとの平均を出力してください\n",
    "print(arr.mean(axis=0))\n",
    "\n",
    "# 変数arrの行の合計を出力してください\n",
    "print(arr.sum(axis=1))\n",
    "\n",
    "# 変数arrの最小値を出力してください\n",
    "print(arr.min())\n",
    "\n",
    "# 変数arrのそれぞれの列の最大値のインデックス番号を出力してください\n",
    "print(arr.argmax(axis=0))"
   ]
  },
  {
   "cell_type": "markdown",
   "metadata": {},
   "source": [
    "**リスト 7.50：解答例**"
   ]
  },
  {
   "cell_type": "markdown",
   "metadata": {
    "courseId": 4000,
    "exerciseId": "HypQKn8iUgG",
    "id": "code_session_name",
    "important": true,
    "isDL": false,
    "timeoutSecs": 5
   },
   "source": [
    "### ○7.3.9 ブロードキャスト"
   ]
  },
  {
   "cell_type": "code",
   "execution_count": 34,
   "metadata": {},
   "outputs": [
    {
     "name": "stdout",
     "output_type": "stream",
     "text": [
      "[[1 2 3]\n",
      " [4 5 6]]\n"
     ]
    }
   ],
   "source": [
    "x = np.arange(6).reshape(2, 3)\n",
    "print(x + 1)"
   ]
  },
  {
   "cell_type": "markdown",
   "metadata": {},
   "source": [
    "**リスト7.51：ブロードキャストの例**"
   ]
  },
  {
   "cell_type": "markdown",
   "metadata": {},
   "source": [
    "#### □問題"
   ]
  },
  {
   "cell_type": "code",
   "execution_count": null,
   "metadata": {},
   "outputs": [],
   "source": [
    "import numpy as np\n",
    "\n",
    "\n",
    "\n",
    "# 0から14の整数値をもつ3×5のndarray配列xを生成します\n",
    "x = np.arange(15).reshape(3, 5)\n",
    "\n",
    "# 0から4の整数値をもつ1×5のndarray配列yを生成します\n",
    "y = np.array([np.arange(5)])\n",
    "\n",
    "# xのn番目の列のすべての行からnだけ引いてください\n",
    "z = \n",
    "\n",
    "# xを出力します\n",
    "print(z)"
   ]
  },
  {
   "cell_type": "markdown",
   "metadata": {},
   "source": [
    "**リスト7.52：問題**"
   ]
  },
  {
   "cell_type": "markdown",
   "metadata": {},
   "source": [
    "#### □解答例"
   ]
  },
  {
   "cell_type": "code",
   "execution_count": 35,
   "metadata": {
    "id": "answer",
    "scrolled": true
   },
   "outputs": [
    {
     "name": "stdout",
     "output_type": "stream",
     "text": [
      "[[ 0  0  0  0  0]\n",
      " [ 5  5  5  5  5]\n",
      " [10 10 10 10 10]]\n"
     ]
    }
   ],
   "source": [
    "import numpy as np\n",
    "\n",
    "\n",
    "# 0から14の整数値をもつ3×5のndarray配列xを生成します\n",
    "x = np.arange(15).reshape(3, 5)\n",
    "\n",
    "# 0から4の整数値をもつ1×5のndarray配列yを生成します\n",
    "y = np.array([np.arange(5)])\n",
    "\n",
    "# xのn番目の列のすべての行からnだけ引いてください\n",
    "z = x - y\n",
    "\n",
    "# xを出力します\n",
    "print(z)"
   ]
  },
  {
   "cell_type": "markdown",
   "metadata": {},
   "source": [
    "**リスト 7.53：解答例**"
   ]
  },
  {
   "cell_type": "markdown",
   "metadata": {
    "id": "chapter_exam"
   },
   "source": [
    "## ●7.3 添削問題"
   ]
  },
  {
   "cell_type": "markdown",
   "metadata": {},
   "source": [
    "#### □問題\n"
   ]
  },
  {
   "cell_type": "code",
   "execution_count": null,
   "metadata": {
    "id": "index"
   },
   "outputs": [],
   "source": [
    "import numpy as np\n",
    "\n",
    "\n",
    "np.random.seed(100)\n",
    "\n",
    "# 各要素が0~30の整数の行列（5×3）を変数arrに代入してください\n",
    "\n",
    "print(arr)\n",
    "\n",
    "# 変数arrを転置してください\n",
    "\n",
    "print(arr)\n",
    "\n",
    "# 変数arrの2, 3, 4列のみの行列(3×3)を変数arr1に代入してください\n",
    "\n",
    "print(arr1)\n",
    "\n",
    "# 変数arr1を行でソートしてください\n",
    "\n",
    "print(arr1)\n",
    "\n",
    "# 各列の平均を出力してください\n",
    "\n"
   ]
  },
  {
   "cell_type": "markdown",
   "metadata": {},
   "source": [
    "**リスト7.54：問題**"
   ]
  },
  {
   "cell_type": "markdown",
   "metadata": {},
   "source": [
    "#### □解答例"
   ]
  },
  {
   "cell_type": "code",
   "execution_count": 32,
   "metadata": {
    "id": "answer",
    "scrolled": true
   },
   "outputs": [
    {
     "name": "stdout",
     "output_type": "stream",
     "text": [
      "[[ 8 24  3]\n",
      " [ 7 23 15]\n",
      " [16 10 30]\n",
      " [20  2 21]\n",
      " [ 2  2 14]]\n",
      "[[ 8  7 16 20  2]\n",
      " [24 23 10  2  2]\n",
      " [ 3 15 30 21 14]]\n",
      "[[ 7 16 20]\n",
      " [23 10  2]\n",
      " [15 30 21]]\n",
      "[[ 7 10  2]\n",
      " [15 16 20]\n",
      " [23 30 21]]\n",
      "[15.         18.66666667 14.33333333]\n"
     ]
    }
   ],
   "source": [
    "import numpy as np\n",
    "\n",
    "\n",
    "np.random.seed(100)\n",
    "\n",
    "# 各要素が0~30の整数の行列（5×3）を変数arrに代入してください\n",
    "arr = np.random.randint(0, 31, (5, 3))\n",
    "print(arr)\n",
    "\n",
    "# 変数arrを転置してください\n",
    "arr = arr.T\n",
    "print(arr)\n",
    "\n",
    "# 変数arrの2, 3, 4列のみの行列(3×3)を変数arr1に代入してください\n",
    "arr1 = arr[:, 1:4]\n",
    "print(arr1)\n",
    "\n",
    "# 変数arr1を行でソートしてください\n",
    "arr1.sort(0)\n",
    "print(arr1)\n",
    "\n",
    "# 各列の平均を出力してください\n",
    "print(arr1.mean(axis = 0))"
   ]
  },
  {
   "cell_type": "markdown",
   "metadata": {},
   "source": [
    "**リスト7.55：解答例**"
   ]
  },
  {
   "cell_type": "markdown",
   "metadata": {},
   "source": [
    "# ●総合添削問題"
   ]
  },
  {
   "cell_type": "markdown",
   "metadata": {},
   "source": [
    "### □問題"
   ]
  },
  {
   "cell_type": "code",
   "execution_count": null,
   "metadata": {},
   "outputs": [],
   "source": [
    "import numpy as np\n",
    "\n",
    "# 乱数を初期化します\n",
    "np.random.seed(0)\n",
    "\n",
    "# 縦の大きさ、横の大きさを渡されたときに乱数で指定の大きさの画像を生成する関数です\n",
    "def make_image(m, n):\n",
    "    \n",
    "    # n×m行列の各成分を0~5の値でランダムに満たしてください\n",
    "\n",
    "    \n",
    "    return image\n",
    "\n",
    "\n",
    "# 渡された行列の一部を変更する関数です\n",
    "def change_little(matrix):\n",
    "    # 与えられた行列の形を取得し、shapeに代入してください\n",
    "\n",
    "    \n",
    "    # 行列の各成分について、変更するかしないかをランダムに決めた上で\n",
    "    # 変更する場合は0~5のいずれかの整数にランダムに入れ替えてください\n",
    "    \n",
    "    \n",
    "    \n",
    "    \n",
    "    return matrix\n",
    "\n",
    "# ランダムに画像を作成します\n",
    "image1 = make_image(3, 3)\n",
    "print(image1)\n",
    "print()\n",
    "\n",
    "# ランダムに変更を適用します\n",
    "image2 = change_little(np.copy(image1))\n",
    "print(image2)\n",
    "print()\n",
    "\n",
    "# image1とimage2の差分を計算し、image3に代入してください\n",
    "\n",
    "print(image3)\n",
    "print()\n",
    "\n",
    "# image3の各成分が絶対値である行列をもとめimage3に再代入してください\n",
    "\n",
    "\n",
    "# image3を出力します\n",
    "print(image3)"
   ]
  },
  {
   "cell_type": "markdown",
   "metadata": {},
   "source": [
    "**リスト7.56：問題**"
   ]
  },
  {
   "cell_type": "markdown",
   "metadata": {},
   "source": [
    "###  □解答例"
   ]
  },
  {
   "cell_type": "code",
   "execution_count": 33,
   "metadata": {},
   "outputs": [
    {
     "name": "stdout",
     "output_type": "stream",
     "text": [
      "[[4 5 0]\n",
      " [3 3 3]\n",
      " [1 3 5]]\n",
      "\n",
      "[[4 5 0]\n",
      " [3 3 3]\n",
      " [0 5 5]]\n",
      "\n",
      "[[ 0  0  0]\n",
      " [ 0  0  0]\n",
      " [-1  2  0]]\n",
      "\n",
      "[[0 0 0]\n",
      " [0 0 0]\n",
      " [1 2 0]]\n"
     ]
    }
   ],
   "source": [
    "import numpy as np\n",
    "\n",
    "# 乱数を初期化します\n",
    "np.random.seed(0)\n",
    "\n",
    "# 縦の大きさ、横の大きさを渡されたときに乱数で指定の大きさの画像を生成する関数です\n",
    "def make_image(m, n):\n",
    "    \n",
    "    # n×m行列の各成分を0~5の値でランダムに満たしてください\n",
    "    image = np.random.randint(0, 6, (m, n))\n",
    "        \n",
    "    return image\n",
    "\n",
    "# 渡された行列の一部を変更する関数です\n",
    "def change_little(matrix):\n",
    "    # 与えられた行列の形を取得し、shapeに代入してください\n",
    "    shape = matrix.shape\n",
    "    \n",
    "    # 行列の各成分について、変更するかしないかをランダムに決めた上で\n",
    "    # 変更する場合は0~5のいずれかの整数にランダムに入れ替えてください\n",
    "    for i in range(shape[0]):\n",
    "        for j in range(shape[1]):\n",
    "            if np.random.randint(0, 2)==1:\n",
    "                matrix[i][j] = np.random.randint(0, 6, 1)\n",
    "    return matrix\n",
    "\n",
    "# ランダムに画像を作成します\n",
    "image1 = make_image(3, 3)\n",
    "print(image1)\n",
    "print()\n",
    "\n",
    "# ランダムに変更を適用します\n",
    "image2 = change_little(np.copy(image1))\n",
    "print(image2)\n",
    "print()\n",
    "\n",
    "# image1とimage2の差分を計算し、image3に代入してください\n",
    "image3 = image2 - image1\n",
    "print(image3)\n",
    "print()\n",
    "\n",
    "# image3の各成分が絶対値である行列をもとめimage3に再代入してください\n",
    "image3 = np.abs(image3)\n",
    "\n",
    "# image3を出力します\n",
    "print(image3)"
   ]
  },
  {
   "cell_type": "markdown",
   "metadata": {},
   "source": [
    "**リスト7.57：解答例**"
   ]
  }
 ],
 "metadata": {
  "celltoolbar": "Edit Metadata",
  "kernelspec": {
   "display_name": "Python 3",
   "language": "python",
   "name": "python3"
  },
  "language_info": {
   "codemirror_mode": {
    "name": "ipython",
    "version": 3
   },
   "file_extension": ".py",
   "mimetype": "text/x-python",
   "name": "python",
   "nbconvert_exporter": "python",
   "pygments_lexer": "ipython3",
   "version": "3.6.6"
  },
  "varInspector": {
   "cols": {
    "lenName": 16,
    "lenType": 16,
    "lenVar": 40
   },
   "kernels_config": {
    "python": {
     "delete_cmd_postfix": "",
     "delete_cmd_prefix": "del ",
     "library": "var_list.py",
     "varRefreshCmd": "print(var_dic_list())"
    },
    "r": {
     "delete_cmd_postfix": ") ",
     "delete_cmd_prefix": "rm(",
     "library": "var_list.r",
     "varRefreshCmd": "cat(var_dic_list()) "
    }
   },
   "types_to_exclude": [
    "module",
    "function",
    "builtin_function_or_method",
    "instance",
    "_Feature"
   ],
   "window_display": false
  }
 },
 "nbformat": 4,
 "nbformat_minor": 2
}
