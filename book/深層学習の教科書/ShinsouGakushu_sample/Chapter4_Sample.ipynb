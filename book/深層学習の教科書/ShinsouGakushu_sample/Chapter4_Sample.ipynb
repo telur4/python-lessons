{
 "cells": [
  {
   "cell_type": "markdown",
   "metadata": {
    "chapterId": "BJ_RXbl-f",
    "id": "chapter_name"
   },
   "source": [
    "# ★Chapter4　Pythonの基礎"
   ]
  },
  {
   "cell_type": "markdown",
   "metadata": {
    "id": "table"
   },
   "source": [
    "- **4.1 基礎**\n",
    "    - **4.1.1 Hello world**\n",
    "    - **4.1.2 Pythonの用途**\n",
    "    - **4.1.3 コメントの入力**\n",
    "    - **4.1.4 数値と文字列**\n",
    "    - **4.1.5 演算**\n",
    "<br><br>\n",
    "- **4.2 変数**\n",
    "    - **4.2.1 変数** \n",
    "    - **4.2.2 変数の更新**\n",
    "    - **4.2.3 文字列の連結**\n",
    "<br><br>\n",
    "- **4.3 型**\n",
    "    - **4.3.1 型**\n",
    "    - **4.3.2 型の変換**\n",
    "    - **4.3.3 型の理解と確認**\n",
    "<br><br>\n",
    "- **4.4 if文**\n",
    "    - **4.4.1 比較演算子**\n",
    "    - **4.4.2 if文**\n",
    "    - **4.4.3 else**\n",
    "    - **4.4.4 elif**\n",
    "    - **4.4.5 and・not・or**\n",
    "<br><br>\n",
    "- **添削問題**"
   ]
  },
  {
   "cell_type": "markdown",
   "metadata": {
    "id": "section_name",
    "sectionId": "r1edAmZg-f"
   },
   "source": [
    "## ●4.1 基礎"
   ]
  },
  {
   "cell_type": "markdown",
   "metadata": {
    "courseId": 3010,
    "exerciseId": "ByrlF2UsLeG",
    "id": "code_session_name",
    "important": true,
    "isDL": false,
    "timeoutSecs": 5
   },
   "source": [
    "### ○4.1.1 Hello world"
   ]
  },
  {
   "cell_type": "markdown",
   "metadata": {},
   "source": [
    "#### □問題"
   ]
  },
  {
   "cell_type": "code",
   "execution_count": null,
   "metadata": {
    "collapsed": true,
    "id": "index"
   },
   "outputs": [],
   "source": [
    "# Pythonでは行頭に#を置いた行はコメントして扱われます\n",
    "# 「Hello world」と出力してください\n",
    "print(\"Hello world\")"
   ]
  },
  {
   "cell_type": "markdown",
   "metadata": {},
   "source": [
    "**リスト 4.1：問題**"
   ]
  },
  {
   "cell_type": "markdown",
   "metadata": {},
   "source": [
    "#### □解答例"
   ]
  },
  {
   "cell_type": "code",
   "execution_count": 1,
   "metadata": {
    "id": "answer"
   },
   "outputs": [
    {
     "name": "stdout",
     "output_type": "stream",
     "text": [
      "Hello world\n"
     ]
    }
   ],
   "source": [
    "# Pythonでは行頭に#を置いた行はコメントして扱われます\n",
    "# 「Hello world」と出力してください\n",
    "print(\"Hello world\")"
   ]
  },
  {
   "cell_type": "markdown",
   "metadata": {},
   "source": [
    "**リスト 4.2：解答例**"
   ]
  },
  {
   "cell_type": "markdown",
   "metadata": {},
   "source": [
    "### ○4.1.2  Python の用途"
   ]
  },
  {
   "cell_type": "markdown",
   "metadata": {},
   "source": [
    "この項にサンプルはありません"
   ]
  },
  {
   "cell_type": "markdown",
   "metadata": {
    "courseId": 3010,
    "exerciseId": "rkUlFhLsUxG",
    "id": "code_session_name",
    "important": true,
    "isDL": false,
    "timeoutSecs": 5
   },
   "source": [
    "### ○4.1.3 コメントの入力"
   ]
  },
  {
   "cell_type": "markdown",
   "metadata": {},
   "source": [
    "#### □問題"
   ]
  },
  {
   "cell_type": "code",
   "execution_count": null,
   "metadata": {
    "collapsed": true,
    "id": "index",
    "scrolled": true
   },
   "outputs": [],
   "source": [
    "# 5 + 2の結果を出力してください\n",
    "print(5 + 2)\n",
    "\n",
    "\n",
    "print(3 + 8)\n"
   ]
  },
  {
   "cell_type": "markdown",
   "metadata": {},
   "source": [
    "**リスト4.3：問題**"
   ]
  },
  {
   "cell_type": "markdown",
   "metadata": {},
   "source": [
    "#### □解答例"
   ]
  },
  {
   "cell_type": "code",
   "execution_count": 3,
   "metadata": {
    "id": "answer"
   },
   "outputs": [
    {
     "name": "stdout",
     "output_type": "stream",
     "text": [
      "7\n",
      "11\n"
     ]
    }
   ],
   "source": [
    "# 5 + 2の結果を出力してください\n",
    "print(5 + 2)\n",
    "\n",
    "# 3 + 8の結果を出力する\n",
    "print(3 + 8)"
   ]
  },
  {
   "cell_type": "markdown",
   "metadata": {},
   "source": [
    "**リスト4.4：解答例**"
   ]
  },
  {
   "cell_type": "markdown",
   "metadata": {
    "courseId": 3010,
    "exerciseId": "BkPetnLs8gz",
    "id": "code_session_name",
    "important": true,
    "isDL": false,
    "timeoutSecs": 5
   },
   "source": [
    "### ○4.1.4 数値と文字列"
   ]
  },
  {
   "cell_type": "code",
   "execution_count": 4,
   "metadata": {},
   "outputs": [
    {
     "name": "stdout",
     "output_type": "stream",
     "text": [
      "9\n"
     ]
    }
   ],
   "source": [
    "print(3 + 6)"
   ]
  },
  {
   "cell_type": "markdown",
   "metadata": {},
   "source": [
    "**リスト 4.5：計算の例①**"
   ]
  },
  {
   "cell_type": "code",
   "execution_count": 5,
   "metadata": {},
   "outputs": [
    {
     "name": "stdout",
     "output_type": "stream",
     "text": [
      "8 - 3\n"
     ]
    }
   ],
   "source": [
    "print(\"8 - 3\")"
   ]
  },
  {
   "cell_type": "markdown",
   "metadata": {},
   "source": [
    "**リスト4.6：代入の例②**"
   ]
  },
  {
   "cell_type": "markdown",
   "metadata": {},
   "source": [
    "#### □問題"
   ]
  },
  {
   "cell_type": "code",
   "execution_count": null,
   "metadata": {
    "collapsed": true,
    "id": "index"
   },
   "outputs": [],
   "source": [
    "# 数値の「18」を出力してください\n",
    "\n",
    "\n",
    "# 数値の 2 に 6 を足したものを出力してください\n",
    "\n",
    "\n",
    "#「2 + 6」という文字列を出力してください\n"
   ]
  },
  {
   "cell_type": "markdown",
   "metadata": {},
   "source": [
    "**リスト4.7：問題**"
   ]
  },
  {
   "cell_type": "markdown",
   "metadata": {},
   "source": [
    "#### □解答例"
   ]
  },
  {
   "cell_type": "code",
   "execution_count": 3,
   "metadata": {
    "id": "answer"
   },
   "outputs": [
    {
     "name": "stdout",
     "output_type": "stream",
     "text": [
      "18\n",
      "8\n",
      "2 + 6\n"
     ]
    }
   ],
   "source": [
    "# 数値の「18」を出力してください\n",
    "print(18)\n",
    "\n",
    "# 数値の 2 に 6 を足したものを出力してください\n",
    "print(2 + 6)\n",
    "\n",
    "# 「2 + 6」という文字列を出力してください\n",
    "print(\"2 + 6\")"
   ]
  },
  {
   "cell_type": "markdown",
   "metadata": {},
   "source": [
    "**リスト4.8：解答例**リスト番号とる"
   ]
  },
  {
   "cell_type": "markdown",
   "metadata": {
    "courseId": 3010,
    "exerciseId": "SydlFhUiUxM",
    "id": "code_session_name",
    "important": true,
    "isDL": false,
    "timeoutSecs": 5
   },
   "source": [
    "### ○4.1.5 演算"
   ]
  },
  {
   "cell_type": "markdown",
   "metadata": {},
   "source": [
    "#### □問題"
   ]
  },
  {
   "cell_type": "code",
   "execution_count": null,
   "metadata": {
    "collapsed": true,
    "id": "index"
   },
   "outputs": [],
   "source": [
    "# 3 + 5\n",
    "\n",
    "\n",
    "# 3 - 5\n",
    "\n",
    "\n",
    "# 3 × 5\n",
    "\n",
    "\n",
    "# 3 ÷ 5\n",
    "\n",
    "\n",
    "# 3を5で割った余り\n",
    "\n",
    "\n",
    "# 3の5乗\n",
    "\n"
   ]
  },
  {
   "cell_type": "markdown",
   "metadata": {},
   "source": [
    "**リスト4.9：問題**"
   ]
  },
  {
   "cell_type": "markdown",
   "metadata": {},
   "source": [
    "#### □解答例"
   ]
  },
  {
   "cell_type": "code",
   "execution_count": 4,
   "metadata": {
    "id": "answer"
   },
   "outputs": [
    {
     "name": "stdout",
     "output_type": "stream",
     "text": [
      "8\n",
      "-2\n",
      "15\n",
      "0.6\n",
      "3\n",
      "243\n"
     ]
    }
   ],
   "source": [
    "# 3 + 5\n",
    "print(3 + 5)\n",
    "\n",
    "# 3 - 5\n",
    "print(3 - 5)\n",
    "\n",
    "# 3 × 5\n",
    "print(3 * 5)\n",
    "\n",
    "#　3 ÷ 5\n",
    "print(3 / 5)\n",
    "\n",
    "# 3を5で割った余り\n",
    "print(3 % 5)\n",
    "\n",
    "# 3の5乗\n",
    "print(3 ** 5)\n"
   ]
  },
  {
   "cell_type": "markdown",
   "metadata": {},
   "source": [
    "**リスト4.10：解答例**"
   ]
  },
  {
   "cell_type": "markdown",
   "metadata": {
    "id": "section_name",
    "sectionId": "S1Z_0QWe-f"
   },
   "source": [
    "## ●4.2 変数\n"
   ]
  },
  {
   "cell_type": "markdown",
   "metadata": {
    "courseId": 3010,
    "exerciseId": "B1teK2LoIxM",
    "id": "code_session_name",
    "important": true,
    "isDL": false,
    "timeoutSecs": 5
   },
   "source": [
    "### ○4.2.1 変数"
   ]
  },
  {
   "cell_type": "code",
   "execution_count": 5,
   "metadata": {},
   "outputs": [
    {
     "name": "stdout",
     "output_type": "stream",
     "text": [
      "いぬ\n"
     ]
    }
   ],
   "source": [
    "n = \"いぬ\"\n",
    "print(n)"
   ]
  },
  {
   "cell_type": "markdown",
   "metadata": {},
   "source": [
    "**リスト4.11：変数の例①**"
   ]
  },
  {
   "cell_type": "code",
   "execution_count": null,
   "metadata": {},
   "outputs": [],
   "source": [
    "# printを変数名に使うと、print()を呼び出す段階でエラーが出ます\n",
    "print = \"Hello\"\n",
    "print(print) # TypeError: 'str' object is not callable"
   ]
  },
  {
   "cell_type": "markdown",
   "metadata": {},
   "source": [
    "**リスト4.12：変数の例②**"
   ]
  },
  {
   "cell_type": "markdown",
   "metadata": {},
   "source": [
    "#### □問題"
   ]
  },
  {
   "cell_type": "code",
   "execution_count": null,
   "metadata": {
    "collapsed": true,
    "id": "index"
   },
   "outputs": [],
   "source": [
    "# 変数nに「ねこ」を代入してください\n",
    "\n",
    "\n",
    "# 変数nを出力してください\n",
    "\n",
    "\n",
    "# 「n」という文字列を出力してください\n",
    "\n",
    "\n",
    "# 変数nに3 + 7という数式を代入してください\n",
    "\n",
    "\n",
    "# 変数nを出力してください\n"
   ]
  },
  {
   "cell_type": "markdown",
   "metadata": {},
   "source": [
    "**リスト4.13：問題**"
   ]
  },
  {
   "cell_type": "markdown",
   "metadata": {},
   "source": [
    "#### 解答例"
   ]
  },
  {
   "cell_type": "code",
   "execution_count": 6,
   "metadata": {
    "id": "answer"
   },
   "outputs": [
    {
     "name": "stdout",
     "output_type": "stream",
     "text": [
      "ねこ\n",
      "n\n",
      "10\n"
     ]
    }
   ],
   "source": [
    "# 変数nに「ねこ」を代入してください\n",
    "n = \"ねこ\"\n",
    "\n",
    "# 変数nを出力してください\n",
    "print(n)\n",
    "\n",
    "# 「n」という文字列を出力してください。\n",
    "print(\"n\")\n",
    "\n",
    "# 変数nに3 + 7という数式を代入してください\n",
    "n = 3 + 7\n",
    "\n",
    "# 変数nを出力してください\n",
    "print(n)"
   ]
  },
  {
   "cell_type": "markdown",
   "metadata": {},
   "source": [
    "**リスト4.14：解答例**"
   ]
  },
  {
   "cell_type": "markdown",
   "metadata": {
    "courseId": 3010,
    "exerciseId": "ry5eFnIo8xG",
    "id": "code_session_name",
    "important": true,
    "isDL": false,
    "timeoutSecs": 5
   },
   "source": [
    "### 〇4.2.2 変数の更新"
   ]
  },
  {
   "cell_type": "code",
   "execution_count": 7,
   "metadata": {},
   "outputs": [
    {
     "name": "stdout",
     "output_type": "stream",
     "text": [
      "1\n",
      "2\n"
     ]
    }
   ],
   "source": [
    "x = 1\n",
    "print(x)  \n",
    "x = x + 1\n",
    "print(x)  "
   ]
  },
  {
   "cell_type": "markdown",
   "metadata": {},
   "source": [
    "**リスト4.15：変数の更新の例①**"
   ]
  },
  {
   "cell_type": "code",
   "execution_count": 8,
   "metadata": {},
   "outputs": [
    {
     "name": "stdout",
     "output_type": "stream",
     "text": [
      "10\n"
     ]
    }
   ],
   "source": [
    "x = 5\n",
    "x *= 2\n",
    "print(x)  "
   ]
  },
  {
   "cell_type": "markdown",
   "metadata": {},
   "source": [
    "**リスト4.16：変数の更新の例②**"
   ]
  },
  {
   "cell_type": "markdown",
   "metadata": {},
   "source": [
    "#### □問題"
   ]
  },
  {
   "cell_type": "code",
   "execution_count": null,
   "metadata": {
    "collapsed": true,
    "id": "index"
   },
   "outputs": [],
   "source": [
    "m = \"ねこ\"\n",
    "print(m)\n",
    "\n",
    "# 変数mに「いぬ」を上書きして、出力してください\n",
    "\n",
    "\n",
    "\n",
    "\n",
    "n = 14\n",
    "print(n)\n",
    "\n",
    "# 変数nに5を掛けて、上書きしてください\n",
    "\n",
    "\n",
    "print(n)"
   ]
  },
  {
   "cell_type": "markdown",
   "metadata": {},
   "source": [
    "**リスト4.17：問題**"
   ]
  },
  {
   "cell_type": "markdown",
   "metadata": {},
   "source": [
    "#### □解答例"
   ]
  },
  {
   "cell_type": "code",
   "execution_count": 1,
   "metadata": {
    "id": "answer"
   },
   "outputs": [
    {
     "name": "stdout",
     "output_type": "stream",
     "text": [
      "ねこ\n",
      "いぬ\n",
      "14\n",
      "70\n"
     ]
    }
   ],
   "source": [
    "m = \"ねこ\"\n",
    "print(m)\n",
    "\n",
    "# 変数mに「いぬ」を上書きして、出力してください\n",
    "m = \"いぬ\"\n",
    "print(m)\n",
    "\n",
    "\n",
    "n = 14\n",
    "print(n)\n",
    "\n",
    "# 変数nに5を掛けて、上書きしてください。n = n * 5、n = 5 * n　も正解です\n",
    "n *= 5\n",
    "\n",
    "print(n)"
   ]
  },
  {
   "cell_type": "markdown",
   "metadata": {},
   "source": [
    "**リスト4.18：解答例**"
   ]
  },
  {
   "cell_type": "markdown",
   "metadata": {
    "courseId": 3010,
    "exerciseId": "BJjlF2UjUgz",
    "id": "code_session_name",
    "important": true,
    "isDL": false,
    "timeoutSecs": 5
   },
   "source": [
    "### 〇4.2.3 文字列の連結"
   ]
  },
  {
   "cell_type": "code",
   "execution_count": 10,
   "metadata": {},
   "outputs": [
    {
     "name": "stdout",
     "output_type": "stream",
     "text": [
      "私の名前は太郎です\n"
     ]
    }
   ],
   "source": [
    "m = \"太郎\"\n",
    "print(\"私の名前は\" + m + \"です\") "
   ]
  },
  {
   "cell_type": "markdown",
   "metadata": {},
   "source": [
    "**リスト4.19：⽂字列の連結の例**"
   ]
  },
  {
   "cell_type": "markdown",
   "metadata": {},
   "source": [
    "#### □問題"
   ]
  },
  {
   "cell_type": "code",
   "execution_count": null,
   "metadata": {
    "collapsed": true,
    "id": "index"
   },
   "outputs": [],
   "source": [
    "# 変数pに「東京」を代入してください\n",
    "\n",
    "\n",
    "# 変数pを用いて「私は東京出身です」と出力してください\n",
    "\n"
   ]
  },
  {
   "cell_type": "markdown",
   "metadata": {},
   "source": [
    "**リスト4.20：問題**"
   ]
  },
  {
   "cell_type": "markdown",
   "metadata": {},
   "source": [
    " #### □解答例"
   ]
  },
  {
   "cell_type": "code",
   "execution_count": 2,
   "metadata": {
    "id": "answer"
   },
   "outputs": [
    {
     "name": "stdout",
     "output_type": "stream",
     "text": [
      "私は東京出身です\n"
     ]
    }
   ],
   "source": [
    "# 変数pに「東京」を代入してください\n",
    "p = \"東京\"\n",
    "\n",
    "# 変数pを用いて「私は東京出身です」と出力してください\n",
    "print(\"私は\" + p + \"出身です\")"
   ]
  },
  {
   "cell_type": "markdown",
   "metadata": {},
   "source": [
    "**リスト4.21：解答例**"
   ]
  },
  {
   "cell_type": "markdown",
   "metadata": {
    "id": "section_name",
    "sectionId": "BJzdCQ-ebM"
   },
   "source": [
    "## ●4.3 型"
   ]
  },
  {
   "cell_type": "markdown",
   "metadata": {
    "courseId": 3010,
    "exerciseId": "rk2gK2IsLlf",
    "id": "code_session_name",
    "important": true,
    "isDL": false,
    "timeoutSecs": 5
   },
   "source": [
    "### ○4.3.1 型"
   ]
  },
  {
   "cell_type": "code",
   "execution_count": null,
   "metadata": {},
   "outputs": [],
   "source": [
    "height = 177\n",
    "print(\"身長は\" + height + \"cmです。\")   # 「TypeError: must be str, not int」というエラーが出力されます"
   ]
  },
  {
   "cell_type": "markdown",
   "metadata": {},
   "source": [
    "**リスト 4.22：型の例①**"
   ]
  },
  {
   "cell_type": "code",
   "execution_count": 1,
   "metadata": {},
   "outputs": [
    {
     "data": {
      "text/plain": [
       "int"
      ]
     },
     "execution_count": 1,
     "metadata": {},
     "output_type": "execute_result"
    }
   ],
   "source": [
    "height = 177\n",
    "type(height)  # int 型であることがわかります"
   ]
  },
  {
   "cell_type": "markdown",
   "metadata": {},
   "source": [
    "**リスト 4.23：型の例②**"
   ]
  },
  {
   "cell_type": "markdown",
   "metadata": {},
   "source": [
    "#### □問題"
   ]
  },
  {
   "cell_type": "code",
   "execution_count": null,
   "metadata": {
    "collapsed": true,
    "id": "index"
   },
   "outputs": [],
   "source": [
    "h = 1.7\n",
    "w = 60\n",
    "\n",
    "# 変数h,wの型を出力してください\n",
    "\n",
    "\n",
    "\n",
    "# 変数bmiに計算結果を代入してください\n",
    "\n",
    "\n",
    "# 変数bmiを出力してください\n",
    "\n",
    "\n",
    "# 変数bmiの型を出力してください\n"
   ]
  },
  {
   "cell_type": "markdown",
   "metadata": {},
   "source": [
    "**リスト4.24：問題**"
   ]
  },
  {
   "cell_type": "markdown",
   "metadata": {},
   "source": [
    "#### □解答例"
   ]
  },
  {
   "cell_type": "code",
   "execution_count": 13,
   "metadata": {
    "id": "answer"
   },
   "outputs": [
    {
     "name": "stdout",
     "output_type": "stream",
     "text": [
      "<class 'float'>\n",
      "<class 'int'>\n",
      "20.761245674740486\n",
      "<class 'float'>\n"
     ]
    }
   ],
   "source": [
    "h = 1.7\n",
    "w = 60\n",
    "\n",
    "# 変数h,wの型を出力してください\n",
    "print(type(h))\n",
    "print(type(w))\n",
    "\n",
    "# 変数bmiに計算結果を代入してください\n",
    "bmi = w / h ** 2\n",
    "\n",
    "# 変数bmiを出力してください\n",
    "print(bmi)\n",
    "\n",
    "# 変数bmiの型を出力してください\n",
    "print(type(bmi))"
   ]
  },
  {
   "cell_type": "markdown",
   "metadata": {},
   "source": [
    "**リスト4.25：解答例**"
   ]
  },
  {
   "cell_type": "markdown",
   "metadata": {
    "courseId": 3010,
    "exerciseId": "ByTxK2UiUxf",
    "id": "code_session_name",
    "important": true,
    "isDL": false,
    "timeoutSecs": 5
   },
   "source": [
    " ### ○4.3.2 型の変換"
   ]
  },
  {
   "cell_type": "code",
   "execution_count": 17,
   "metadata": {},
   "outputs": [
    {
     "name": "stdout",
     "output_type": "stream",
     "text": [
      "身長は177cmです\n"
     ]
    }
   ],
   "source": [
    "h = 177\n",
    "print(\"身長は\" + str(h) + \"cmです\")"
   ]
  },
  {
   "cell_type": "markdown",
   "metadata": {},
   "source": [
    "**リスト4.26：型の変換の例①**"
   ]
  },
  {
   "cell_type": "code",
   "execution_count": 18,
   "metadata": {},
   "outputs": [
    {
     "name": "stdout",
     "output_type": "stream",
     "text": [
      "45.4\n"
     ]
    }
   ],
   "source": [
    "a = 35.4\n",
    "b = 10\n",
    "print(a + b)"
   ]
  },
  {
   "cell_type": "markdown",
   "metadata": {},
   "source": [
    "**リスト4.27：型の変換の例②**"
   ]
  },
  {
   "cell_type": "markdown",
   "metadata": {},
   "source": [
    "#### □問題"
   ]
  },
  {
   "cell_type": "code",
   "execution_count": null,
   "metadata": {},
   "outputs": [],
   "source": [
    "h = 1.7\n",
    "w = 60\n",
    "bmi = w / h ** 2\n",
    "\n",
    "# 「あなたのbmiは〇〇です」と出力してください\n",
    "print(\"あなたのbmiは\" + bmi + \"です\")"
   ]
  },
  {
   "cell_type": "markdown",
   "metadata": {},
   "source": [
    "**リスト 4.28：問題**"
   ]
  },
  {
   "cell_type": "markdown",
   "metadata": {},
   "source": [
    "#### □解答例"
   ]
  },
  {
   "cell_type": "code",
   "execution_count": 14,
   "metadata": {
    "id": "answer"
   },
   "outputs": [
    {
     "name": "stdout",
     "output_type": "stream",
     "text": [
      "あなたのbmiは20.761245674740486です\n"
     ]
    }
   ],
   "source": [
    "h = 1.7\n",
    "w = 60\n",
    "bmi = w / h ** 2\n",
    "\n",
    "# 「あなたのbmiは〇〇です」と出力してください\n",
    "print(\"あなたのbmiは\" + str(bmi) + \"です\")"
   ]
  },
  {
   "cell_type": "markdown",
   "metadata": {},
   "source": [
    "**リスト4.29：解答例**"
   ]
  },
  {
   "cell_type": "markdown",
   "metadata": {
    "courseId": 3010,
    "exerciseId": "SyAxKhUsIgG",
    "id": "quiz_session_name",
    "important": false,
    "isDL": false,
    "timeoutSecs": 5
   },
   "source": [
    "### ○4.3.3 型の理解確認"
   ]
  },
  {
   "cell_type": "code",
   "execution_count": 15,
   "metadata": {},
   "outputs": [
    {
     "name": "stdout",
     "output_type": "stream",
     "text": [
      "yo!yo!\n"
     ]
    }
   ],
   "source": [
    "greeting = \"yo!\"\n",
    "print(greeting*2)  "
   ]
  },
  {
   "cell_type": "markdown",
   "metadata": {},
   "source": [
    "**リスト4.30：型の理解の確認の例**"
   ]
  },
  {
   "cell_type": "markdown",
   "metadata": {},
   "source": [
    "#### □問題"
   ]
  },
  {
   "cell_type": "code",
   "execution_count": 19,
   "metadata": {},
   "outputs": [
    {
     "name": "stdout",
     "output_type": "stream",
     "text": [
      "101010\n"
     ]
    }
   ],
   "source": [
    "n = \"10\"\n",
    "print(n*3)"
   ]
  },
  {
   "cell_type": "markdown",
   "metadata": {},
   "source": [
    "**リスト 4.31：問題**"
   ]
  },
  {
   "cell_type": "markdown",
   "metadata": {
    "collapsed": true,
    "id": "choices"
   },
   "source": [
    "- int型で30\n",
    "- int型で101010\n",
    "- str型で30\n",
    "- str型で101010"
   ]
  },
  {
   "cell_type": "markdown",
   "metadata": {},
   "source": [
    "#### □解答例"
   ]
  },
  {
   "cell_type": "markdown",
   "metadata": {
    "collapsed": true,
    "id": "answer"
   },
   "source": [
    "str型で101010"
   ]
  },
  {
   "cell_type": "markdown",
   "metadata": {
    "id": "section_name",
    "sectionId": "rJXdR7Wl-z"
   },
   "source": [
    "## ●4.4 if文"
   ]
  },
  {
   "cell_type": "markdown",
   "metadata": {
    "courseId": 3010,
    "exerciseId": "HJ1-tnUsIxG",
    "id": "code_session_name",
    "important": true,
    "isDL": false,
    "timeoutSecs": 5
   },
   "source": [
    "### ○4.4.1 比較演算子"
   ]
  },
  {
   "cell_type": "code",
   "execution_count": 19,
   "metadata": {},
   "outputs": [
    {
     "name": "stdout",
     "output_type": "stream",
     "text": [
      "False\n"
     ]
    }
   ],
   "source": [
    "print(1 + 1 == 3)  "
   ]
  },
  {
   "cell_type": "markdown",
   "metadata": {},
   "source": [
    "**リスト4.32：⽐較演算⼦の例**"
   ]
  },
  {
   "cell_type": "markdown",
   "metadata": {},
   "source": [
    "#### □問題"
   ]
  },
  {
   "cell_type": "code",
   "execution_count": 26,
   "metadata": {
    "collapsed": true,
    "id": "index"
   },
   "outputs": [],
   "source": [
    "# 4 + 6 と -10 を「!=」を用いて関係式を作り、True を出力してください\n",
    "\n"
   ]
  },
  {
   "cell_type": "markdown",
   "metadata": {},
   "source": [
    "**リスト4.33：問題**"
   ]
  },
  {
   "cell_type": "markdown",
   "metadata": {},
   "source": [
    "#### □解答例"
   ]
  },
  {
   "cell_type": "code",
   "execution_count": 20,
   "metadata": {
    "id": "answer"
   },
   "outputs": [
    {
     "name": "stdout",
     "output_type": "stream",
     "text": [
      "True\n"
     ]
    }
   ],
   "source": [
    "# 4 + 6 と -10 を「!=」を用いて関係式を作り、True を出力してください\n",
    "print(4 + 6 != -10)"
   ]
  },
  {
   "cell_type": "markdown",
   "metadata": {},
   "source": [
    "**リスト4.34：解答例**"
   ]
  },
  {
   "cell_type": "markdown",
   "metadata": {
    "courseId": 3010,
    "exerciseId": "HJebY3LiLgM",
    "id": "code_session_name",
    "important": true,
    "isDL": false,
    "timeoutSecs": 5
   },
   "source": [
    "### ○4.4.2 if文"
   ]
  },
  {
   "cell_type": "code",
   "execution_count": 22,
   "metadata": {},
   "outputs": [
    {
     "name": "stdout",
     "output_type": "stream",
     "text": [
      "残念！あなたは2番目の到着です\n"
     ]
    }
   ],
   "source": [
    "n = 2\n",
    "if n == 2:\n",
    "    print(\"残念！あなたは\" + str(n) + \"番目の到着です\")  # nが2の時だけ表示されます"
   ]
  },
  {
   "cell_type": "markdown",
   "metadata": {},
   "source": [
    "**リスト4.35：if ⽂の例①**"
   ]
  },
  {
   "cell_type": "code",
   "execution_count": 20,
   "metadata": {},
   "outputs": [
    {
     "name": "stdout",
     "output_type": "stream",
     "text": [
      "ねこはかわいいですな\n"
     ]
    }
   ],
   "source": [
    "animal = \"cat\"\n",
    "if animal == \"cat\":\n",
    "    print(\"ねこはかわいいですな\")  # animalがcatの時だけ表示されます"
   ]
  },
  {
   "cell_type": "markdown",
   "metadata": {},
   "source": [
    "**リスト 4.36：if ⽂の例②**"
   ]
  },
  {
   "cell_type": "markdown",
   "metadata": {},
   "source": [
    "#### □問題"
   ]
  },
  {
   "cell_type": "code",
   "execution_count": 30,
   "metadata": {
    "collapsed": true,
    "id": "index"
   },
   "outputs": [],
   "source": [
    "n = 16\n",
    "\n",
    "# ifを用いて変数 n が 15 より大きい場合「とても大きい数字」と出力してください\n"
   ]
  },
  {
   "cell_type": "markdown",
   "metadata": {},
   "source": [
    "**リスト 4.37：問題**"
   ]
  },
  {
   "cell_type": "markdown",
   "metadata": {},
   "source": [
    "#### □解答例"
   ]
  },
  {
   "cell_type": "code",
   "execution_count": 23,
   "metadata": {
    "id": "answer"
   },
   "outputs": [
    {
     "name": "stdout",
     "output_type": "stream",
     "text": [
      "とても大きい数字\n"
     ]
    }
   ],
   "source": [
    "n = 16\n",
    "\n",
    "# ifを用いて変数 n が 15 より大きい場合「とても大きい数字」と出力してください\n",
    "if n > 15:\n",
    "    print(\"とても大きい数字\")"
   ]
  },
  {
   "cell_type": "markdown",
   "metadata": {},
   "source": [
    "**リスト4.38：解答例**"
   ]
  },
  {
   "cell_type": "markdown",
   "metadata": {
    "courseId": 3010,
    "exerciseId": "SJb-K2LjLez",
    "id": "code_session_name",
    "important": true,
    "isDL": false,
    "timeoutSecs": 5
   },
   "source": [
    "### ○4.4.3 else"
   ]
  },
  {
   "cell_type": "code",
   "execution_count": 27,
   "metadata": {},
   "outputs": [
    {
     "name": "stdout",
     "output_type": "stream",
     "text": [
      "残念！あなたは2番目の到着です\n"
     ]
    }
   ],
   "source": [
    "n = 2\n",
    "if n == 1:\n",
    "    print(\"優勝おめでとう！\")  # nが1の時だけ、表示されます\n",
    "else:\n",
    "    print(\"残念！あなたは\" + str(n) + \"番目の到着です\")  # nが1ではない時、表示されます"
   ]
  },
  {
   "cell_type": "markdown",
   "metadata": {},
   "source": [
    "**リスト4.39：elseの例①**"
   ]
  },
  {
   "cell_type": "code",
   "execution_count": 25,
   "metadata": {},
   "outputs": [
    {
     "name": "stdout",
     "output_type": "stream",
     "text": [
      "ねこはかわいいですな\n"
     ]
    }
   ],
   "source": [
    "animal = \"cat\"\n",
    "if animal == \"cat\":\n",
    "    print(\"ねこはかわいいですな\")  # animalが \"cat\"の時だけ、表示されます\n",
    "else:\n",
    "    print(\"これはねこじゃないにゃ\")  # animalが \"cat\"ではない時、表示されます"
   ]
  },
  {
   "cell_type": "markdown",
   "metadata": {},
   "source": [
    "**リスト4.40：else の例②**"
   ]
  },
  {
   "cell_type": "markdown",
   "metadata": {},
   "source": [
    "#### □問題"
   ]
  },
  {
   "cell_type": "code",
   "execution_count": null,
   "metadata": {
    "collapsed": true,
    "id": "index"
   },
   "outputs": [],
   "source": [
    "n = 14\n",
    "\n",
    "\n",
    "if n > 15:\n",
    "    print(\"とても大きい数字。\")\n",
    "# elseを用いて「小さい数字」を出力してください\n"
   ]
  },
  {
   "cell_type": "markdown",
   "metadata": {},
   "source": [
    "**リスト4.41：問題**"
   ]
  },
  {
   "cell_type": "markdown",
   "metadata": {},
   "source": [
    "#### □解答例"
   ]
  },
  {
   "cell_type": "code",
   "execution_count": 8,
   "metadata": {
    "id": "answer"
   },
   "outputs": [
    {
     "name": "stdout",
     "output_type": "stream",
     "text": [
      "小さい数字\n"
     ]
    }
   ],
   "source": [
    "n = 14\n",
    "\n",
    "\n",
    "if n > 15:\n",
    "    print(\"とても大きい数字。\")\n",
    "# elseを用いて「小さい数字」を出力してください\n",
    "else:\n",
    "    print(\"小さい数字\")"
   ]
  },
  {
   "cell_type": "markdown",
   "metadata": {},
   "source": [
    "**リスト4.42：解答例**"
   ]
  },
  {
   "cell_type": "markdown",
   "metadata": {
    "courseId": 3010,
    "exerciseId": "BJGbKnUjLeG",
    "id": "code_session_name",
    "important": true,
    "isDL": false,
    "timeoutSecs": 5
   },
   "source": [
    "### ○4.4.4 elif"
   ]
  },
  {
   "cell_type": "code",
   "execution_count": 9,
   "metadata": {},
   "outputs": [
    {
     "name": "stdout",
     "output_type": "stream",
     "text": [
      "銀メダルです！\n"
     ]
    }
   ],
   "source": [
    "number = 2\n",
    "if number == 1:\n",
    "    print(\"金メダルです！\")\n",
    "elif number == 2:\n",
    "    print(\"銀メダルです！\")\n",
    "elif number == 3:\n",
    "    print(\"銅メダルです！\")\n",
    "else:\n",
    "    print(\"残念！あなたは\" + str(number) + \"番目の到着です。\") "
   ]
  },
  {
   "cell_type": "markdown",
   "metadata": {},
   "source": [
    "**リスト4.43：elif の例①**"
   ]
  },
  {
   "cell_type": "code",
   "execution_count": 10,
   "metadata": {},
   "outputs": [
    {
     "name": "stdout",
     "output_type": "stream",
     "text": [
      "ねこはかわいいですな\n"
     ]
    }
   ],
   "source": [
    "animal = \"cat\"\n",
    "if animal == \"cat\":\n",
    "    print(\"ねこはかわいいですな\")\n",
    "elif animal == \"dog\":\n",
    "    print(\"犬はかっこいいわん\")\n",
    "elif animal == \"elephant\":\n",
    "    print(\"象はおおきいぞう\")\n",
    "else:\n",
    "    print(\"ねこでも犬でも象でもないにゃん\")"
   ]
  },
  {
   "cell_type": "markdown",
   "metadata": {},
   "source": [
    "**リスト4.44：elif の例②**"
   ]
  },
  {
   "cell_type": "markdown",
   "metadata": {},
   "source": [
    "#### □問題"
   ]
  },
  {
   "cell_type": "code",
   "execution_count": null,
   "metadata": {
    "collapsed": true,
    "id": "index"
   },
   "outputs": [],
   "source": [
    "n = 14\n",
    "\n",
    "if n > 15:\n",
    "    print(\"とても大きい数字\")\n",
    "# elifを用いて n が 11 以上 15 以下の時、「中くらいの数字」と出力してください\n",
    "\n",
    "\n",
    "    \n",
    "else:\n",
    "    print(\"小さい数字\")"
   ]
  },
  {
   "cell_type": "code",
   "execution_count": null,
   "metadata": {},
   "outputs": [],
   "source": []
  },
  {
   "cell_type": "markdown",
   "metadata": {},
   "source": [
    "**リスト4.45：問題**"
   ]
  },
  {
   "cell_type": "markdown",
   "metadata": {},
   "source": [
    "#### □解答例"
   ]
  },
  {
   "cell_type": "code",
   "execution_count": 29,
   "metadata": {
    "id": "answer"
   },
   "outputs": [
    {
     "name": "stdout",
     "output_type": "stream",
     "text": [
      "中くらいの数字\n"
     ]
    }
   ],
   "source": [
    "n = 14\n",
    "\n",
    "if n > 15:\n",
    "    print(\"とても大きい数字\")\n",
    "# elifを用いて n が 11 以上 15 以下の時、「中くらいの数字」と出力してください\n",
    "elif n >= 11:\n",
    "    print(\"中くらいの数字\")\n",
    "else:\n",
    "    print(\"小さい数字\")"
   ]
  },
  {
   "cell_type": "markdown",
   "metadata": {},
   "source": [
    "**リスト4.46：解答例**"
   ]
  },
  {
   "cell_type": "markdown",
   "metadata": {
    "courseId": 3010,
    "exerciseId": "rymWth8iIeM",
    "id": "code_session_name",
    "important": true,
    "isDL": false,
    "timeoutSecs": 5
   },
   "source": [
    "### ○4.4.5 and・not・or"
   ]
  },
  {
   "cell_type": "markdown",
   "metadata": {},
   "source": [
    "#### □問題"
   ]
  },
  {
   "cell_type": "code",
   "execution_count": 38,
   "metadata": {
    "id": "index"
   },
   "outputs": [
    {
     "name": "stdout",
     "output_type": "stream",
     "text": [
      "\n",
      "\n"
     ]
    }
   ],
   "source": [
    "n_1 = 14\n",
    "n_2 = 28\n",
    "\n",
    "# n_1が 8 より大きく 14 より小さい条件式を作り andを用いて出力してください\n",
    "print()\n",
    "\n",
    "# n_1の 2 乗が n_2の 5 倍より小さい条件式を作り notを用いて出力してください\n",
    "print()\n"
   ]
  },
  {
   "cell_type": "markdown",
   "metadata": {},
   "source": [
    "**リスト4.47：問題**"
   ]
  },
  {
   "cell_type": "markdown",
   "metadata": {},
   "source": [
    "#### □解答例"
   ]
  },
  {
   "cell_type": "code",
   "execution_count": 28,
   "metadata": {
    "id": "answer"
   },
   "outputs": [
    {
     "name": "stdout",
     "output_type": "stream",
     "text": [
      "False\n",
      "True\n"
     ]
    }
   ],
   "source": [
    "n_1 = 14\n",
    "n_2 = 28\n",
    "\n",
    "# n_1が 8 より大きく 14 より小さい条件式を作り andを用いて出力してください\n",
    "print(n_1 > 8 and n_1 < 14)\n",
    "\n",
    "# n_1の 2 乗が n_2の 5 倍より小さい条件式を作り notを用いて出力してください\n",
    "print(not n_1 ** 2 < n_2 * 5)"
   ]
  },
  {
   "cell_type": "markdown",
   "metadata": {},
   "source": [
    "**リスト4.48：解答例**"
   ]
  },
  {
   "cell_type": "markdown",
   "metadata": {
    "id": "chapter_exam"
   },
   "source": [
    "## ●4.5 添削問題"
   ]
  },
  {
   "cell_type": "markdown",
   "metadata": {},
   "source": [
    "#### □問題"
   ]
  },
  {
   "cell_type": "code",
   "execution_count": null,
   "metadata": {
    "collapsed": true,
    "id": "index"
   },
   "outputs": [],
   "source": [
    "# 変数yearに西暦で年を入力してください\n",
    "\n",
    "\n",
    "\n",
    "\n",
    "\n",
    "# if文により条件分岐をし、うるう年か平年かを判別します\n"
   ]
  },
  {
   "cell_type": "markdown",
   "metadata": {},
   "source": [
    "**リスト4.49：問題**"
   ]
  },
  {
   "cell_type": "markdown",
   "metadata": {},
   "source": [
    "#### □解答例"
   ]
  },
  {
   "cell_type": "code",
   "execution_count": 32,
   "metadata": {
    "id": "answer"
   },
   "outputs": [
    {
     "name": "stdout",
     "output_type": "stream",
     "text": [
      "2000年はうるう年です\n"
     ]
    }
   ],
   "source": [
    "# 変数yearに西暦で年を入力してください\n",
    "year = 2000\n",
    "\n",
    "# if文により条件分岐をし、うるう年か平年かを判別します\n",
    "if year % 100 == 0 and year % 400 != 0:\n",
    "    print (str(year) + \"年は平年です\")\n",
    "elif year % 4 == 0:\n",
    "    print (str(year) + \"年はうるう年です\")\n",
    "else:\n",
    "    print (str(year) + \"年は平年です\")"
   ]
  },
  {
   "cell_type": "markdown",
   "metadata": {},
   "source": [
    "**リスト4.50：解答例**"
   ]
  }
 ],
 "metadata": {
  "celltoolbar": "Edit Metadata",
  "kernelspec": {
   "display_name": "Python 3",
   "language": "python",
   "name": "python3"
  },
  "language_info": {
   "codemirror_mode": {
    "name": "ipython",
    "version": 3
   },
   "file_extension": ".py",
   "mimetype": "text/x-python",
   "name": "python",
   "nbconvert_exporter": "python",
   "pygments_lexer": "ipython3",
   "version": "3.6.6"
  },
  "varInspector": {
   "cols": {
    "lenName": 16,
    "lenType": 16,
    "lenVar": 40
   },
   "kernels_config": {
    "python": {
     "delete_cmd_postfix": "",
     "delete_cmd_prefix": "del ",
     "library": "var_list.py",
     "varRefreshCmd": "print(var_dic_list())"
    },
    "r": {
     "delete_cmd_postfix": ") ",
     "delete_cmd_prefix": "rm(",
     "library": "var_list.r",
     "varRefreshCmd": "cat(var_dic_list()) "
    }
   },
   "types_to_exclude": [
    "module",
    "function",
    "builtin_function_or_method",
    "instance",
    "_Feature"
   ],
   "window_display": false
  }
 },
 "nbformat": 4,
 "nbformat_minor": 2
}
