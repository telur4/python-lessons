{
 "cells": [
  {
   "cell_type": "markdown",
   "metadata": {
    "chapterId": "ry-G_A7Wxbf",
    "id": "chapter_name"
   },
   "source": [
    "#  Chapter2 機械学習の流れ"
   ]
  },
  {
   "cell_type": "markdown",
   "metadata": {
    "id": "table"
   },
   "source": [
    "- **2.1 機械学習の流れ**\n",
    "    - **2.1.1 機械学習を行うまでの全体の流れ**\n",
    "    - **2.1.2 データの学習**\n",
    "\n",
    "- **2.2 学習データの使い方**\n",
    "    - **2.2.1 学習データとテストデータ**\n",
    "    - **2.2.2 ホールドアウト法の理論と実践**\n",
    "    - **2.2.3 k-分割交差検証の理論**\n",
    "    - **2.2.4 k-分割交差検証の実践**\n",
    "<br><br>\n",
    "- **2.3 過学習**\n",
    "    - **2.3.1 過学習とは**\n",
    "    - **2.3.2 過学習の回避**\n",
    "<br><br>\n",
    "- **2.4 アンサンブル学習**\n",
    "    - **2.3.1 アンサンブル学習とは**\n",
    "<br><br>\n",
    "- **添削問題**"
   ]
  },
  {
   "cell_type": "markdown",
   "metadata": {},
   "source": [
    "***"
   ]
  },
  {
   "cell_type": "markdown",
   "metadata": {
    "id": "section_name",
    "sectionId": "HkzM_0Xbl-f"
   },
   "source": [
    "## ●2.1 機械学習の流れ"
   ]
  },
  {
   "cell_type": "markdown",
   "metadata": {},
   "source": [
    "### 〇2.1.1 機械学習を行うまでの全体の流れ"
   ]
  },
  {
   "cell_type": "markdown",
   "metadata": {},
   "source": [
    "この項にサンプルはありません\n"
   ]
  },
  {
   "cell_type": "markdown",
   "metadata": {},
   "source": [
    "### 〇2.1.2  データの学習"
   ]
  },
  {
   "cell_type": "markdown",
   "metadata": {},
   "source": [
    "この項にサンプルはありません"
   ]
  },
  {
   "cell_type": "markdown",
   "metadata": {},
   "source": [
    "## ●2.2 学習データの使い方"
   ]
  },
  {
   "cell_type": "markdown",
   "metadata": {},
   "source": [
    "### 〇2.2.1 学習データとテストデータ"
   ]
  },
  {
   "cell_type": "markdown",
   "metadata": {},
   "source": [
    "この項にサンプルはありません"
   ]
  },
  {
   "cell_type": "markdown",
   "metadata": {
    "courseId": 2010,
    "exerciseId": "S1PtnLoIgM",
    "id": "code_session_name",
    "important": true,
    "isDL": false,
    "timeoutSecs": 5
   },
   "source": [
    "### 〇2.2.2 ホールドアウト法の理論と実践"
   ]
  },
  {
   "cell_type": "markdown",
   "metadata": {},
   "source": [
    "#### □問題"
   ]
  },
  {
   "cell_type": "code",
   "execution_count": null,
   "metadata": {},
   "outputs": [],
   "source": [
    "# コードの実行に必要なモジュールを読み込みます\n",
    "from sklearn import datasets\n",
    "from sklearn.model_selection import train_test_split\n",
    "\n",
    "# Irisというデータセットを読み込みます\n",
    "iris = datasets.load_iris()\n",
    "X = iris.data\n",
    "y = iris.target\n",
    "\n",
    "# 「X_train, X_test, y_train, y_test」にデータを格納します\n",
    "X_train, X_test, y_train, y_test = train_test_split(X, y, test_size=___, random_state=0)\n",
    "\n",
    "# トレーニングデータとテストデータのサイズを確認します\n",
    "print (\"X_train :\", X_train.shape)\n",
    "print (\"y_train :\", y_train.shape)\n",
    "print (\"X_test :\", X_test.shape)\n",
    "print (\"y_test :\", y_test.shape)"
   ]
  },
  {
   "cell_type": "markdown",
   "metadata": {},
   "source": [
    "**リスト2.1：問題**"
   ]
  },
  {
   "cell_type": "markdown",
   "metadata": {},
   "source": [
    "#### □解答例"
   ]
  },
  {
   "cell_type": "code",
   "execution_count": 2,
   "metadata": {
    "id": "answer"
   },
   "outputs": [
    {
     "name": "stdout",
     "output_type": "stream",
     "text": [
      "X_train : (120, 4)\n",
      "y_train : (120,)\n",
      "X_test : (30, 4)\n",
      "y_test : (30,)\n"
     ]
    }
   ],
   "source": [
    "# コードの実行に必要なモジュールを読み込みます\n",
    "from sklearn import datasets\n",
    "from sklearn.model_selection import train_test_split\n",
    "\n",
    "# Irisというデータセットを読み込みます\n",
    "iris = datasets.load_iris()\n",
    "X = iris.data\n",
    "y = iris.target\n",
    "\n",
    "# 「X_train, X_test, y_train, y_test」にデータを格納します\n",
    "X_train, X_test, y_train, y_test = train_test_split(X, y, test_size=0.2, random_state=0)\n",
    "\n",
    "# トレーニングデータとテストデータのサイズを確認します\n",
    "print (\"X_train :\", X_train.shape)\n",
    "print (\"y_train :\", y_train.shape)\n",
    "print (\"X_test :\", X_test.shape)\n",
    "print (\"y_test :\", y_test.shape)"
   ]
  },
  {
   "cell_type": "markdown",
   "metadata": {},
   "source": [
    "**リスト2.2：解答例**"
   ]
  },
  {
   "cell_type": "markdown",
   "metadata": {},
   "source": [
    "### 〇2.2.3 k- 分割交差検証の理論"
   ]
  },
  {
   "cell_type": "markdown",
   "metadata": {},
   "source": [
    "この項にサンプルはありません"
   ]
  },
  {
   "cell_type": "markdown",
   "metadata": {
    "courseId": 2010,
    "exerciseId": "S1tYnIo8lz",
    "id": "code_session_name",
    "important": true,
    "isDL": false,
    "timeoutSecs": 5
   },
   "source": [
    "### 〇2.2.4 k-分割交差検証の実践"
   ]
  },
  {
   "cell_type": "markdown",
   "metadata": {},
   "source": [
    "#### □問題"
   ]
  },
  {
   "cell_type": "code",
   "execution_count": null,
   "metadata": {
    "id": "index"
   },
   "outputs": [],
   "source": [
    "# コードの実行に必要なモジュールを読み込みます\n",
    "from sklearn import svm, datasets, cross_validation\n",
    "\n",
    "# 「Iris」というデータセットを読み込みます\n",
    "iris = datasets.load_iris()\n",
    "X = iris.data\n",
    "y = iris.target\n",
    "\n",
    "# 機械学習アルゴリズムSVMを使用します\n",
    "svc = svm.SVC(C=1, kernel=\"rbf\", gamma=0.001)\n",
    "\n",
    "# 交差検証法を用いてスコアを求めます\n",
    "# 内部では、X、yがそれぞれ「X_train, X_test, y_train, y_test」の様に分割され処理されます\n",
    "scores = cross_validation.cross_val_score(svc, X, y, cv=__)\n",
    "\n",
    "# トレーニングデータとテストデータのサイズを確認します\n",
    "print (scores)\n",
    "print (\"平均スコア :\", scores.mean())"
   ]
  },
  {
   "cell_type": "markdown",
   "metadata": {},
   "source": [
    "**リスト2.3：問題**"
   ]
  },
  {
   "cell_type": "markdown",
   "metadata": {},
   "source": [
    "#### □解答例"
   ]
  },
  {
   "cell_type": "code",
   "execution_count": 3,
   "metadata": {
    "id": "answer"
   },
   "outputs": [
    {
     "name": "stdout",
     "output_type": "stream",
     "text": [
      "[0.86666667 0.96666667 0.83333333 0.96666667 0.93333333]\n",
      "平均スコア : 0.9133333333333334\n"
     ]
    },
    {
     "name": "stderr",
     "output_type": "stream",
     "text": [
      "C:\\Users\\miyakoshi\\Anaconda3\\envs\\aidemytest\\lib\\site-packages\\sklearn\\cross_validation.py:41: DeprecationWarning: This module was deprecated in version 0.18 in favor of the model_selection module into which all the refactored classes and functions are moved. Also note that the interface of the new CV iterators are different from that of this module. This module will be removed in 0.20.\n",
      "  \"This module will be removed in 0.20.\", DeprecationWarning)\n"
     ]
    }
   ],
   "source": [
    "# コードの実行に必要なモジュールを読み込みます\n",
    "from sklearn import svm, datasets, cross_validation\n",
    "\n",
    "# 「Iris」というデータセットを読み込みます\n",
    "iris = datasets.load_iris()\n",
    "X = iris.data\n",
    "y = iris.target\n",
    "\n",
    "# 機械学習アルゴリズムSVMを使用します\n",
    "svc = svm.SVC(C=1, kernel=\"rbf\", gamma=0.001)\n",
    "\n",
    "# 交差検証法を用いてスコアを求めます\n",
    "# 内部では、X、yがそれぞれ「X_train, X_test, y_train, y_test」の様に分割され処理されます\n",
    "scores = cross_validation.cross_val_score(svc, X, y, cv=5)\n",
    "\n",
    "# トレーニングデータとテストデータのサイズを確認します\n",
    "print (scores)\n",
    "print (\"平均スコア :\", scores.mean())"
   ]
  },
  {
   "cell_type": "markdown",
   "metadata": {},
   "source": [
    "**リスト2.4：解答例**"
   ]
  }
 ],
 "metadata": {
  "celltoolbar": "Edit Metadata",
  "kernelspec": {
   "display_name": "Python 3",
   "language": "python",
   "name": "python3"
  },
  "language_info": {
   "codemirror_mode": {
    "name": "ipython",
    "version": 3
   },
   "file_extension": ".py",
   "mimetype": "text/x-python",
   "name": "python",
   "nbconvert_exporter": "python",
   "pygments_lexer": "ipython3",
   "version": "3.6.6"
  },
  "varInspector": {
   "cols": {
    "lenName": 16,
    "lenType": 16,
    "lenVar": 40
   },
   "kernels_config": {
    "python": {
     "delete_cmd_postfix": "",
     "delete_cmd_prefix": "del ",
     "library": "var_list.py",
     "varRefreshCmd": "print(var_dic_list())"
    },
    "r": {
     "delete_cmd_postfix": ") ",
     "delete_cmd_prefix": "rm(",
     "library": "var_list.r",
     "varRefreshCmd": "cat(var_dic_list()) "
    }
   },
   "types_to_exclude": [
    "module",
    "function",
    "builtin_function_or_method",
    "instance",
    "_Feature"
   ],
   "window_display": false
  }
 },
 "nbformat": 4,
 "nbformat_minor": 2
}
