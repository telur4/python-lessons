{
 "cells": [
  {
   "cell_type": "markdown",
   "metadata": {
    "chapterId": "B19uCmWx-G",
    "id": "chapter_name"
   },
   "source": [
    "# ★Chapter6　関数の基礎"
   ]
  },
  {
   "cell_type": "markdown",
   "metadata": {
    "id": "table"
   },
   "source": [
    "- **6.1 組み込み関数とメソッド**\n",
    "    - **6.1.1 関数の基礎と組み込み関数**\n",
    "    - **6.1.2 関数とメソッド**\n",
    "    - **6.1.3 文字列型のメソッド（upper/count）**\n",
    "    - **6.1.4 文字列型のメソッド（format）**\n",
    "    - **6.1.5 リスト型のメソッド（index）**\n",
    "    - **6.1.6 リスト型のメソッド（sort）**\n",
    "<br><br>\n",
    "- **6.2 関数**\n",
    "    - **6.2.1 関数の作成**\n",
    "    - **6.2.2 引数**\n",
    "    - **6.2.3 複数の引数**\n",
    "    - **6.2.4 引数の初期値**\n",
    "    - **6.2.5 return**\n",
    "    - **6.2.6 関数のimport（インポート）**\n",
    "<br><br>\n",
    "- **6.3 クラス**\n",
    "    - **6.3.1 オブジェクト**\n",
    "    - **6.3.2 クラス（メンバとコンストラクタ）**\n",
    "    - **6.3.3 クラス（メソッド）**\n",
    "    - **6.3.4 クラス（継承、オーバーライド、スーパー）**\n",
    "<br><br>\n",
    "- **6.4 Appendix**\n",
    "    - **6.4.1 文字列のフォーマット指定**\n",
    "<br><br>\n",
    "- **6.5 添削問題**\n",
    "- **総合添削問題**\n"
   ]
  },
  {
   "cell_type": "markdown",
   "metadata": {
    "id": "section_name",
    "sectionId": "ryjuRXWxWf"
   },
   "source": [
    "## ●6.1 組み込み関数とメソッド"
   ]
  },
  {
   "cell_type": "markdown",
   "metadata": {
    "courseId": 3010,
    "exerciseId": "BkKEYlPxM",
    "id": "code_session_name",
    "important": true,
    "isDL": false,
    "timeoutSecs": 5
   },
   "source": [
    "### 〇6.1.1 関数の基礎と組み込み関数"
   ]
  },
  {
   "cell_type": "markdown",
   "metadata": {},
   "source": [
    "#### □問題"
   ]
  },
  {
   "cell_type": "code",
   "execution_count": null,
   "metadata": {
    "collapsed": true,
    "id": "index"
   },
   "outputs": [],
   "source": [
    "vege = \"potato\"\n",
    "n = [4, 5, 2, 7, 6]\n",
    "\n",
    "# 変数vegeのオブジェクトの長さを出力してください\n",
    "\n",
    "\n",
    "# 変数nのオブジェクトの長さを出力してください\n"
   ]
  },
  {
   "cell_type": "markdown",
   "metadata": {},
   "source": [
    "**リスト 6.1：問題**\n"
   ]
  },
  {
   "cell_type": "markdown",
   "metadata": {},
   "source": [
    "#### □解答例"
   ]
  },
  {
   "cell_type": "code",
   "execution_count": 2,
   "metadata": {
    "id": "answer"
   },
   "outputs": [
    {
     "name": "stdout",
     "output_type": "stream",
     "text": [
      "6\n",
      "5\n"
     ]
    }
   ],
   "source": [
    "vege = \"potato\"\n",
    "n = [4, 5, 2, 7, 6]\n",
    "\n",
    "# 変数vegeのオブジェクトの長さを出力してください\n",
    "print(len(vege))\n",
    "\n",
    "# 変数nのオブジェクトの長さを出力してください\n",
    "print(len(n))"
   ]
  },
  {
   "cell_type": "markdown",
   "metadata": {},
   "source": [
    "**リスト 6.2：解答例**"
   ]
  },
  {
   "cell_type": "markdown",
   "metadata": {
    "courseId": 3010,
    "exerciseId": "HyxtEKlwxG",
    "id": "quiz_session_name",
    "important": true,
    "isDL": false,
    "timeoutSecs": 5
   },
   "source": [
    "### 〇6.1.2 関数とメソッド"
   ]
  },
  {
   "cell_type": "code",
   "execution_count": 3,
   "metadata": {},
   "outputs": [
    {
     "name": "stdout",
     "output_type": "stream",
     "text": [
      "['a', 'b', 'c', 'd', 'e', 'f']\n"
     ]
    }
   ],
   "source": [
    "# appendの操作の復習\n",
    "alphabet = [\"a\",\"b\",\"c\",\"d\",\"e\"]\n",
    "alphabet.append(\"f\")\n",
    "print(alphabet)  "
   ]
  },
  {
   "cell_type": "markdown",
   "metadata": {},
   "source": [
    "**リスト 6.3：append() メソッドの例**"
   ]
  },
  {
   "cell_type": "code",
   "execution_count": 4,
   "metadata": {},
   "outputs": [
    {
     "name": "stdout",
     "output_type": "stream",
     "text": [
      "[1, 2, 3, 4, 5]\n",
      "[1, 5, 3, 4, 2]\n"
     ]
    }
   ],
   "source": [
    "# sortedの操作です\n",
    "number = [1,5,3,4,2]\n",
    "print(sorted(number))  \n",
    "print(number)  "
   ]
  },
  {
   "cell_type": "markdown",
   "metadata": {},
   "source": [
    "**リスト 6.4：関数とメソッドの例①**"
   ]
  },
  {
   "cell_type": "code",
   "execution_count": 5,
   "metadata": {},
   "outputs": [
    {
     "name": "stdout",
     "output_type": "stream",
     "text": [
      "[1, 2, 3, 4, 5]\n"
     ]
    }
   ],
   "source": [
    "# sortの操作です\n",
    "number = [1,5,3,4,2]\n",
    "number.sort()\n",
    "print(number)  "
   ]
  },
  {
   "cell_type": "markdown",
   "metadata": {},
   "source": [
    "**リスト 6.5：関数とメソッドの例②**"
   ]
  },
  {
   "cell_type": "markdown",
   "metadata": {},
   "source": [
    "#### □問題"
   ]
  },
  {
   "cell_type": "markdown",
   "metadata": {},
   "source": [
    "（1 問目）"
   ]
  },
  {
   "cell_type": "code",
   "execution_count": 6,
   "metadata": {},
   "outputs": [
    {
     "name": "stdout",
     "output_type": "stream",
     "text": [
      "['b', 'a', 'e', 'c', 'd']\n"
     ]
    }
   ],
   "source": [
    "alphabet = [\"b\", \"a\", \"e\", \"c\", \"d\"]\n",
    "sorted(alphabet)\n",
    "print(alphabet)"
   ]
  },
  {
   "cell_type": "markdown",
   "metadata": {},
   "source": [
    "（2 問目）"
   ]
  },
  {
   "cell_type": "code",
   "execution_count": 7,
   "metadata": {},
   "outputs": [
    {
     "name": "stdout",
     "output_type": "stream",
     "text": [
      "['a', 'b', 'c', 'd', 'e']\n"
     ]
    }
   ],
   "source": [
    "alphabet = [\"b\", \"a\", \"e\", \"c\", \"d\"]\n",
    "alphabet.sort()\n",
    "print(alphabet)"
   ]
  },
  {
   "cell_type": "markdown",
   "metadata": {},
   "source": [
    "#### □解答"
   ]
  },
  {
   "cell_type": "markdown",
   "metadata": {
    "id": "answer"
   },
   "source": [
    "1問目：`[\"b\", \"a\", \"e\", \"c\", \"d\"]` 2問目：`[\"a\", \"b\", \"c\", \"d\", \"e\"]`"
   ]
  },
  {
   "cell_type": "markdown",
   "metadata": {
    "courseId": 3010,
    "exerciseId": "S1-tEYgwxf",
    "id": "code_session_name",
    "important": true,
    "isDL": false,
    "timeoutSecs": 5
   },
   "source": [
    "### 〇6.1.3 文字列型のメソッド（upper/count）"
   ]
  },
  {
   "cell_type": "code",
   "execution_count": 8,
   "metadata": {},
   "outputs": [
    {
     "name": "stdout",
     "output_type": "stream",
     "text": [
      "TOKYO\n",
      "2\n"
     ]
    }
   ],
   "source": [
    "# メソッドの操作の例です\n",
    "city = \"Tokyo\"\n",
    "print(city.upper())  \n",
    "print(city.count(\"o\"))  "
   ]
  },
  {
   "cell_type": "markdown",
   "metadata": {},
   "source": [
    "**リスト 6.6： upper() メソッド、 count() メソッドの例**"
   ]
  },
  {
   "cell_type": "markdown",
   "metadata": {},
   "source": [
    "#### □問題"
   ]
  },
  {
   "cell_type": "code",
   "execution_count": null,
   "metadata": {
    "collapsed": true,
    "id": "index"
   },
   "outputs": [],
   "source": [
    "animal = \"elephant\"\n",
    "\n",
    "# 変数animal_bigに変数animalに格納された文字列を大文字にしたものを代入してください\n",
    "\n",
    "\n",
    "\n",
    "print(animal)\n",
    "print(animal_big)\n",
    "\n",
    "# 変数animalに「e」が何個存在するか出力してください\n"
   ]
  },
  {
   "cell_type": "markdown",
   "metadata": {},
   "source": [
    "**リスト 6.7：問題**"
   ]
  },
  {
   "cell_type": "markdown",
   "metadata": {},
   "source": [
    "#### □解答例"
   ]
  },
  {
   "cell_type": "code",
   "execution_count": 9,
   "metadata": {
    "id": "answer"
   },
   "outputs": [
    {
     "name": "stdout",
     "output_type": "stream",
     "text": [
      "elephant\n",
      "ELEPHANT\n",
      "2\n"
     ]
    }
   ],
   "source": [
    "animal = \"elephant\"\n",
    "\n",
    "# 変数animal_bigに変数animalに格納された文字列を大文字にしたものを代入してください\n",
    "animal_big = animal.upper()\n",
    "\n",
    "print(animal)\n",
    "print(animal_big)\n",
    "\n",
    "# 変数animalに「e」が何個存在するか出力してください\n",
    "print(animal.count(\"e\"))"
   ]
  },
  {
   "cell_type": "markdown",
   "metadata": {},
   "source": [
    "**リスト 6.8：解答例**"
   ]
  },
  {
   "cell_type": "markdown",
   "metadata": {
    "courseId": 3010,
    "exerciseId": "B1zKVFlDxG",
    "id": "code_session_name",
    "important": true,
    "isDL": false,
    "timeoutSecs": 5
   },
   "source": [
    "### 〇6.1.4 文字列型のメソッド（format）"
   ]
  },
  {
   "cell_type": "code",
   "execution_count": 10,
   "metadata": {},
   "outputs": [
    {
     "name": "stdout",
     "output_type": "stream",
     "text": [
      "私は東京生まれ、埼玉育ち\n"
     ]
    }
   ],
   "source": [
    "print(\"私は{}生まれ、{}育ち\".format(\"東京\", \"埼玉\"))"
   ]
  },
  {
   "cell_type": "markdown",
   "metadata": {},
   "source": [
    "**リスト 6.9：format() メソッドの例**"
   ]
  },
  {
   "cell_type": "markdown",
   "metadata": {},
   "source": [
    "#### □問題"
   ]
  },
  {
   "cell_type": "code",
   "execution_count": null,
   "metadata": {
    "collapsed": true,
    "id": "index"
   },
   "outputs": [],
   "source": [
    "fruit = \"banana\"\n",
    "color = \"yellow\"\n",
    "\n",
    "# 「bananaはyellowです」と出力してください\n"
   ]
  },
  {
   "cell_type": "markdown",
   "metadata": {},
   "source": [
    "**リスト 6.10：問題**"
   ]
  },
  {
   "cell_type": "markdown",
   "metadata": {},
   "source": [
    "#### □解答例"
   ]
  },
  {
   "cell_type": "code",
   "execution_count": 6,
   "metadata": {
    "id": "answer"
   },
   "outputs": [
    {
     "name": "stdout",
     "output_type": "stream",
     "text": [
      "bananaはyellowです\n"
     ]
    }
   ],
   "source": [
    "fruit = \"banana\"\n",
    "color = \"yellow\"\n",
    "\n",
    "# 「bananaはyellowです」と出力してください\n",
    "print(\"{}は{}です\".format(fruit, color))"
   ]
  },
  {
   "cell_type": "markdown",
   "metadata": {},
   "source": [
    "**リスト 6.11：解答例**"
   ]
  },
  {
   "cell_type": "markdown",
   "metadata": {
    "courseId": 3010,
    "exerciseId": "HkXF4tlDxG",
    "id": "code_session_name",
    "important": true,
    "isDL": false,
    "timeoutSecs": 5
   },
   "source": [
    "### 〇6.1.5 リスト型のメソッド（index）"
   ]
  },
  {
   "cell_type": "code",
   "execution_count": 11,
   "metadata": {},
   "outputs": [
    {
     "name": "stdout",
     "output_type": "stream",
     "text": [
      "0\n",
      "2\n"
     ]
    }
   ],
   "source": [
    "alphabet = [\"a\", \"b\", \"c\", \"d\", \"d\"]\n",
    "print(alphabet.index(\"a\"))  \n",
    "print(alphabet.count(\"d\"))"
   ]
  },
  {
   "cell_type": "markdown",
   "metadata": {},
   "source": [
    "**リスト 6.12： index() メソッドの例**"
   ]
  },
  {
   "cell_type": "markdown",
   "metadata": {},
   "source": [
    "#### □問題"
   ]
  },
  {
   "cell_type": "code",
   "execution_count": null,
   "metadata": {
    "collapsed": true,
    "id": "index"
   },
   "outputs": [],
   "source": [
    "n = [3, 6, 8, 6, 3, 2, 4, 6]\n",
    "\n",
    "# 「2」のインデックス番号を出力してください\n",
    "\n",
    "\n",
    "# 変数nの中に「6」がいくつあるか出力してください\n",
    "\n"
   ]
  },
  {
   "cell_type": "markdown",
   "metadata": {},
   "source": [
    "**リスト 6.13：問題**"
   ]
  },
  {
   "cell_type": "markdown",
   "metadata": {},
   "source": [
    "#### □解答例"
   ]
  },
  {
   "cell_type": "code",
   "execution_count": 12,
   "metadata": {
    "id": "answer"
   },
   "outputs": [
    {
     "name": "stdout",
     "output_type": "stream",
     "text": [
      "5\n",
      "3\n"
     ]
    }
   ],
   "source": [
    "n = [3, 6, 8, 6, 3, 2, 4, 6]\n",
    "\n",
    "# 「2」のインデックス番号を出力してください\n",
    "print(n.index(2))\n",
    "\n",
    "# 変数nの中に「6」がいくつあるか出力してください\n",
    "print(n.count(6))"
   ]
  },
  {
   "cell_type": "markdown",
   "metadata": {},
   "source": [
    "**リスト 6.14：解答例**"
   ]
  },
  {
   "cell_type": "markdown",
   "metadata": {
    "courseId": 3010,
    "exerciseId": "BkVY4KxvgG",
    "id": "code_session_name",
    "important": true,
    "isDL": false,
    "timeoutSecs": 5
   },
   "source": [
    "### 〇6.1.6 リスト型のメソッド（sort）"
   ]
  },
  {
   "cell_type": "code",
   "execution_count": 14,
   "metadata": {},
   "outputs": [
    {
     "name": "stdout",
     "output_type": "stream",
     "text": [
      "[1, 2, 10, 20]\n"
     ]
    }
   ],
   "source": [
    "# sort()の利用例\n",
    "list = [1, 10, 2, 20]\n",
    "list.sort()\n",
    "print(list)  "
   ]
  },
  {
   "cell_type": "markdown",
   "metadata": {},
   "source": [
    "**リスト 6.15：sorted() メソッドの例**"
   ]
  },
  {
   "cell_type": "code",
   "execution_count": 13,
   "metadata": {},
   "outputs": [
    {
     "name": "stdout",
     "output_type": "stream",
     "text": [
      "['お', 'え', 'う', 'い', 'あ']\n"
     ]
    }
   ],
   "source": [
    "#  reverse()`の利用例\n",
    "list = [\"あ\", \"い\", \"う\", \"え\", \"お\"]\n",
    "list.reverse()\n",
    "print(list) "
   ]
  },
  {
   "cell_type": "markdown",
   "metadata": {},
   "source": [
    "**リスト 6.16： reverse() メソッドの例**"
   ]
  },
  {
   "cell_type": "markdown",
   "metadata": {},
   "source": [
    "#### □問題"
   ]
  },
  {
   "cell_type": "code",
   "execution_count": null,
   "metadata": {
    "collapsed": true,
    "id": "index"
   },
   "outputs": [],
   "source": [
    "n = [53, 26, 37, 69, 24, 2]\n",
    "\n",
    "# nをソートし、数字が小さい順になるように出力してください\n",
    "\n",
    "print(n)\n",
    "\n",
    "# 数字が小さい順になるようにソートされたnの要素の順番を反対にし、数字が大きい順になるように出力してください\n",
    "\n",
    "\n",
    "print(n)"
   ]
  },
  {
   "cell_type": "markdown",
   "metadata": {},
   "source": [
    "**リスト 6.17： 問題** "
   ]
  },
  {
   "cell_type": "markdown",
   "metadata": {},
   "source": [
    "#### □解答例"
   ]
  },
  {
   "cell_type": "code",
   "execution_count": 13,
   "metadata": {
    "id": "answer"
   },
   "outputs": [
    {
     "name": "stdout",
     "output_type": "stream",
     "text": [
      "[2, 24, 26, 37, 53, 69]\n",
      "[69, 53, 37, 26, 24, 2]\n"
     ]
    }
   ],
   "source": [
    "n = [53, 26, 37, 69, 24, 2]\n",
    "\n",
    "# nをソートし、数字が小さい順になるように出力してください\n",
    "n.sort()\n",
    "print(n)\n",
    "\n",
    "# 数字が小さい順になるようにソートされたnの要素の順番を反対にし、数字が大きい順になるように出力してください\n",
    "n.reverse()\n",
    "print(n)"
   ]
  },
  {
   "cell_type": "markdown",
   "metadata": {},
   "source": [
    "**リスト 6.18：解答例**"
   ]
  },
  {
   "cell_type": "markdown",
   "metadata": {
    "id": "section_name",
    "important": true,
    "sectionId": "Sk3dRXWgbf"
   },
   "source": [
    "## ●6.2 関数"
   ]
  },
  {
   "cell_type": "markdown",
   "metadata": {
    "courseId": 3010,
    "exerciseId": "HySF4KxveG",
    "id": "code_session_name",
    "important": true,
    "isDL": false,
    "timeoutSecs": 5
   },
   "source": [
    "### 〇6.2.1 関数の作成"
   ]
  },
  {
   "cell_type": "code",
   "execution_count": 14,
   "metadata": {},
   "outputs": [
    {
     "name": "stdout",
     "output_type": "stream",
     "text": [
      "歌います！\n"
     ]
    }
   ],
   "source": [
    "def sing():\n",
    "    print (\"歌います！\")\n",
    "\n",
    "sing()"
   ]
  },
  {
   "cell_type": "markdown",
   "metadata": {},
   "source": [
    "**リスト 6.19：関数の作成例**"
   ]
  },
  {
   "cell_type": "markdown",
   "metadata": {},
   "source": [
    "#### □問題"
   ]
  },
  {
   "cell_type": "code",
   "execution_count": null,
   "metadata": {
    "collapsed": true,
    "id": "index"
   },
   "outputs": [],
   "source": [
    "# 「Yamadaです」と出力する関数introduceを作ってください\n",
    "\n",
    "\n",
    "\n",
    "# 関数の呼び出し\n",
    "introduce()"
   ]
  },
  {
   "cell_type": "markdown",
   "metadata": {},
   "source": [
    "**リスト 6.20：問題**"
   ]
  },
  {
   "cell_type": "markdown",
   "metadata": {},
   "source": [
    "#### □解答例"
   ]
  },
  {
   "cell_type": "code",
   "execution_count": 15,
   "metadata": {
    "id": "answer"
   },
   "outputs": [
    {
     "name": "stdout",
     "output_type": "stream",
     "text": [
      "Yamadaです\n"
     ]
    }
   ],
   "source": [
    "# 「Yamadaです」と出力する関数introduceを作ってください\n",
    "def introduce():\n",
    "    print(\"Yamadaです\")\n",
    "\n",
    "# 関数の呼び出し\n",
    "introduce()"
   ]
  },
  {
   "cell_type": "markdown",
   "metadata": {},
   "source": [
    "**リスト 6.21：解答例**"
   ]
  },
  {
   "cell_type": "markdown",
   "metadata": {
    "courseId": 3010,
    "exerciseId": "H1LFEFgwez",
    "id": "code_session_name",
    "important": true,
    "isDL": false,
    "timeoutSecs": 5
   },
   "source": [
    "### 〇6.2.2 引数"
   ]
  },
  {
   "cell_type": "code",
   "execution_count": 18,
   "metadata": {},
   "outputs": [
    {
     "name": "stdout",
     "output_type": "stream",
     "text": [
      "Yamadaです\n"
     ]
    }
   ],
   "source": [
    "def introduce(n):\n",
    "    print(n + \"です\")\n",
    "\n",
    "introduce(\"Yamada\")"
   ]
  },
  {
   "cell_type": "markdown",
   "metadata": {},
   "source": [
    "**リスト 6.22：引数の例**"
   ]
  },
  {
   "cell_type": "markdown",
   "metadata": {},
   "source": [
    "#### □問題"
   ]
  },
  {
   "cell_type": "code",
   "execution_count": null,
   "metadata": {
    "collapsed": true,
    "id": "index"
   },
   "outputs": [],
   "source": [
    "# 引数nを用いて、引数を３乗した値を出力する関数cube_calを作ってください \n",
    "\n",
    "\n",
    "\n",
    "# 関数を呼び出します\n",
    "cube_cal(4)"
   ]
  },
  {
   "cell_type": "markdown",
   "metadata": {},
   "source": [
    "**リスト 6.23：問題**"
   ]
  },
  {
   "cell_type": "markdown",
   "metadata": {},
   "source": [
    "#### □解答例"
   ]
  },
  {
   "cell_type": "code",
   "execution_count": 11,
   "metadata": {
    "id": "answer"
   },
   "outputs": [
    {
     "name": "stdout",
     "output_type": "stream",
     "text": [
      "64\n"
     ]
    }
   ],
   "source": [
    "# 引数nを用いて、引数を３乗した値を出力する関数cube_calを作ってください\n",
    "def cube_cal(n):\n",
    "    print(n ** 3)\n",
    "\n",
    "# 関数を呼び出します\n",
    "cube_cal(4)"
   ]
  },
  {
   "cell_type": "markdown",
   "metadata": {},
   "source": [
    "**リスト 6.24：解答例**"
   ]
  },
  {
   "cell_type": "markdown",
   "metadata": {
    "courseId": 3010,
    "exerciseId": "SyvtVYlPgf",
    "id": "code_session_name",
    "important": true,
    "isDL": false,
    "timeoutSecs": 5
   },
   "source": [
    "### 〇6.2.3 複数の引数"
   ]
  },
  {
   "cell_type": "code",
   "execution_count": 16,
   "metadata": {},
   "outputs": [
    {
     "name": "stdout",
     "output_type": "stream",
     "text": [
      "名字はYamadaで、名前はtaroです。\n"
     ]
    }
   ],
   "source": [
    "def introduce(first,second):\n",
    "    print(\"名字は\"+ first + \"で、名前は\"+ second + \"です。\")\n",
    "\n",
    "introduce(\"Yamada\",\"taro\")"
   ]
  },
  {
   "cell_type": "markdown",
   "metadata": {},
   "source": [
    "**リスト 6.25：複数の引数の例**"
   ]
  },
  {
   "cell_type": "markdown",
   "metadata": {},
   "source": [
    "#### □問題"
   ]
  },
  {
   "cell_type": "code",
   "execution_count": null,
   "metadata": {
    "collapsed": true,
    "id": "index"
   },
   "outputs": [],
   "source": [
    "# 関数introduceを作ってください\n",
    "\n",
    "\n",
    "# 関数を呼び出してください\n",
    "\n"
   ]
  },
  {
   "cell_type": "markdown",
   "metadata": {},
   "source": [
    "**リスト 6.26：問題**"
   ]
  },
  {
   "cell_type": "markdown",
   "metadata": {},
   "source": [
    "#### □解答例"
   ]
  },
  {
   "cell_type": "code",
   "execution_count": 17,
   "metadata": {
    "id": "answer"
   },
   "outputs": [
    {
     "name": "stdout",
     "output_type": "stream",
     "text": [
      "Yamadaです。18歳です。\n"
     ]
    }
   ],
   "source": [
    "# 関数introduceを作ってください\n",
    "def introduce(n, age):\n",
    "    print(n + \"です。\" + str(age) + \"歳です。\")\n",
    "\n",
    "# 関数を呼び出してください\n",
    "introduce(\"Yamada\", 18)"
   ]
  },
  {
   "cell_type": "markdown",
   "metadata": {},
   "source": [
    "**リスト 6.27：解答例**"
   ]
  },
  {
   "cell_type": "markdown",
   "metadata": {
    "courseId": 3010,
    "exerciseId": "HyOFNtgPgz",
    "id": "code_session_name",
    "important": false,
    "isDL": false,
    "timeoutSecs": 5
   },
   "source": [
    "### 〇6.2.4 引数の初期値"
   ]
  },
  {
   "cell_type": "code",
   "execution_count": 23,
   "metadata": {},
   "outputs": [
    {
     "name": "stdout",
     "output_type": "stream",
     "text": [
      "名字はSuzukiで、名前はTaroです。\n"
     ]
    }
   ],
   "source": [
    "def introduce(first = \"Yamada\",second = \"Taro\"):\n",
    "    print(\"名字は\"+ first + \"で、名前は\"+ second + \"です。\")\n",
    "\n",
    "introduce(\"Suzuki\")"
   ]
  },
  {
   "cell_type": "markdown",
   "metadata": {},
   "source": [
    "**リスト 6.28：引数の初期値の例①**"
   ]
  },
  {
   "cell_type": "code",
   "execution_count": 17,
   "metadata": {},
   "outputs": [
    {
     "name": "stdout",
     "output_type": "stream",
     "text": [
      " 名字は Suzuki で、名前は Taro です。\n"
     ]
    }
   ],
   "source": [
    "def introduce(first,second = \"Taro\"):\n",
    "    print(\" 名字は \"+ first + \" で、名前は \"+ second + \" です。\")\n",
    "\n",
    "introduce(\"Suzuki\")"
   ]
  },
  {
   "cell_type": "markdown",
   "metadata": {},
   "source": [
    "**リスト 6.29：引数の初期値の例②**"
   ]
  },
  {
   "cell_type": "code",
   "execution_count": 18,
   "metadata": {},
   "outputs": [
    {
     "ename": "SyntaxError",
     "evalue": "non-default argument follows default argument (<ipython-input-18-52ca432c1162>, line 1)",
     "output_type": "error",
     "traceback": [
      "\u001b[1;36m  File \u001b[1;32m\"<ipython-input-18-52ca432c1162>\"\u001b[1;36m, line \u001b[1;32m1\u001b[0m\n\u001b[1;33m    def introduce(first = \"Suzuki\",second):\u001b[0m\n\u001b[1;37m                 ^\u001b[0m\n\u001b[1;31mSyntaxError\u001b[0m\u001b[1;31m:\u001b[0m non-default argument follows default argument\n"
     ]
    }
   ],
   "source": [
    "def introduce(first = \"Suzuki\",second):\n",
    "    print(\"名字は\"+ first + \"で、名前は\"+ second + \"です。\")"
   ]
  },
  {
   "cell_type": "markdown",
   "metadata": {},
   "source": [
    "**リスト 6.30：引数の初期値の例③**"
   ]
  },
  {
   "cell_type": "markdown",
   "metadata": {},
   "source": [
    "#### □問題"
   ]
  },
  {
   "cell_type": "code",
   "execution_count": null,
   "metadata": {
    "collapsed": true,
    "id": "index"
   },
   "outputs": [],
   "source": [
    "# 初期値を設定してください\n",
    "def introduce(age, n):\n",
    "    print(n + \"です。\" + str(age) + \"歳です。\")\n",
    "\n",
    "# 関数を呼び出します\n"
   ]
  },
  {
   "cell_type": "markdown",
   "metadata": {},
   "source": [
    "**リスト 6.31：問題**"
   ]
  },
  {
   "cell_type": "markdown",
   "metadata": {},
   "source": [
    "#### □解答例"
   ]
  },
  {
   "cell_type": "code",
   "execution_count": 18,
   "metadata": {
    "id": "answer"
   },
   "outputs": [
    {
     "name": "stdout",
     "output_type": "stream",
     "text": [
      "Yamadaです。18歳です。\n"
     ]
    }
   ],
   "source": [
    "# 初期値を設定してください\n",
    "def introduce(age, n = \"Yamada\"):\n",
    "    print(n + \"です。\" + str(age) + \"歳です。\")\n",
    "\n",
    "# 関数を呼び出します\n",
    "introduce(18)"
   ]
  },
  {
   "cell_type": "markdown",
   "metadata": {},
   "source": [
    "**リスト 6.32：解答例**"
   ]
  },
  {
   "cell_type": "markdown",
   "metadata": {
    "courseId": 3010,
    "exerciseId": "SJtY4FevlG",
    "id": "code_session_name",
    "important": true,
    "isDL": false,
    "timeoutSecs": 5
   },
   "source": [
    "### 〇6.2.5 return"
   ]
  },
  {
   "cell_type": "code",
   "execution_count": 20,
   "metadata": {},
   "outputs": [
    {
     "name": "stdout",
     "output_type": "stream",
     "text": [
      "名字はSuzukiで、名前はTaroです。\n"
     ]
    }
   ],
   "source": [
    "def introduce(first = \"Yamada\",second = \"Taro\"):\n",
    "    return \"名字は\"+ first + \"で、名前は\"+ second + \"です。\"\n",
    "\n",
    "print(introduce(\"Suzuki\"))"
   ]
  },
  {
   "cell_type": "markdown",
   "metadata": {},
   "source": [
    "**リスト 6.33：return の例①**"
   ]
  },
  {
   "cell_type": "code",
   "execution_count": 19,
   "metadata": {},
   "outputs": [
    {
     "name": "stdout",
     "output_type": "stream",
     "text": [
      "名字はSuzukiで、名前はTaroです。\n"
     ]
    }
   ],
   "source": [
    "def introduce(first = \"Yamada\",second = \"Taro\"):\n",
    "    comment = \"名字は\"+ first + \"で、名前は\"+ second + \"です。\"\n",
    "    return comment\n",
    "\n",
    "print(introduce(\"Suzuki\"))"
   ]
  },
  {
   "cell_type": "markdown",
   "metadata": {},
   "source": [
    "**リスト 6.34：return の例②**"
   ]
  },
  {
   "cell_type": "markdown",
   "metadata": {},
   "source": [
    "#### □問題"
   ]
  },
  {
   "cell_type": "code",
   "execution_count": null,
   "metadata": {
    "collapsed": true,
    "id": "index"
   },
   "outputs": [],
   "source": [
    "# bmiを計算する関数を作り、bmiの値を返り値としてください\n",
    "\n",
    "\n",
    "\n",
    "print(bmi(1.65, 65))"
   ]
  },
  {
   "cell_type": "markdown",
   "metadata": {},
   "source": [
    "**スト 6.35：問題**"
   ]
  },
  {
   "cell_type": "markdown",
   "metadata": {},
   "source": [
    "#### □解答例"
   ]
  },
  {
   "cell_type": "code",
   "execution_count": 21,
   "metadata": {
    "id": "answer"
   },
   "outputs": [
    {
     "name": "stdout",
     "output_type": "stream",
     "text": [
      "23.875114784205696\n"
     ]
    }
   ],
   "source": [
    "# bmiを計算する関数を作り、bmiの値を返り値としてください\n",
    "def bmi(height, weight):\n",
    "    return weight / height**2\n",
    "\n",
    "print(bmi(1.65, 65))"
   ]
  },
  {
   "cell_type": "markdown",
   "metadata": {},
   "source": [
    "**リスト 6.36：解答例**"
   ]
  },
  {
   "cell_type": "markdown",
   "metadata": {
    "courseId": 3010,
    "exerciseId": "Hkl2bccdM",
    "id": "code_session_name",
    "important": true,
    "isDL": false,
    "timeoutSecs": 5
   },
   "source": [
    "### 〇6.2.6 関数の import（インポート）"
   ]
  },
  {
   "cell_type": "code",
   "execution_count": 31,
   "metadata": {},
   "outputs": [
    {
     "name": "stdout",
     "output_type": "stream",
     "text": [
      "1538245251.0052383\n"
     ]
    }
   ],
   "source": [
    "# timeパッケージをimportします\n",
    "import time\n",
    "\n",
    "# time()モジュールを使用することで現在時刻をnow_timeに代入します\n",
    "now_time = time.time()\n",
    "\n",
    "# print()を用いて出力します\n",
    "print(now_time)"
   ]
  },
  {
   "cell_type": "markdown",
   "metadata": {},
   "source": [
    "**リスト 6.37：関数のimportの例①**"
   ]
  },
  {
   "cell_type": "code",
   "execution_count": 33,
   "metadata": {
    "scrolled": true
   },
   "outputs": [
    {
     "name": "stdout",
     "output_type": "stream",
     "text": [
      "1538245799.039225\n"
     ]
    }
   ],
   "source": [
    "# fromを使用して timeモジュールのみを importします\n",
    "from time import time\n",
    "\n",
    "# fromでimportしているので、パッケージ名を省略できます\n",
    "now_time = time()\n",
    "\n",
    "print(now_time)"
   ]
  },
  {
   "cell_type": "markdown",
   "metadata": {},
   "source": [
    "**リスト 6.38：関数のimportの例②**"
   ]
  },
  {
   "cell_type": "markdown",
   "metadata": {},
   "source": [
    "#### □問題"
   ]
  },
  {
   "cell_type": "code",
   "execution_count": null,
   "metadata": {
    "collapsed": true
   },
   "outputs": [],
   "source": [
    "# fromを利用して timeモジュールを importしてください\n",
    "from  import \n",
    "\n",
    "# now_timeに現在の時刻を代入してください\n",
    "now_time =\n",
    "\n",
    "print(now_time)"
   ]
  },
  {
   "cell_type": "markdown",
   "metadata": {},
   "source": [
    "**リスト 6.39：問題**"
   ]
  },
  {
   "cell_type": "markdown",
   "metadata": {},
   "source": [
    "#### □解答例（出力結果は誌面と変わります）"
   ]
  },
  {
   "cell_type": "code",
   "execution_count": 34,
   "metadata": {
    "id": "answer"
   },
   "outputs": [
    {
     "name": "stdout",
     "output_type": "stream",
     "text": [
      "1538245836.858887\n"
     ]
    }
   ],
   "source": [
    "# fromを利用して timeモジュールを importしてください\n",
    "from time import time\n",
    "\n",
    "# now_timeに現在の時刻を代入してください\n",
    "now_time = time()\n",
    "\n",
    "print(now_time)"
   ]
  },
  {
   "cell_type": "markdown",
   "metadata": {},
   "source": [
    "**リスト 6.40：解答例**"
   ]
  },
  {
   "cell_type": "markdown",
   "metadata": {
    "id": "section_name",
    "important": true,
    "sectionId": "ByhE71EOf"
   },
   "source": [
    "## ●6.3 クラス"
   ]
  },
  {
   "cell_type": "markdown",
   "metadata": {
    "courseId": 3010,
    "exerciseId": "BkVLDge9f",
    "id": "quiz_session_name",
    "important": false,
    "isDL": false,
    "timeoutSecs": 5
   },
   "source": [
    "### 〇6.3.1 オブジェクト"
   ]
  },
  {
   "cell_type": "code",
   "execution_count": 35,
   "metadata": {},
   "outputs": [
    {
     "name": "stdout",
     "output_type": "stream",
     "text": [
      "[1, 2, 10, 20]\n"
     ]
    }
   ],
   "source": [
    "# 値を直接格納することができます\n",
    "mylist = [1, 10, 2, 20]\n",
    "\n",
    "# 格納した値に対してソート処理を行うことができます\n",
    "mylist.sort()\n",
    "\n",
    "# 関数に渡して値を処理した結果を表示させることもできます\n",
    "print(mylist)  "
   ]
  },
  {
   "cell_type": "markdown",
   "metadata": {},
   "source": [
    "**リスト 6.41：クラスの例**"
   ]
  },
  {
   "cell_type": "markdown",
   "metadata": {
    "courseId": 3010,
    "exerciseId": "r1ehV7yVdM",
    "id": "code_session_name",
    "important": false,
    "isDL": false,
    "timeoutSecs": 10
   },
   "source": [
    "### 〇6.3.2  クラス（メンバとコンストラクタ）"
   ]
  },
  {
   "cell_type": "code",
   "execution_count": 36,
   "metadata": {},
   "outputs": [],
   "source": [
    "# MyProductクラスを定義します\n",
    "class MyProduct:\n",
    "    # コンストラクタの定義します\n",
    "    def __init__(self, name, price):\n",
    "        # 引数をメンバに格納します\n",
    "        self.name = name\n",
    "        self.price = price\n",
    "        self.stock = 0\n",
    "        self.sales = 0"
   ]
  },
  {
   "cell_type": "markdown",
   "metadata": {},
   "source": [
    "**リスト 6.42：クラスの例①**"
   ]
  },
  {
   "cell_type": "code",
   "execution_count": 37,
   "metadata": {},
   "outputs": [],
   "source": [
    "# MyProductを呼び出し、オブジェクトproduct1を作成します\n",
    "product1 = MyProduct(\"cake\", 500)"
   ]
  },
  {
   "cell_type": "markdown",
   "metadata": {},
   "source": [
    "**リスト 6.43：クラスの例②**"
   ]
  },
  {
   "cell_type": "markdown",
   "metadata": {},
   "source": [
    "#### □問題"
   ]
  },
  {
   "cell_type": "code",
   "execution_count": null,
   "metadata": {
    "collapsed": true,
    "id": "index"
   },
   "outputs": [],
   "source": [
    "# MyProductクラスを定義します\n",
    "class MyProduct:\n",
    "    # コンストラクタを修正してください\n",
    "    def __init__():\n",
    "        # 引数をメンバに格納してください\n",
    "        \n",
    "        \n",
    "        \n",
    "        \n",
    "        \n",
    "        \n",
    "# MyProductを呼び出し、オブジェクトproduct_1を作成します\n",
    "product_1 = MyProduct(\"cake\", 500, 20)\n",
    "\n",
    "# product_1のstockを出力してください\n",
    "print()"
   ]
  },
  {
   "cell_type": "markdown",
   "metadata": {},
   "source": [
    "**リスト 6.44：問題**"
   ]
  },
  {
   "cell_type": "markdown",
   "metadata": {},
   "source": [
    "#### □解答例"
   ]
  },
  {
   "cell_type": "code",
   "execution_count": 27,
   "metadata": {
    "id": "answer"
   },
   "outputs": [
    {
     "name": "stdout",
     "output_type": "stream",
     "text": [
      "20\n"
     ]
    }
   ],
   "source": [
    "# MyProductクラスを定義します\n",
    "class MyProduct:\n",
    "    # コンストラクタを修正してください\n",
    "    def __init__(self, name, price, stock):\n",
    "        # 引数をメンバに格納してください\n",
    "        self.name = name\n",
    "        self.price = price\n",
    "        self.stock = stock\n",
    "        self.sales = 0\n",
    "        \n",
    "# MyProductを呼び出し、オブジェクトproduct_1を作成します\n",
    "product_1 = MyProduct(\"cake\", 500, 20)\n",
    "\n",
    "# product_1のstockを出力してください\n",
    "print(product_1.stock)"
   ]
  },
  {
   "cell_type": "markdown",
   "metadata": {},
   "source": [
    "**リスト 6.45：解答例**"
   ]
  },
  {
   "cell_type": "markdown",
   "metadata": {
    "courseId": 3010,
    "exerciseId": "HkW2Emy4_G",
    "id": "code_session_name",
    "important": false,
    "isDL": false,
    "timeoutSecs": 10
   },
   "source": [
    "### 〇6.3.3 クラス（メソッド）"
   ]
  },
  {
   "cell_type": "code",
   "execution_count": 40,
   "metadata": {},
   "outputs": [],
   "source": [
    "# MyProductクラスを定義します\n",
    "class MyProduct:\n",
    "    def __init__(self, name, price, stock):\n",
    "        self.name = name\n",
    "        self.price = price\n",
    "        self.stock = stock\n",
    "        self.sales = 0\n",
    "    # 仕入れメソッド\n",
    "    def buy_up(self, n):\n",
    "        self.stock += n\n",
    "    # 売却メソッド\n",
    "    def sell(self, n):\n",
    "        self.stock -= n\n",
    "        self.sales += n*self.price\n",
    "    # 概要メソッド\n",
    "    def summary(self):\n",
    "        message = \"called summary().\\n name: \" + self.name + \\\n",
    "        \"\\n price: \" + str(self.price) + \\\n",
    "        \"\\n stock: \" + str(self.stock) + \\\n",
    "        \"\\n sales: \" + str(self.sales)\n",
    "        print(message)"
   ]
  },
  {
   "cell_type": "markdown",
   "metadata": {},
   "source": [
    "**リスト 6.46：クラス（メソッド）の例**"
   ]
  },
  {
   "cell_type": "markdown",
   "metadata": {},
   "source": [
    "#### □問題"
   ]
  },
  {
   "cell_type": "code",
   "execution_count": null,
   "metadata": {
    "collapsed": true,
    "id": "index"
   },
   "outputs": [],
   "source": [
    "# MyProductクラスを定義します\n",
    "class MyProduct:\n",
    "    def __init__(self, name, price, stock):\n",
    "        self.name = name\n",
    "        self.price = price\n",
    "        self.stock = stock\n",
    "        self.sales = 0\n",
    "    # 概要メソッド\n",
    "    # 文字列と「自分自身のメソッド」や「自分自身のメンバ」を連結して出力します\n",
    "    def summary(self):\n",
    "        message = \"called summary().\" + \\\n",
    "        \"\\n name: \" + self.get_name() + \\\n",
    "        \"\\n price: \" + str(self.price) + \\\n",
    "        \"\\n stock: \" + str(self.stock) + \\\n",
    "        \"\\n sales: \" + str(self.sales)\n",
    "        print(message)\n",
    "    # nameを返すget_name()を作成してください\n",
    "    def get_name():\n",
    "        \n",
    "        \n",
    "    # 引数の分だけpriceを減らすdiscount()を作成してください\n",
    "    def discount():\n",
    "        \n",
    "        \n",
    "\n",
    "product_2 = MyProduct(\"phone\", 30000, 100)\n",
    "# 5000だけdiscountしてください\n",
    "\n",
    "# product_2のsummaryを出力してください\n"
   ]
  },
  {
   "cell_type": "markdown",
   "metadata": {},
   "source": [
    "#### □解答例"
   ]
  },
  {
   "cell_type": "code",
   "execution_count": 42,
   "metadata": {
    "id": "answer"
   },
   "outputs": [
    {
     "name": "stdout",
     "output_type": "stream",
     "text": [
      "called summary().\n",
      " name: phone\n",
      " price: 25000\n",
      " stock: 100\n",
      " sales: 0\n"
     ]
    }
   ],
   "source": [
    "# MyProductクラスを定義します\n",
    "class MyProduct:\n",
    "    def __init__(self, name, price, stock):\n",
    "        self.name = name\n",
    "        self.price = price\n",
    "        self.stock = stock\n",
    "        self.sales = 0\n",
    "    # 概要メソッド\n",
    "    # 文字列と「自分自身のメソッド」や「自分自身のメンバ」を連結して出力します\n",
    "    def summary(self):\n",
    "        message = \"called summary().\" + \\\n",
    "        \"\\n name: \" + self.get_name() + \\\n",
    "        \"\\n price: \" + str(self.price) + \\\n",
    "        \"\\n stock: \" + str(self.stock) + \\\n",
    "        \"\\n sales: \" + str(self.sales)\n",
    "        print(message)\n",
    "    # nameを返すget_name()を作成してください\n",
    "    def get_name(self):\n",
    "        return self.name\n",
    "    # 引数の分だけpriceを減らすdiscount()を作成してください\n",
    "    def discount(self, n):\n",
    "        self.price -= n\n",
    "\n",
    "product_2 = MyProduct(\"phone\", 30000, 100)\n",
    "# 5000だけdiscountしてください\n",
    "product_2.discount(5000)\n",
    "# product_2のsummaryを出力してください\n",
    "product_2.summary()"
   ]
  },
  {
   "cell_type": "markdown",
   "metadata": {},
   "source": [
    "**リスト 6.48：解答例**　"
   ]
  },
  {
   "cell_type": "markdown",
   "metadata": {
    "courseId": 3010,
    "exerciseId": "HkW2Emy4kG",
    "id": "code_session_name",
    "important": false,
    "isDL": false,
    "timeoutSecs": 10
   },
   "source": [
    "### 〇6.3.4 クラス（継承、オーバーライド、スーパー）"
   ]
  },
  {
   "cell_type": "code",
   "execution_count": 43,
   "metadata": {},
   "outputs": [],
   "source": [
    "# MyProductクラスを継承してMyProductSalesTaxを定義します\n",
    "class MyProductSalesTax(MyProduct):\n",
    "\n",
    "    # MyProductSalesTaxではコンストラクタの第 4 引数に消費税率を受け取ることにします\n",
    "    def __init__(self, name, price, stock, tax_rate):\n",
    "        # super()を使うと親クラスのメソッドを呼び出すことができます\n",
    "        # ここでは、MyProductクラスのコンストラクタを呼び出しています\n",
    "        super().__init__(name, price, stock)\n",
    "        self.tax_rate = tax_rate\n",
    "\n",
    "    # MyProductSalesTaxではMyProductのget_nameをオーバーライド(上書き)します\n",
    "    def get_name(self):\n",
    "        return self.name + \"(税込)\"\n",
    " \n",
    "    # MyProductSalesTaxにget_price_with_taxを新規実装します\n",
    "    def get_price_with_tax(self):\n",
    "        return int(self.price * (1 + self.tax_rate))"
   ]
  },
  {
   "cell_type": "markdown",
   "metadata": {},
   "source": [
    "**リスト 6.49：クラスの継承の例**"
   ]
  },
  {
   "cell_type": "code",
   "execution_count": 44,
   "metadata": {},
   "outputs": [
    {
     "name": "stdout",
     "output_type": "stream",
     "text": [
      "phone(税込)\n",
      "33000\n",
      "called summary().\n",
      " name: phone(税込)\n",
      " price: 30000\n",
      " stock: 100\n",
      " sales: 0\n"
     ]
    }
   ],
   "source": [
    "product_3 = MyProductSalesTax(\"phone\", 30000, 100, 0.1)\n",
    "print(product_3.get_name())\n",
    "print(product_3.get_price_with_tax())\n",
    "# MyProductSalesTaxクラスでは summary()メソッドは定義されていませんが、\n",
    "# MyProductを継承しているので MyProductの summary() メソッドを呼び出すことができます\n",
    "product_3.summary()"
   ]
  },
  {
   "cell_type": "markdown",
   "metadata": {},
   "source": [
    "**リスト 6.50：クラスの継承の例**"
   ]
  },
  {
   "cell_type": "markdown",
   "metadata": {},
   "source": [
    "#### □問題"
   ]
  },
  {
   "cell_type": "code",
   "execution_count": null,
   "metadata": {
    "collapsed": true,
    "id": "index"
   },
   "outputs": [],
   "source": [
    "class MyProduct:\n",
    "    def __init__(self, name, price, stock):\n",
    "        self.name = name\n",
    "        self.price = price\n",
    "        self.stock = stock\n",
    "        self.sales = 0\n",
    "\n",
    "    def summary(self):\n",
    "        message = \"called summary().\\n name: \" + self.get_name() + \\\n",
    "                    \"\\n price: \" + str(self.price) + \\\n",
    "                    \"\\n stock: \" + str(self.stock) + \\\n",
    "                    \"\\n sales: \" + str(self.sales)\n",
    "        print(message)\n",
    "\n",
    "    def get_name(self):\n",
    "        return self.name\n",
    "\n",
    "    def discount(self, n):\n",
    "        self.price -= n\n",
    "\n",
    "\n",
    "class MyProductSalesTax(MyProduct):\n",
    "    # MyProductSalesTaxでは第四引数に消費税率を受け取ることにします\n",
    "    def __init__(self, name, price, stock, tax_rate):\n",
    "        # super()を使うと親クラスのメソッドを呼び出すことができます\n",
    "        # ここでは、MyProductクラスのコンストラクタを呼び出しています\n",
    "        super().__init__(name, price, stock)\n",
    "        self.tax_rate = tax_rate\n",
    "\n",
    "    # MyProductSalesTaxではMyProductのget_nameをオーバーライド（上書き）します\n",
    "    def get_name(self):\n",
    "        return self.name + \"(税込)\"\n",
    " \n",
    "    # MyProductSalesTaxにget_price_with_taxを新規実装します\n",
    "    def get_price_with_tax(self):\n",
    "        return int(self.price * (1 + self.tax_rate))\n",
    "    \n",
    "    # MyProductのsummaryメソッドをオーバーライドしてsummaryが税込み価格を出力するようにしてください\n",
    "\n",
    "\n",
    "product_3 = MyProductSalesTax(\"phone\", 30000, 100, 0.1)\n",
    "print(product_3.get_name())\n",
    "print(product_3.get_price_with_tax())\n",
    "product_3.summary()"
   ]
  },
  {
   "cell_type": "markdown",
   "metadata": {},
   "source": [
    "#### □解答例"
   ]
  },
  {
   "cell_type": "code",
   "execution_count": 46,
   "metadata": {
    "id": "answer"
   },
   "outputs": [
    {
     "name": "stdout",
     "output_type": "stream",
     "text": [
      "phone(税込)\n",
      "33000\n",
      "called summary().\n",
      " name: phone(税込)\n",
      " price: 33000\n",
      " stock: 100\n",
      " sales: 0\n"
     ]
    }
   ],
   "source": [
    "class MyProduct:\n",
    "    def __init__(self, name, price, stock):\n",
    "        self.name = name\n",
    "        self.price = price\n",
    "        self.stock = stock\n",
    "        self.sales = 0\n",
    "\n",
    "    def summary(self):\n",
    "        message = \"called summary().\\n name: \" + self.get_name() + \\\n",
    "                    \"\\n price: \" + str(self.price) + \\\n",
    "                    \"\\n stock: \" + str(self.stock) + \\\n",
    "                    \"\\n sales: \" + str(self.sales)\n",
    "        print(message)\n",
    "\n",
    "    def get_name(self):\n",
    "        return self.name\n",
    "\n",
    "    def discount(self, n):\n",
    "        self.price -= n\n",
    "\n",
    "\n",
    "class MyProductSalesTax(MyProduct):\n",
    "    # MyProductSalesTaxでは第四引数に消費税率を受け取ることにします\n",
    "    def __init__(self, name, price, stock, tax_rate):\n",
    "        # super()を使うと親クラスのメソッドを呼び出すことができます\n",
    "        # ここでは、MyProductクラスのコンストラクタを呼び出しています\n",
    "        super().__init__(name, price, stock)\n",
    "        self.tax_rate = tax_rate\n",
    "\n",
    "    # MyProductSalesTaxではMyProductのget_nameをオーバーライド（上書き）します\n",
    "    def get_name(self):\n",
    "        return self.name + \"(税込)\"\n",
    " \n",
    "    # MyProductSalesTaxにget_price_with_taxを新規実装します\n",
    "    def get_price_with_tax(self):\n",
    "        return int(self.price * (1 + self.tax_rate))\n",
    "    \n",
    "    # MyProductのsummaryメソッドをオーバーライドしてsummaryが税込み価格を出力するようにしてください\n",
    "    def summary(self):\n",
    "        message = \"called summary().\\n name: \" + self.get_name() + \\\n",
    "                    \"\\n price: \" + str(self.get_price_with_tax()+0) + \\\n",
    "                    \"\\n stock: \" + str(self.stock) + \\\n",
    "                    \"\\n sales: \" + str(self.sales)\n",
    "        print(message)\n",
    "\n",
    "\n",
    "product_3 = MyProductSalesTax(\"phone\", 30000, 100, 0.1)\n",
    "print(product_3.get_name())\n",
    "print(product_3.get_price_with_tax())\n",
    "product_3.summary()"
   ]
  },
  {
   "cell_type": "markdown",
   "metadata": {},
   "source": [
    "**リスト 6.52：解答例**"
   ]
  },
  {
   "cell_type": "markdown",
   "metadata": {
    "id": "section_name",
    "sectionId": "r1pdAQ-xbf"
   },
   "source": [
    "## ●6.4 Appendix"
   ]
  },
  {
   "cell_type": "markdown",
   "metadata": {
    "courseId": 3010,
    "exerciseId": "BJcY4tlwef",
    "id": "code_session_name",
    "important": true,
    "isDL": false,
    "timeoutSecs": 5
   },
   "source": [
    "### 〇6.4.1 文字列のフォーマット指定"
   ]
  },
  {
   "cell_type": "code",
   "execution_count": 47,
   "metadata": {},
   "outputs": [
    {
     "name": "stdout",
     "output_type": "stream",
     "text": [
      "円周率は3.141592\n",
      "円周率は3.14\n"
     ]
    }
   ],
   "source": [
    "pai = 3.141592\n",
    "print(\"円周率は%f\" % pai)  \n",
    "print(\"円周率は%.2f\" % pai)  "
   ]
  },
  {
   "cell_type": "markdown",
   "metadata": {},
   "source": [
    "**リスト 6.53：文字列のフォーマット指定の例**"
   ]
  },
  {
   "cell_type": "markdown",
   "metadata": {},
   "source": [
    "#### □問題"
   ]
  },
  {
   "cell_type": "code",
   "execution_count": null,
   "metadata": {
    "collapsed": true,
    "id": "index"
   },
   "outputs": [],
   "source": [
    "def bmi(height, weight):\n",
    "    return weight / height**2\n",
    "\n",
    "# 「bmiは＊＊です」と出力させてください\n",
    "print(\"bmiは___です\" % ______)"
   ]
  },
  {
   "cell_type": "markdown",
   "metadata": {},
   "source": [
    "#### □解答例"
   ]
  },
  {
   "cell_type": "code",
   "execution_count": 48,
   "metadata": {
    "id": "answer"
   },
   "outputs": [
    {
     "name": "stdout",
     "output_type": "stream",
     "text": [
      "bmiは23.8751です\n"
     ]
    }
   ],
   "source": [
    "def bmi(height, weight):\n",
    "    return weight / height**2\n",
    "\n",
    "# 「bmiは＊＊です」と出力させてください\n",
    "print(\"bmiは%.4fです\" % bmi(1.65, 65))"
   ]
  },
  {
   "cell_type": "markdown",
   "metadata": {},
   "source": [
    "**リスト 6.55：解答例**"
   ]
  },
  {
   "cell_type": "markdown",
   "metadata": {
    "id": "chapter_exam"
   },
   "source": [
    "## ●添削問題"
   ]
  },
  {
   "cell_type": "markdown",
   "metadata": {},
   "source": [
    "#### □問題"
   ]
  },
  {
   "cell_type": "code",
   "execution_count": null,
   "metadata": {
    "collapsed": true,
    "id": "index"
   },
   "outputs": [],
   "source": [
    "# 関数check_characterを作成してください\n",
    "\n",
    "\n",
    "# 関数check_characterに入力してください\n"
   ]
  },
  {
   "cell_type": "markdown",
   "metadata": {},
   "source": [
    "**リスト 6.56：問題**"
   ]
  },
  {
   "cell_type": "markdown",
   "metadata": {},
   "source": [
    "#### □解答例"
   ]
  },
  {
   "cell_type": "code",
   "execution_count": 49,
   "metadata": {
    "id": "answer"
   },
   "outputs": [
    {
     "name": "stdout",
     "output_type": "stream",
     "text": [
      "5\n",
      "1\n"
     ]
    }
   ],
   "source": [
    "# 関数check_characterを作成してください\n",
    "def check_character(object, character):\n",
    "    return object.count(character)\n",
    "\n",
    "# 関数check_characterに入力してください\n",
    "print(check_character([1, 3, 4, 5, 6, 4, 3, 2, 1, 3, 3, 4, 3], 3))\n",
    "print(check_character(\"asdgaoirnoiafvnwoeo\", \"d\"))"
   ]
  },
  {
   "cell_type": "markdown",
   "metadata": {},
   "source": [
    "**リスト 6.57：解答例**"
   ]
  },
  {
   "cell_type": "markdown",
   "metadata": {},
   "source": [
    "## ●総合添削問題"
   ]
  },
  {
   "cell_type": "markdown",
   "metadata": {},
   "source": [
    "#### □問題"
   ]
  },
  {
   "cell_type": "code",
   "execution_count": null,
   "metadata": {},
   "outputs": [],
   "source": [
    "# 関数 binary_search の中を作成してください\n",
    "def binary_search(numbers, target_number):\n",
    "    \n",
    "# 探索するデータ\n",
    "numbers = [1, 2, 3, 4, 5, 6, 7, 8, 9, 10, 11, 12, 13]\n",
    "# 探索したい値\n",
    "target_number = 11\n",
    "# バイナリーサーチの実行\n",
    "binary_search(numbers, target_number)"
   ]
  },
  {
   "cell_type": "markdown",
   "metadata": {},
   "source": [
    "**リスト 6.58：問題**\n"
   ]
  },
  {
   "cell_type": "code",
   "execution_count": 50,
   "metadata": {},
   "outputs": [
    {
     "name": "stdout",
     "output_type": "stream",
     "text": [
      "11 は 10 番 目 に あ り ま す \n"
     ]
    }
   ],
   "source": [
    "# 関数 binary_search の中を作成してください\n",
    "def binary_search(numbers, target_number):\n",
    "    # 最小値を仮決め\n",
    "    low = 0\n",
    "    # 範囲内の最大値\n",
    "    high = len(numbers)\n",
    "    # 目的地を探し出すまでループ\n",
    "    while low <= high:\n",
    "        # 中央値を求めます (index)\n",
    "        middle = (low + high) // 2\n",
    "        # 中央値の numbers の値と target_number が等しい場合\n",
    "        if numbers[middle] == target_number:\n",
    "            # 出力します\n",
    "            print(\"{1} は {0} 番 目 に あ り ま す \".format(middle,  target_number))\n",
    "            # 終了させます\n",
    "            break\n",
    "        # 中央値の numbers の値が target_number より小さい場合\n",
    "        elif numbers[middle] < target_number:\n",
    "            low = middle + 1\n",
    "        # 中央値の numbers の値が target_number より大きい場合\n",
    "        else:\n",
    "            high = middle - 1\n",
    "            \n",
    "# 探索するデータ       \n",
    "numbers = [1, 2, 3, 4, 5, 6, 7, 8, 9, 10, 11, 12, 13]\n",
    "# 探索したい値\n",
    "target_number = 11\n",
    "# バイナリーサーチの実行\n",
    "binary_search(numbers, target_number)"
   ]
  }
 ],
 "metadata": {
  "celltoolbar": "Edit Metadata",
  "kernelspec": {
   "display_name": "Python 3",
   "language": "python",
   "name": "python3"
  },
  "language_info": {
   "codemirror_mode": {
    "name": "ipython",
    "version": 3
   },
   "file_extension": ".py",
   "mimetype": "text/x-python",
   "name": "python",
   "nbconvert_exporter": "python",
   "pygments_lexer": "ipython3",
   "version": "3.6.6"
  },
  "varInspector": {
   "cols": {
    "lenName": 16,
    "lenType": 16,
    "lenVar": 40
   },
   "kernels_config": {
    "python": {
     "delete_cmd_postfix": "",
     "delete_cmd_prefix": "del ",
     "library": "var_list.py",
     "varRefreshCmd": "print(var_dic_list())"
    },
    "r": {
     "delete_cmd_postfix": ") ",
     "delete_cmd_prefix": "rm(",
     "library": "var_list.r",
     "varRefreshCmd": "cat(var_dic_list()) "
    }
   },
   "types_to_exclude": [
    "module",
    "function",
    "builtin_function_or_method",
    "instance",
    "_Feature"
   ],
   "window_display": false
  }
 },
 "nbformat": 4,
 "nbformat_minor": 2
}
