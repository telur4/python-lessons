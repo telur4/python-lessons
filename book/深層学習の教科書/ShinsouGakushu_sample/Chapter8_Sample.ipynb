{
 "cells": [
  {
   "cell_type": "markdown",
   "metadata": {
    "chapterId": "SyMl_A7ZxWf",
    "id": "chapter_name"
   },
   "source": [
    "#  Chapter8 Pandasの基礎"
   ]
  },
  {
   "cell_type": "markdown",
   "metadata": {
    "id": "table"
   },
   "source": [
    "- **8.1 Pandasの概観**\n",
    "    - **8.1.1 Pandasとは**\n",
    "    - **8.2.2 SeriesとDataFrameのデータの確認**\n",
    "<br><br>\n",
    "- **8.2 Series**\n",
    "    - **8.2.1 Seriesを生成する**\n",
    "    - **8.2.2 参照**\n",
    "    - **8.2.3 データ、インデックスを取り出す**\n",
    "    - **8.2.4 要素を追加する**\n",
    "    - **8.2.5 要素を削除する**\n",
    "    - **8.2.6 フィルタリング**\n",
    "    - **8.2.7 ソート**\n",
    "<br><br>\n",
    "- **8.3 DataFrame**\n",
    "    - **8.3.1 DataFrameの生成**\n",
    "    - **8.3.2 インデックスとカラムを設定する**\n",
    "    - **8.3.3 行を追加する**\n",
    "    - **8.3.4 列を追加する**\n",
    "    - **8.3.5 データの参照**\n",
    "    - **8.3.6 名前による参照**\n",
    "    - **8.3.7 番号による参照**\n",
    "    - **8.3.8 行または列の削除**\n",
    "    - **8.3.9 ソート**\n",
    "    - **8.3.10 フィルタリング**\n",
    "<br><br>\n",
    "- **添削問題**"
   ]
  },
  {
   "cell_type": "markdown",
   "metadata": {
    "id": "section_name",
    "sectionId": "S1mlO0Q-gZf"
   },
   "source": [
    "## ●8.1 Pandasの概観"
   ]
  },
  {
   "cell_type": "markdown",
   "metadata": {},
   "source": [
    "### 〇8.1.1 Pandas とは"
   ]
  },
  {
   "cell_type": "markdown",
   "metadata": {},
   "source": [
    "この項にサンプルはありません"
   ]
  },
  {
   "cell_type": "markdown",
   "metadata": {
    "courseId": 4010,
    "exerciseId": "SkJNF3IjUef",
    "id": "code_session_name",
    "important": true,
    "isDL": false,
    "timeoutSecs": 5
   },
   "source": [
    "### 〇8.1.2 SeriesとDataFrameのデータの確認"
   ]
  },
  {
   "cell_type": "code",
   "execution_count": 1,
   "metadata": {},
   "outputs": [
    {
     "name": "stdout",
     "output_type": "stream",
     "text": [
      "banana    3\n",
      "orange    2\n",
      "dtype: int64\n"
     ]
    }
   ],
   "source": [
    "# Pandas を pd として importします\n",
    "import pandas as pd\n",
    "# Series のデータです\n",
    "fruits = {\"orange\": 2, \"banana\": 3}\n",
    "print(pd.Series(fruits))"
   ]
  },
  {
   "cell_type": "markdown",
   "metadata": {},
   "source": [
    "**リスト 8.1：Series と DataFrame のデータの例①**"
   ]
  },
  {
   "cell_type": "code",
   "execution_count": 4,
   "metadata": {},
   "outputs": [
    {
     "name": "stdout",
     "output_type": "stream",
     "text": [
      "       fruits  time  year\n",
      "0       apple     1  2001\n",
      "1      orange     4  2002\n",
      "2      banana     5  2001\n",
      "3  strawberry     6  2008\n",
      "4   kiwifruit     3  2006\n"
     ]
    }
   ],
   "source": [
    "# Pandas を pd として importします\n",
    "import pandas as pd\n",
    "\n",
    "# DataFrameのデータです\n",
    "data = {\"fruits\": [\"apple\", \"orange\", \"banana\", \"strawberry\", \"kiwifruit\"],\n",
    "        \"year\": [2001, 2002, 2001, 2008, 2006],\n",
    "        \"time\": [1, 4, 5, 6, 3]}\n",
    "df = pd.DataFrame(data)\n",
    "print(df)"
   ]
  },
  {
   "cell_type": "markdown",
   "metadata": {},
   "source": [
    "**リスト 8.2：Series と DataFrame のデータの例②**"
   ]
  },
  {
   "cell_type": "markdown",
   "metadata": {},
   "source": [
    "#### □問題"
   ]
  },
  {
   "cell_type": "code",
   "execution_count": null,
   "metadata": {
    "collapsed": true,
    "id": "index",
    "scrolled": true
   },
   "outputs": [],
   "source": [
    "# pandasをpdとしてimportします\n",
    "import pandas as pd\n",
    "\n",
    "# Series用のラベル作成（インデックス）します\n",
    "index = [\"apple\", \"orange\", \"banana\", \"strawberry\", \"kiwifruit\"]\n",
    "\n",
    "# Series用のデータ値の代入します\n",
    "data = [10, 5, 8, 12, 3]\n",
    "\n",
    "# Series作成します\n",
    "series = pd.Series(data, index=index)\n",
    "\n",
    "\n",
    "# 辞書型を用いてDataFrame用のデータの作成します\n",
    "data = {\"fruits\": [\"apple\", \"orange\", \"banana\", \"strawberry\", \"kiwifruit\"],\n",
    "        \"year\": [2001, 2002, 2001, 2008, 2006],\n",
    "        \"time\": [1, 4, 5, 6, 3]}\n",
    "\n",
    "# DataFrameを作成します\n",
    "df = pd.DataFrame(data)\n",
    "\n",
    "print(\"Seriesデータ\")\n",
    "print(series)\n",
    "print(\"\\n\")\n",
    "print(\"DataFrameデータ\")\n",
    "print(df)"
   ]
  },
  {
   "cell_type": "markdown",
   "metadata": {},
   "source": [
    "**リスト 8.3：問題**"
   ]
  },
  {
   "cell_type": "markdown",
   "metadata": {},
   "source": [
    "#### □解答例"
   ]
  },
  {
   "cell_type": "code",
   "execution_count": 5,
   "metadata": {
    "id": "answer",
    "scrolled": true
   },
   "outputs": [
    {
     "name": "stdout",
     "output_type": "stream",
     "text": [
      "Seriesデータ\n",
      "apple         10\n",
      "orange         5\n",
      "banana         8\n",
      "strawberry    12\n",
      "kiwifruit      3\n",
      "dtype: int64\n",
      "\n",
      "\n",
      "DataFrameデータ\n",
      "       fruits  time  year\n",
      "0       apple     1  2001\n",
      "1      orange     4  2002\n",
      "2      banana     5  2001\n",
      "3  strawberry     6  2008\n",
      "4   kiwifruit     3  2006\n"
     ]
    }
   ],
   "source": [
    "# pandasをpdとしてimportします\n",
    "import pandas as pd\n",
    "\n",
    "# Series用のラベル作成（インデックス）します\n",
    "index = [\"apple\", \"orange\", \"banana\", \"strawberry\", \"kiwifruit\"]\n",
    "\n",
    "# Series用のデータ値の代入します\n",
    "data = [10, 5, 8, 12, 3]\n",
    "\n",
    "# Series作成します\n",
    "series = pd.Series(data, index=index)\n",
    "\n",
    "\n",
    "# 辞書型を用いてDataFrame用のデータの作成します\n",
    "data = {\"fruits\": [\"apple\", \"orange\", \"banana\", \"strawberry\", \"kiwifruit\"],\n",
    "        \"year\": [2001, 2002, 2001, 2008, 2006],\n",
    "        \"time\": [1, 4, 5, 6, 3]}\n",
    "\n",
    "# DataFrameを作成します\n",
    "df = pd.DataFrame(data)\n",
    "\n",
    "print(\"Seriesデータ\")\n",
    "print(series)\n",
    "print(\"\\n\")\n",
    "print(\"DataFrameデータ\")\n",
    "print(df)"
   ]
  },
  {
   "cell_type": "markdown",
   "metadata": {},
   "source": [
    "**リスト 8.4：解答**"
   ]
  },
  {
   "cell_type": "markdown",
   "metadata": {
    "id": "section_name",
    "sectionId": "SJEe_RQZg-z"
   },
   "source": [
    "## ●8.2 Series"
   ]
  },
  {
   "cell_type": "markdown",
   "metadata": {
    "courseId": 4010,
    "exerciseId": "SJgEFnIsUxM",
    "id": "code_session_name",
    "important": true,
    "isDL": false,
    "timeoutSecs": 5
   },
   "source": [
    "### 〇8.2.1 Seriesを生成する"
   ]
  },
  {
   "cell_type": "code",
   "execution_count": 6,
   "metadata": {},
   "outputs": [
    {
     "name": "stdout",
     "output_type": "stream",
     "text": [
      "banana    3\n",
      "orange    2\n",
      "dtype: int64\n"
     ]
    }
   ],
   "source": [
    "# pandasをpdとしてimportします\n",
    "import pandas as pd\n",
    "\n",
    "fruits = {\"banana\": 3, \"orange\": 2}\n",
    "print(pd.Series(fruits))"
   ]
  },
  {
   "cell_type": "markdown",
   "metadata": {},
   "source": [
    "**リスト 8.5：Series の生成例**"
   ]
  },
  {
   "cell_type": "markdown",
   "metadata": {},
   "source": [
    "#### □問題"
   ]
  },
  {
   "cell_type": "code",
   "execution_count": null,
   "metadata": {
    "collapsed": true,
    "id": "index",
    "scrolled": true
   },
   "outputs": [],
   "source": [
    "# pandasをpdとしてimportします\n",
    "\n",
    "\n",
    "index = [\"apple\", \"orange\", \"banana\", \"strawberry\", \"kiwifruit\"]\n",
    "data = [10, 5, 8, 12, 3]\n",
    "\n",
    "# indexとdataを含むSeriesを作成しseriesに代入してください\n",
    "\n",
    "\n",
    "print(series)"
   ]
  },
  {
   "cell_type": "markdown",
   "metadata": {},
   "source": [
    "**リスト 8.6：問題**"
   ]
  },
  {
   "cell_type": "markdown",
   "metadata": {},
   "source": [
    "#### □解答例"
   ]
  },
  {
   "cell_type": "code",
   "execution_count": 7,
   "metadata": {
    "id": "answer",
    "scrolled": true
   },
   "outputs": [
    {
     "name": "stdout",
     "output_type": "stream",
     "text": [
      "apple         10\n",
      "orange         5\n",
      "banana         8\n",
      "strawberry    12\n",
      "kiwifruit      3\n",
      "dtype: int64\n"
     ]
    }
   ],
   "source": [
    "# pandasをpdとしてimportします\n",
    "import pandas as pd\n",
    "\n",
    "index = [\"apple\", \"orange\", \"banana\", \"strawberry\", \"kiwifruit\"]\n",
    "data = [10, 5, 8, 12, 3]\n",
    "\n",
    "# indexとdataを含むSeriesを作成しseriesに代入してください\n",
    "series = pd.Series(data, index=index)\n",
    "\n",
    "print(series)"
   ]
  },
  {
   "cell_type": "markdown",
   "metadata": {},
   "source": [
    "**リスト 8.7：解答例**"
   ]
  },
  {
   "cell_type": "markdown",
   "metadata": {
    "courseId": 4010,
    "exerciseId": "SJZ4thLsUlz",
    "id": "code_session_name",
    "important": true,
    "isDL": false,
    "timeoutSecs": 5
   },
   "source": [
    "### 〇8.2.2 参照"
   ]
  },
  {
   "cell_type": "code",
   "execution_count": 2,
   "metadata": {},
   "outputs": [
    {
     "name": "stdout",
     "output_type": "stream",
     "text": [
      "banana    3\n",
      "grape     1\n",
      "dtype: int64\n"
     ]
    }
   ],
   "source": [
    "import pandas as pd\n",
    "fruits = {\"banana\": 3, \"orange\": 4, \"grape\": 1, \"peach\": 5}\n",
    "series = pd.Series(fruits)\n",
    "print(series[0:2])"
   ]
  },
  {
   "cell_type": "markdown",
   "metadata": {},
   "source": [
    "**リスト 8.8：参照の例①**"
   ]
  },
  {
   "cell_type": "code",
   "execution_count": 11,
   "metadata": {},
   "outputs": [
    {
     "name": "stdout",
     "output_type": "stream",
     "text": [
      "orange    4\n",
      "peach     5\n",
      "dtype: int64\n"
     ]
    }
   ],
   "source": [
    "print(series[[\"orange\", \"peach\"]])"
   ]
  },
  {
   "cell_type": "markdown",
   "metadata": {},
   "source": [
    "**リスト 8.9：参照の例②** "
   ]
  },
  {
   "cell_type": "markdown",
   "metadata": {},
   "source": [
    "#### □問題"
   ]
  },
  {
   "cell_type": "code",
   "execution_count": null,
   "metadata": {},
   "outputs": [],
   "source": [
    "import pandas as pd\n",
    "\n",
    "index = [\"apple\", \"orange\", \"banana\", \"strawberry\", \"kiwifruit\"]\n",
    "data = [10, 5, 8, 12, 3]\n",
    "series = pd.Series(data, index=index)\n",
    "\n",
    "# インデックス参照を用いてseriesの2つ目から4つ目までの3つの要素を取り出してitems1に代入してください\n",
    "\n",
    "\n",
    "# インデックス値を指定する方法を用いて\"apple\", \"banana\", \"kiwifruit\"のインデックスを持つ要素を取り出してitems2に代入してください\n",
    "\n",
    "\n",
    "print(items1)\n",
    "print()\n",
    "print(items2)"
   ]
  },
  {
   "cell_type": "markdown",
   "metadata": {},
   "source": [
    "**リスト 8.10：問題**　インデックスを"
   ]
  },
  {
   "cell_type": "markdown",
   "metadata": {},
   "source": [
    "#### □解答例"
   ]
  },
  {
   "cell_type": "code",
   "execution_count": 9,
   "metadata": {
    "id": "answer",
    "scrolled": true
   },
   "outputs": [
    {
     "name": "stdout",
     "output_type": "stream",
     "text": [
      "orange         5\n",
      "banana         8\n",
      "strawberry    12\n",
      "dtype: int64\n",
      "\n",
      "apple        10\n",
      "banana        8\n",
      "kiwifruit     3\n",
      "dtype: int64\n"
     ]
    }
   ],
   "source": [
    "import pandas as pd\n",
    "\n",
    "index = [\"apple\", \"orange\", \"banana\", \"strawberry\", \"kiwifruit\"]\n",
    "data = [10, 5, 8, 12, 3]\n",
    "series = pd.Series(data, index=index)\n",
    "\n",
    "# インデックス参照を用いてseriesの2つ目から4つ目までの3つの要素を取り出してitems1に代入してください\n",
    "items1 = series[1:4]\n",
    "\n",
    "# インデックス値を指定する方法を用いて\"apple\", \"banana\", \"kiwifruit\"のインデックスを持つ要素を取り出してitems2に代入してください\n",
    "items2 = series[[\"apple\", \"banana\", \"kiwifruit\"]]\n",
    "\n",
    "print(items1)\n",
    "print()\n",
    "print(items2)"
   ]
  },
  {
   "cell_type": "markdown",
   "metadata": {},
   "source": [
    "**リスト 8.11：解答例**　インデックス「を」"
   ]
  },
  {
   "cell_type": "markdown",
   "metadata": {
    "courseId": 4010,
    "exerciseId": "S1GEt28oUeG",
    "id": "code_session_name",
    "important": true,
    "isDL": false,
    "timeoutSecs": 5
   },
   "source": [
    "### 〇8.2.3 データ、インデックスを取り出す"
   ]
  },
  {
   "cell_type": "markdown",
   "metadata": {},
   "source": [
    "#### □問題"
   ]
  },
  {
   "cell_type": "code",
   "execution_count": null,
   "metadata": {},
   "outputs": [],
   "source": [
    "import pandas as pd\n",
    "\n",
    "index = [\"apple\", \"orange\", \"banana\", \"strawberry\", \"kiwifruit\"]\n",
    "data = [10, 5, 8, 12, 3]\n",
    "series = pd.Series(data, index=index)\n",
    "\n",
    "# series_valuesにseriesのデータを代入してください\n",
    "\n",
    "\n",
    "# series_indexにseriesのインデックスを代入してください\n",
    "\n",
    "\n",
    "print(series_values)\n",
    "print(series_index)"
   ]
  },
  {
   "cell_type": "markdown",
   "metadata": {},
   "source": [
    "**リスト 8.12：問題**"
   ]
  },
  {
   "cell_type": "markdown",
   "metadata": {},
   "source": [
    "#### □解答例"
   ]
  },
  {
   "cell_type": "code",
   "execution_count": 10,
   "metadata": {
    "id": "answer",
    "scrolled": true
   },
   "outputs": [
    {
     "name": "stdout",
     "output_type": "stream",
     "text": [
      "[10  5  8 12  3]\n",
      "Index(['apple', 'orange', 'banana', 'strawberry', 'kiwifruit'], dtype='object')\n"
     ]
    }
   ],
   "source": [
    "import pandas as pd\n",
    "\n",
    "index = [\"apple\", \"orange\", \"banana\", \"strawberry\", \"kiwifruit\"]\n",
    "data = [10, 5, 8, 12, 3]\n",
    "series = pd.Series(data, index=index)\n",
    "\n",
    "# series_valuesにseriesのデータを代入してください\n",
    "series_values = series.values\n",
    "\n",
    "# series_indexにseriesのインデックスを代入してください\n",
    "series_index = series.index\n",
    "\n",
    "print(series_values)\n",
    "print(series_index)"
   ]
  },
  {
   "cell_type": "markdown",
   "metadata": {},
   "source": [
    "**リスト 8.13：解答例**"
   ]
  },
  {
   "cell_type": "markdown",
   "metadata": {
    "courseId": 4010,
    "exerciseId": "Hy7Nt2LjIeG",
    "id": "code_session_name",
    "important": true,
    "isDL": false,
    "timeoutSecs": 5
   },
   "source": [
    "### 〇8.2.4 要素を追加する"
   ]
  },
  {
   "cell_type": "code",
   "execution_count": 12,
   "metadata": {},
   "outputs": [],
   "source": [
    "fruits = {\"banana\": 3, \"orange\": 2}\n",
    "series = pd.Series(fruits)\n",
    "series = series.append(pd.Series([3], index=[\"grape\"]))"
   ]
  },
  {
   "cell_type": "markdown",
   "metadata": {},
   "source": [
    "**リスト 8.14：要素を追加する例**"
   ]
  },
  {
   "cell_type": "markdown",
   "metadata": {},
   "source": [
    "#### □問題"
   ]
  },
  {
   "cell_type": "code",
   "execution_count": null,
   "metadata": {
    "collapsed": true,
    "id": "index",
    "scrolled": true
   },
   "outputs": [],
   "source": [
    "import pandas as pd\n",
    "\n",
    "index = [\"apple\", \"orange\", \"banana\", \"strawberry\", \"kiwifruit\"]\n",
    "data = [10, 5, 8, 12, 3]\n",
    "series = pd.Series(data, index=index)\n",
    "\n",
    "# seriesに、インデックスが\"pineapple\"、データが12の要素を追加してください\n",
    "\n",
    "\n",
    "\n",
    "print(series)"
   ]
  },
  {
   "cell_type": "markdown",
   "metadata": {},
   "source": [
    "**リスト 8.15：問題**"
   ]
  },
  {
   "cell_type": "markdown",
   "metadata": {},
   "source": [
    "#### □解答例"
   ]
  },
  {
   "cell_type": "code",
   "execution_count": 14,
   "metadata": {
    "id": "answer",
    "scrolled": true
   },
   "outputs": [
    {
     "name": "stdout",
     "output_type": "stream",
     "text": [
      "apple         10\n",
      "orange         5\n",
      "banana         8\n",
      "strawberry    12\n",
      "kiwifruit      3\n",
      "pineapple     12\n",
      "dtype: int64\n"
     ]
    }
   ],
   "source": [
    "import pandas as pd\n",
    "\n",
    "index = [\"apple\", \"orange\", \"banana\", \"strawberry\", \"kiwifruit\"]\n",
    "data = [10, 5, 8, 12, 3]\n",
    "series = pd.Series(data, index=index)\n",
    "\n",
    "# seriesに、インデックスが\"pineapple\"、データが12の要素を追加してください\n",
    "pineapple = pd.Series([12], index=[\"pineapple\"])\n",
    "series = series.append(pineapple)\n",
    "#series = series.append(pd.Series({\"pineapple\":12}))でもOK\n",
    "\n",
    "print(series)"
   ]
  },
  {
   "cell_type": "markdown",
   "metadata": {},
   "source": [
    "**リスト 8.15：解答例**"
   ]
  },
  {
   "cell_type": "markdown",
   "metadata": {
    "courseId": 4010,
    "exerciseId": "Hk4NKn8oLeM",
    "id": "code_session_name",
    "important": true,
    "isDL": false,
    "timeoutSecs": 5
   },
   "source": [
    "### 〇8.2.5 要素を削除する"
   ]
  },
  {
   "cell_type": "markdown",
   "metadata": {},
   "source": [
    "#### □問題"
   ]
  },
  {
   "cell_type": "code",
   "execution_count": 17,
   "metadata": {
    "id": "index",
    "scrolled": true
   },
   "outputs": [
    {
     "name": "stdout",
     "output_type": "stream",
     "text": [
      "apple         10\n",
      "orange         5\n",
      "banana         8\n",
      "strawberry    12\n",
      "kiwifruit      3\n",
      "dtype: int64\n"
     ]
    }
   ],
   "source": [
    "import pandas as pd\n",
    "\n",
    "index = [\"apple\", \"orange\", \"banana\", \"strawberry\", \"kiwifruit\"]\n",
    "data = [10, 5, 8, 12, 3]\n",
    "\n",
    "# indexとdataを含むSeriesを作成しseriesに代入します\n",
    "series = pd.Series(data, index=index)\n",
    "\n",
    "# インデックスがstrawberryの要素を削除してseriesに代入してください\n",
    "\n",
    "\n",
    "print(series)"
   ]
  },
  {
   "cell_type": "markdown",
   "metadata": {},
   "source": [
    "**リスト 8.17：問題**"
   ]
  },
  {
   "cell_type": "markdown",
   "metadata": {},
   "source": [
    "#### □解答例"
   ]
  },
  {
   "cell_type": "code",
   "execution_count": 15,
   "metadata": {
    "id": "answer",
    "scrolled": true
   },
   "outputs": [
    {
     "name": "stdout",
     "output_type": "stream",
     "text": [
      "apple        10\n",
      "orange        5\n",
      "banana        8\n",
      "kiwifruit     3\n",
      "dtype: int64\n"
     ]
    }
   ],
   "source": [
    "import pandas as pd\n",
    "\n",
    "index = [\"apple\", \"orange\", \"banana\", \"strawberry\", \"kiwifruit\"]\n",
    "data = [10, 5, 8, 12, 3]\n",
    "\n",
    "# indexとdataを含むSeriesを作成しseriesに代入します\n",
    "series = pd.Series(data, index=index)\n",
    "\n",
    "# インデックスがstrawberryの要素を削除してseriesに代入してください\n",
    "series = series.drop(\"strawberry\")\n",
    "\n",
    "print(series)"
   ]
  },
  {
   "cell_type": "markdown",
   "metadata": {},
   "source": [
    "**リスト 8.18：解答例**"
   ]
  },
  {
   "cell_type": "markdown",
   "metadata": {
    "courseId": 4010,
    "exerciseId": "ByB4thIjIgG",
    "id": "code_session_name",
    "important": false,
    "isDL": false,
    "timeoutSecs": 5
   },
   "source": [
    "### 〇8.2.6 フィルタリング"
   ]
  },
  {
   "cell_type": "code",
   "execution_count": 19,
   "metadata": {},
   "outputs": [
    {
     "name": "stdout",
     "output_type": "stream",
     "text": [
      "apple     10\n",
      "orange     5\n",
      "dtype: int64\n"
     ]
    }
   ],
   "source": [
    "index = [\"apple\", \"orange\", \"banana\", \"strawberry\", \"kiwifruit\"]\n",
    "data = [10, 5, 8, 12, 3]\n",
    "series = pd.Series(data, index=index)\n",
    "\n",
    "conditions = [True, True, False, False, False]\n",
    "print(series[conditions])"
   ]
  },
  {
   "cell_type": "markdown",
   "metadata": {},
   "source": [
    "**リスト 8.19：フィルタリングの例①**"
   ]
  },
  {
   "cell_type": "code",
   "execution_count": 81,
   "metadata": {},
   "outputs": [
    {
     "name": "stdout",
     "output_type": "stream",
     "text": [
      "apple         10\n",
      "orange         5\n",
      "banana         8\n",
      "strawberry    12\n",
      "dtype: int64\n"
     ]
    }
   ],
   "source": [
    "print(series[series >= 5])"
   ]
  },
  {
   "cell_type": "markdown",
   "metadata": {},
   "source": [
    "**リスト 8.20：フィルタリングの例②**"
   ]
  },
  {
   "cell_type": "markdown",
   "metadata": {},
   "source": [
    "#### □問題"
   ]
  },
  {
   "cell_type": "code",
   "execution_count": null,
   "metadata": {
    "collapsed": true,
    "id": "index",
    "scrolled": true
   },
   "outputs": [],
   "source": [
    "import pandas as pd\n",
    "\n",
    "index = [\"apple\", \"orange\", \"banana\", \"strawberry\", \"kiwifruit\"]\n",
    "data = [10, 5, 8, 12, 3]\n",
    "series = pd.Series(data, index=index)\n",
    "\n",
    "# series内の要素のうち、値が5以上10未満の要素を含むSeriesを作り、seriesに再代入してください\n",
    "\n",
    "\n",
    "\n",
    "print(series)"
   ]
  },
  {
   "cell_type": "markdown",
   "metadata": {},
   "source": [
    "**リスト 8.21：問題**"
   ]
  },
  {
   "cell_type": "markdown",
   "metadata": {},
   "source": [
    "#### □解答例"
   ]
  },
  {
   "cell_type": "code",
   "execution_count": 88,
   "metadata": {
    "id": "answer",
    "scrolled": true
   },
   "outputs": [
    {
     "name": "stdout",
     "output_type": "stream",
     "text": [
      "orange    5\n",
      "banana    8\n",
      "dtype: int64\n"
     ]
    }
   ],
   "source": [
    "import pandas as pd\n",
    "\n",
    "index = [\"apple\", \"orange\", \"banana\", \"strawberry\", \"kiwifruit\"]\n",
    "data = [10, 5, 8, 12, 3]\n",
    "series = pd.Series(data, index=index)\n",
    "\n",
    "# series内の要素のうち、値が5以上10未満の要素を含むSeriesを作り、seriesに再代入してください\n",
    "series = series[series >= 5][series < 10]\n",
    "\n",
    "print(series)"
   ]
  },
  {
   "cell_type": "markdown",
   "metadata": {},
   "source": [
    "**リスト 8.22：解答例**"
   ]
  },
  {
   "cell_type": "markdown",
   "metadata": {
    "courseId": 4010,
    "exerciseId": "H1IEFnUoLeG",
    "id": "code_session_name",
    "important": true,
    "isDL": false,
    "timeoutSecs": 5
   },
   "source": [
    "### 〇8.2.7 ソート"
   ]
  },
  {
   "cell_type": "markdown",
   "metadata": {},
   "source": [
    "#### □問題"
   ]
  },
  {
   "cell_type": "code",
   "execution_count": null,
   "metadata": {
    "collapsed": true,
    "id": "index",
    "scrolled": true
   },
   "outputs": [],
   "source": [
    "import pandas as pd\n",
    "\n",
    "index = [\"apple\", \"orange\", \"banana\", \"strawberry\", \"kiwifruit\"]\n",
    "data = [10, 5, 8, 12, 3]\n",
    "series = pd.Series(data, index=index)\n",
    "\n",
    "# seriesをインデックスについてアルファベット順にソートしたSeriesをitems1に代入してください\n",
    "\n",
    "\n",
    "# seriesをデータについて値の大きさを昇順にソートしたSeriesをitems2に代入してください\n",
    "\n",
    "\n",
    "print(items1)\n",
    "print()\n",
    "print(items2)"
   ]
  },
  {
   "cell_type": "markdown",
   "metadata": {},
   "source": [
    "**リスト 8.23：問題**"
   ]
  },
  {
   "cell_type": "markdown",
   "metadata": {},
   "source": [
    "#### □解答例"
   ]
  },
  {
   "cell_type": "code",
   "execution_count": 20,
   "metadata": {
    "id": "answer",
    "scrolled": true
   },
   "outputs": [
    {
     "name": "stdout",
     "output_type": "stream",
     "text": [
      "apple         10\n",
      "banana         8\n",
      "kiwifruit      3\n",
      "orange         5\n",
      "strawberry    12\n",
      "dtype: int64\n",
      "\n",
      "kiwifruit      3\n",
      "orange         5\n",
      "banana         8\n",
      "apple         10\n",
      "strawberry    12\n",
      "dtype: int64\n"
     ]
    }
   ],
   "source": [
    "import pandas as pd\n",
    "\n",
    "index = [\"apple\", \"orange\", \"banana\", \"strawberry\", \"kiwifruit\"]\n",
    "data = [10, 5, 8, 12, 3]\n",
    "series = pd.Series(data, index=index)\n",
    "\n",
    "# seriesをインデックスについてアルファベット順にソートしたSeriesをitems1に代入してください\n",
    "items1 = series.sort_index()\n",
    "\n",
    "# seriesをデータについて値の大きさを昇順にソートしたSeriesをitems2に代入してください\n",
    "items2 = series.sort_values()\n",
    "\n",
    "print(items1)\n",
    "print()\n",
    "print(items2)"
   ]
  },
  {
   "cell_type": "markdown",
   "metadata": {},
   "source": [
    "**リスト 8.24：解答例**"
   ]
  },
  {
   "cell_type": "markdown",
   "metadata": {
    "id": "section_name",
    "sectionId": "S1SxOAXbe-G"
   },
   "source": [
    "## ●8.3 DataFrame"
   ]
  },
  {
   "cell_type": "markdown",
   "metadata": {
    "courseId": 4010,
    "exerciseId": "SkDVthLiLxM",
    "id": "code_session_name",
    "important": true,
    "isDL": false,
    "timeoutSecs": 5
   },
   "source": [
    "### 〇8.3.1 DataFrameの生成"
   ]
  },
  {
   "cell_type": "code",
   "execution_count": 3,
   "metadata": {},
   "outputs": [
    {
     "name": "stdout",
     "output_type": "stream",
     "text": [
      "       fruits  time  year\n",
      "0       apple     1  2001\n",
      "1      orange     4  2002\n",
      "2      banana     5  2001\n",
      "3  strawberry     6  2008\n",
      "4   kiwifruit     3  2006\n"
     ]
    }
   ],
   "source": [
    "data = {\"fruits\": [\"apple\", \"orange\", \"banana\", \"strawberry\", \"kiwifruit\"],\n",
    "        \"year\": [2001, 2002, 2001, 2008, 2006],\n",
    "        \"time\": [1, 4, 5, 6, 3]}\n",
    "df = pd.DataFrame(data)\n",
    "print(df)"
   ]
  },
  {
   "cell_type": "markdown",
   "metadata": {},
   "source": [
    "**リスト 8.25：DataFrame の生成の例**"
   ]
  },
  {
   "cell_type": "markdown",
   "metadata": {},
   "source": [
    "#### □問題"
   ]
  },
  {
   "cell_type": "code",
   "execution_count": null,
   "metadata": {
    "collapsed": true,
    "id": "index",
    "scrolled": true
   },
   "outputs": [],
   "source": [
    "import pandas as pd\n",
    "\n",
    "index = [\"apple\", \"orange\", \"banana\", \"strawberry\", \"kiwifruit\"]\n",
    "data1 = [10, 5, 8, 12, 3]\n",
    "data2 = [30, 25, 12, 10, 8]\n",
    "series1 = pd.Series(data1, index=index)\n",
    "series2 = pd.Series(data2, index=index)\n",
    "\n",
    "# series1, series2からDataFrameを生成してdfに代入してください\n",
    "\n",
    "\n",
    "# 出力します\n",
    "print(df)"
   ]
  },
  {
   "cell_type": "markdown",
   "metadata": {},
   "source": [
    "**リスト 8.26：問題**"
   ]
  },
  {
   "cell_type": "markdown",
   "metadata": {},
   "source": [
    "#### □解答例"
   ]
  },
  {
   "cell_type": "code",
   "execution_count": 22,
   "metadata": {
    "id": "answer",
    "scrolled": true
   },
   "outputs": [
    {
     "name": "stdout",
     "output_type": "stream",
     "text": [
      "   apple  orange  banana  strawberry  kiwifruit\n",
      "0     10       5       8          12          3\n",
      "1     30      25      12          10          8\n"
     ]
    }
   ],
   "source": [
    "import pandas as pd\n",
    "\n",
    "index = [\"apple\", \"orange\", \"banana\", \"strawberry\", \"kiwifruit\"]\n",
    "data1 = [10, 5, 8, 12, 3]\n",
    "data2 = [30, 25, 12, 10, 8]\n",
    "series1 = pd.Series(data1, index=index)\n",
    "series2 = pd.Series(data2, index=index)\n",
    "\n",
    "# series1, series2からDataFrameを生成してdfに代入してください\n",
    "df = pd.DataFrame([series1, series2])\n",
    "\n",
    "# 出力します\n",
    "print(df)"
   ]
  },
  {
   "cell_type": "markdown",
   "metadata": {},
   "source": [
    "**リスト 8.27：解答例**"
   ]
  },
  {
   "cell_type": "markdown",
   "metadata": {
    "courseId": 4010,
    "exerciseId": "BytNK3IoUgM",
    "id": "code_session_name",
    "important": true,
    "isDL": false,
    "timeoutSecs": 5
   },
   "source": [
    "### 〇8.3.2 インデックスとカラムを設定する"
   ]
  },
  {
   "cell_type": "markdown",
   "metadata": {},
   "source": [
    "#### □問題"
   ]
  },
  {
   "cell_type": "code",
   "execution_count": null,
   "metadata": {
    "collapsed": true,
    "id": "index",
    "scrolled": true
   },
   "outputs": [],
   "source": [
    "import pandas as pd\n",
    "\n",
    "index = [\"apple\", \"orange\", \"banana\", \"strawberry\", \"kiwifruit\"]\n",
    "data1 = [10, 5, 8, 12, 3]\n",
    "data2 = [30, 25, 12, 10, 8]\n",
    "series1 = pd.Series(data1, index=index)\n",
    "series2 = pd.Series(data2, index=index)\n",
    "df = pd.DataFrame([series1, series2])\n",
    "\n",
    "# dfのインデックスが1から始まるように設定してください\n",
    "\n",
    "# 出力します\n",
    "print(df)"
   ]
  },
  {
   "cell_type": "markdown",
   "metadata": {},
   "source": [
    "**リスト 8.28：問題**"
   ]
  },
  {
   "cell_type": "markdown",
   "metadata": {},
   "source": [
    "#### □解答例"
   ]
  },
  {
   "cell_type": "code",
   "execution_count": 23,
   "metadata": {
    "id": "answer",
    "scrolled": true
   },
   "outputs": [
    {
     "name": "stdout",
     "output_type": "stream",
     "text": [
      "   apple  orange  banana  strawberry  kiwifruit\n",
      "1     10       5       8          12          3\n",
      "2     30      25      12          10          8\n"
     ]
    }
   ],
   "source": [
    "import pandas as pd\n",
    "\n",
    "index = [\"apple\", \"orange\", \"banana\", \"strawberry\", \"kiwifruit\"]\n",
    "data1 = [10, 5, 8, 12, 3]\n",
    "data2 = [30, 25, 12, 10, 8]\n",
    "series1 = pd.Series(data1, index=index)\n",
    "series2 = pd.Series(data2, index=index)\n",
    "df = pd.DataFrame([series1, series2])\n",
    "\n",
    "# dfのインデックスが1から始まるように設定してください\n",
    "df.index = [1, 2]\n",
    "\n",
    "# 出力します\n",
    "print(df)"
   ]
  },
  {
   "cell_type": "markdown",
   "metadata": {},
   "source": [
    "**リスト 8.29：解答例**"
   ]
  },
  {
   "cell_type": "markdown",
   "metadata": {
    "courseId": 4010,
    "exerciseId": "BJ5VF3LsIez",
    "id": "code_session_name",
    "important": true,
    "isDL": false,
    "timeoutSecs": 5
   },
   "source": [
    "### 〇8.3.3 行を追加する"
   ]
  },
  {
   "cell_type": "code",
   "execution_count": 24,
   "metadata": {},
   "outputs": [
    {
     "name": "stdout",
     "output_type": "stream",
     "text": [
      "       fruits  time  year\n",
      "0       apple     1  2001\n",
      "1      orange     4  2002\n",
      "2      banana     5  2001\n",
      "3  strawberry     6  2008\n",
      "4   kiwifruit     3  2006\n",
      "5       mango     7  2008\n"
     ]
    }
   ],
   "source": [
    "data = {\"fruits\": [\"apple\", \"orange\", \"banana\", \"strawberry\", \"kiwifruit\"],\n",
    "        \"year\": [2001, 2002, 2001, 2008, 2006],\n",
    "        \"time\": [1, 4, 5, 6, 3]}\n",
    "df = pd.DataFrame(data)\n",
    "series = pd.Series([\"mango\", 2008, 7], index=[\"fruits\", \"year\", \"time\"])\n",
    "\n",
    "df = df.append(series, ignore_index=True)\n",
    "print(df)"
   ]
  },
  {
   "cell_type": "markdown",
   "metadata": {},
   "source": [
    "**リスト 8.30：行を追加する例**"
   ]
  },
  {
   "cell_type": "markdown",
   "metadata": {},
   "source": [
    "#### □問題"
   ]
  },
  {
   "cell_type": "code",
   "execution_count": null,
   "metadata": {
    "collapsed": true,
    "id": "index",
    "scrolled": true
   },
   "outputs": [],
   "source": [
    "import pandas as pd\n",
    "\n",
    "index = [\"apple\", \"orange\", \"banana\", \"strawberry\", \"kiwifruit\"]\n",
    "data1 = [10, 5, 8, 12, 3]\n",
    "data2 = [30, 25, 12, 10, 8]\n",
    "data3 = [30, 12, 10, 8, 25, 3]\n",
    "series1 = pd.Series(data1, index=index)\n",
    "series2 = pd.Series(data2, index=index)\n",
    "# dfにseries3を追加し、dfに再代入してください\n",
    "index.append(\"pineapple\")\n",
    "series3 = pd.Series(data3, index=index)\n",
    "df = pd.DataFrame([series1, series2])\n",
    "#dfに再代入してください\n",
    "\n",
    "\n",
    "# 出力します\n",
    "# dfと追加するSeriesのインデックスが一致しない時の挙動を確認しましょう\n",
    "print(df)"
   ]
  },
  {
   "cell_type": "markdown",
   "metadata": {},
   "source": [
    "**リスト 8.31：問題**"
   ]
  },
  {
   "cell_type": "markdown",
   "metadata": {},
   "source": [
    "#### □解答例"
   ]
  },
  {
   "cell_type": "code",
   "execution_count": 25,
   "metadata": {
    "id": "answer",
    "scrolled": true
   },
   "outputs": [
    {
     "name": "stdout",
     "output_type": "stream",
     "text": [
      "   apple  orange  banana  strawberry  kiwifruit  pineapple\n",
      "0     10       5       8          12          3        NaN\n",
      "1     30      25      12          10          8        NaN\n",
      "2     30      12      10           8         25        3.0\n"
     ]
    }
   ],
   "source": [
    "import pandas as pd\n",
    "\n",
    "index = [\"apple\", \"orange\", \"banana\", \"strawberry\", \"kiwifruit\"]\n",
    "data1 = [10, 5, 8, 12, 3]\n",
    "data2 = [30, 25, 12, 10, 8]\n",
    "data3 = [30, 12, 10, 8, 25, 3]\n",
    "series1 = pd.Series(data1, index=index)\n",
    "series2 = pd.Series(data2, index=index)\n",
    "# dfにseries3を追加し、dfに再代入してください\n",
    "index.append(\"pineapple\")\n",
    "series3 = pd.Series(data3, index=index)\n",
    "df = pd.DataFrame([series1, series2])\n",
    "#dfに再代入してください\n",
    "df = df.append(series3, ignore_index=True)\n",
    "\n",
    "# 出力します\n",
    "# dfと追加するSeriesのインデックスが一致しない時の挙動を確認しましょう\n",
    "print(df)"
   ]
  },
  {
   "cell_type": "markdown",
   "metadata": {},
   "source": [
    "**リスト 8.32：解答例**"
   ]
  },
  {
   "cell_type": "markdown",
   "metadata": {
    "courseId": 4010,
    "exerciseId": "SJjVF3Uj8lf",
    "id": "code_session_name",
    "important": true,
    "isDL": false,
    "timeoutSecs": 5
   },
   "source": [
    "### 〇8.3.4 列を追加する"
   ]
  },
  {
   "cell_type": "code",
   "execution_count": 26,
   "metadata": {},
   "outputs": [
    {
     "name": "stdout",
     "output_type": "stream",
     "text": [
      "       fruits  time  year  price\n",
      "0       apple     1  2001    150\n",
      "1      orange     4  2002    120\n",
      "2      banana     5  2001    100\n",
      "3  strawberry     6  2008    300\n",
      "4   kiwifruit     3  2006    150\n"
     ]
    }
   ],
   "source": [
    "data = {\"fruits\": [\"apple\", \"orange\", \"banana\", \"strawberry\", \"kiwifruit\"],\n",
    "        \"year\": [2001, 2002, 2001, 2008, 2006],\n",
    "        \"time\": [1, 4, 5, 6, 3]}\n",
    "df = pd.DataFrame(data)\n",
    "\n",
    "df[\"price\"] = [150, 120, 100, 300, 150]\n",
    "print(df)"
   ]
  },
  {
   "cell_type": "markdown",
   "metadata": {},
   "source": [
    "**リスト 8.33：列を追加する例**"
   ]
  },
  {
   "cell_type": "markdown",
   "metadata": {},
   "source": [
    "#### □問題"
   ]
  },
  {
   "cell_type": "code",
   "execution_count": null,
   "metadata": {
    "collapsed": true,
    "id": "index",
    "scrolled": true
   },
   "outputs": [],
   "source": [
    "import pandas as pd\n",
    "\n",
    "index = [\"apple\", \"orange\", \"banana\", \"strawberry\", \"kiwifruit\"]\n",
    "data1 = [10, 5, 8, 12, 3]\n",
    "data2 = [30, 25, 12, 10, 8]\n",
    "series1 = pd.Series(data1, index=index)\n",
    "series2 = pd.Series(data2, index=index)\n",
    "\n",
    "new_column = pd.Series([15, 7], index=[0, 1])\n",
    "\n",
    "# series1, seires2からDataFrameを生成します\n",
    "df = pd.DataFrame([series1, series2])\n",
    "\n",
    "# dfの新しい列\"mango\"にnew_columnのデータを追加してください\n",
    "\n",
    "\n",
    "# 出力します\n",
    "print(df)"
   ]
  },
  {
   "cell_type": "markdown",
   "metadata": {},
   "source": [
    "**リスト8.34：問題**"
   ]
  },
  {
   "cell_type": "markdown",
   "metadata": {},
   "source": [
    "#### □解答例"
   ]
  },
  {
   "cell_type": "code",
   "execution_count": 27,
   "metadata": {
    "id": "answer",
    "scrolled": true
   },
   "outputs": [
    {
     "name": "stdout",
     "output_type": "stream",
     "text": [
      "   apple  orange  banana  strawberry  kiwifruit  mango\n",
      "0     10       5       8          12          3     15\n",
      "1     30      25      12          10          8      7\n"
     ]
    }
   ],
   "source": [
    "import pandas as pd\n",
    "\n",
    "index = [\"apple\", \"orange\", \"banana\", \"strawberry\", \"kiwifruit\"]\n",
    "data1 = [10, 5, 8, 12, 3]\n",
    "data2 = [30, 25, 12, 10, 8]\n",
    "series1 = pd.Series(data1, index=index)\n",
    "series2 = pd.Series(data2, index=index)\n",
    "\n",
    "new_column = pd.Series([15, 7], index=[0, 1])\n",
    "\n",
    "# series1, seires2からDataFrameを生成します\n",
    "df = pd.DataFrame([series1, series2])\n",
    "\n",
    "# dfの新しい列\"mango\"にnew_columnのデータを追加してください\n",
    "df[\"mango\"] = new_column\n",
    "\n",
    "# 出力します\n",
    "print(df)"
   ]
  },
  {
   "cell_type": "markdown",
   "metadata": {},
   "source": [
    "**リスト 8.35：解答例**"
   ]
  },
  {
   "cell_type": "markdown",
   "metadata": {
    "courseId": 4010,
    "exerciseId": "HJ24K2Us8lM",
    "id": "quiz_session_name",
    "important": true,
    "isDL": false,
    "timeoutSecs": 5
   },
   "source": [
    "### 〇8.3.5 データの参照"
   ]
  },
  {
   "cell_type": "markdown",
   "metadata": {},
   "source": [
    "この項にサンプルはありません"
   ]
  },
  {
   "cell_type": "markdown",
   "metadata": {
    "courseId": 4010,
    "exerciseId": "rJTVK2LsIlz",
    "id": "code_session_name",
    "important": true,
    "isDL": false,
    "timeoutSecs": 5
   },
   "source": [
    "### 〇8.3.6 名前による参照"
   ]
  },
  {
   "cell_type": "code",
   "execution_count": 28,
   "metadata": {},
   "outputs": [
    {
     "name": "stdout",
     "output_type": "stream",
     "text": [
      "       fruits  time  year\n",
      "0       apple     1  2001\n",
      "1      orange     4  2002\n",
      "2      banana     5  2001\n",
      "3  strawberry     6  2008\n",
      "4   kiwifruit     3  2006\n"
     ]
    }
   ],
   "source": [
    "data = {\"fruits\": [\"apple\", \"orange\", \"banana\", \"strawberry\", \"kiwifruit\"],\n",
    "        \"year\": [2001, 2002, 2001, 2008, 2006],\n",
    "        \"time\": [1, 4, 5, 6, 3]}\n",
    "df = pd.DataFrame(data)\n",
    "\n",
    "print(df)"
   ]
  },
  {
   "cell_type": "markdown",
   "metadata": {},
   "source": [
    "**リスト 8.36：名前による参照の例①**"
   ]
  },
  {
   "cell_type": "code",
   "execution_count": 29,
   "metadata": {},
   "outputs": [
    {
     "name": "stdout",
     "output_type": "stream",
     "text": [
      "   time  year\n",
      "1     4  2002\n",
      "2     5  2001\n"
     ]
    }
   ],
   "source": [
    "df = df.loc[[1,2],[\"time\",\"year\"]]\n",
    "print(df)"
   ]
  },
  {
   "cell_type": "markdown",
   "metadata": {},
   "source": [
    "**リスト 8.37：名前による参照の例②**"
   ]
  },
  {
   "cell_type": "markdown",
   "metadata": {},
   "source": [
    "#### □問題"
   ]
  },
  {
   "cell_type": "code",
   "execution_count": null,
   "metadata": {
    "collapsed": true,
    "id": "index",
    "scrolled": true
   },
   "outputs": [],
   "source": [
    "import numpy as np\n",
    "import pandas as pd\n",
    "np.random.seed(0)\n",
    "columns = [\"apple\", \"orange\", \"banana\", \"strawberry\", \"kiwifruit\"]\n",
    "\n",
    "# DataFrameを生成し、列を追加します\n",
    "df = pd.DataFrame()\n",
    "for column in columns:\n",
    "    df[column] = np.random.choice(range(1, 11), 10)\n",
    "    # range(開始行数, 終了行数-1)です\n",
    "df.index = range(1, 11)\n",
    "\n",
    "# loc[]を使ってdfの2行目から5行目までの4行と、\"banana\", \"kiwifruit\"の2列を含むDataFrameをdfに代入してください\n",
    "# インデックスは先頭の行が1、以降は整数値が昇順に付けられています\n",
    "\n",
    "\n",
    "print(df)"
   ]
  },
  {
   "cell_type": "markdown",
   "metadata": {},
   "source": [
    "**リスト 8.38：問題**"
   ]
  },
  {
   "cell_type": "markdown",
   "metadata": {},
   "source": [
    "#### □解答例"
   ]
  },
  {
   "cell_type": "code",
   "execution_count": 30,
   "metadata": {
    "id": "answer",
    "scrolled": true
   },
   "outputs": [
    {
     "name": "stdout",
     "output_type": "stream",
     "text": [
      "   banana  kiwifruit\n",
      "2      10         10\n",
      "3       9          1\n",
      "4      10          5\n",
      "5       5          8\n"
     ]
    }
   ],
   "source": [
    "import numpy as np\n",
    "import pandas as pd\n",
    "np.random.seed(0)\n",
    "columns = [\"apple\", \"orange\", \"banana\", \"strawberry\", \"kiwifruit\"]\n",
    "\n",
    "# DataFrameを生成し、列を追加します\n",
    "df = pd.DataFrame()\n",
    "for column in columns:\n",
    "    df[column] = np.random.choice(range(1, 11), 10)\n",
    "    # range(開始行数, 終了行数-1)です\n",
    "df.index = range(1, 11)\n",
    "\n",
    "# loc[]を使ってdfの2行目から5行目までの4行と、\"banana\", \"kiwifruit\"の2列を含むDataFrameをdfに代入してください\n",
    "# インデックスは先頭の行が1、以降は整数値が昇順に付けられています\n",
    "df = df.loc[range(2,6),[\"banana\",\"kiwifruit\"]]\n",
    "\n",
    "print(df)"
   ]
  },
  {
   "cell_type": "markdown",
   "metadata": {},
   "source": [
    "**リスト8.39：解答例**"
   ]
  },
  {
   "cell_type": "markdown",
   "metadata": {
    "courseId": 4010,
    "exerciseId": "Sk04F28oUxM",
    "id": "code_session_name",
    "important": true,
    "isDL": false,
    "timeoutSecs": 5
   },
   "source": [
    "### 〇8.3.7 番号による参照"
   ]
  },
  {
   "cell_type": "code",
   "execution_count": 31,
   "metadata": {},
   "outputs": [
    {
     "name": "stdout",
     "output_type": "stream",
     "text": [
      "       fruits  time  year\n",
      "0       apple     1  2001\n",
      "1      orange     4  2002\n",
      "2      banana     5  2001\n",
      "3  strawberry     6  2008\n",
      "4   kiwifruit     3  2006\n"
     ]
    }
   ],
   "source": [
    "data = {\"fruits\": [\"apple\", \"orange\", \"banana\", \"strawberry\", \"kiwifruit\"],\n",
    "        \"year\": [2001, 2002, 2001, 2008, 2006],\n",
    "        \"time\": [1, 4, 5, 6, 3]}\n",
    "df = pd.DataFrame(data)\n",
    "\n",
    "print(df)"
   ]
  },
  {
   "cell_type": "markdown",
   "metadata": {},
   "source": [
    "**リスト 8.40：番号による参照の例①**"
   ]
  },
  {
   "cell_type": "code",
   "execution_count": 32,
   "metadata": {},
   "outputs": [
    {
     "name": "stdout",
     "output_type": "stream",
     "text": [
      "       fruits  year\n",
      "1      orange  2002\n",
      "3  strawberry  2008\n"
     ]
    }
   ],
   "source": [
    "df = df.iloc[[1, 3], [0, 2]]\n",
    "print(df)"
   ]
  },
  {
   "cell_type": "markdown",
   "metadata": {},
   "source": [
    "**リスト 8.41：番号による参照の例②**"
   ]
  },
  {
   "cell_type": "markdown",
   "metadata": {},
   "source": [
    "#### □問題"
   ]
  },
  {
   "cell_type": "code",
   "execution_count": null,
   "metadata": {
    "collapsed": true,
    "id": "index",
    "scrolled": true
   },
   "outputs": [],
   "source": [
    "import numpy as np\n",
    "import pandas as pd\n",
    "np.random.seed(0)\n",
    "columns = [\"apple\", \"orange\", \"banana\", \"strawberry\", \"kiwifruit\"]\n",
    "\n",
    "# DataFrameを生成し、列を追加します\n",
    "df = pd.DataFrame()\n",
    "for column in columns:\n",
    "    df[column] = np.random.choice(range(1, 11), 10)\n",
    "df.index = range(1, 11)\n",
    "\n",
    "# iloc[]を使ってdfの2行目から5行目までの4行と、\"banana\", \"kiwifruit\"の2列を含むDataFrameをdfに代入してください\n",
    "\n",
    "\n",
    "print(df)"
   ]
  },
  {
   "cell_type": "markdown",
   "metadata": {},
   "source": [
    "**リスト 8.42：問題**"
   ]
  },
  {
   "cell_type": "markdown",
   "metadata": {},
   "source": [
    "#### □解答例"
   ]
  },
  {
   "cell_type": "code",
   "execution_count": 34,
   "metadata": {
    "id": "answer",
    "scrolled": true
   },
   "outputs": [
    {
     "name": "stdout",
     "output_type": "stream",
     "text": [
      "   banana  kiwifruit\n",
      "2      10         10\n",
      "3       9          1\n",
      "4      10          5\n",
      "5       5          8\n"
     ]
    }
   ],
   "source": [
    "import numpy as np\n",
    "import pandas as pd\n",
    "np.random.seed(0)\n",
    "columns = [\"apple\", \"orange\", \"banana\", \"strawberry\", \"kiwifruit\"]\n",
    "\n",
    "# DataFrameを生成し、列を追加します\n",
    "df = pd.DataFrame()\n",
    "for column in columns:\n",
    "    df[column] = np.random.choice(range(1, 11), 10)\n",
    "df.index = range(1, 11)\n",
    "\n",
    "# iloc[]を使ってdfの2行目から5行目までの4行と、\"banana\", \"kiwifruit\"の2列を含むDataFrameをdfに代入してください\n",
    "df = df.iloc[range(1,5), [2, 4]] # スライスを用いて df = df.iloc[1:5, [2, 4]] でも可能です\n",
    "\n",
    "print(df)"
   ]
  },
  {
   "cell_type": "markdown",
   "metadata": {},
   "source": [
    "**リスト 8.43：解答例**"
   ]
  },
  {
   "cell_type": "markdown",
   "metadata": {
    "courseId": 4010,
    "exerciseId": "SJkHt3LiUlz",
    "id": "code_session_name",
    "important": false,
    "isDL": false,
    "timeoutSecs": 5
   },
   "source": [
    "### 〇8.3.8 行または列の削除"
   ]
  },
  {
   "cell_type": "code",
   "execution_count": 38,
   "metadata": {},
   "outputs": [
    {
     "name": "stdout",
     "output_type": "stream",
     "text": [
      "       fruits  time  year\n",
      "2      banana     5  2001\n",
      "3  strawberry     6  2008\n",
      "4   kiwifruit     3  2006\n",
      "\n",
      "       fruits  time\n",
      "0       apple     1\n",
      "1      orange     4\n",
      "2      banana     5\n",
      "3  strawberry     6\n",
      "4   kiwifruit     3\n"
     ]
    }
   ],
   "source": [
    "import pandas as pd\n",
    "data = {\"fruits\": [\"apple\", \"orange\", \"banana\", \"strawberry\", \"kiwifruit\"],\n",
    "        \"year\": [2001, 2002, 2001, 2008, 2006],\n",
    "        \"time\": [1, 4, 5, 6, 3]}\n",
    "df = pd.DataFrame(data)\n",
    "\n",
    "# drop()を用いてdfの0,1行目を削除します\n",
    "df_1 = df.drop(range(0, 2))\n",
    "\n",
    "# drop()を用いてdfの列\"year\"を削除します\n",
    "df_2 = df.drop(\"year\", axis=1)\n",
    "\n",
    "print(df_1)\n",
    "print()\n",
    "print(df_2)"
   ]
  },
  {
   "cell_type": "markdown",
   "metadata": {},
   "source": [
    "**リスト 8.44：行または列の削除の例**\n"
   ]
  },
  {
   "cell_type": "markdown",
   "metadata": {},
   "source": [
    "#### □問題"
   ]
  },
  {
   "cell_type": "code",
   "execution_count": null,
   "metadata": {
    "collapsed": true,
    "id": "index",
    "scrolled": true
   },
   "outputs": [],
   "source": [
    "import numpy as np\n",
    "import pandas as pd\n",
    "np.random.seed(0)\n",
    "columns = [\"apple\", \"orange\", \"banana\", \"strawberry\", \"kiwifruit\"]\n",
    "\n",
    "# DataFrameを生成し、列を追加します\n",
    "df = pd.DataFrame()\n",
    "for column in columns:\n",
    "    df[column] = np.random.choice(range(1, 11), 10)\n",
    "df.index = range(1, 11)\n",
    "\n",
    "# drop()を用いてdfの奇数のインデックスがついている行のみを残してdfに代入してください\n",
    "\n",
    "\n",
    "# drop()を用いてdfの列\"strawberry\"を削除してdfに代入してください\n",
    "\n",
    "\n",
    "print(df)"
   ]
  },
  {
   "cell_type": "markdown",
   "metadata": {},
   "source": [
    "**リスト 8.45：問題**"
   ]
  },
  {
   "cell_type": "markdown",
   "metadata": {},
   "source": [
    "#### □解答例"
   ]
  },
  {
   "cell_type": "code",
   "execution_count": 39,
   "metadata": {
    "id": "answer",
    "scrolled": false
   },
   "outputs": [
    {
     "name": "stdout",
     "output_type": "stream",
     "text": [
      "   apple  orange  banana  kiwifruit\n",
      "1      6       8       6         10\n",
      "3      4       9       9          1\n",
      "5      8       2       5          8\n",
      "7      4       8       1          3\n",
      "9      3       9       6          3\n"
     ]
    }
   ],
   "source": [
    "import numpy as np\n",
    "import pandas as pd\n",
    "np.random.seed(0)\n",
    "columns = [\"apple\", \"orange\", \"banana\", \"strawberry\", \"kiwifruit\"]\n",
    "\n",
    "# DataFrameを生成し、列を追加します\n",
    "df = pd.DataFrame()\n",
    "for column in columns:\n",
    "    df[column] = np.random.choice(range(1, 11), 10)\n",
    "df.index = range(1, 11)\n",
    "\n",
    "# drop()を用いてdfの奇数のインデックスがついている行のみを残してdfに代入してください\n",
    "df = df.drop(np.arange(2, 11, 2))\n",
    "# np.arange(2, 11, 2)は2から10までの数列を差が２になるように抜き出したものです\n",
    "# ここでは2,4,6,8,10が出力となります。\n",
    "# np.arange(2,11,3)とすると2から10までの数列を差が3になるように抜き出したものになります\n",
    "\n",
    "# drop()を用いてdfの列\"strawberry\"を削除してdfに代入してください\n",
    "df = df.drop(\"strawberry\", axis=1)\n",
    "\n",
    "print(df)"
   ]
  },
  {
   "cell_type": "markdown",
   "metadata": {},
   "source": [
    "**リスト 8.46：解答例**"
   ]
  },
  {
   "cell_type": "markdown",
   "metadata": {
    "courseId": 4010,
    "exerciseId": "ryxHK2LsIxM",
    "id": "code_session_name",
    "important": true,
    "isDL": false,
    "timeoutSecs": 5
   },
   "source": [
    "### 〇8.3.9 ソート"
   ]
  },
  {
   "cell_type": "code",
   "execution_count": 40,
   "metadata": {},
   "outputs": [
    {
     "name": "stdout",
     "output_type": "stream",
     "text": [
      "       fruits  time  year\n",
      "0       apple     1  2001\n",
      "1      orange     4  2002\n",
      "2      banana     5  2001\n",
      "3  strawberry     6  2008\n",
      "4   kiwifruit     3  2006\n",
      "       fruits  time  year\n",
      "0       apple     1  2001\n",
      "2      banana     5  2001\n",
      "1      orange     4  2002\n",
      "4   kiwifruit     3  2006\n",
      "3  strawberry     6  2008\n",
      "       fruits  time  year\n",
      "0       apple     1  2001\n",
      "4   kiwifruit     3  2006\n",
      "1      orange     4  2002\n",
      "2      banana     5  2001\n",
      "3  strawberry     6  2008\n"
     ]
    }
   ],
   "source": [
    "import pandas as pd\n",
    "data = {\"fruits\": [\"apple\", \"orange\", \"banana\", \"strawberry\", \"kiwifruit\"],\n",
    "        \"time\": [1, 4, 5, 6, 3],\n",
    "        \"year\": [2001, 2002, 2001, 2008, 2006]}\n",
    "df = pd.DataFrame(data)\n",
    "print(df)\n",
    "#データを昇順にソートします(引数にカラムを指定)\n",
    "df = df.sort_values(by=\"year\", ascending = True)\n",
    "print(df)\n",
    "\n",
    "#データを昇順にソートします(引数にカラムのリストを指定)\n",
    "df = df.sort_values(by=[\"time\", \"year\"] , ascending = True)\n",
    "print(df)"
   ]
  },
  {
   "cell_type": "markdown",
   "metadata": {},
   "source": [
    "**リスト 8.47：ソートの例**"
   ]
  },
  {
   "cell_type": "markdown",
   "metadata": {},
   "source": [
    "#### □問題"
   ]
  },
  {
   "cell_type": "code",
   "execution_count": null,
   "metadata": {
    "collapsed": true,
    "id": "index",
    "scrolled": true
   },
   "outputs": [],
   "source": [
    "import numpy as np\n",
    "import pandas as pd\n",
    "np.random.seed(0)\n",
    "columns = [\"apple\", \"orange\", \"banana\", \"strawberry\", \"kiwifruit\"]\n",
    "\n",
    "# DataFrameを生成し、列を追加します\n",
    "df = pd.DataFrame()\n",
    "for column in columns:\n",
    "    df[column] = np.random.choice(range(1, 11), 10)\n",
    "df.index = range(1, 11)\n",
    "\n",
    "# dfを\"apple\", \"orange\", \"banana\", \"strawberry\", \"kiwifruit\"の優先度の順に昇順にソートしてください\n",
    "# ソートした結果生成されたDataFrameをdfに代入してください。第1引数であればbyは省略することも可能です \n",
    "\n",
    "\n",
    "print(df)"
   ]
  },
  {
   "cell_type": "markdown",
   "metadata": {},
   "source": [
    "**リスト8.48：問題**\n"
   ]
  },
  {
   "cell_type": "markdown",
   "metadata": {},
   "source": [
    "#### □解答例"
   ]
  },
  {
   "cell_type": "code",
   "execution_count": 41,
   "metadata": {
    "id": "answer",
    "scrolled": false
   },
   "outputs": [
    {
     "name": "stdout",
     "output_type": "stream",
     "text": [
      "    apple  orange  banana  strawberry  kiwifruit\n",
      "2       1       7      10           4         10\n",
      "9       3       9       6           1          3\n",
      "7       4       8       1           4          3\n",
      "3       4       9       9           9          1\n",
      "4       4       9      10           2          5\n",
      "10      5       2       1           2          1\n",
      "8       6       8       4           8          8\n",
      "1       6       8       6           3         10\n",
      "5       8       2       5           4          8\n",
      "6      10       7       4           4          4\n"
     ]
    }
   ],
   "source": [
    "import numpy as np\n",
    "import pandas as pd\n",
    "np.random.seed(0)\n",
    "columns = [\"apple\", \"orange\", \"banana\", \"strawberry\", \"kiwifruit\"]\n",
    "\n",
    "# DataFrameを生成し、列を追加します\n",
    "df = pd.DataFrame()\n",
    "for column in columns:\n",
    "    df[column] = np.random.choice(range(1, 11), 10)\n",
    "df.index = range(1, 11)\n",
    "\n",
    "# dfを\"apple\", \"orange\", \"banana\", \"strawberry\", \"kiwifruit\"の優先度の順に昇順にソートしてください\n",
    "# ソートした結果生成されたDataFrameをdfに代入してください。第1引数であればbyは省略することも可能です\n",
    "df = df.sort_values(by=columns)\n",
    "\n",
    "print(df)"
   ]
  },
  {
   "cell_type": "markdown",
   "metadata": {},
   "source": [
    "**リスト 8.49：解答例**"
   ]
  },
  {
   "cell_type": "markdown",
   "metadata": {
    "courseId": 4010,
    "exerciseId": "H1ZBK28i8lz",
    "id": "code_session_name",
    "important": false,
    "isDL": false,
    "timeoutSecs": 5
   },
   "source": [
    "### 〇8.3.10 フィルタリング"
   ]
  },
  {
   "cell_type": "code",
   "execution_count": 43,
   "metadata": {},
   "outputs": [
    {
     "name": "stdout",
     "output_type": "stream",
     "text": [
      "[ True False  True False  True]\n",
      "\n",
      "      fruits  time  year\n",
      "0      apple     1  2001\n",
      "2     banana     5  2001\n",
      "4  kiwifruit     3  2006\n"
     ]
    }
   ],
   "source": [
    "data = {\"fruits\": [\"apple\", \"orange\", \"banana\", \"strawberry\", \"kiwifruit\"],\n",
    "        \"year\": [2001, 2002, 2001, 2008, 2006],\n",
    "        \"time\": [1, 4, 5, 6, 3]}\n",
    "df = pd.DataFrame(data)\n",
    "print(df.index % 2 == 0)\n",
    "print()\n",
    "print(df[df.index % 2 == 0])"
   ]
  },
  {
   "cell_type": "markdown",
   "metadata": {},
   "source": [
    "**リスト 8.50：フィルタリングの例**"
   ]
  },
  {
   "cell_type": "markdown",
   "metadata": {},
   "source": [
    "#### □問題"
   ]
  },
  {
   "cell_type": "code",
   "execution_count": null,
   "metadata": {
    "collapsed": true,
    "id": "index",
    "scrolled": true
   },
   "outputs": [],
   "source": [
    "import numpy as np\n",
    "import pandas as pd\n",
    "np.random.seed(0)\n",
    "columns = [\"apple\", \"orange\", \"banana\", \"strawberry\", \"kiwifruit\"]\n",
    "\n",
    "# DataFrameを生成し、列を追加します\n",
    "df = pd.DataFrame()\n",
    "for column in columns:\n",
    "    df[column] = np.random.choice(range(1, 11), 10)\n",
    "df.index = range(1, 11)\n",
    "\n",
    "# フィルタリングを用いて、dfの\"apple\"列が5以上かつ\"kiwifruit\"列が5以上の値をもつ行を含むDataFrameをdfに代入してください\n",
    "\n",
    "\n",
    "\n",
    "print(df)"
   ]
  },
  {
   "cell_type": "markdown",
   "metadata": {},
   "source": [
    "**リスト 8.51：問題**"
   ]
  },
  {
   "cell_type": "markdown",
   "metadata": {},
   "source": [
    "#### □解答例"
   ]
  },
  {
   "cell_type": "code",
   "execution_count": 44,
   "metadata": {
    "id": "answer",
    "scrolled": true
   },
   "outputs": [
    {
     "name": "stdout",
     "output_type": "stream",
     "text": [
      "   apple  orange  banana  strawberry  kiwifruit\n",
      "1      6       8       6           3         10\n",
      "5      8       2       5           4          8\n",
      "8      6       8       4           8          8\n"
     ]
    }
   ],
   "source": [
    "import numpy as np\n",
    "import pandas as pd\n",
    "np.random.seed(0)\n",
    "columns = [\"apple\", \"orange\", \"banana\", \"strawberry\", \"kiwifruit\"]\n",
    "\n",
    "# DataFrameを生成し、列を追加します\n",
    "df = pd.DataFrame()\n",
    "for column in columns:\n",
    "    df[column] = np.random.choice(range(1, 11), 10)\n",
    "df.index = range(1, 11)\n",
    "\n",
    "# フィルタリングを用いて、dfの\"apple\"列が5以上かつ\"kiwifruit\"列が5以上の値をもつ行を含むDataFrameをdfに代入してください\n",
    "df = df.loc[df[\"apple\"] >= 5]\n",
    "df = df.loc[df[\"kiwifruit\"] >= 5]\n",
    "#df = df.loc[df[\"apple\"] >= 5][df[\"kiwifruit\"] >= 5]でもOK\n",
    "\n",
    "print(df)"
   ]
  },
  {
   "cell_type": "markdown",
   "metadata": {},
   "source": [
    "**リスト 8.52：解答例**"
   ]
  },
  {
   "cell_type": "markdown",
   "metadata": {
    "config": [
     "leap"
    ],
    "id": "chapter_exam"
   },
   "source": [
    "## ●添削問題"
   ]
  },
  {
   "cell_type": "markdown",
   "metadata": {},
   "source": [
    "#### □問題"
   ]
  },
  {
   "cell_type": "code",
   "execution_count": null,
   "metadata": {},
   "outputs": [],
   "source": [
    "import pandas as pd\n",
    "import numpy as np\n",
    "\n",
    "index = [\"growth\", \"mission\", \"ishikawa\", \"pro\"]\n",
    "data = [50, 7, 26, 1]\n",
    "# Seriesを作成してください\n",
    "series = \n",
    "\n",
    "# インデックスについてアルファベット順にソートしたseriesをaidemyに代入してください\n",
    "aidemy = \n",
    "\n",
    "\n",
    "# seriesに、インデックスが\"tutor\"、データが30の要素を追加してください\n",
    "aidemy1 = \n",
    "aidemy2 = series.append(aidemy1)\n",
    "\n",
    "print(aidemy)\n",
    "print()\n",
    "print(aidemy2)\n",
    "\n",
    "\n",
    "# DataFrameを生成し、列を追加します\n",
    "df = pd.DataFrame()\n",
    "for index in index:\n",
    "    df[index] = np.random.choice(range(1, 11), 10)\n",
    "    # range(開始行数, 終了行数-1)です\n",
    "df.index = range(1, 11)\n",
    "\n",
    "# loc[]を使ってdfの2行目から5行目までの4行と、\"ishikawa\"を含むDataFrameをaidemy3に代入してください\n",
    "# インデックスは先頭の行が1、以降は整数値が昇順に付けられています\n",
    "aidemy3 = \n",
    "print()\n",
    "print(aidemy3)"
   ]
  },
  {
   "cell_type": "markdown",
   "metadata": {},
   "source": [
    "**リスト 8.53：問題（出力結果は誌面と異なります）**"
   ]
  },
  {
   "cell_type": "code",
   "execution_count": 5,
   "metadata": {},
   "outputs": [
    {
     "name": "stdout",
     "output_type": "stream",
     "text": [
      "growth      50\n",
      "ishikawa    26\n",
      "mission      7\n",
      "pro          1\n",
      "dtype: int64\n",
      "\n",
      "growth      50\n",
      "mission      7\n",
      "ishikawa    26\n",
      "pro          1\n",
      "tutor       30\n",
      "dtype: int64\n",
      "\n",
      "   ishikawa\n",
      "2         7\n",
      "3        10\n",
      "4         4\n",
      "5         9\n"
     ]
    }
   ],
   "source": [
    "import pandas as pd\n",
    "import numpy as np\n",
    "\n",
    "index = [\"growth\", \"mission\", \"ishikawa\", \"pro\"]\n",
    "data = [50, 7, 26, 1]\n",
    "# Seriesを作成してください\n",
    "series = pd.Series(data, index=index)\n",
    "\n",
    "# インデックスについてアルファベット順にソートしたseriesをaidemyに代入してください\n",
    "aidemy = series.sort_index()\n",
    "\n",
    "\n",
    "# seriesに、インデックスが\"tutor\"、データが30の要素を追加してください\n",
    "aidemy1 = pd.Series([30], index=[\"tutor\"])\n",
    "aidemy2 = series.append(aidemy1)\n",
    "\n",
    "print(aidemy)\n",
    "print()\n",
    "print(aidemy2)\n",
    "\n",
    "\n",
    "# DataFrameを生成し、列を追加します\n",
    "df = pd.DataFrame()\n",
    "for index in index:\n",
    "    df[index] = np.random.choice(range(1, 11), 10)\n",
    "    # range(開始行数, 終了行数-1)です\n",
    "df.index = range(1, 11)\n",
    "\n",
    "# loc[]を使ってdfの2行目から5行目までの4行と、\"ishikawa\"を含むDataFrameをaidemy3に代入してください\n",
    "# インデックスは先頭の行が1、以降は整数値が昇順に付けられています\n",
    "aidemy3 = df.loc[range(2,6),[\"ishikawa\"]]\n",
    "print()\n",
    "print(aidemy3)"
   ]
  },
  {
   "cell_type": "markdown",
   "metadata": {},
   "source": [
    "**リスト 8.54：解答例**"
   ]
  }
 ],
 "metadata": {
  "celltoolbar": "Edit Metadata",
  "kernelspec": {
   "display_name": "Python 3",
   "language": "python",
   "name": "python3"
  },
  "language_info": {
   "codemirror_mode": {
    "name": "ipython",
    "version": 3
   },
   "file_extension": ".py",
   "mimetype": "text/x-python",
   "name": "python",
   "nbconvert_exporter": "python",
   "pygments_lexer": "ipython3",
   "version": "3.6.6"
  },
  "varInspector": {
   "cols": {
    "lenName": 16,
    "lenType": 16,
    "lenVar": 40
   },
   "kernels_config": {
    "python": {
     "delete_cmd_postfix": "",
     "delete_cmd_prefix": "del ",
     "library": "var_list.py",
     "varRefreshCmd": "print(var_dic_list())"
    },
    "r": {
     "delete_cmd_postfix": ") ",
     "delete_cmd_prefix": "rm(",
     "library": "var_list.r",
     "varRefreshCmd": "cat(var_dic_list()) "
    }
   },
   "types_to_exclude": [
    "module",
    "function",
    "builtin_function_or_method",
    "instance",
    "_Feature"
   ],
   "window_display": false
  }
 },
 "nbformat": 4,
 "nbformat_minor": 2
}
