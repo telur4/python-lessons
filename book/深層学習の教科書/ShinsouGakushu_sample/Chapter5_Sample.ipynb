{
 "cells": [
  {
   "cell_type": "markdown",
   "metadata": {
    "chapterId": "HyNORQ-gbM",
    "id": "chapter_name"
   },
   "source": [
    "# Chapter5　Pythonの基本文法"
   ]
  },
  {
   "cell_type": "markdown",
   "metadata": {
    "id": "table"
   },
   "source": [
    "- **5.1 リスト型**\n",
    "    - **5.1.1 リスト型①** \n",
    "    - **5.1.2 リスト型②**\n",
    "    - **5.1.3 リスト in リスト**\n",
    "    - **5.1.4 リストから値を取り出す**\n",
    "    - **5.1.5 リストからリストを取り出す（スライス）**\n",
    "    - **5.1.6 リストの要素の更新と追加**\n",
    "    - **5.1.7 リストから要素の削除**\n",
    "    - **5.1.8 リスト型の注意点**\n",
    "<br><br>\n",
    "- **5.2 辞書型**\n",
    "    - **5.2.1 辞書型**\n",
    "    - **5.2.2 辞書の要素を取り出す**\n",
    "    - **5.2.3 辞書の更新と追加**\n",
    "    - **5.2.4 辞書の要素の削除**\n",
    "<br><br>\n",
    "- **5.3 while文**\n",
    "    - **5.3.1 while文①**\n",
    "    - **5.3.2 while文②**\n",
    "    - **5.3.3 while文とif**\n",
    "<br><br>\n",
    "- **5.4 for文**\n",
    "    - **5.4.1 for文**\n",
    "    - **5.4.2 break**\n",
    "    - **5.4.3 continue**\n",
    "<br><br>\n",
    "- **5.5 Appendix**\n",
    "    - **5.5.1 for文でindex表示**\n",
    "    - **5.5.2 リスト in リストのループ**\n",
    "    - **5.5.3 辞書型のループ**\n",
    "<br><br>\n",
    "- **5.6 添削問題**"
   ]
  },
  {
   "cell_type": "markdown",
   "metadata": {},
   "source": [
    "***"
   ]
  },
  {
   "cell_type": "markdown",
   "metadata": {
    "id": "section_name",
    "sectionId": "HySOCX-gZf"
   },
   "source": [
    "## ●5.1 リスト型"
   ]
  },
  {
   "cell_type": "markdown",
   "metadata": {
    "courseId": 3010,
    "exerciseId": "r1E-tnLjLxM",
    "id": "code_session_name",
    "important": true,
    "isDL": false,
    "timeoutSecs": 5
   },
   "source": [
    "### 〇5.1.1 リスト型①"
   ]
  },
  {
   "cell_type": "markdown",
   "metadata": {},
   "source": [
    "#### □問題"
   ]
  },
  {
   "cell_type": "code",
   "execution_count": null,
   "metadata": {
    "collapsed": true,
    "id": "index"
   },
   "outputs": [],
   "source": [
    "# 変数cに「red」「blue」「yellow」の3つの文字列を代入してください\n",
    "\n",
    "print(c)\n",
    "\n",
    "\n",
    "# cの型を出力してください\n"
   ]
  },
  {
   "cell_type": "markdown",
   "metadata": {},
   "source": [
    "**リスト 5.1：問題**\n"
   ]
  },
  {
   "cell_type": "markdown",
   "metadata": {},
   "source": [
    "#### □解答例"
   ]
  },
  {
   "cell_type": "code",
   "execution_count": 1,
   "metadata": {
    "id": "answer"
   },
   "outputs": [
    {
     "name": "stdout",
     "output_type": "stream",
     "text": [
      "['red', 'blue', 'yellow']\n",
      "<class 'list'>\n"
     ]
    }
   ],
   "source": [
    "# 変数cに「red」「blue」「yellow」の3つの文字列を代入してください\n",
    "c = [\"red\", \"blue\", \"yellow\"]\n",
    "\n",
    "print(c)\n",
    "\n",
    "# cの型を出力してください\n",
    "print(type(c))"
   ]
  },
  {
   "cell_type": "markdown",
   "metadata": {},
   "source": [
    "**リスト 5.2：解答例**"
   ]
  },
  {
   "cell_type": "markdown",
   "metadata": {
    "courseId": 3010,
    "exerciseId": "H1SWYhLoUez",
    "id": "code_session_name",
    "important": false,
    "isDL": false,
    "timeoutSecs": 5
   },
   "source": [
    "### 〇5.1.2 リスト型②"
   ]
  },
  {
   "cell_type": "code",
   "execution_count": 1,
   "metadata": {},
   "outputs": [
    {
     "name": "stdout",
     "output_type": "stream",
     "text": [
      "[' りんご ', 3, ' ゴリラ ']\n"
     ]
    }
   ],
   "source": [
    "# リスト5.3\n",
    "n = 3\n",
    "print([\" りんご \", n, \" ゴリラ \"])"
   ]
  },
  {
   "cell_type": "markdown",
   "metadata": {},
   "source": [
    "**リスト 5.3：リスト型②の例**"
   ]
  },
  {
   "cell_type": "markdown",
   "metadata": {},
   "source": [
    "#### □問題"
   ]
  },
  {
   "cell_type": "code",
   "execution_count": null,
   "metadata": {
    "collapsed": true,
    "id": "index"
   },
   "outputs": [],
   "source": [
    "apple = 4\n",
    "grape = 3\n",
    "banana = 6\n",
    "\n",
    "# 変数名fruitsにリスト型で変数を要素としてapple、grape、bananaの順に格納してください\n",
    "\n",
    "\n",
    "print(fruits)"
   ]
  },
  {
   "cell_type": "markdown",
   "metadata": {},
   "source": [
    "**リスト 5.4：問題**"
   ]
  },
  {
   "cell_type": "markdown",
   "metadata": {},
   "source": [
    "#### □解答例"
   ]
  },
  {
   "cell_type": "code",
   "execution_count": 3,
   "metadata": {
    "id": "answer"
   },
   "outputs": [
    {
     "name": "stdout",
     "output_type": "stream",
     "text": [
      "[4, 3, 6]\n"
     ]
    }
   ],
   "source": [
    "apple = 4\n",
    "grape = 3\n",
    "banana = 6\n",
    "\n",
    "# 変数名fruitsにリスト型で変数を要素としてapple、grape、bananaの順に格納してください\n",
    "fruits = [apple, grape, banana]\n",
    "\n",
    "\n",
    "print(fruits)"
   ]
  },
  {
   "cell_type": "markdown",
   "metadata": {},
   "source": [
    "**リスト 5.4：解答例**"
   ]
  },
  {
   "cell_type": "markdown",
   "metadata": {
    "courseId": 3010,
    "exerciseId": "ryUZt2Li8xz",
    "id": "code_session_name",
    "important": true,
    "isDL": false,
    "timeoutSecs": 5
   },
   "source": [
    "### 〇5.1.3 リスト in リスト"
   ]
  },
  {
   "cell_type": "code",
   "execution_count": 4,
   "metadata": {},
   "outputs": [
    {
     "name": "stdout",
     "output_type": "stream",
     "text": [
      "[[1, 2], [3, 4], [5, 6]]\n"
     ]
    }
   ],
   "source": [
    "print([[1, 2], [3, 4], [5, 6]])"
   ]
  },
  {
   "cell_type": "markdown",
   "metadata": {},
   "source": [
    "**リスト 5.6：リスト in リストの例**"
   ]
  },
  {
   "cell_type": "markdown",
   "metadata": {},
   "source": [
    "#### □問題"
   ]
  },
  {
   "cell_type": "code",
   "execution_count": null,
   "metadata": {},
   "outputs": [],
   "source": [
    "fruits_name_1 = \"りんご\"\n",
    "fruits_num_1 = 2\n",
    "fruits_name_2 = \"みかん\"\n",
    "fruits_num_2 = 10\n",
    "\n",
    "# [[\"りんご\", 2], [\"みかん\", 10]]という出力になるように、fruitsに変数をリスト型に代入してください\n",
    "\n",
    "\n",
    "# 出力します\n",
    "print(fruits)"
   ]
  },
  {
   "cell_type": "markdown",
   "metadata": {},
   "source": [
    "**リスト 5.7：問題**"
   ]
  },
  {
   "cell_type": "markdown",
   "metadata": {},
   "source": [
    "#### □解答例"
   ]
  },
  {
   "cell_type": "code",
   "execution_count": 5,
   "metadata": {
    "id": "answer",
    "scrolled": true
   },
   "outputs": [
    {
     "name": "stdout",
     "output_type": "stream",
     "text": [
      "[['りんご', 2], ['みかん', 10]]\n"
     ]
    }
   ],
   "source": [
    "fruits_name_1 = \"りんご\"\n",
    "fruits_num_1 = 2\n",
    "fruits_name_2 = \"みかん\"\n",
    "fruits_num_2 = 10\n",
    "\n",
    "# [[\"りんご\", 2], [\"みかん\", 10]]という出力になるように、fruitsに変数をリスト型に代入してください\n",
    "fruits = [[fruits_name_1, fruits_num_1], [fruits_name_2, fruits_num_2]]\n",
    "\n",
    "# 出力します\n",
    "print(fruits)"
   ]
  },
  {
   "cell_type": "markdown",
   "metadata": {},
   "source": [
    "**リスト 5.8：解答例**　しますを追加\n"
   ]
  },
  {
   "cell_type": "markdown",
   "metadata": {
    "courseId": 3010,
    "exerciseId": "ByDZYn8oLlz",
    "id": "code_session_name",
    "important": true,
    "isDL": false,
    "timeoutSecs": 5
   },
   "source": [
    "### 〇5.1.4 リストから値を取り出す"
   ]
  },
  {
   "cell_type": "code",
   "execution_count": 7,
   "metadata": {},
   "outputs": [
    {
     "name": "stdout",
     "output_type": "stream",
     "text": [
      "2\n",
      "3\n"
     ]
    }
   ],
   "source": [
    "a = [1, 2, 3, 4]\n",
    "print(a[1])  \n",
    "print(a[-2])  "
   ]
  },
  {
   "cell_type": "markdown",
   "metadata": {},
   "source": [
    "**リスト 5.9：リストから値を取り出す例**"
   ]
  },
  {
   "cell_type": "markdown",
   "metadata": {},
   "source": [
    "#### □問題"
   ]
  },
  {
   "cell_type": "code",
   "execution_count": null,
   "metadata": {
    "collapsed": true,
    "id": "index"
   },
   "outputs": [],
   "source": [
    "fruits = [\"apple\", 2, \"orange\", 4, \"grape\", 3, \"banana\", 1]\n",
    "\n",
    "# 変数fruitsの2番目の要素を出力してください\n",
    "\n",
    "\n",
    "# 変数fruitsの最後の要素を出力してください\n",
    "\n"
   ]
  },
  {
   "cell_type": "markdown",
   "metadata": {},
   "source": [
    "**リスト 5.10：問題**"
   ]
  },
  {
   "cell_type": "markdown",
   "metadata": {},
   "source": [
    "#### □解答例"
   ]
  },
  {
   "cell_type": "code",
   "execution_count": 6,
   "metadata": {
    "id": "answer"
   },
   "outputs": [
    {
     "name": "stdout",
     "output_type": "stream",
     "text": [
      "2\n",
      "1\n"
     ]
    }
   ],
   "source": [
    "fruits = [\"apple\", 2, \"orange\", 4, \"grape\", 3, \"banana\", 1]\n",
    "\n",
    "# 変数fruitsの2番目の要素を出力してください\n",
    "print(fruits[1]) #print(fruits[-7])も正解です\n",
    "\n",
    "# 変数fruitsの最後の要素を出力してください\n",
    "print(fruits[7]) #print(fruits[-1])も正解です"
   ]
  },
  {
   "cell_type": "markdown",
   "metadata": {},
   "source": [
    "**リスト 5.11：解答例**"
   ]
  },
  {
   "cell_type": "markdown",
   "metadata": {
    "courseId": 3010,
    "exerciseId": "By_WF3IsLlf",
    "id": "code_session_name",
    "important": true,
    "isDL": false,
    "timeoutSecs": 5
   },
   "source": [
    "### 〇5.1.5 リストからリストを取り出す（スライス）"
   ]
  },
  {
   "cell_type": "code",
   "execution_count": 7,
   "metadata": {},
   "outputs": [
    {
     "name": "stdout",
     "output_type": "stream",
     "text": [
      "['b', 'c', 'd', 'e']\n",
      "['b', 'c', 'd', 'e']\n",
      "['a', 'b', 'c', 'd', 'e']\n",
      "['g', 'h', 'i', 'j']\n",
      "['a', 'b', 'c', 'd', 'e', 'f', 'g', 'h', 'i', 'j']\n"
     ]
    }
   ],
   "source": [
    "alphabet = [\"a\", \"b\", \"c\", \"d\", \"e\", \"f\", \"g\", \"h\", \"i\", \"j\"]\n",
    "print(alphabet[1:5])  \n",
    "print(alphabet[1:-5])  \n",
    "print(alphabet[:5])  \n",
    "print(alphabet[6:])  \n",
    "print(alphabet[0:20])  "
   ]
  },
  {
   "cell_type": "markdown",
   "metadata": {},
   "source": [
    "**リスト 5.12：スライスの例**"
   ]
  },
  {
   "cell_type": "markdown",
   "metadata": {},
   "source": [
    "#### □問題"
   ]
  },
  {
   "cell_type": "code",
   "execution_count": null,
   "metadata": {
    "collapsed": true,
    "id": "index"
   },
   "outputs": [],
   "source": [
    "chaos = [\"cat\", \"apple\", 2, \"orange\", 4, \"grape\", 3, \"banana\", 1, \"elephant\", \"dog\"]\n",
    "\n",
    "# リストchaosから[\"apple\", 2, \"orange\", 4, \"grape\", 3, \"banana\", 1]というリストを取り出し、変数fruitsに代入してください\n",
    "\n",
    "\n",
    "\n",
    "# 変数fruitsを出力\n",
    "print(fruits)\n"
   ]
  },
  {
   "cell_type": "markdown",
   "metadata": {},
   "source": [
    "**リスト 5.13：問題**"
   ]
  },
  {
   "cell_type": "markdown",
   "metadata": {},
   "source": [
    "#### □解答例"
   ]
  },
  {
   "cell_type": "code",
   "execution_count": 9,
   "metadata": {
    "id": "answer"
   },
   "outputs": [
    {
     "name": "stdout",
     "output_type": "stream",
     "text": [
      "['apple', 2, 'orange', 4, 'grape', 3, 'banana', 1]\n"
     ]
    }
   ],
   "source": [
    "chaos = [\"cat\", \"apple\", 2, \"orange\", 4, \"grape\", 3, \"banana\", 1, \"elephant\", \"dog\"]\n",
    "\n",
    "# リストchaosから[\"apple\", 2, \"orange\", 4, \"grape\", 3, \"banana\", 1]というリストを取り出し、変数fruitsに代入してください\n",
    "fruits = chaos[1:9]  #chaos[1:-2]でも可能\n",
    "\n",
    "# 変数fruitsを出力\n",
    "print(fruits)\n"
   ]
  },
  {
   "cell_type": "markdown",
   "metadata": {},
   "source": [
    "**リスト 5.14：解答例**"
   ]
  },
  {
   "cell_type": "markdown",
   "metadata": {
    "courseId": 3010,
    "exerciseId": "SyYbF3UjLgz",
    "id": "code_session_name",
    "important": true,
    "isDL": false,
    "timeoutSecs": 5
   },
   "source": [
    "### 〇5.1.6 リストの要素の更新と追加"
   ]
  },
  {
   "cell_type": "code",
   "execution_count": 8,
   "metadata": {},
   "outputs": [
    {
     "name": "stdout",
     "output_type": "stream",
     "text": [
      "['A', 'B', 'C', 'd', 'e']\n",
      "['A', 'B', 'C', 'd', 'e', 'f', 'g', 'h', 'i']\n"
     ]
    }
   ],
   "source": [
    "alphabet = [\"a\", \"b\", \"c\", \"d\", \"e\"]\n",
    "alphabet[0] = \"A\"\n",
    "alphabet[1:3] = [\"B\", \"C\"]\n",
    "print(alphabet) \n",
    "\n",
    "alphabet = alphabet + [\"f\"]\n",
    "alphabet += [\"g\",\"h\"]\n",
    "alphabet.append(\"i\")\n",
    "print(alphabet) "
   ]
  },
  {
   "cell_type": "markdown",
   "metadata": {},
   "source": [
    "**リスト 5.15：リストの要素の更新と追加の例**"
   ]
  },
  {
   "cell_type": "markdown",
   "metadata": {},
   "source": [
    "#### □問題"
   ]
  },
  {
   "cell_type": "code",
   "execution_count": null,
   "metadata": {
    "collapsed": true,
    "id": "index"
   },
   "outputs": [],
   "source": [
    "c = [\"dog\", \"blue\", \"yellow\"]\n",
    "\n",
    "# 変数cの最初の要素を「red」に更新してください\n",
    "\n",
    "\n",
    "print(c)\n",
    "\n",
    "# リストの末尾に文字列「green」を追加してください\n",
    "\n",
    "\n",
    "print(c)"
   ]
  },
  {
   "cell_type": "markdown",
   "metadata": {},
   "source": [
    "**リスト 5.16：問題**"
   ]
  },
  {
   "cell_type": "markdown",
   "metadata": {},
   "source": [
    "#### □解答例"
   ]
  },
  {
   "cell_type": "code",
   "execution_count": 9,
   "metadata": {
    "id": "answer"
   },
   "outputs": [
    {
     "name": "stdout",
     "output_type": "stream",
     "text": [
      "['red', 'blue', 'yellow']\n",
      "['red', 'blue', 'yellow', 'green']\n"
     ]
    }
   ],
   "source": [
    "c = [\"dog\", \"blue\", \"yellow\"]\n",
    "\n",
    "# 変数cの最初の要素を「red」に更新してください\n",
    "c[0] = \"red\"\n",
    "print(c)\n",
    "\n",
    "# リストの末尾に文字列「green」を追加してください\n",
    "c = c + [\"green\"]  # c.append(\"green\")でも可能\n",
    "print(c)"
   ]
  },
  {
   "cell_type": "markdown",
   "metadata": {},
   "source": [
    "**リスト 5.17：解答例**"
   ]
  },
  {
   "cell_type": "markdown",
   "metadata": {
    "courseId": 3010,
    "exerciseId": "Sk9-Kn8sIgM",
    "id": "code_session_name",
    "important": false,
    "isDL": false,
    "timeoutSecs": 5
   },
   "source": [
    "### 〇5.1.7 リストから要素を削除"
   ]
  },
  {
   "cell_type": "code",
   "execution_count": 10,
   "metadata": {},
   "outputs": [
    {
     "name": "stdout",
     "output_type": "stream",
     "text": [
      "['b', 'c']\n"
     ]
    }
   ],
   "source": [
    "alphabet = [\"a\", \"b\", \"c\", \"d\", \"e\"]\n",
    "del alphabet[3:]\n",
    "del alphabet[0]\n",
    "print(alphabet)  "
   ]
  },
  {
   "cell_type": "markdown",
   "metadata": {},
   "source": [
    "**リスト 5.18：リストから要素を削除する例**"
   ]
  },
  {
   "cell_type": "markdown",
   "metadata": {},
   "source": [
    "#### □問題"
   ]
  },
  {
   "cell_type": "markdown",
   "metadata": {
    "id": "question"
   },
   "source": [
    "変数`c`の最初の要素を削除してください。"
   ]
  },
  {
   "cell_type": "code",
   "execution_count": null,
   "metadata": {
    "collapsed": true,
    "id": "index"
   },
   "outputs": [],
   "source": [
    "c = [\"dog\", \"blue\", \"yellow\"]\n",
    "print(c)\n",
    "\n",
    "# 変数cの最初の要素を削除してください\n",
    "\n",
    "\n",
    "print(c)"
   ]
  },
  {
   "cell_type": "markdown",
   "metadata": {},
   "source": [
    "**リスト 5.19：問題**"
   ]
  },
  {
   "cell_type": "markdown",
   "metadata": {},
   "source": [
    "#### □解答例"
   ]
  },
  {
   "cell_type": "code",
   "execution_count": 11,
   "metadata": {
    "id": "answer"
   },
   "outputs": [
    {
     "name": "stdout",
     "output_type": "stream",
     "text": [
      "['dog', 'blue', 'yellow']\n",
      "['blue', 'yellow']\n"
     ]
    }
   ],
   "source": [
    "c = [\"dog\", \"blue\", \"yellow\"]\n",
    "print(c)\n",
    "\n",
    "# 変数cの最初の要素を削除してください\n",
    "del c[0]\n",
    "print(c)"
   ]
  },
  {
   "cell_type": "markdown",
   "metadata": {},
   "source": [
    "**リスト 5.20：解答例**"
   ]
  },
  {
   "cell_type": "markdown",
   "metadata": {
    "courseId": 3010,
    "exerciseId": "BJiZY28jLgz",
    "id": "code_session_name",
    "important": true,
    "isDL": false,
    "timeoutSecs": 5
   },
   "source": [
    "### 〇5.1.8 リスト型の注意点"
   ]
  },
  {
   "cell_type": "code",
   "execution_count": 13,
   "metadata": {},
   "outputs": [
    {
     "name": "stdout",
     "output_type": "stream",
     "text": [
      "['A', 'b', 'c']\n"
     ]
    }
   ],
   "source": [
    "alphabet = [\"a\", \"b\", \"c\"]\n",
    "alphabet_copy = alphabet\n",
    "alphabet_copy[0] = \"A\"\n",
    "print(alphabet) "
   ]
  },
  {
   "cell_type": "markdown",
   "metadata": {},
   "source": [
    "**リスト 5.21：リスト型の例①**"
   ]
  },
  {
   "cell_type": "code",
   "execution_count": 12,
   "metadata": {},
   "outputs": [
    {
     "name": "stdout",
     "output_type": "stream",
     "text": [
      "['a', 'b', 'c']\n"
     ]
    }
   ],
   "source": [
    "alphabet = [\"a\", \"b\", \"c\"]\n",
    "alphabet_copy = alphabet[:]\n",
    "alphabet_copy[0] = \"A\"\n",
    "print(alphabet)  "
   ]
  },
  {
   "cell_type": "markdown",
   "metadata": {},
   "source": [
    "**リスト 5.22：リスト型の例②**"
   ]
  },
  {
   "cell_type": "markdown",
   "metadata": {},
   "source": [
    "#### □問題"
   ]
  },
  {
   "cell_type": "code",
   "execution_count": null,
   "metadata": {},
   "outputs": [],
   "source": [
    "c = [\"red\", \"blue\", \"yellow\"]\n",
    "\n",
    "# 変数 c の値が変化しないように訂正してください\n",
    "c_copy = c\n",
    "\n",
    "c_copy[1] = \"green\"\n",
    "print(c)"
   ]
  },
  {
   "cell_type": "markdown",
   "metadata": {},
   "source": [
    "**リスト 5.23：問題**"
   ]
  },
  {
   "cell_type": "markdown",
   "metadata": {},
   "source": [
    "#### □解答例"
   ]
  },
  {
   "cell_type": "code",
   "execution_count": 13,
   "metadata": {},
   "outputs": [
    {
     "name": "stdout",
     "output_type": "stream",
     "text": [
      "['red', 'blue', 'yellow']\n"
     ]
    }
   ],
   "source": [
    "c = [\"red\", \"blue\", \"yellow\"]\n",
    "\n",
    "# 変数 c の値が変化しないように訂正してください\n",
    "c_copy = list(c) #c[:] も正解です\n",
    "\n",
    "c_copy[1] = \"green\"\n",
    "print(c)"
   ]
  },
  {
   "cell_type": "markdown",
   "metadata": {},
   "source": [
    "**リスト 5.24：解答例**"
   ]
  },
  {
   "cell_type": "markdown",
   "metadata": {
    "id": "section_name",
    "sectionId": "B1LdA7blWf"
   },
   "source": [
    "## ●5.2 辞書型"
   ]
  },
  {
   "cell_type": "markdown",
   "metadata": {
    "courseId": 3010,
    "exerciseId": "H13WthIiLlz",
    "id": "code_session_name",
    "important": true,
    "isDL": false,
    "timeoutSecs": 5
   },
   "source": [
    "### 〇5.2.1 辞書型"
   ]
  },
  {
   "cell_type": "code",
   "execution_count": 14,
   "metadata": {},
   "outputs": [
    {
     "name": "stdout",
     "output_type": "stream",
     "text": [
      "{'Japan': 'Tokyo', 'Korea': 'Seoul'}\n"
     ]
    }
   ],
   "source": [
    "dic ={\"Japan\": \"Tokyo\", \"Korea\": \"Seoul\"}\n",
    "print(dic)"
   ]
  },
  {
   "cell_type": "markdown",
   "metadata": {},
   "source": [
    "**リスト 5.25：辞書型の例**"
   ]
  },
  {
   "cell_type": "markdown",
   "metadata": {},
   "source": [
    "#### □問題"
   ]
  },
  {
   "cell_type": "code",
   "execution_count": null,
   "metadata": {
    "collapsed": true,
    "id": "index"
   },
   "outputs": [],
   "source": [
    "# 変数townに辞書を代入してください\n",
    "\n",
    "\n",
    "\n",
    "# townの出力\n",
    "print(town)\n",
    "# 型の出力\n",
    "print(type(town))"
   ]
  },
  {
   "cell_type": "markdown",
   "metadata": {},
   "source": [
    "**リスト 5.26：問題**"
   ]
  },
  {
   "cell_type": "markdown",
   "metadata": {},
   "source": [
    "#### □解答例"
   ]
  },
  {
   "cell_type": "code",
   "execution_count": 17,
   "metadata": {
    "id": "answer"
   },
   "outputs": [
    {
     "name": "stdout",
     "output_type": "stream",
     "text": [
      "{'Aichi': 'Nagoya', 'Kanagawa': 'Yokohama'}\n",
      "<class 'dict'>\n"
     ]
    }
   ],
   "source": [
    "# 変数townに辞書を代入してください\n",
    "town = {\"Aichi\": \"Nagoya\", \"Kanagawa\": \"Yokohama\"}\n",
    "\n",
    "# townの出力\n",
    "print(town)\n",
    "# 型の出力\n",
    "print(type(town))"
   ]
  },
  {
   "cell_type": "markdown",
   "metadata": {},
   "source": [
    "**リスト 5.27：解答例**"
   ]
  },
  {
   "cell_type": "markdown",
   "metadata": {
    "courseId": 3010,
    "exerciseId": "S1a-Y2UoLgG",
    "id": "code_session_name",
    "important": true,
    "isDL": false,
    "timeoutSecs": 5
   },
   "source": [
    "### 〇5.2.2 辞書の要素を取り出す"
   ]
  },
  {
   "cell_type": "code",
   "execution_count": 18,
   "metadata": {},
   "outputs": [
    {
     "name": "stdout",
     "output_type": "stream",
     "text": [
      "Tokyo\n"
     ]
    }
   ],
   "source": [
    "dic ={\"Japan\": \"Tokyo\", \"Korea\": \"Soul\"}\n",
    "print(dic[\"Japan\"])  "
   ]
  },
  {
   "cell_type": "markdown",
   "metadata": {},
   "source": [
    "**リスト 5.28：辞書の要素を取り出す例**"
   ]
  },
  {
   "cell_type": "markdown",
   "metadata": {},
   "source": [
    "#### □問題"
   ]
  },
  {
   "cell_type": "code",
   "execution_count": null,
   "metadata": {
    "collapsed": true,
    "id": "index"
   },
   "outputs": [],
   "source": [
    "town = {\"Aichi\": \"Nagoya\", \"Kanagawa\": \"Yokohama\"}\n",
    "\n",
    "# 「Aichiの県庁所在地はNagoyaです」と出力してください\n",
    "\n",
    "\n",
    "\n",
    "# 「Kanagawaの県庁所在地はYokohamaです」と出力してください\n"
   ]
  },
  {
   "cell_type": "markdown",
   "metadata": {},
   "source": [
    "**リスト 5.29：問題**"
   ]
  },
  {
   "cell_type": "markdown",
   "metadata": {},
   "source": [
    "#### □解答例"
   ]
  },
  {
   "cell_type": "code",
   "execution_count": 15,
   "metadata": {
    "id": "answer"
   },
   "outputs": [
    {
     "name": "stdout",
     "output_type": "stream",
     "text": [
      "Aichiの県庁所在地はNagoyaです\n",
      "Kanagawaの県庁所在地はYokohamaです\n"
     ]
    }
   ],
   "source": [
    "town = {\"Aichi\": \"Nagoya\", \"Kanagawa\": \"Yokohama\"}\n",
    "\n",
    "# 「Aichiの県庁所在地はNagoyaです」と出力してください\n",
    "print(\"Aichiの県庁所在地は\" + town[\"Aichi\"] + \"です\")\n",
    "\n",
    "# 「Kanagawaの県庁所在地はYokohamaです」と出力してください\n",
    "print(\"Kanagawaの県庁所在地は\" + town[\"Kanagawa\"] + \"です\")"
   ]
  },
  {
   "cell_type": "markdown",
   "metadata": {},
   "source": [
    "**リスト 5.30：解答例**"
   ]
  },
  {
   "cell_type": "markdown",
   "metadata": {
    "courseId": 3010,
    "exerciseId": "B1R-F3IoUeG",
    "id": "code_session_name",
    "important": true,
    "isDL": false,
    "timeoutSecs": 5
   },
   "source": [
    "### 〇5.2.3 辞書の更新と追加"
   ]
  },
  {
   "cell_type": "code",
   "execution_count": 20,
   "metadata": {},
   "outputs": [
    {
     "name": "stdout",
     "output_type": "stream",
     "text": [
      "{'Japan': 'Osaka', 'Korea': 'Soul', 'China': 'Beijin'}\n"
     ]
    }
   ],
   "source": [
    "dic ={\"Japan\":\"Tokyo\",\"Korea\":\"Soul\"}\n",
    "dic[\"Japan\"] = \"Osaka\"\n",
    "dic[\"China\"] = \"Beijin\"\n",
    "print(dic)  "
   ]
  },
  {
   "cell_type": "markdown",
   "metadata": {},
   "source": [
    "**リスト 5.31：辞書の更新と追加の例**"
   ]
  },
  {
   "cell_type": "markdown",
   "metadata": {},
   "source": [
    "#### □問題"
   ]
  },
  {
   "cell_type": "code",
   "execution_count": null,
   "metadata": {
    "collapsed": true,
    "id": "index"
   },
   "outputs": [],
   "source": [
    "town = {\"Aichi\": \"aichi\", \"Kanagawa\": \"Yokohama\"}\n",
    "\n",
    "# キー「Hokkaido」、バリュー「Sapporo」を追加してください\n",
    "\n",
    "\n",
    "print(town)\n",
    "\n",
    "# キー「Aichi」のバリューを「Nagoya」に変更してください\n",
    "\n",
    "\n",
    "print(town)"
   ]
  },
  {
   "cell_type": "markdown",
   "metadata": {},
   "source": [
    "**リスト 5.32：問題**"
   ]
  },
  {
   "cell_type": "markdown",
   "metadata": {},
   "source": [
    "#### □解答例"
   ]
  },
  {
   "cell_type": "code",
   "execution_count": 16,
   "metadata": {
    "id": "answer"
   },
   "outputs": [
    {
     "name": "stdout",
     "output_type": "stream",
     "text": [
      "{'Aichi': 'aichi', 'Kanagawa': 'Yokohama', 'Hokkaido': 'Sapporo'}\n",
      "{'Aichi': 'Nagoya', 'Kanagawa': 'Yokohama', 'Hokkaido': 'Sapporo'}\n"
     ]
    }
   ],
   "source": [
    "town = {\"Aichi\": \"aichi\", \"Kanagawa\": \"Yokohama\"}\n",
    "\n",
    "# キー「Hokkaido」、バリュー「Sapporo」を追加してください\n",
    "town[\"Hokkaido\"] = \"Sapporo\"\n",
    "print(town)\n",
    "\n",
    "# キー「Aichi」のバリューを「Nagoya」に変更してください\n",
    "town[\"Aichi\"] = \"Nagoya\"\n",
    "print(town)"
   ]
  },
  {
   "cell_type": "markdown",
   "metadata": {},
   "source": [
    "**リスト 5.33：解答例**"
   ]
  },
  {
   "cell_type": "markdown",
   "metadata": {
    "courseId": 3010,
    "exerciseId": "r1JGKhLsUeG",
    "id": "code_session_name",
    "important": false,
    "isDL": false,
    "timeoutSecs": 5
   },
   "source": [
    "### 〇5.2.4 辞書の要素の削除"
   ]
  },
  {
   "cell_type": "code",
   "execution_count": 22,
   "metadata": {},
   "outputs": [
    {
     "name": "stdout",
     "output_type": "stream",
     "text": [
      "{'Japan': 'Tokyo', 'Korea': 'Soul'}\n"
     ]
    }
   ],
   "source": [
    "dic ={\"Japan\": \"Tokyo\", \"Korea\": \"Soul\", \"China\": \"Beijin\"}\n",
    "del dic[\"China\"]\n",
    "print(dic)  "
   ]
  },
  {
   "cell_type": "markdown",
   "metadata": {},
   "source": [
    "**リスト 5.34：辞書の要素の削除の例**"
   ]
  },
  {
   "cell_type": "markdown",
   "metadata": {},
   "source": [
    "#### □問題"
   ]
  },
  {
   "cell_type": "code",
   "execution_count": null,
   "metadata": {
    "collapsed": true,
    "id": "index"
   },
   "outputs": [],
   "source": [
    "town = {\"Aichi\": \"aichi\", \"Kanagawa\": \"Yokohama\", \"Hokkaido\": \"Sapporo\"}\n",
    "\n",
    "# キーが「Aichi」の要素を削除してください\n",
    "\n",
    "\n",
    "print(town)"
   ]
  },
  {
   "cell_type": "markdown",
   "metadata": {},
   "source": [
    "**リスト 5.35：解答**"
   ]
  },
  {
   "cell_type": "markdown",
   "metadata": {},
   "source": [
    "#### □解答例"
   ]
  },
  {
   "cell_type": "code",
   "execution_count": 17,
   "metadata": {
    "id": "answer"
   },
   "outputs": [
    {
     "name": "stdout",
     "output_type": "stream",
     "text": [
      "{'Kanagawa': 'Yokohama', 'Hokkaido': 'Sapporo'}\n"
     ]
    }
   ],
   "source": [
    "town = {\"Aichi\": \"aichi\", \"Kanagawa\": \"Yokohama\", \"Hokkaido\": \"Sapporo\"}\n",
    "\n",
    "# キーが「Aichi」の要素を削除してください\n",
    "del town[\"Aichi\"]\n",
    "print(town)"
   ]
  },
  {
   "cell_type": "markdown",
   "metadata": {},
   "source": [
    "**リスト 5.36：解答例**"
   ]
  },
  {
   "cell_type": "markdown",
   "metadata": {
    "id": "section_name",
    "sectionId": "Bkv_C7bgWz"
   },
   "source": [
    "## ●5.3 while文"
   ]
  },
  {
   "cell_type": "markdown",
   "metadata": {
    "courseId": 3010,
    "exerciseId": "rygzF3Ui8lG",
    "id": "quiz_session_name",
    "important": true,
    "isDL": false,
    "timeoutSecs": 5
   },
   "source": [
    "### 〇5.3.1 while文①"
   ]
  },
  {
   "cell_type": "code",
   "execution_count": 18,
   "metadata": {},
   "outputs": [
    {
     "name": "stdout",
     "output_type": "stream",
     "text": [
      "2\n",
      "1\n"
     ]
    }
   ],
   "source": [
    "n = 2\n",
    "while n >0:\n",
    "    print(n)\n",
    "    n -= 1"
   ]
  },
  {
   "cell_type": "markdown",
   "metadata": {},
   "source": [
    "**リスト 5.37：while ⽂①の例**"
   ]
  },
  {
   "cell_type": "markdown",
   "metadata": {},
   "source": [
    "#### □問題"
   ]
  },
  {
   "cell_type": "code",
   "execution_count": null,
   "metadata": {
    "collapsed": true
   },
   "outputs": [],
   "source": [
    "x = 5\n",
    "while x > 0:\n",
    "    print(\"Aidemy\")\n",
    "    x -= 2"
   ]
  },
  {
   "cell_type": "markdown",
   "metadata": {},
   "source": [
    "**リスト 5.38：問題**"
   ]
  },
  {
   "cell_type": "markdown",
   "metadata": {
    "id": "choices"
   },
   "source": [
    "- 1.　1 回\n",
    "- 2.　2 回\n",
    "- 3.　3 回\n",
    "- 4.　4 回"
   ]
  },
  {
   "cell_type": "markdown",
   "metadata": {},
   "source": [
    "#### □解答"
   ]
  },
  {
   "cell_type": "code",
   "execution_count": 19,
   "metadata": {},
   "outputs": [
    {
     "name": "stdout",
     "output_type": "stream",
     "text": [
      "Aidemy\n",
      "Aidemy\n",
      "Aidemy\n"
     ]
    }
   ],
   "source": [
    "x = 5\n",
    "while x > 0:\n",
    "    print(\"Aidemy\")\n",
    "    x -= 2"
   ]
  },
  {
   "cell_type": "markdown",
   "metadata": {},
   "source": [
    "**リスト 5.39：解答例**\n"
   ]
  },
  {
   "cell_type": "markdown",
   "metadata": {
    "courseId": 3010,
    "exerciseId": "SJbGKnIoUlf",
    "id": "code_session_name",
    "important": false,
    "isDL": false,
    "timeoutSecs": 5
   },
   "source": [
    "### 〇5.3.2 while文②"
   ]
  },
  {
   "cell_type": "markdown",
   "metadata": {},
   "source": [
    "#### □問題"
   ]
  },
  {
   "cell_type": "code",
   "execution_count": null,
   "metadata": {
    "collapsed": true,
    "id": "index"
   },
   "outputs": [],
   "source": [
    "x = 5\n",
    "\n",
    "# whileを用いて、変数xが0ではない間、ループするように作ってください\n",
    "\n",
    "    # whileの中で実行する処理は、変数xから1を引く処理と引いた後に出力させる処理です\n",
    "    \n",
    "    "
   ]
  },
  {
   "cell_type": "markdown",
   "metadata": {},
   "source": [
    "**リスト 5.40：問題**"
   ]
  },
  {
   "cell_type": "markdown",
   "metadata": {},
   "source": [
    "#### □解答例"
   ]
  },
  {
   "cell_type": "code",
   "execution_count": 20,
   "metadata": {
    "id": "answer",
    "scrolled": true
   },
   "outputs": [
    {
     "name": "stdout",
     "output_type": "stream",
     "text": [
      "4\n",
      "3\n",
      "2\n",
      "1\n",
      "0\n"
     ]
    }
   ],
   "source": [
    "x = 5\n",
    "\n",
    "# whileを用いて、変数xが0ではない間、ループするように作ってください\n",
    "while x != 0:\n",
    "    # whileの中で実行される処理は、変数xから1を引く処理と引いた後に出力させる処理です\n",
    "    x -= 1\n",
    "    print(x)"
   ]
  },
  {
   "cell_type": "markdown",
   "metadata": {},
   "source": [
    "**リスト 5.41：解答例**"
   ]
  },
  {
   "cell_type": "markdown",
   "metadata": {
    "courseId": 3010,
    "exerciseId": "r1GfF3UoUgz",
    "id": "code_session_name",
    "important": false,
    "isDL": false,
    "timeoutSecs": 5
   },
   "source": [
    "### 〇5.3.3 whileとif"
   ]
  },
  {
   "cell_type": "markdown",
   "metadata": {},
   "source": [
    "#### □問題"
   ]
  },
  {
   "cell_type": "code",
   "execution_count": null,
   "metadata": {
    "collapsed": true,
    "id": "index"
   },
   "outputs": [],
   "source": [
    "x = 5\n",
    "\n",
    "# whileを用いて、変数xが0ではない間、ループするように作ってください\n",
    "\n",
    "    # whileの中で実行される処理は、変数xから1を引く処理と引いた後に出力させる処理です\n",
    "    \n",
    "    print(x)"
   ]
  },
  {
   "cell_type": "markdown",
   "metadata": {},
   "source": [
    "**リスト5.42：解答**"
   ]
  },
  {
   "cell_type": "markdown",
   "metadata": {},
   "source": [
    "#### □解答例"
   ]
  },
  {
   "cell_type": "code",
   "execution_count": 29,
   "metadata": {
    "id": "answer"
   },
   "outputs": [
    {
     "name": "stdout",
     "output_type": "stream",
     "text": [
      "4\n",
      "3\n",
      "2\n",
      "1\n",
      "Bang\n"
     ]
    }
   ],
   "source": [
    "x = 5\n",
    "\n",
    "# whileを用いて、変数xが0ではない間、ループするように作ってください\n",
    "while x != 0:\n",
    "    # whileの中で実行される処理は、変数xから1を引く処理と引いた後に出力させる処理です\n",
    "    x -= 1\n",
    "    if x != 0:\n",
    "        print(x)\n",
    "    else:\n",
    "        print(\"Bang\")"
   ]
  },
  {
   "cell_type": "markdown",
   "metadata": {},
   "source": [
    "**リスト 5.43：解答例**"
   ]
  },
  {
   "cell_type": "markdown",
   "metadata": {
    "id": "section_name",
    "sectionId": "B1_uRmZgbf"
   },
   "source": [
    "## ●5.4 for文"
   ]
  },
  {
   "cell_type": "markdown",
   "metadata": {
    "courseId": 3010,
    "exerciseId": "Bk7GF2IiUxG",
    "id": "code_session_name",
    "important": true,
    "isDL": false,
    "timeoutSecs": 5
   },
   "source": [
    "### 〇5.4.1 for文"
   ]
  },
  {
   "cell_type": "code",
   "execution_count": 22,
   "metadata": {},
   "outputs": [
    {
     "name": "stdout",
     "output_type": "stream",
     "text": [
      "tiger\n",
      "dog\n",
      "elephant\n"
     ]
    }
   ],
   "source": [
    "animals = [\"tiger\", \"dog\", \"elephant\"]\n",
    "for animal in animals:\n",
    "    print(animal)"
   ]
  },
  {
   "cell_type": "markdown",
   "metadata": {},
   "source": [
    "**リスト 5.44：for ⽂の例**"
   ]
  },
  {
   "cell_type": "markdown",
   "metadata": {},
   "source": [
    "#### □問題"
   ]
  },
  {
   "cell_type": "code",
   "execution_count": null,
   "metadata": {
    "collapsed": true,
    "id": "index"
   },
   "outputs": [],
   "source": [
    "storages = [1, 2, 3, 4]\n",
    "\n",
    "# for文を使って変数storagesの要素を出力してください\n"
   ]
  },
  {
   "cell_type": "markdown",
   "metadata": {},
   "source": [
    "**リスト 5.45：問題**"
   ]
  },
  {
   "cell_type": "markdown",
   "metadata": {},
   "source": [
    "#### □解答例"
   ]
  },
  {
   "cell_type": "code",
   "execution_count": 24,
   "metadata": {
    "id": "answer"
   },
   "outputs": [
    {
     "name": "stdout",
     "output_type": "stream",
     "text": [
      "1\n",
      "2\n",
      "3\n",
      "4\n"
     ]
    }
   ],
   "source": [
    "storages = [1, 2, 3, 4]\n",
    "\n",
    "# for文を使って変数storagesの要素を出力してください\n",
    "for n in storages:\n",
    "    print(n)"
   ]
  },
  {
   "cell_type": "markdown",
   "metadata": {},
   "source": [
    "**リスト 5.46：解答例**"
   ]
  },
  {
   "cell_type": "markdown",
   "metadata": {
    "courseId": 3010,
    "exerciseId": "r14GKnUsUez",
    "id": "code_session_name",
    "important": true,
    "isDL": false,
    "timeoutSecs": 5
   },
   "source": [
    "### 〇5.4.2 break"
   ]
  },
  {
   "cell_type": "code",
   "execution_count": 27,
   "metadata": {},
   "outputs": [
    {
     "name": "stdout",
     "output_type": "stream",
     "text": [
      "1\n",
      "2\n",
      "3\n",
      "4\n",
      "5\n",
      "続きはこちら\n"
     ]
    }
   ],
   "source": [
    "storages = [1, 2, 3, 4, 5, 6, 7, 8, 9, 10]\n",
    "for n in storages:\n",
    "    print(n)\n",
    "    if n >= 5:\n",
    "        print(\"続きはこちら\")\n",
    "        break"
   ]
  },
  {
   "cell_type": "markdown",
   "metadata": {},
   "source": [
    "**リスト 5.47：break の例**"
   ]
  },
  {
   "cell_type": "markdown",
   "metadata": {},
   "source": [
    "#### □問題"
   ]
  },
  {
   "cell_type": "code",
   "execution_count": null,
   "metadata": {
    "collapsed": true,
    "id": "index"
   },
   "outputs": [],
   "source": [
    "storages = [1, 2, 3, 4, 5, 6]\n",
    "\n",
    "for n in storages:\n",
    "    print(n)\n",
    "    # 変数nの値が4の時に処理を終了させてください\n",
    "    "
   ]
  },
  {
   "cell_type": "markdown",
   "metadata": {},
   "source": [
    "#### □解答例"
   ]
  },
  {
   "cell_type": "code",
   "execution_count": 34,
   "metadata": {
    "id": "answer"
   },
   "outputs": [
    {
     "name": "stdout",
     "output_type": "stream",
     "text": [
      "1\n",
      "2\n",
      "3\n",
      "4\n"
     ]
    }
   ],
   "source": [
    "storages = [1, 2, 3, 4, 5, 6]\n",
    "\n",
    "for n in storages:\n",
    "    print(n)\n",
    "    # 変数nの値が4の時に処理を終了させてください\n",
    "    if n == 4:\n",
    "        break"
   ]
  },
  {
   "cell_type": "markdown",
   "metadata": {},
   "source": [
    "**リスト 5.49：解答例**"
   ]
  },
  {
   "cell_type": "markdown",
   "metadata": {
    "courseId": 3010,
    "exerciseId": "HyrMKnIjLlG",
    "id": "code_session_name",
    "important": true,
    "isDL": false,
    "timeoutSecs": 5
   },
   "source": [
    "### 〇5.4.3 continue"
   ]
  },
  {
   "cell_type": "code",
   "execution_count": 29,
   "metadata": {},
   "outputs": [
    {
     "name": "stdout",
     "output_type": "stream",
     "text": [
      "1\n",
      "3\n"
     ]
    }
   ],
   "source": [
    "storages = [1, 2, 3]\n",
    "for n in storages:\n",
    "    if n == 2:\n",
    "        continue\n",
    "    print(n)"
   ]
  },
  {
   "cell_type": "markdown",
   "metadata": {},
   "source": [
    "**リスト 5.50：continue の例**"
   ]
  },
  {
   "cell_type": "markdown",
   "metadata": {},
   "source": [
    "#### □問題"
   ]
  },
  {
   "cell_type": "code",
   "execution_count": null,
   "metadata": {
    "collapsed": true,
    "id": "index"
   },
   "outputs": [],
   "source": [
    "storages = [1, 2, 3, 4, 5, 6]\n",
    "\n",
    "for n in storages:\n",
    "    # 変数nの値が2の倍数の時だけ、処理をスキップさせてください\n",
    "    \n",
    "        \n",
    "    print(n)"
   ]
  },
  {
   "cell_type": "markdown",
   "metadata": {},
   "source": [
    "**リスト 5.51：問題**"
   ]
  },
  {
   "cell_type": "markdown",
   "metadata": {},
   "source": [
    "#### □解答例"
   ]
  },
  {
   "cell_type": "code",
   "execution_count": 30,
   "metadata": {
    "id": "answer"
   },
   "outputs": [
    {
     "name": "stdout",
     "output_type": "stream",
     "text": [
      "1\n",
      "3\n",
      "5\n"
     ]
    }
   ],
   "source": [
    "storages = [1, 2, 3, 4, 5, 6]\n",
    "\n",
    "for n in storages:\n",
    "    # 変数nの値が2の倍数の時だけ、処理をスキップさせてください\n",
    "    if n % 2 == 0:\n",
    "        continue\n",
    "    print(n)"
   ]
  },
  {
   "cell_type": "markdown",
   "metadata": {},
   "source": [
    "**リスト 5.52：解答例**"
   ]
  },
  {
   "cell_type": "markdown",
   "metadata": {
    "id": "section_name",
    "sectionId": "S1KuRQWx-z"
   },
   "source": [
    "## ●5.5 Appendix"
   ]
  },
  {
   "cell_type": "markdown",
   "metadata": {
    "courseId": 3010,
    "exerciseId": "HkLzYnLoIxM",
    "id": "code_session_name",
    "important": false,
    "isDL": false,
    "timeoutSecs": 5
   },
   "source": [
    "### 〇5.5.1 for文でindex表示"
   ]
  },
  {
   "cell_type": "code",
   "execution_count": 31,
   "metadata": {},
   "outputs": [
    {
     "name": "stdout",
     "output_type": "stream",
     "text": [
      "0 a\n",
      "1 b\n"
     ]
    }
   ],
   "source": [
    "list = [\"a\", \"b\"]\n",
    "for index, value in enumerate(list):\n",
    "    print(index, value)"
   ]
  },
  {
   "cell_type": "markdown",
   "metadata": {},
   "source": [
    "**リスト 5.53：for ⽂で index 表⽰する例**"
   ]
  },
  {
   "cell_type": "markdown",
   "metadata": {},
   "source": [
    "#### □問題"
   ]
  },
  {
   "cell_type": "code",
   "execution_count": null,
   "metadata": {
    "id": "index"
   },
   "outputs": [],
   "source": [
    "animals = [\"tiger\", \"dog\", \"elephant\"]\n",
    "\n",
    "\n",
    "# enumerate()を用いて出力してください\n",
    "\n"
   ]
  },
  {
   "cell_type": "markdown",
   "metadata": {},
   "source": [
    "**リスト 5.54：問題**"
   ]
  },
  {
   "cell_type": "markdown",
   "metadata": {},
   "source": [
    "#### □解答例"
   ]
  },
  {
   "cell_type": "code",
   "execution_count": 32,
   "metadata": {
    "id": "answer"
   },
   "outputs": [
    {
     "name": "stdout",
     "output_type": "stream",
     "text": [
      "index:0 tiger\n",
      "index:1 dog\n",
      "index:2 elephant\n"
     ]
    }
   ],
   "source": [
    "animals = [\"tiger\", \"dog\", \"elephant\"]\n",
    "\n",
    "\n",
    "# enumerate()を用いて出力してください\n",
    "for index, animal in enumerate(animals):\n",
    "    print(\"index:\" + str(index), animal)"
   ]
  },
  {
   "cell_type": "markdown",
   "metadata": {},
   "source": [
    "**リスト 5.55：解答例**"
   ]
  },
  {
   "cell_type": "markdown",
   "metadata": {
    "courseId": 3010,
    "exerciseId": "HywGt3IjUxf",
    "id": "code_session_name",
    "important": false,
    "isDL": false,
    "timeoutSecs": 5
   },
   "source": [
    "### 〇5.5.2 リスト in リストのループ"
   ]
  },
  {
   "cell_type": "code",
   "execution_count": 43,
   "metadata": {},
   "outputs": [
    {
     "name": "stdout",
     "output_type": "stream",
     "text": [
      "1 2 3\n",
      "4 5 6\n"
     ]
    }
   ],
   "source": [
    "# リスト5.53\n",
    "list = [[1, 2, 3],\n",
    "        [4, 5, 6]]\n",
    "for a, b, c in list:\n",
    "    print(a, b, c)"
   ]
  },
  {
   "cell_type": "markdown",
   "metadata": {},
   "source": [
    "**リスト 5.56：リスト in リストのループの例**"
   ]
  },
  {
   "cell_type": "markdown",
   "metadata": {},
   "source": [
    "#### □問題"
   ]
  },
  {
   "cell_type": "code",
   "execution_count": null,
   "metadata": {
    "collapsed": true,
    "id": "index"
   },
   "outputs": [],
   "source": [
    "fruits = [[\"strawberry\", \"red\"],\n",
    "          [\"peach\", \"pink\"],\n",
    "          [\"banana\", \"yellow\"]]\n",
    "\n",
    "# for文を用いて出力してください          \n",
    "\n"
   ]
  },
  {
   "cell_type": "markdown",
   "metadata": {},
   "source": [
    "**リスト5.57：問題**　"
   ]
  },
  {
   "cell_type": "markdown",
   "metadata": {},
   "source": [
    "#### □解答例"
   ]
  },
  {
   "cell_type": "code",
   "execution_count": 33,
   "metadata": {
    "id": "answer",
    "scrolled": true
   },
   "outputs": [
    {
     "name": "stdout",
     "output_type": "stream",
     "text": [
      "strawberry is red\n",
      "peach is pink\n",
      "banana is yellow\n"
     ]
    }
   ],
   "source": [
    "fruits = [[\"strawberry\", \"red\"],\n",
    "          [\"peach\", \"pink\"],\n",
    "          [\"banana\", \"yellow\"]]\n",
    "\n",
    "# for文を用いて出力してください          \n",
    "for fruit, color in fruits:\n",
    "    print(fruit + \" is \" + color)"
   ]
  },
  {
   "cell_type": "markdown",
   "metadata": {},
   "source": [
    "**リスト 5.58：解答例**"
   ]
  },
  {
   "cell_type": "markdown",
   "metadata": {
    "courseId": 3010,
    "exerciseId": "BJ_fK28oIgG",
    "id": "code_session_name",
    "important": false,
    "isDL": false,
    "timeoutSecs": 5
   },
   "source": [
    "### 〇5.5.3 辞書型のループ"
   ]
  },
  {
   "cell_type": "code",
   "execution_count": 34,
   "metadata": {},
   "outputs": [
    {
     "name": "stdout",
     "output_type": "stream",
     "text": [
      "strawberry is red\n",
      "peach is pink\n",
      "banana is yellow\n"
     ]
    }
   ],
   "source": [
    "fruits = {\"strawberry\": \"red\", \"peach\": \"pink\", \"banana\": \"yellow\"}\n",
    "for fruit, color in fruits.items():\n",
    "        print(fruit+\" is \"+color)"
   ]
  },
  {
   "cell_type": "markdown",
   "metadata": {},
   "source": [
    "**リスト 5.59：辞書型のループの例**"
   ]
  },
  {
   "cell_type": "markdown",
   "metadata": {},
   "source": [
    "#### □問題"
   ]
  },
  {
   "cell_type": "code",
   "execution_count": null,
   "metadata": {
    "collapsed": true,
    "id": "index"
   },
   "outputs": [],
   "source": [
    "town = {\"Aichi\": \"Nagoya\", \"Kanagawa\": \"Yokohama\", \"Hokkaido\": \"Sapporo\"}\n",
    "\n",
    "# for文を用いて出力してください\n",
    "\n"
   ]
  },
  {
   "cell_type": "markdown",
   "metadata": {},
   "source": [
    "**リスト 5.60：問題**"
   ]
  },
  {
   "cell_type": "markdown",
   "metadata": {},
   "source": [
    "#### □解答例"
   ]
  },
  {
   "cell_type": "code",
   "execution_count": 35,
   "metadata": {
    "id": "answer",
    "scrolled": true
   },
   "outputs": [
    {
     "name": "stdout",
     "output_type": "stream",
     "text": [
      "Aichi Nagoya\n",
      "Kanagawa Yokohama\n",
      "Hokkaido Sapporo\n"
     ]
    }
   ],
   "source": [
    "town = {\"Aichi\": \"Nagoya\", \"Kanagawa\": \"Yokohama\", \"Hokkaido\": \"Sapporo\"}\n",
    "\n",
    "# for文を用いて出力してください\n",
    "for prefecture, capital in town.items():\n",
    "        print(prefecture, capital)"
   ]
  },
  {
   "cell_type": "markdown",
   "metadata": {},
   "source": [
    "**リスト 5.61：解答例**"
   ]
  },
  {
   "cell_type": "markdown",
   "metadata": {
    "id": "chapter_exam"
   },
   "source": [
    "## 添削問題"
   ]
  },
  {
   "cell_type": "markdown",
   "metadata": {},
   "source": [
    "#### □問題"
   ]
  },
  {
   "cell_type": "code",
   "execution_count": null,
   "metadata": {
    "collapsed": true,
    "id": "index"
   },
   "outputs": [],
   "source": [
    "items = {\"eracer\" : [100, 2], \"pen\" : [200, 3], \"notebook\" : [400,5]}\n",
    "total_price = 0\n",
    "\n",
    "# 変数 items を for 文でループさせてください\n",
    "\n",
    "    \n",
    "    # 「＊＊は 1 個＊＊円で、＊＊個購入します」と出力してください\n",
    "    \n",
    "    \n",
    "    # 変数 total_price に値段×個数を足して代入してください\n",
    "\n",
    "    \n",
    "    \n",
    "# 「支払金額は＊＊円です」と出力してください\n",
    "\n",
    "\n",
    "# 変数 money に好きな値を代入してください\n",
    "\n",
    "\n",
    "\n",
    "# money > total_price の時「お釣りは＊＊円です」と出力してください\n",
    "\n",
    "\n",
    "\n",
    "# money == total_price の時「お釣りはありません」と出力してください\n",
    "\n",
    "\n",
    "\n",
    "# money < total_price の時「お金が足りません」と出力してください\n",
    "\n"
   ]
  },
  {
   "cell_type": "markdown",
   "metadata": {},
   "source": [
    "**リスト 5.62：問題**\n"
   ]
  },
  {
   "cell_type": "markdown",
   "metadata": {},
   "source": [
    "#### □解答例"
   ]
  },
  {
   "cell_type": "code",
   "execution_count": 36,
   "metadata": {
    "id": "answer",
    "scrolled": true
   },
   "outputs": [
    {
     "name": "stdout",
     "output_type": "stream",
     "text": [
      "eracerは1個100円で、2個購入します\n",
      "penは1個200円で、3個購入します\n",
      "notebookは1個400円で、5個購入します\n",
      "支払い金額は2800円です\n",
      "お釣りは1200円です \n"
     ]
    }
   ],
   "source": [
    "items = {\"eracer\" : [100, 2], \"pen\" : [200, 3], \"notebook\" : [400,5]}\n",
    "total_price = 0\n",
    "\n",
    "# 変数 items を for 文でループさせてください\n",
    "for item in items:\n",
    "    \n",
    "    # 「＊＊は 1 個＊＊円で、＊＊個購入します」と出力してください\n",
    "    print(item + \"は1個\" + str(items[item][0]) + \"円で、\" \n",
    "          + str(items[item][1]) + \"個購入します\")\n",
    "    # 変数 total_price に値段×個数を足して代入してください\n",
    "    total_price += items[item][0] * items[item][1]\n",
    "\n",
    "# 「支払金額は＊＊円です」と出力してください\n",
    "print(\"支払い金額は\" + str(total_price) + \"円です\")\n",
    "# 変数 money に好きな値を代入してください。\n",
    "money = 4000\n",
    "\n",
    "# money > total_price の時「お釣りは＊＊円です」と出力してください\n",
    "if money > total_price:\n",
    "    print(\"お釣りは\" + str(money - total_price) + \"円です \")\n",
    "# money == total_price の時「お釣りはありません」と出力してください\n",
    "elif money == total_price:\n",
    "    print(\"お釣りはありません\")\n",
    "# money < total_price の時「お金が足りません」と出力してください\n",
    "else:\n",
    "    print(\"お金が足りません\")"
   ]
  },
  {
   "cell_type": "markdown",
   "metadata": {},
   "source": [
    "**リスト 5.63：解答例**"
   ]
  },
  {
   "cell_type": "markdown",
   "metadata": {},
   "source": [
    "#### □解説"
   ]
  },
  {
   "cell_type": "code",
   "execution_count": 40,
   "metadata": {},
   "outputs": [
    {
     "name": "stdout",
     "output_type": "stream",
     "text": [
      "3\n"
     ]
    }
   ],
   "source": [
    "items = {\"eracer\" : [100, 2], \"pen\" : [200, 3], \"notebook\" : [400,5]}\n",
    "print(items[\"pen\"][1])"
   ]
  },
  {
   "cell_type": "markdown",
   "metadata": {},
   "source": [
    "**リスト 5.64：解説の例**"
   ]
  }
 ],
 "metadata": {
  "celltoolbar": "Edit Metadata",
  "kernelspec": {
   "display_name": "Python 3",
   "language": "python",
   "name": "python3"
  },
  "language_info": {
   "codemirror_mode": {
    "name": "ipython",
    "version": 3
   },
   "file_extension": ".py",
   "mimetype": "text/x-python",
   "name": "python",
   "nbconvert_exporter": "python",
   "pygments_lexer": "ipython3",
   "version": "3.6.6"
  },
  "varInspector": {
   "cols": {
    "lenName": 16,
    "lenType": 16,
    "lenVar": 40
   },
   "kernels_config": {
    "python": {
     "delete_cmd_postfix": "",
     "delete_cmd_prefix": "del ",
     "library": "var_list.py",
     "varRefreshCmd": "print(var_dic_list())"
    },
    "r": {
     "delete_cmd_postfix": ") ",
     "delete_cmd_prefix": "rm(",
     "library": "var_list.r",
     "varRefreshCmd": "cat(var_dic_list()) "
    }
   },
   "types_to_exclude": [
    "module",
    "function",
    "builtin_function_or_method",
    "instance",
    "_Feature"
   ],
   "window_display": false
  }
 },
 "nbformat": 4,
 "nbformat_minor": 2
}
