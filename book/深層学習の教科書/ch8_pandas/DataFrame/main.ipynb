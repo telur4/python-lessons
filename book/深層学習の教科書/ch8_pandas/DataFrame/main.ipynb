{
 "metadata": {
  "language_info": {
   "codemirror_mode": {
    "name": "ipython",
    "version": 3
   },
   "file_extension": ".py",
   "mimetype": "text/x-python",
   "name": "python",
   "nbconvert_exporter": "python",
   "pygments_lexer": "ipython3",
   "version": "3.8.5"
  },
  "orig_nbformat": 2,
  "kernelspec": {
   "name": "python385jvsc74a57bd0f96a64404671f85a957b2f4c0dbe4aa6c78c92539a8416ed87cc97ff497f059c",
   "display_name": "Python 3.8.5 64-bit ('base': conda)"
  }
 },
 "nbformat": 4,
 "nbformat_minor": 2,
 "cells": [
  {
   "cell_type": "code",
   "execution_count": 24,
   "metadata": {},
   "outputs": [
    {
     "output_type": "stream",
     "name": "stdout",
     "text": [
      "   apple  orange  banana  strawberry  kiwifruit\n0     10       5       8          12          3\n1     30      25      12          10          8\n"
     ]
    }
   ],
   "source": [
    "# DataFrameの生成\n",
    "# DataFrameは、Seriesを複数束ねたような2次元のデータ構造をしている\n",
    "import pandas as pd\n",
    "\n",
    "index = ['apple', 'orange', 'banana', 'strawberry', 'kiwifruit']        # インデックスを指定\n",
    "data1 = [10, 5, 8, 12, 3]                   # 値を指定\n",
    "data2 = [30, 25, 12, 10, 8]\n",
    "series1 = pd.Series(data1, index=index)     # Series配列を作成\n",
    "series2 = pd.Series(data2, index=index)\n",
    "\n",
    "df = pd.DataFrame([series1, series2])       # DataFrameテーブルを作成\n",
    "print(df)"
   ]
  },
  {
   "cell_type": "code",
   "execution_count": 26,
   "metadata": {},
   "outputs": [
    {
     "output_type": "stream",
     "name": "stdout",
     "text": [
      "   apple  orange  banana  strawberry  kiwifruit\n1     10       5       8          12          3\n5     30      25      12          10          8\n"
     ]
    }
   ],
   "source": [
    "# インデックスとカラムの設定\n",
    "# DataFrameでは、行の名前をインデックス、列の名前をカラムと呼ぶ\n",
    "import pandas as pd\n",
    "\n",
    "index = ['apple', 'orange', 'banana', 'strawberry', 'kiwifruit']\n",
    "data1 = [10, 5, 8, 12, 3]\n",
    "data2 = [30, 25, 12, 10, 8]\n",
    "series1 = pd.Series(data1, index=index)\n",
    "series2 = pd.Series(data2, index=index)\n",
    "df = pd.DataFrame([series1, series2])\n",
    "\n",
    "df.index = [1, 2]       # DataFrameテーブルのインデックス番号を配列で指定\n",
    "# df.index = range(1, 3)\n",
    "print(df)"
   ]
  },
  {
   "cell_type": "code",
   "execution_count": 28,
   "metadata": {},
   "outputs": [
    {
     "output_type": "stream",
     "name": "stdout",
     "text": [
      "   apple  orange  banana  strawberry  kiwifruit  pineapple\n0     10       5       8          12          3        NaN\n1     30      25      12          10          8        NaN\n2     30      12      10           8         25        3.0\n"
     ]
    }
   ],
   "source": [
    "# 行を追加する\n",
    "import pandas as pd\n",
    "\n",
    "index = ['apple', 'orange', 'banana', 'strawberry', 'kiwifruit']\n",
    "data1 = [10, 5, 8, 12, 3]\n",
    "data2 = [30, 25, 12, 10, 8]\n",
    "data3 = [30, 12, 10, 8, 25, 3]\n",
    "series1 = pd.Series(data1, index=index)\n",
    "series2 = pd.Series(data2, index=index)\n",
    "\n",
    "index.append('pineapple')                   # インデックス番号を追加\n",
    "series3 = pd.Series(data3, index=index)     # 追加する行を作成\n",
    "\n",
    "df = pd.DataFrame([series1, series2])\n",
    "\n",
    "df = df.append(series3, ignore_index=True)  # DataFrameテーブルに行を追加\n",
    "print(df)"
   ]
  },
  {
   "cell_type": "code",
   "execution_count": 5,
   "metadata": {},
   "outputs": [
    {
     "output_type": "stream",
     "name": "stdout",
     "text": [
      "   apple  orange  banana  strawberry  kiwifruit  mango\n0     10       5       8          12          3     15\n1     30      25      12          10          8      7\n"
     ]
    }
   ],
   "source": [
    "# 列を追加する\n",
    "import pandas as pd\n",
    "\n",
    "index = ['apple', 'orange', 'banana', 'strawberry', 'kiwifruit']\n",
    "data1 = [10, 5, 8, 12, 3]\n",
    "data2 = [30, 25, 12, 10, 8]\n",
    "series1 = pd.Series(data1, index=index)\n",
    "series2 = pd.Series(data2, index=index)\n",
    "\n",
    "new_column = pd.Series([15, 7], index=[0, 1])   # 追加する列の値とインデックス番号を指定\n",
    "\n",
    "df = pd.DataFrame([series1, series2])\n",
    "\n",
    "df['mango'] = new_column                        # 新しいインデックスを指定し、追加する配列を代入\n",
    "print(df)"
   ]
  },
  {
   "cell_type": "code",
   "execution_count": 12,
   "metadata": {},
   "outputs": [
    {
     "output_type": "stream",
     "name": "stdout",
     "text": [
      "    apple  orange  banana  strawberry  kiwifruit\n1       6       8       6           3         10\n2       1       7      10           4         10\n3       4       9       9           9          1\n4       4       9      10           2          5\n5       8       2       5           4          8\n6      10       7       4           4          4\n7       4       8       1           4          3\n8       6       8       4           8          8\n9       3       9       6           1          3\n10      5       2       1           2          1\n\n   banana  kiwifruit\n2      10         10\n3       9          1\n4      10          5\n5       5          8\n"
     ]
    }
   ],
   "source": [
    "# 名前による参照\n",
    "import numpy as np\n",
    "import pandas as pd\n",
    "\n",
    "np.random.seed(0)       # 乱数を調整\n",
    "columns = ['apple', 'orange', 'banana', 'strawberry', 'kiwifruit']\n",
    "\n",
    "df = pd.DataFrame()\n",
    "for column in columns:\n",
    "    df[column] = np.random.choice(range(1, 11), 10)\n",
    "df.index = range(1, 11)\n",
    "print(df)\n",
    "print()\n",
    "\n",
    "# loc[]を使用し、2から5行目でインデックスがbananaとkiwifruitの部分のみ取得する\n",
    "df = df.loc[range(2, 6), ['banana', 'kiwifruit']]\n",
    "print(df)"
   ]
  },
  {
   "cell_type": "code",
   "execution_count": 29,
   "metadata": {},
   "outputs": [
    {
     "output_type": "stream",
     "name": "stdout",
     "text": [
      "    apple  orange  banana  strawberry  kiwifruit\n1       6       8       6           3         10\n2       1       7      10           4         10\n3       4       9       9           9          1\n4       4       9      10           2          5\n5       8       2       5           4          8\n6      10       7       4           4          4\n7       4       8       1           4          3\n8       6       8       4           8          8\n9       3       9       6           1          3\n10      5       2       1           2          1\n\n   banana  kiwifruit\n2      10         10\n3       9          1\n4      10          5\n5       5          8\nrange(1, 11)\n"
     ]
    }
   ],
   "source": [
    "# 番号による参照\n",
    "import numpy as np\n",
    "import pandas as pd\n",
    "\n",
    "np.random.seed(0)\n",
    "columns = ['apple', 'orange', 'banana', 'strawberry', 'kiwifruit']\n",
    "\n",
    "df = pd.DataFrame()\n",
    "for column in columns:\n",
    "    df[column] = np.random.choice(range(1, 11), 10)\n",
    "df.index = range(1, 11)\n",
    "print(df)\n",
    "print()\n",
    "\n",
    "# iloc[]を使用し、2から5行目で番号を使ってインデックスがbananaとkiwifruitの部分のみ取得する\n",
    "df = df.iloc[range(1, 5), [2, 4]]\n",
    "# df = df.iloc[1:5, [2, 4]]\n",
    "print(df)"
   ]
  },
  {
   "cell_type": "code",
   "execution_count": 19,
   "metadata": {},
   "outputs": [
    {
     "output_type": "stream",
     "name": "stdout",
     "text": [
      "    apple  orange  banana  strawberry  kiwifruit\n1       6       8       6           3         10\n2       1       7      10           4         10\n3       4       9       9           9          1\n4       4       9      10           2          5\n5       8       2       5           4          8\n6      10       7       4           4          4\n7       4       8       1           4          3\n8       6       8       4           8          8\n9       3       9       6           1          3\n10      5       2       1           2          1\n\n   apple  orange  banana  strawberry  kiwifruit\n1      6       8       6           3         10\n3      4       9       9           9          1\n5      8       2       5           4          8\n7      4       8       1           4          3\n9      3       9       6           1          3\n\n   apple  orange  banana  kiwifruit\n1      6       8       6         10\n3      4       9       9          1\n5      8       2       5          8\n7      4       8       1          3\n9      3       9       6          3\n"
     ]
    }
   ],
   "source": [
    "# 行または列の消去\n",
    "import numpy as np\n",
    "import pandas as pd\n",
    "\n",
    "np.random.seed(0)\n",
    "columns = ['apple', 'orange', 'banana', 'strawberry', 'kiwifruit']\n",
    "\n",
    "df = pd.DataFrame()\n",
    "for column in columns:\n",
    "    df[column] = np.random.choice(range(1, 11), 10)\n",
    "df.index = range(1, 11)\n",
    "print(df)\n",
    "print()\n",
    "\n",
    "# drop()を用いてdfの奇数のインデックスがついている行のみを残してdfに代入\n",
    "df = df.drop(np.arange(2, 11, 2))   # drop()にはインデックスでも番号のどちらでも代入可能\n",
    "print(df)\n",
    "print()\n",
    "\n",
    "# drop()を用いてdfの列strawberryを消去してdfに代入\n",
    "df = df.drop('strawberry', axis=1)\n",
    "print(df)"
   ]
  },
  {
   "cell_type": "code",
   "execution_count": 30,
   "metadata": {},
   "outputs": [
    {
     "output_type": "stream",
     "name": "stdout",
     "text": [
      "    apple  orange  banana  strawberry  kiwifruit\n1       6       8       6           3         10\n2       1       7      10           4         10\n3       4       9       9           9          1\n4       4       9      10           2          5\n5       8       2       5           4          8\n6      10       7       4           4          4\n7       4       8       1           4          3\n8       6       8       4           8          8\n9       3       9       6           1          3\n10      5       2       1           2          1\n\n    apple  orange  banana  strawberry  kiwifruit\n6      10       7       4           4          4\n5       8       2       5           4          8\n1       6       8       6           3         10\n8       6       8       4           8          8\n10      5       2       1           2          1\n4       4       9      10           2          5\n3       4       9       9           9          1\n7       4       8       1           4          3\n9       3       9       6           1          3\n2       1       7      10           4         10\n"
     ]
    }
   ],
   "source": [
    "# ソート\n",
    "import numpy as np\n",
    "import pandas as pd\n",
    "\n",
    "np.random.seed(0)\n",
    "columns = ['apple', 'orange', 'banana', 'strawberry', 'kiwifruit']\n",
    "\n",
    "df = pd.DataFrame()\n",
    "for column in columns:\n",
    "    df[column] = np.random.choice(range(1, 11), 10)\n",
    "df.index = range(1, 11)\n",
    "print(df)\n",
    "print()\n",
    "\n",
    "# dfをapple, orange, banana, strawberry, kiwifruitの優先度の順番に昇順にソート\n",
    "df = df.sort_values(by=columns, ascending=True)     # Trueにすると昇順、Falseにすると降順\n",
    "print(df)"
   ]
  },
  {
   "cell_type": "code",
   "execution_count": 22,
   "metadata": {},
   "outputs": [
    {
     "output_type": "stream",
     "name": "stdout",
     "text": [
      "    apple  orange  banana  strawberry  kiwifruit\n",
      "1       6       8       6           3         10\n",
      "2       1       7      10           4         10\n",
      "3       4       9       9           9          1\n",
      "4       4       9      10           2          5\n",
      "5       8       2       5           4          8\n",
      "6      10       7       4           4          4\n",
      "7       4       8       1           4          3\n",
      "8       6       8       4           8          8\n",
      "9       3       9       6           1          3\n",
      "10      5       2       1           2          1\n",
      "\n",
      "   apple  orange  banana  strawberry  kiwifruit\n",
      "1      6       8       6           3         10\n",
      "5      8       2       5           4          8\n",
      "8      6       8       4           8          8\n",
      "<ipython-input-22-2f9b44b0f233>:16: UserWarning: Boolean Series key will be reindexed to match DataFrame index.\n",
      "  df = df.loc[5 <= df['apple']][5 <= df['kiwifruit']]\n"
     ]
    }
   ],
   "source": [
    "# フィルタリング\n",
    "import numpy as np\n",
    "import pandas as pd\n",
    "\n",
    "np.random.seed(0)\n",
    "columns = ['apple', 'orange', 'banana', 'strawberry', 'kiwifruit']\n",
    "\n",
    "df = pd.DataFrame()\n",
    "for column in columns:\n",
    "    df[column] = np.random.choice(range(1, 11), 10)\n",
    "df.index = range(1, 11)\n",
    "print(df)\n",
    "print()\n",
    "\n",
    "# フィルタリングを用いて、dfのapple列が5以上勝つkiwifruit列が5以上の値を持つ行を含むDataFrameをdfに代入\n",
    "df = df.loc[5 <= df['apple']][5 <= df['kiwifruit']]\n",
    "print(df)"
   ]
  },
  {
   "cell_type": "code",
   "execution_count": null,
   "metadata": {},
   "outputs": [],
   "source": []
  }
 ]
}