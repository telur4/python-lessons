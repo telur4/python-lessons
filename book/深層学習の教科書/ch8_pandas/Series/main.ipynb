{
 "metadata": {
  "language_info": {
   "codemirror_mode": {
    "name": "ipython",
    "version": 3
   },
   "file_extension": ".py",
   "mimetype": "text/x-python",
   "name": "python",
   "nbconvert_exporter": "python",
   "pygments_lexer": "ipython3",
   "version": "3.8.5"
  },
  "orig_nbformat": 2,
  "kernelspec": {
   "name": "python385jvsc74a57bd0f96a64404671f85a957b2f4c0dbe4aa6c78c92539a8416ed87cc97ff497f059c",
   "display_name": "Python 3.8.5 64-bit ('base': conda)"
  }
 },
 "nbformat": 4,
 "nbformat_minor": 2,
 "cells": [
  {
   "cell_type": "code",
   "execution_count": 2,
   "metadata": {},
   "outputs": [
    {
     "output_type": "stream",
     "name": "stdout",
     "text": [
      "Seriesデータ\napple         10\norange         5\nbanana         8\nstrawberry    12\nkiwifruit      3\ndtype: int64\n\n\nDataFrameデータ\n       fruits  year  time\n0       apple  2001     1\n1      orange  2002     4\n2      banana  2001     5\n3  strawberry  2008     6\n4   kiwifruit  2006     3\n"
     ]
    }
   ],
   "source": [
    "# Series(1次元配列)とDataFrame(テーブル)\n",
    "import pandas as pd\n",
    "\n",
    "index = ['apple', 'orange', 'banana', 'strawberry', 'kiwifruit']\n",
    "\n",
    "data = [10, 5, 8, 12, 3]\n",
    "\n",
    "# Seriesデータ\n",
    "series = pd.Series(data, index=index)\n",
    "\n",
    "data = {'fruits': index, 'year': [2001, 2002, 2001, 2008, 2006], 'time': [1, 4, 5, 6, 3]}\n",
    "\n",
    "# DataFrameデータ\n",
    "df = pd.DataFrame(data)\n",
    "\n",
    "print('Seriesデータ')\n",
    "print(series)\n",
    "print('\\n')\n",
    "print('DataFrameデータ')\n",
    "print(df)"
   ]
  },
  {
   "cell_type": "code",
   "execution_count": 3,
   "metadata": {},
   "outputs": [
    {
     "output_type": "stream",
     "name": "stdout",
     "text": [
      "apple         10\norange         5\nbanana         8\nstrawberry    12\nkiwifruit      3\ndtype: int64\n"
     ]
    }
   ],
   "source": [
    "# Seriesを生成\n",
    "import pandas as pd\n",
    "\n",
    "index = ['apple', 'orange', 'banana', 'strawberry', 'kiwifruit']\n",
    "\n",
    "data = [10, 5, 8, 12, 3]\n",
    "\n",
    "series = pd.Series(data, index=index)\n",
    "print(series)"
   ]
  },
  {
   "cell_type": "code",
   "execution_count": 7,
   "metadata": {},
   "outputs": [
    {
     "output_type": "stream",
     "name": "stdout",
     "text": [
      "orange         5\nbanana         8\nstrawberry    12\ndtype: int64\n\napple        10\nbanana        8\nkiwifruit     3\ndtype: int64\n"
     ]
    }
   ],
   "source": [
    "import pandas as pd\n",
    "\n",
    "index = ['apple', 'orange', 'banana', 'strawberry', 'kiwifruit']\n",
    "data = [10, 5, 8, 12, 3]\n",
    "series = pd.Series(data, index=index)\n",
    "\n",
    "items1 = series[1:4]\n",
    "print(items1)\n",
    "print()\n",
    "\n",
    "items2 = series[['apple', 'banana', 'kiwifruit']]\n",
    "print(items2)"
   ]
  },
  {
   "cell_type": "code",
   "execution_count": 8,
   "metadata": {},
   "outputs": [
    {
     "output_type": "stream",
     "name": "stdout",
     "text": [
      "[10  5  8 12  3]\n\nIndex(['apple', 'orange', 'banana', 'strawberry', 'kiwifruit'], dtype='object')\n"
     ]
    }
   ],
   "source": [
    "# データ、インデックスを取り出す\n",
    "import pandas as pd\n",
    "\n",
    "index = ['apple', 'orange', 'banana', 'strawberry', 'kiwifruit']\n",
    "data = [10, 5, 8, 12, 3]\n",
    "series = pd.Series(data, index=index)\n",
    "\n",
    "series_values = series.values\n",
    "print(series_values)\n",
    "print()\n",
    "\n",
    "series_index = series.index\n",
    "print(series_index)"
   ]
  },
  {
   "cell_type": "code",
   "execution_count": 10,
   "metadata": {},
   "outputs": [
    {
     "output_type": "stream",
     "name": "stdout",
     "text": [
      "apple         10\norange         5\nbanana         8\nstrawberry    12\nkiwifruit      3\npineapple     12\ndtype: int64\n"
     ]
    }
   ],
   "source": [
    "# 要素を追加する\n",
    "import pandas as pd\n",
    "\n",
    "index = ['apple', 'orange', 'banana', 'strawberry', 'kiwifruit']\n",
    "data = [10, 5, 8, 12, 3]\n",
    "series = pd.Series(data, index=index)\n",
    "\n",
    "series = series.append(pd.Series([12], index=['pineapple']))\n",
    "# series = series.append(pd.Series({'pineapple', 12}))\n",
    "print(series)"
   ]
  },
  {
   "cell_type": "code",
   "execution_count": 11,
   "metadata": {},
   "outputs": [
    {
     "output_type": "stream",
     "name": "stdout",
     "text": [
      "apple        10\norange        5\nbanana        8\nkiwifruit     3\ndtype: int64\n"
     ]
    }
   ],
   "source": [
    "# 要素を消去する\n",
    "import pandas as pd\n",
    "\n",
    "index = ['apple', 'orange', 'banana', 'strawberry', 'kiwifruit']\n",
    "data = [10, 5, 8, 12, 3]\n",
    "series = pd.Series(data, index=index)\n",
    "\n",
    "series = series.drop('strawberry')\n",
    "print(series)"
   ]
  },
  {
   "cell_type": "code",
   "execution_count": 13,
   "metadata": {},
   "outputs": [
    {
     "output_type": "stream",
     "name": "stdout",
     "text": [
      "orange    5\nbanana    8\ndtype: int64\n"
     ]
    }
   ],
   "source": [
    "# フィルタリング\n",
    "import pandas as pd\n",
    "\n",
    "index = ['apple', 'orange', 'banana', 'strawberry', 'kiwifruit']\n",
    "data = [10, 5, 8, 12, 3]\n",
    "series = pd.Series(data, index=index)\n",
    "\n",
    "series = series[5 <= series][series < 10]\n",
    "print(series)"
   ]
  },
  {
   "cell_type": "code",
   "execution_count": 14,
   "metadata": {},
   "outputs": [
    {
     "output_type": "stream",
     "name": "stdout",
     "text": [
      "apple         10\nbanana         8\nkiwifruit      3\norange         5\nstrawberry    12\ndtype: int64\n\nkiwifruit      3\norange         5\nbanana         8\napple         10\nstrawberry    12\ndtype: int64\n"
     ]
    }
   ],
   "source": [
    "# ソート\n",
    "import pandas as pd\n",
    "\n",
    "index = ['apple', 'orange', 'banana', 'strawberry', 'kiwifruit']\n",
    "data = [10, 5, 8, 12, 3]\n",
    "series = pd.Series(data, index=index)\n",
    "\n",
    "items1 = series.sort_index()\n",
    "print(items1)\n",
    "print()\n",
    "\n",
    "items2 = series.sort_values()\n",
    "print(items2)"
   ]
  },
  {
   "cell_type": "code",
   "execution_count": null,
   "metadata": {},
   "outputs": [],
   "source": []
  }
 ]
}