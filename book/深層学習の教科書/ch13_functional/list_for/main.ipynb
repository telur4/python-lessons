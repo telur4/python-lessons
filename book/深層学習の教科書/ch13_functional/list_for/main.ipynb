{
 "metadata": {
  "language_info": {
   "codemirror_mode": {
    "name": "ipython",
    "version": 3
   },
   "file_extension": ".py",
   "mimetype": "text/x-python",
   "name": "python",
   "nbconvert_exporter": "python",
   "pygments_lexer": "ipython3",
   "version": "3.8.8"
  },
  "orig_nbformat": 2,
  "kernelspec": {
   "name": "python388jvsc74a57bd0f96a64404671f85a957b2f4c0dbe4aa6c78c92539a8416ed87cc97ff497f059c",
   "display_name": "Python 3.8.8 64-bit ('base': conda)"
  }
 },
 "nbformat": 4,
 "nbformat_minor": 2,
 "cells": [
  {
   "cell_type": "code",
   "execution_count": 1,
   "metadata": {},
   "outputs": [
    {
     "output_type": "stream",
     "name": "stdout",
     "text": [
      "[[0, 30], [2, 35], [3, 0], [1, 14], [0, 11], [1, 0], [1, 22]]\n"
     ]
    }
   ],
   "source": [
    "# リストの生成\n",
    "minute_data = [30, 155, 180, 74, 11, 60, 82]\n",
    "\n",
    "h_m_split = lambda x: [x // 60, x % 60]\n",
    "\n",
    "h_m_data = [h_m_split(i) for i in minute_data]\n",
    "\n",
    "print(h_m_data)"
   ]
  },
  {
   "cell_type": "code",
   "execution_count": 2,
   "metadata": {},
   "outputs": [
    {
     "output_type": "stream",
     "name": "stdout",
     "text": [
      "[180, 60]\n"
     ]
    }
   ],
   "source": [
    "# if文を用いたループ\n",
    "minute_data = [30, 155, 180, 74, 11, 60, 82]\n",
    "\n",
    "just_hour_data = [i for i in minute_data if i % 60 == 0]\n",
    "\n",
    "print(just_hour_data)"
   ]
  },
  {
   "cell_type": "code",
   "execution_count": 4,
   "metadata": {},
   "outputs": [
    {
     "output_type": "stream",
     "name": "stdout",
     "text": [
      "[30, 155, 180, 74, 11, 60, 82]\n"
     ]
    }
   ],
   "source": [
    "# 複数配列の同時ループ\n",
    "hour = [0, 2, 3, 1, 0, 1, 1]\n",
    "minute = [30, 35, 0, 14, 11, 0, 22]\n",
    "\n",
    "h_m_combine = lambda h, m: h * 60 + m\n",
    "\n",
    "minute_data1 = [h_m_combine(h, m) for h, m in zip(hour, minute)]\n",
    "\n",
    "print(minute_data1)"
   ]
  },
  {
   "cell_type": "code",
   "execution_count": 5,
   "metadata": {},
   "outputs": [
    {
     "output_type": "stream",
     "name": "stdout",
     "text": [
      "[0, 1, 2, 3, 4, 5, 6, 7]\n"
     ]
    }
   ],
   "source": [
    "# 多重のループ\n",
    "fours_place = [0, 1]\n",
    "twos_place = [0, 1]\n",
    "ones_place = [0, 1]\n",
    "\n",
    "digit = [f * 4 + t * 2 + o for f in fours_place for t in twos_place for o in ones_place]\n",
    "\n",
    "print(digit)"
   ]
  },
  {
   "cell_type": "code",
   "execution_count": null,
   "metadata": {},
   "outputs": [],
   "source": []
  }
 ]
}