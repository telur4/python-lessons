{
 "metadata": {
  "language_info": {
   "codemirror_mode": {
    "name": "ipython",
    "version": 3
   },
   "file_extension": ".py",
   "mimetype": "text/x-python",
   "name": "python",
   "nbconvert_exporter": "python",
   "pygments_lexer": "ipython3",
   "version": "3.8.8"
  },
  "orig_nbformat": 2,
  "kernelspec": {
   "name": "python388jvsc74a57bd0f96a64404671f85a957b2f4c0dbe4aa6c78c92539a8416ed87cc97ff497f059c",
   "display_name": "Python 3.8.8 64-bit ('base': conda)"
  }
 },
 "nbformat": 4,
 "nbformat_minor": 2,
 "cells": [
  {
   "cell_type": "code",
   "execution_count": 1,
   "metadata": {},
   "outputs": [
    {
     "output_type": "stream",
     "name": "stdout",
     "text": [
      "Yamada\n"
     ]
    }
   ],
   "source": [
    "# listの分割(split)\n",
    "self_data = 'My name is Yamada'\n",
    "\n",
    "word_list = self_data.split(' ')\n",
    "\n",
    "print(word_list[3])"
   ]
  },
  {
   "cell_type": "code",
   "execution_count": 2,
   "metadata": {},
   "outputs": [
    {
     "output_type": "stream",
     "name": "stdout",
     "text": [
      "4\n22\n"
     ]
    }
   ],
   "source": [
    "# listの分割(re.split)\n",
    "import re\n",
    "\n",
    "time_data = '2017/4/1_22:15'\n",
    "\n",
    "time_list = re.split('[/_:]', time_data)\n",
    "\n",
    "print(time_list[1])\n",
    "print(time_list[3])"
   ]
  },
  {
   "cell_type": "code",
   "execution_count": 5,
   "metadata": {},
   "outputs": [
    {
     "output_type": "stream",
     "name": "stdout",
     "text": [
      "[2, 23, 14, 7, 22]\n"
     ]
    }
   ],
   "source": [
    "# 高階関数\n",
    "import re\n",
    "\n",
    "time_list = [\n",
    "    '2006/11/26_2:40',\n",
    "    '2009/1/16_23:35',\n",
    "    '2014/5/4_14:26',\n",
    "    '2017/8/9_7:5',\n",
    "    '2017/4/1_22:15',\n",
    "]\n",
    "\n",
    "get_hour = lambda x: int(re.split('[/_:]', x)[3])\n",
    "\n",
    "hour_list = list(map(get_hour, time_list))\n",
    "\n",
    "print(hour_list)"
   ]
  },
  {
   "cell_type": "code",
   "execution_count": 8,
   "metadata": {},
   "outputs": [
    {
     "output_type": "stream",
     "name": "stdout",
     "text": [
      "['2009/1/16_23:35', '2014/5/4_14:26', '2017/4/1_22:15']\n"
     ]
    }
   ],
   "source": [
    "# filter\n",
    "import re\n",
    "\n",
    "time_list = [\n",
    "    '2006/11/26_2:40',\n",
    "    '2009/1/16_23:35',\n",
    "    '2014/5/4_14:26',\n",
    "    '2017/8/9_7:5',\n",
    "    '2017/4/1_22:15',\n",
    "]\n",
    "\n",
    "is_first_half = lambda x: int(re.split('[/_:]', x)[1]) - 6 <= 0\n",
    "\n",
    "first_half_list = list(filter(is_first_half, time_list))\n",
    "\n",
    "print(first_half_list)"
   ]
  },
  {
   "cell_type": "code",
   "execution_count": 15,
   "metadata": {},
   "outputs": [
    {
     "output_type": "stream",
     "name": "stdout",
     "text": [
      "[['2006', '11', '26', '2', '40'], ['2009', '1', '16', '23', '35'], ['2014', '5', '4', '14', '26'], ['2017', '8', '9', '7', '5'], ['2017', '4', '1', '22', '15']]\n[[2006, 11, 26, 2, 40], [2009, 1, 16, 23, 35], [2014, 5, 4, 14, 26], [2017, 8, 9, 7, 5], [2017, 4, 1, 22, 15]]\n[[2006, 11, 26, 2, 40], [2017, 8, 9, 7, 5], [2014, 5, 4, 14, 26], [2017, 4, 1, 22, 15], [2009, 1, 16, 23, 35]]\n"
     ]
    }
   ],
   "source": [
    "# sorted\n",
    "import re\n",
    "\n",
    "time_list = [\n",
    "    '2006/11/26_2:40',\n",
    "    '2009/1/16_23:35',\n",
    "    '2014/5/4_14:26',\n",
    "    '2017/8/9_7:5',\n",
    "    '2017/4/1_22:15',\n",
    "]\n",
    "\n",
    "get_hour = lambda x: re.split('[/_:]', x)\n",
    "hour_list = list(map(get_hour, time_list))\n",
    "print(hour_list)\n",
    "\n",
    "my_map = lambda x: list(map(lambda y: int(y), x))\n",
    "time_data = list(map(my_map, hour_list))\n",
    "print(time_data)\n",
    "\n",
    "sort_by_time = sorted(time_data, key=lambda x: x[3])\n",
    "\n",
    "print(sort_by_time)"
   ]
  },
  {
   "cell_type": "code",
   "execution_count": null,
   "metadata": {},
   "outputs": [],
   "source": []
  }
 ]
}