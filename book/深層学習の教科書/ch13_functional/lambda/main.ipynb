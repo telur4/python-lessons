{
 "metadata": {
  "language_info": {
   "codemirror_mode": {
    "name": "ipython",
    "version": 3
   },
   "file_extension": ".py",
   "mimetype": "text/x-python",
   "name": "python",
   "nbconvert_exporter": "python",
   "pygments_lexer": "ipython3",
   "version": "3.8.8"
  },
  "orig_nbformat": 2,
  "kernelspec": {
   "name": "python388jvsc74a57bd0f96a64404671f85a957b2f4c0dbe4aa6c78c92539a8416ed87cc97ff497f059c",
   "display_name": "Python 3.8.8 64-bit ('base': conda)"
  }
 },
 "nbformat": 4,
 "nbformat_minor": 2,
 "cells": [
  {
   "cell_type": "code",
   "execution_count": 1,
   "metadata": {},
   "outputs": [
    {
     "output_type": "stream",
     "name": "stdout",
     "text": [
      "21\n21\n"
     ]
    }
   ],
   "source": [
    "# 無名関数の作成\n",
    "a = 4\n",
    "\n",
    "def func1(a):\n",
    "    return 2 * a ** 2 - 3 * a + 1\n",
    "\n",
    "func2 = lambda a: 2 * a ** 2 - 3 * a + 1\n",
    "\n",
    "print(func1(a))\n",
    "print(func2(a))"
   ]
  },
  {
   "cell_type": "code",
   "execution_count": 3,
   "metadata": {},
   "outputs": [
    {
     "output_type": "stream",
     "name": "stdout",
     "text": [
      "32\n32\n"
     ]
    }
   ],
   "source": [
    "# lambdaによる計算\n",
    "x = 5\n",
    "y = 6\n",
    "z = 2\n",
    "\n",
    "def func3(x, y, z):\n",
    "    return x * y + z\n",
    "\n",
    "func4 = lambda x, y, z: x * y + z\n",
    "\n",
    "print(func3(x, y, z))\n",
    "print(func4(x, y, z))"
   ]
  },
  {
   "cell_type": "code",
   "execution_count": 5,
   "metadata": {},
   "outputs": [
    {
     "output_type": "stream",
     "name": "stdout",
     "text": [
      "-1\n50\n"
     ]
    }
   ],
   "source": [
    "# ifを用いたlambda\n",
    "a1 = 13\n",
    "a2 = 32\n",
    "\n",
    "func5 = lambda a: a ** 2 - 40 * a + 350 if 10 <= a < 30 else 50\n",
    "\n",
    "print(func5(a1))\n",
    "print(func5(a2))"
   ]
  },
  {
   "cell_type": "code",
   "execution_count": null,
   "metadata": {},
   "outputs": [],
   "source": []
  }
 ]
}