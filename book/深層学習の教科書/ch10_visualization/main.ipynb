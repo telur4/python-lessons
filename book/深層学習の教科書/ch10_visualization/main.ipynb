{
 "metadata": {
  "language_info": {
   "codemirror_mode": {
    "name": "ipython",
    "version": 3
   },
   "file_extension": ".py",
   "mimetype": "text/x-python",
   "name": "python",
   "nbconvert_exporter": "python",
   "pygments_lexer": "ipython3",
   "version": 3
  },
  "orig_nbformat": 2
 },
 "nbformat": 4,
 "nbformat_minor": 2,
 "cells": [
  {
   "cell_type": "code",
   "execution_count": null,
   "metadata": {},
   "outputs": [],
   "source": [
    "# 折れ線グラフ\n",
    "# 時間や距離など連続的な量とそれに依存するデータの組み合わせ\n",
    "# 棒グラフ\n",
    "# 2つ以上の項目が持つ値を比較する際に適している\n",
    "# ヒストグラム\n",
    "# 1次元のデータ(あるいは製品の長さを何回も測定したデータなど)の分布を可視化する際に最も適している\n",
    "# 散布図\n",
    "# 合計3つの項目を平面上に可視化する\n",
    "# 円グラフ\n",
    "# ある項目の割合を全体と比較したいときに最も適している"
   ]
  }
 ]
}