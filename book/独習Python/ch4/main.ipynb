{
 "metadata": {
  "language_info": {
   "codemirror_mode": {
    "name": "ipython",
    "version": 3
   },
   "file_extension": ".py",
   "mimetype": "text/x-python",
   "name": "python",
   "nbconvert_exporter": "python",
   "pygments_lexer": "ipython3",
   "version": "3.8.5"
  },
  "orig_nbformat": 2,
  "kernelspec": {
   "name": "python385jvsc74a57bd0f96a64404671f85a957b2f4c0dbe4aa6c78c92539a8416ed87cc97ff497f059c",
   "display_name": "Python 3.8.5 64-bit ('base': conda)"
  }
 },
 "nbformat": 4,
 "nbformat_minor": 2,
 "cells": [
  {
   "cell_type": "code",
   "execution_count": 2,
   "metadata": {},
   "outputs": [
    {
     "output_type": "stream",
     "name": "stdout",
     "text": [
      "変数iは30より大きいです。\n"
     ]
    }
   ],
   "source": [
    "# if命令\n",
    "i = 100\n",
    "if i > 30:\n",
    "    print('変数iは30より大きいです。')\n",
    "elif i > 50:\n",
    "    print('変数iは50より大きいです。')\n",
    "else:\n",
    "    print('変数iは30以下です。')"
   ]
  },
  {
   "cell_type": "code",
   "execution_count": 3,
   "metadata": {},
   "outputs": [],
   "source": [
    "# Pythonにswitch命令はない\n",
    "# if..elif命令で代替"
   ]
  },
  {
   "cell_type": "code",
   "execution_count": 5,
   "metadata": {},
   "outputs": [
    {
     "output_type": "stream",
     "name": "stdout",
     "text": [
      "1 番目のループです。\n2 番目のループです。\n3 番目のループです。\n4 番目のループです。\n5 番目のループです。\n"
     ]
    }
   ],
   "source": [
    "# while命令\n",
    "i = 1\n",
    "\n",
    "while i < 6:\n",
    "    print(i, '番目のループです。')\n",
    "    i += 1"
   ]
  },
  {
   "cell_type": "code",
   "execution_count": 6,
   "metadata": {},
   "outputs": [
    {
     "output_type": "stream",
     "name": "stdout",
     "text": [
      "うめ\nさくら\nもも\n"
     ]
    }
   ],
   "source": [
    "# for命令\n",
    "data = ['うめ', 'さくら', 'もも']\n",
    "\n",
    "for value in data:\n",
    "    print(value)"
   ]
  },
  {
   "cell_type": "code",
   "execution_count": 6,
   "metadata": {},
   "outputs": [
    {
     "output_type": "stream",
     "name": "stdout",
     "text": [
      "1 番目のループです。\n2 番目のループです。\n3 番目のループです。\n4 番目のループです。\n5 番目のループです。\n"
     ]
    }
   ],
   "source": [
    "# for命令(range関数)\n",
    "# range(最初の数, 最後の数+1)\n",
    "for i in range(1, 6):\n",
    "    print(i, '番目のループです。')"
   ]
  },
  {
   "cell_type": "code",
   "execution_count": 5,
   "metadata": {},
   "outputs": [
    {
     "output_type": "stream",
     "name": "stdout",
     "text": [
      "[30, 86, 14, 118, 196]\n"
     ]
    }
   ],
   "source": [
    "# リスト内包表記\n",
    "data = [15, 43, 7, 59, 98]\n",
    "# [処理 for i in 回数]\n",
    "data2 = [i * 2 for i in data]\n",
    "print(data2)"
   ]
  },
  {
   "cell_type": "code",
   "execution_count": 3,
   "metadata": {},
   "outputs": [
    {
     "output_type": "stream",
     "name": "stdout",
     "text": [
      "合計が1000を超えるのは、1 ~ 45 を加算したときです。\n"
     ]
    }
   ],
   "source": [
    "# break命令\n",
    "sum = 0\n",
    "\n",
    "for i in range(1, 101):\n",
    "    if sum > 1000:\n",
    "        break\n",
    "    sum += i\n",
    "\n",
    "print('合計が1000を超えるのは、1 ~', i - 1, 'を加算したときです。')"
   ]
  },
  {
   "cell_type": "code",
   "execution_count": 12,
   "metadata": {},
   "outputs": [
    {
     "output_type": "stream",
     "name": "stdout",
     "text": [
      "合計値は 2550 です。\n"
     ]
    }
   ],
   "source": [
    "# continue命令\n",
    "sum = 0\n",
    "\n",
    "for i in  range(1, 101):\n",
    "    if i % 2 != 0:\n",
    "        continue\n",
    "    sum += i\n",
    "\n",
    "print('合計値は', sum, 'です。')"
   ]
  },
  {
   "cell_type": "code",
   "execution_count": 15,
   "metadata": {},
   "outputs": [
    {
     "output_type": "stream",
     "name": "stdout",
     "text": [
      "2倍すると... 66.0\n"
     ]
    }
   ],
   "source": [
    "# 例外処理\n",
    "try:\n",
    "    num = input('数字を入力してください: ')\n",
    "    print('2倍すると...', float(num) * 2)\n",
    "except ValueError as ex:\n",
    "    print('エラー発生: ', ex)"
   ]
  },
  {
   "cell_type": "code",
   "execution_count": null,
   "metadata": {},
   "outputs": [],
   "source": []
  }
 ]
}