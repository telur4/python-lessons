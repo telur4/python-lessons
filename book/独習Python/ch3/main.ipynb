{
 "metadata": {
  "language_info": {
   "codemirror_mode": {
    "name": "ipython",
    "version": 3
   },
   "file_extension": ".py",
   "mimetype": "text/x-python",
   "name": "python",
   "nbconvert_exporter": "python",
   "pygments_lexer": "ipython3",
   "version": "3.8.5"
  },
  "orig_nbformat": 2,
  "kernelspec": {
   "name": "python385jvsc74a57bd0f96a64404671f85a957b2f4c0dbe4aa6c78c92539a8416ed87cc97ff497f059c",
   "display_name": "Python 3.8.5 64-bit ('base': conda)"
  }
 },
 "nbformat": 4,
 "nbformat_minor": 2,
 "cells": [
  {
   "cell_type": "code",
   "execution_count": 1,
   "metadata": {},
   "outputs": [
    {
     "output_type": "stream",
     "name": "stdout",
     "text": [
      "45\n1530\n"
     ]
    }
   ],
   "source": [
    "# 文字列と数値との演算\n",
    "print(15 + int('30'))\n",
    "print(str(15) + '30')"
   ]
  },
  {
   "cell_type": "code",
   "execution_count": 2,
   "metadata": {},
   "outputs": [
    {
     "output_type": "stream",
     "name": "stdout",
     "text": [
      "1.6666666666666667\n1\n"
     ]
    }
   ],
   "source": [
    "# 除算\n",
    "print(5 / 3)        # 一般的な除算\n",
    "print(5 // 3)       # 商のみ"
   ]
  },
  {
   "cell_type": "code",
   "execution_count": 4,
   "metadata": {},
   "outputs": [
    {
     "output_type": "stream",
     "name": "stdout",
     "text": [
      "0.6000000000000001\nFalse\n0.6\nTrue\n"
     ]
    }
   ],
   "source": [
    "# 浮動小数点数の演算\n",
    "print(0.2 * 3)\n",
    "print(0.2 * 3 == 0.6)\n",
    "\n",
    "import decimal      # 10進数での浮動小数点数をサポートする型\n",
    "\n",
    "d1 = decimal.Decimal('0.2')\n",
    "d2 = decimal.Decimal('3')\n",
    "d3 = decimal.Decimal('0.6')\n",
    "\n",
    "print(d1 * d2)\n",
    "print(d1 * d2 == d3)"
   ]
  },
  {
   "cell_type": "code",
   "execution_count": 5,
   "metadata": {},
   "outputs": [
    {
     "output_type": "stream",
     "name": "stdout",
     "text": [
      "94370563837536\n94370563837536\n"
     ]
    }
   ],
   "source": [
    "# 「=」演算子による代入は参照の引き渡し\n",
    "num1 = 10\n",
    "num2 = num1\n",
    "\n",
    "print(id(num1))\n",
    "print(id(num2))"
   ]
  },
  {
   "cell_type": "code",
   "execution_count": 1,
   "metadata": {},
   "outputs": [
    {
     "output_type": "stream",
     "name": "stdout",
     "text": [
      "[100, 2, 3] 140031772797568\n[100, 2, 3] 140031772797568\n11 94452019449472\n1 94452019449152\n"
     ]
    }
   ],
   "source": [
    "# ミュータブルとイミュータブル\n",
    "data1 = [1, 2, 3]\n",
    "data2 = data1\n",
    "data1[0] = 100\n",
    "print(data1, id(data1))\n",
    "print(data2, id(data2))\n",
    "\n",
    "x = 1\n",
    "y = x\n",
    "x += 10         # このタイムングでyのアドレスをxとは違う場所に移動させる\n",
    "print(x, id(x))\n",
    "print(y, id(y))"
   ]
  },
  {
   "cell_type": "code",
   "execution_count": 5,
   "metadata": {},
   "outputs": [
    {
     "output_type": "stream",
     "name": "stdout",
     "text": [
      "1\n2\n3\n4\n5\n\n1\n3\n5\n4\n\n1\n2\n[3, 4, 5]\n"
     ]
    }
   ],
   "source": [
    "# アンパック代入\n",
    "# 代入先には*や_も使える\n",
    "data = [1, 2, 3, 4, 5]\n",
    "a, b, c, d, e = data\n",
    "\n",
    "print(a)\n",
    "print(b)\n",
    "print(c)\n",
    "print(d)\n",
    "print(e)\n",
    "print()\n",
    "\n",
    "a, _, b, _, c = data\n",
    "\n",
    "print(a)\n",
    "print(b)\n",
    "print(c)\n",
    "print(_)\n",
    "print()\n",
    "\n",
    "a, b, *_ = data\n",
    "\n",
    "print(a)\n",
    "print(b)\n",
    "print(_)"
   ]
  },
  {
   "cell_type": "code",
   "execution_count": 10,
   "metadata": {},
   "outputs": [],
   "source": [
    "# 新しい代入演算子「:=」\n",
    "# JSなどでは「y = (x = 20) / 10」と記述できるが、\n",
    "# それは代入は式である言語の場合\n",
    "y = (x := 20) / 10      # Pythonの代入は式ではなく文"
   ]
  },
  {
   "cell_type": "code",
   "execution_count": 11,
   "metadata": {},
   "outputs": [
    {
     "output_type": "stream",
     "name": "stdout",
     "text": [
      "True\n"
     ]
    }
   ],
   "source": [
    "# 浮動小数点数の比較\n",
    "EPSILON = 0.00001       # 計算の誤差の範囲の指定\n",
    "x = 0.2 * 3\n",
    "y = 0.6\n",
    "print(abs(x - y) < EPSILON)"
   ]
  },
  {
   "cell_type": "code",
   "execution_count": 12,
   "metadata": {},
   "outputs": [
    {
     "output_type": "stream",
     "name": "stdout",
     "text": [
      "True\nFalse\n"
     ]
    }
   ],
   "source": [
    "# 同一性と同値性\n",
    "# 同一性 : 参照値が同じオブジェクトを参照していること\n",
    "# 同値性 : オブジェクトが同じ値を持っていること\n",
    "data1 = [1, 2, 3]\n",
    "data2 = [1, 2, 3]\n",
    "\n",
    "print(data1 == data2)   # 同値性の比較\n",
    "print(data1 is data2)   # 同一性の比較"
   ]
  },
  {
   "cell_type": "code",
   "execution_count": 13,
   "metadata": {},
   "outputs": [
    {
     "output_type": "stream",
     "name": "stdout",
     "text": [
      "惜しい、もうちょっと...\n"
     ]
    }
   ],
   "source": [
    "# 条件演算子(三項演算子)\n",
    "score = 55\n",
    "print('合格' if score >= 70 else '惜しい、もうちょっと...' if score >= 50 else 'もっと頑張ろう')"
   ]
  },
  {
   "cell_type": "code",
   "execution_count": 14,
   "metadata": {},
   "outputs": [
    {
     "output_type": "stream",
     "name": "stdout",
     "text": [
      "if文で実行されました。\nショートカット演算子で実行されました。\n"
     ]
    }
   ],
   "source": [
    "# ショートカット演算\n",
    "x = 1\n",
    "\n",
    "if x != 2:\n",
    "    print('if文で実行されました。')\n",
    "x == 2 or print('ショートカット演算子で実行されました。')"
   ]
  },
  {
   "cell_type": "code",
   "execution_count": null,
   "metadata": {},
   "outputs": [],
   "source": []
  }
 ]
}