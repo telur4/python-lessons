{
 "metadata": {
  "language_info": {
   "codemirror_mode": {
    "name": "ipython",
    "version": 3
   },
   "file_extension": ".py",
   "mimetype": "text/x-python",
   "name": "python",
   "nbconvert_exporter": "python",
   "pygments_lexer": "ipython3",
   "version": "3.8.5"
  },
  "orig_nbformat": 2,
  "kernelspec": {
   "name": "python385jvsc74a57bd0f96a64404671f85a957b2f4c0dbe4aa6c78c92539a8416ed87cc97ff497f059c",
   "display_name": "Python 3.8.5 64-bit ('base': conda)"
  }
 },
 "nbformat": 4,
 "nbformat_minor": 2,
 "cells": [
  {
   "cell_type": "code",
   "execution_count": 6,
   "metadata": {},
   "outputs": [
    {
     "output_type": "stream",
     "name": "stdout",
     "text": [
      "<__main__.Person object at 0x7f449805a4f0>\n"
     ]
    }
   ],
   "source": [
    "# 最も簡単なクラス\n",
    "class Person:\n",
    "    pass\n",
    "\n",
    "# このPythonファイルが「python ファイル名.py というふうに実行されているかどうか」を判定するif文\n",
    "# エントリーポイント(?)\n",
    "# 他のファイルにimportしたときに処理をしないようにするため\n",
    "# モジュール化(?)\n",
    "# __name__変数にはこのPythonファイルのモジュール名が文字列で入っている\n",
    "# * import hello した：hello.py 内部で __name__ は \"hello\" という文字列になる\n",
    "# * python hello.py した：hello.py 内部で __name__ は \"__main__\" という文字列になる\n",
    "if __name__ == '__main__':\n",
    "    p = Person()\n",
    "    print(p)"
   ]
  },
  {
   "cell_type": "code",
   "execution_count": 4,
   "metadata": {},
   "outputs": [
    {
     "output_type": "stream",
     "name": "stdout",
     "text": [
      "私の名前は山田太郎です！\n私の名前は鈴木花子です！\n"
     ]
    }
   ],
   "source": [
    "# 初期化メソッド(コンストラクター)\n",
    "class Person:\n",
    "    __slots__ = ['firstname', 'lastname']       # インスタンスが持てる変数\n",
    "    \n",
    "    def __init__(self, firstname, lastname):\n",
    "        # インスタンス変数\n",
    "        # selfはJavaScriptのthisに当たる\n",
    "        self.firstname = firstname\n",
    "        self.lastname = lastname\n",
    "\n",
    "if __name__ == '__main__':\n",
    "    p1 = Person('太郎', '山田')\n",
    "    p2 = Person('花子', '鈴木')\n",
    "    print(f'私の名前は{p1.lastname}{p1.firstname}です！')\n",
    "    print(f'私の名前は{p2.lastname}{p2.firstname}です！')"
   ]
  },
  {
   "cell_type": "code",
   "execution_count": 5,
   "metadata": {},
   "outputs": [
    {
     "output_type": "stream",
     "name": "stdout",
     "text": [
      "私の名前は山田太郎です！\n"
     ]
    }
   ],
   "source": [
    "# メソッド\n",
    "class Person:\n",
    "    def __init__(self, firstname, lastname):\n",
    "        self.firstname = firstname\n",
    "        self.lastname = lastname\n",
    "\n",
    "    def show(self):\n",
    "        print(f'私の名前は{self.lastname}{self.firstname}です！')\n",
    "\n",
    "if __name__ == '__main__':\n",
    "    p = Person('太郎', '山田')\n",
    "    p.show()"
   ]
  },
  {
   "cell_type": "code",
   "execution_count": 6,
   "metadata": {},
   "outputs": [
    {
     "output_type": "stream",
     "name": "stdout",
     "text": [
      "314.0\n314.0\n"
     ]
    }
   ],
   "source": [
    "# クラスメソッド(静的メソッド)\n",
    "# メソッドの中でクラスへのアクセスを要する場合にはクラスメソッドを使う\n",
    "class Area:\n",
    "    @classmethod\n",
    "    def circle(cls, radius):\n",
    "        return radius * radius * 3.14\n",
    "\n",
    "if __name__ == '__main__':\n",
    "    print(Area.circle(10))\n",
    "    a = Area()\n",
    "    print(a.circle(10))"
   ]
  },
  {
   "cell_type": "code",
   "execution_count": 7,
   "metadata": {},
   "outputs": [
    {
     "output_type": "stream",
     "name": "stdout",
     "text": [
      "314.0\n"
     ]
    }
   ],
   "source": [
    "# staticメソッド(静的メソッド)\n",
    "class Area:\n",
    "    @staticmethod\n",
    "    def circle(radius):\n",
    "        return radius * radius * 3.14\n",
    "\n",
    "if __name__ == '__main__':\n",
    "    print(Area.circle(10))"
   ]
  },
  {
   "cell_type": "code",
   "execution_count": null,
   "metadata": {},
   "outputs": [],
   "source": [
    "# クラス変数(静的変数)\n",
    "class Area:\n",
    "    PI = 3.14\n",
    "\n",
    "    @classmethod\n",
    "    def circle(cls, radius):\n",
    "        return radius * radius * cls.PI"
   ]
  }
 ]
}