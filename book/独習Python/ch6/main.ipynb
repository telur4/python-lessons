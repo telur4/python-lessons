{
 "metadata": {
  "language_info": {
   "codemirror_mode": {
    "name": "ipython",
    "version": 3
   },
   "file_extension": ".py",
   "mimetype": "text/x-python",
   "name": "python",
   "nbconvert_exporter": "python",
   "pygments_lexer": "ipython3",
   "version": "3.8.5"
  },
  "orig_nbformat": 2,
  "kernelspec": {
   "name": "python385jvsc74a57bd0f96a64404671f85a957b2f4c0dbe4aa6c78c92539a8416ed87cc97ff497f059c",
   "display_name": "Python 3.8.5 64-bit ('base': conda)"
  }
 },
 "nbformat": 4,
 "nbformat_minor": 2,
 "cells": [
  {
   "cell_type": "code",
   "execution_count": 4,
   "metadata": {},
   "outputs": [
    {
     "output_type": "stream",
     "name": "stdout",
     "text": [
      "[1, 2, 3]\n[1, 2, 3]\n[1, 2, 3]\n['1', '2', '3']\n[]\n"
     ]
    }
   ],
   "source": [
    "# リストの生成\n",
    "print(list([1, 2, 3]))\n",
    "print(list((1, 2, 3)))\n",
    "print(list({1, 2, 3}))\n",
    "print(list('123'))\n",
    "print(list())"
   ]
  },
  {
   "cell_type": "code",
   "execution_count": 7,
   "metadata": {},
   "outputs": [
    {
     "output_type": "stream",
     "name": "stdout",
     "text": [
      "['あ', 'い', 'う', 'え', 'お', 'か', 'き', 'く', 'け', 'こ']\n['う', 'え', 'お']\n['あ', 'い', 'う', 'え', 'お']\n['あ', 'い', 'う', 'え', 'お', 'か', 'き', 'く', 'け', 'こ']\n['え', 'お', 'か', 'き', 'く', 'け', 'こ']\n['え', 'お']\n['あ', 'う', 'お', 'き', 'け']\n['い', 'え', 'か', 'く', 'こ']\n['こ', 'け', 'く', 'き', 'か', 'お', 'え', 'う', 'い', 'あ']\n"
     ]
    }
   ],
   "source": [
    "# スライス構文\n",
    "# リストから特定範囲の要素を取得する\n",
    "data = list('あいうえおかきくけこ')\n",
    "print(data)         # 元の配列を表示\n",
    "print(data[2:5])    # インデックス番号が2~4(5-1)番目の要素を取得\n",
    "print(data[2:])     # インデックス番号が2番目以降の要素を取得\n",
    "print(data[:5])     # 先頭から5つのの要素を取得\n",
    "print(data[:])      # 配列をすべて取得\n",
    "print(data[-7:])    # 末尾から7つの要素を取得\n",
    "print(data[-7:-5])  # 末尾から6(5+1)~7番目の要素を取得\n",
    "print(data[::2])    # 先頭から1(2-1)つ飛ばして要素を取得\n",
    "print(data[1::2])   # 2番目から1(2-1)つ飛ばしで要素を取得\n",
    "print(data[::-1])   # 逆順に要素を取得(reverse)"
   ]
  },
  {
   "cell_type": "code",
   "execution_count": 8,
   "metadata": {},
   "outputs": [
    {
     "output_type": "stream",
     "name": "stdout",
     "text": [
      "5\n"
     ]
    }
   ],
   "source": [
    "# リストの要素数を取得する\n",
    "data = ['山田', '鈴木', '日尾', '本多', '掛谷']\n",
    "print(len(data))"
   ]
  },
  {
   "cell_type": "code",
   "execution_count": 11,
   "metadata": {},
   "outputs": [
    {
     "output_type": "stream",
     "name": "stdout",
     "text": [
      "['高江', '青木', '片渕']\n['高江', '青木', '片渕', '土井']\n['小林', '高江', '青木', '片渕', '土井']\n['小林', '高江', '青木', '片渕', '吉川', '土井']\n小林\n['高江', '青木', '片渕', '吉川', '土井']\n土井\n['高江', '青木', '片渕', '吉川']\n"
     ]
    }
   ],
   "source": [
    "# リストの要素を追加/消去する\n",
    "data = ['高江', '青木', '片渕']\n",
    "print(data)\n",
    "data.append('土井')         # 末尾に追加\n",
    "print(data)\n",
    "data.insert(0, '小林')      # 0番目の直前に追加\n",
    "print(data)\n",
    "data.insert(-1, '吉川')     # 末尾から数えて1つめの直前に追加\n",
    "print(data)\n",
    "print(data.pop(0))          # 0番目を消去、消去した要素を取得\n",
    "print(data)\n",
    "print(data.pop())           # 末尾の要素を消去、消去した要素を取得\n",
    "print(data)"
   ]
  },
  {
   "cell_type": "code",
   "execution_count": 13,
   "metadata": {},
   "outputs": [
    {
     "output_type": "stream",
     "name": "stdout",
     "text": [
      "['鈴木', '田中', '井上', '加藤', '田中', '河野']\n['鈴木', '井上', '加藤', '田中', '河野']\n[]\n"
     ]
    }
   ],
   "source": [
    "# リスト内の要素を消去する\n",
    "data = ['鈴木', '田中', '井上', '加藤', '田中', '河野']\n",
    "print(data)\n",
    "data.remove('田中')     # 指定した値の要素を消去、複数同じ要素があった場合は最初の要素を消去する\n",
    "print(data)\n",
    "data.clear()            # リストの要素をすべて消去する\n",
    "print(data)"
   ]
  },
  {
   "cell_type": "code",
   "execution_count": 18,
   "metadata": {},
   "outputs": [
    {
     "output_type": "stream",
     "name": "stdout",
     "text": [
      "['あ', 'い', 'う', 'え', 'お']\n['あ', '1', '2', '3', 'え', 'お']\n['あ', 'い', 'お']\n['あ', 'い', 'お']\n['あ', '1', '2', '3', 'い', 'う', 'え', 'お']\n"
     ]
    }
   ],
   "source": [
    "# 複数要素を追加/置換/消去する\n",
    "data = list('あいうえお')\n",
    "print(data)\n",
    "\n",
    "data[1:3] = list('123')     # 1~2番目の要素を置き換える、置き換え前後の要素の個数は違っていても可能\n",
    "print(data)\n",
    "\n",
    "data = list('あいうえお')\n",
    "data[2:4] = []              # からの要素を代入すると範囲要素の消去になる\n",
    "print(data)\n",
    "\n",
    "data = list('あいうえお')\n",
    "del data[2:4]               # del命令で消去できる\n",
    "print(data)\n",
    "\n",
    "data = list('あいうえお')\n",
    "data[1:1] = list('123')\n",
    "print(data)"
   ]
  },
  {
   "cell_type": "code",
   "execution_count": 26,
   "metadata": {},
   "outputs": [
    {
     "output_type": "stream",
     "name": "stdout",
     "text": [
      "['い', 'ろ', 'は', 'に', 'ほ', 'へ', 'と', 'い', 'ろ']\n0\n7\n7\n2\nTrue\nFalse\nTrue\n"
     ]
    }
   ],
   "source": [
    "# リストを検索する\n",
    "data = list('いろはにほへといろ')\n",
    "print(data)\n",
    "\n",
    "print(data.index('い'))         # 「い」を検索する、検索する要素が復する場合、最初の要素を取得する\n",
    "print(data.index('い', 4))      # 4番目以降の要素から「い」を検索する\n",
    "# print(data.index('い', 4, 7)) # 4~7番目の要素から「い」を検索するが、無い為エラーになる\n",
    "print(data.index('い', -4, -1)) # \n",
    "\n",
    "print(data.count('い'))         # 「い」の個数を検索する\n",
    "# print(data.cout('わ'))        # 「わ」の個数を検索するが、無い為エラーになる\n",
    "\n",
    "print('い' in data)             # 配列内に「い」が存在するか確認\n",
    "print('わ' in data)             # 配列内に「わ」が存在するか確認\n",
    "print('わ' not in data)         # 配列内に「わ」が存在しないか確認"
   ]
  },
  {
   "cell_type": "code",
   "execution_count": 30,
   "metadata": {},
   "outputs": [
    {
     "output_type": "stream",
     "name": "stdout",
     "text": [
      "['鈴木', '田中', '井上', '加藤']\n139734413952128\n['鈴木', '田中', '井上', '加藤']\n139734072927808\nTrue\nFalse\n"
     ]
    }
   ],
   "source": [
    "# リストを複製する\n",
    "data = ['鈴木', '田中', '井上', '加藤']\n",
    "print(data)\n",
    "print(id(data))\n",
    "data2 = data.copy()\n",
    "print(data2)\n",
    "print(id(data2))\n",
    "print(data == data2)\n",
    "print(data is data2)"
   ]
  },
  {
   "cell_type": "code",
   "execution_count": 43,
   "metadata": {},
   "outputs": [
    {
     "output_type": "stream",
     "name": "stdout",
     "text": [
      "[[1, 2, 3], [4, 5, 6], [7, 8, 9]]\n139734066745856\n139734074514496\n139734074515200\n139734412462080\n\n[[1, 2, 3], [4, 5, 6], [7, 8, 9]]\n139734066745984\n139734074514496\n139734074515200\n139734412462080\n\n[[1, 2, 3], [4, 5, 6], [7, 8, 9]]\n139734071023296\n139734066748608\n139734075186752\n139734075185664\n\n[[1000, 2, 3], [4, 5, 6], [7, 8, 9]]\n[[1000, 2, 3], [4, 5, 6], [7, 8, 9]]\n[[1, 2, 3], [4, 5, 6], [7, 8, 9]]\n"
     ]
    }
   ],
   "source": [
    "# シャローコピーとディープコピー\n",
    "data = [list(range(1, 4)), list(range(4, 7)), list(range(7, 10))]\n",
    "print(data)\n",
    "print(id(data))\n",
    "print(id(data[0]))\n",
    "print(id(data[1]))\n",
    "print(id(data[2]))\n",
    "print()\n",
    "\n",
    "data2 = data.copy()             # 配列をコピーするするとアドレスを移動するが、2次元目以降の配列のアドレスは変更されない為、値を変更すると影響される\n",
    "print(data2)\n",
    "print(id(data2))\n",
    "print(id(data2[0]))\n",
    "print(id(data2[1]))\n",
    "print(id(data2[2]))\n",
    "print()\n",
    "\n",
    "import copy\n",
    "data3 = copy.deepcopy(data)     # 2次元目以降の配列もアドレスを移動させるので、値を変更しても影響されない\n",
    "print(data3)\n",
    "print(id(data3))\n",
    "print(id(data3[0]))\n",
    "print(id(data3[1]))\n",
    "print(id(data3[2]))\n",
    "print()\n",
    "\n",
    "data2[0][0] = 1000\n",
    "print(data)\n",
    "print(data2)\n",
    "print(data3)"
   ]
  },
  {
   "cell_type": "code",
   "execution_count": 50,
   "metadata": {},
   "outputs": [
    {
     "output_type": "stream",
     "name": "stdout",
     "text": [
      "['あ', 'い', 'う', 'え', 'お']\n['あ', 'い', 'う', 'あ', 'い', 'う', 'あ', 'い', 'う']\n\n[['あ', 'い'], ['あ', 'い'], ['あ', 'い']]\n139734066427584\n139734072870784\n139734072870784\n139734072870784\n\n[['あ', 'い', 'う'], ['あ', 'い', 'う'], ['あ', 'い', 'う']]\n"
     ]
    }
   ],
   "source": [
    "# リストを連結する\n",
    "data1 = list('あいう')\n",
    "data2 = list('えお')\n",
    "print(data1 + data2)\n",
    "print(data1 * 3)\n",
    "print()\n",
    "\n",
    "data = [list('あい')] * 3       # 2次元目の配列はアドレスごとコピーされるため、どれか一つの配列の値を変更すると、他の配列にも影響する\n",
    "print(data)\n",
    "print(id(data))\n",
    "print(id(data[0]))\n",
    "print(id(data[1]))\n",
    "print(id(data[2]))\n",
    "print()\n",
    "\n",
    "data[0].append('う')\n",
    "print(data)"
   ]
  },
  {
   "cell_type": "code",
   "execution_count": 51,
   "metadata": {},
   "outputs": [
    {
     "output_type": "stream",
     "name": "stdout",
     "text": [
      "['とら', 'こあら', 'うさぎ', 'ぱんだ']\n"
     ]
    }
   ],
   "source": [
    "# リストの内容を逆順に並べ替える\n",
    "data = ['ぱんだ', 'うさぎ', 'こあら', 'とら']\n",
    "data.reverse()\n",
    "print(data)"
   ]
  },
  {
   "cell_type": "code",
   "execution_count": 52,
   "metadata": {},
   "outputs": [
    {
     "output_type": "stream",
     "name": "stdout",
     "text": [
      "['うさぎ', 'こあら', 'とら', 'ぱんだ']\n"
     ]
    }
   ],
   "source": [
    "# リストの内容を昇順/逆順にソートする\n",
    "data = ['ぱんだ', 'うさぎ', 'こあら', 'とら']\n",
    "data2 = [205, 13, 78, 50]\n",
    "dat3 = ['ぱんだ', 15, 'こあら']\n",
    "\n",
    "data.sort()     # それぞれの要素の先頭の文字を元に五十音順に並べる\n",
    "print(data)\n",
    "\n",
    "data2.sort()    # 数字が小さい順に並べる\n",
    "print(data2)\n",
    "\n",
    "# data3.sort()\n",
    "\n",
    "data.sort(reverse=True)     # Trueにすると降順に並ぶ\n",
    "print(data)"
   ]
  },
  {
   "cell_type": "code",
   "execution_count": null,
   "metadata": {},
   "outputs": [],
   "source": []
  }
 ]
}