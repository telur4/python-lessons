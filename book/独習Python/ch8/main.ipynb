{
 "metadata": {
  "language_info": {
   "codemirror_mode": {
    "name": "ipython",
    "version": 3
   },
   "file_extension": ".py",
   "mimetype": "text/x-python",
   "name": "python",
   "nbconvert_exporter": "python",
   "pygments_lexer": "ipython3",
   "version": "3.8.5"
  },
  "orig_nbformat": 2,
  "kernelspec": {
   "name": "python385jvsc74a57bd0f96a64404671f85a957b2f4c0dbe4aa6c78c92539a8416ed87cc97ff497f059c",
   "display_name": "Python 3.8.5 64-bit ('base': conda)"
  }
 },
 "nbformat": 4,
 "nbformat_minor": 2,
 "cells": [
  {
   "cell_type": "code",
   "execution_count": 1,
   "metadata": {},
   "outputs": [
    {
     "output_type": "stream",
     "name": "stdout",
     "text": [
      "三角形の面積は40.0です。\n"
     ]
    }
   ],
   "source": [
    "# get_triangle関数を定義\n",
    "def get_triangle(base, height):\n",
    "    return base * height / 2\n",
    "\n",
    "# get_triangle関数を呼び出す\n",
    "area = get_triangle(8, 10)\n",
    "print(f'三角形の面積は{area}です。')"
   ]
  },
  {
   "cell_type": "code",
   "execution_count": 2,
   "metadata": {},
   "outputs": [
    {
     "output_type": "stream",
     "name": "stdout",
     "text": [
      "ローカル\nローカル\n"
     ]
    }
   ],
   "source": [
    "# 関数内でグローバル変数を利用する\n",
    "data = 'グローバル'\n",
    "\n",
    "def check_scope():\n",
    "    global data\n",
    "    data = 'ローカル'\n",
    "    return data\n",
    "\n",
    "print(check_scope())\n",
    "print(data)"
   ]
  },
  {
   "cell_type": "code",
   "execution_count": 3,
   "metadata": {},
   "outputs": [
    {
     "output_type": "stream",
     "name": "stdout",
     "text": [
      "13\n"
     ]
    }
   ],
   "source": [
    "# ブロックスコープ\n",
    "# Pythonにはブロックスコープがない\n",
    "# javaなどで\n",
    "# if (true) {\n",
    "#     int i = 13;\n",
    "# }\n",
    "# とするとエラーになる\n",
    "if True:\n",
    "    i = 13\n",
    "\n",
    "print(i)"
   ]
  },
  {
   "cell_type": "code",
   "execution_count": 7,
   "metadata": {},
   "outputs": [
    {
     "output_type": "stream",
     "name": "stdout",
     "text": [
      "三角形の面積は2.5です。\n三角形の面積は5.0です。\n三角形の面積は25.0です。\n"
     ]
    }
   ],
   "source": [
    "# 引数の既定値\n",
    "def get_triangle(base=5, height=1):\n",
    "    return base * height / 2\n",
    "\n",
    "print(f'三角形の面積は{get_triangle()}です。')\n",
    "print(f'三角形の面積は{get_triangle(10)}です。')\n",
    "print(f'三角形の面積は{get_triangle(10, 5)}です。')"
   ]
  },
  {
   "cell_type": "code",
   "execution_count": 8,
   "metadata": {},
   "outputs": [
    {
     "output_type": "stream",
     "name": "stdout",
     "text": [
      "25.0\n10.0\n"
     ]
    }
   ],
   "source": [
    "# キーワード引数\n",
    "def get_triangle(base=5, height=1):\n",
    "    return base * height / 2\n",
    "\n",
    "print(get_triangle(height=10))\n",
    "print(get_triangle(height=10, base=2))"
   ]
  },
  {
   "cell_type": "code",
   "execution_count": 9,
   "metadata": {},
   "outputs": [
    {
     "output_type": "stream",
     "name": "stdout",
     "text": [
      "-180\n8400\n"
     ]
    }
   ],
   "source": [
    "# 可変長引数\n",
    "def total_products(*values):\n",
    "    result = 1\n",
    "    for value in values:\n",
    "        result *= value\n",
    "    return result\n",
    "\n",
    "print(total_products(12, 15, -1))\n",
    "print(total_products(5, 7, 8, 2, 1, 15))"
   ]
  },
  {
   "cell_type": "code",
   "execution_count": 11,
   "metadata": {},
   "outputs": [
    {
     "output_type": "stream",
     "name": "stdout",
     "text": [
      "{'name': '山田太郎', 'age': 18, 'sex': 'male'}\n"
     ]
    }
   ],
   "source": [
    "# 可変長引数(キーワード引数)\n",
    "def create_dict(**kwargs):\n",
    "    result = dict()\n",
    "    for key, value in kwargs.items():\n",
    "        result[key] = value\n",
    "    return result\n",
    "\n",
    "print(create_dict(name='山田太郎', age=18, sex='male'))"
   ]
  },
  {
   "cell_type": "code",
   "execution_count": 13,
   "metadata": {},
   "outputs": [
    {
     "output_type": "stream",
     "name": "stdout",
     "text": [
      "108\n-10\n"
     ]
    }
   ],
   "source": [
    "# 複数の戻り値\n",
    "# タプルとして束ねて返すのが一般的\n",
    "def get_max_min(*args):\n",
    "    # return (max(args), min(args))でも良い\n",
    "    return max(args), min(args)\n",
    "\n",
    "max_v, min_v = get_max_min(15, 7.5, 108, -10)\n",
    "print(max_v)\n",
    "print(min_v)"
   ]
  },
  {
   "cell_type": "code",
   "execution_count": 14,
   "metadata": {},
   "outputs": [
    {
     "output_type": "stream",
     "name": "stdout",
     "text": [
      "120\n"
     ]
    }
   ],
   "source": [
    "# 再帰関数\n",
    "def factorial(num):\n",
    "    if num != 0:\n",
    "        return num * factorial(num - 1)\n",
    "    return 1\n",
    "\n",
    "print(factorial(5))"
   ]
  },
  {
   "cell_type": "code",
   "execution_count": 15,
   "metadata": {},
   "outputs": [
    {
     "output_type": "stream",
     "name": "stdout",
     "text": [
      "0 : 105\n1 : 53\n2 : 27\n3 : 87\n4 : 33\n"
     ]
    }
   ],
   "source": [
    "# 高階関数(引数や戻り値に関を使う)\n",
    "def walk_list(data, func):\n",
    "    for key, value in enumerate(data):\n",
    "        func(value, key)\n",
    "\n",
    "def show_item(value, key):\n",
    "    print(key, ':', value)\n",
    "\n",
    "data = [105, 53, 27, 87, 33]\n",
    "walk_list(data, show_item)"
   ]
  },
  {
   "cell_type": "code",
   "execution_count": 16,
   "metadata": {},
   "outputs": [
    {
     "output_type": "stream",
     "name": "stdout",
     "text": [
      "20\n"
     ]
    }
   ],
   "source": [
    "# 無名関数(ラムダ関数)\n",
    "# lambda 引数(ない場合は省略可): 処理\n",
    "calcu = lambda num: num * 2\n",
    "print(calcu(10))"
   ]
  },
  {
   "cell_type": "code",
   "execution_count": null,
   "metadata": {},
   "outputs": [],
   "source": []
  }
 ]
}