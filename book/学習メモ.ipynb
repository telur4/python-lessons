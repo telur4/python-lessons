{
 "metadata": {
  "language_info": {
   "codemirror_mode": {
    "name": "ipython",
    "version": 3
   },
   "file_extension": ".py",
   "mimetype": "text/x-python",
   "name": "python",
   "nbconvert_exporter": "python",
   "pygments_lexer": "ipython3",
   "version": "3.8.8"
  },
  "orig_nbformat": 2,
  "kernelspec": {
   "name": "python388jvsc74a57bd0f96a64404671f85a957b2f4c0dbe4aa6c78c92539a8416ed87cc97ff497f059c",
   "display_name": "Python 3.8.8 64-bit ('base': conda)"
  }
 },
 "nbformat": 4,
 "nbformat_minor": 2,
 "cells": [
  {
   "cell_type": "code",
   "execution_count": 1,
   "metadata": {},
   "outputs": [
    {
     "output_type": "stream",
     "name": "stdout",
     "text": [
      "[1, 2, 3]\n[1, 2, 3]\n[1, 2, 3]\n"
     ]
    }
   ],
   "source": [
    "# 配列を生成する方法\n",
    "# (1) リテラル\n",
    "arr = [1, 2, 3]\n",
    "print(arr)\n",
    "# (2) リスト内包表記\n",
    "arr = [i for i in range(1, 4)]\n",
    "print(arr)\n",
    "# (3) range関数とlist関数\n",
    "arr = list(range(1, 4))\n",
    "print(arr)"
   ]
  },
  {
   "cell_type": "code",
   "execution_count": 12,
   "metadata": {},
   "outputs": [
    {
     "output_type": "stream",
     "name": "stdout",
     "text": [
      "[0, 1, 2, 3, 4, 5, 6, 7, 8, 9]\n[3, 4, 5, 6, 7, 8, 9]\n[3, 5, 7, 9]\n[9, 7, 5, 3]\n[9, 7, 5, 3]\n[0.3, 0.5, 0.7, 0.9]\n"
     ]
    }
   ],
   "source": [
    "# range関数の使い方\n",
    "print(list(range(10)))          # 0~9(10-1)の要素を持つ配列を生成\n",
    "print(list(range(3, 10)))       # 3~9(10-1)の要素を持つ配列を生成\n",
    "print(list(range(3, 10, 2)))    # 3~9(10-1)の要素を1(2-1)個飛ばしで取得し生成\n",
    "print(list(range(9, 2, -2)))    # 9~3(2+1)の要素を-1(-2+1)個飛ばして取得して生成(逆順の配列)\n",
    "print(list(reversed(range(3, 10, 2))))  # reversed関数を使用して逆順の配列を生成\n",
    "print([i / 10 for i in range(3, 10, 2)])# range関数に指定できるのはint型のみfloatを使用する場合はリスト内包表記を使用する"
   ]
  },
  {
   "cell_type": "code",
   "execution_count": 2,
   "metadata": {},
   "outputs": [],
   "source": [
    "# 数学の学習すべき分野\n",
    "# 三角関数\n",
    "# 行列\n",
    "# 数列"
   ]
  },
  {
   "cell_type": "code",
   "execution_count": 16,
   "metadata": {},
   "outputs": [
    {
     "output_type": "stream",
     "name": "stdout",
     "text": [
      "[[1 2]\n [3 4]]\n[[5 6]\n [7 8]]\n行列の足し算:\n [[ 6  8]\n [10 12]]\n行列の引き算:\n [[-4 -4]\n [-4 -4]]\n行列のスカラー倍:\n [[ 5 10]\n [15 20]]\nAxBの行列積:\n [[19 22]\n [43 50]]\nBxAの行列積:\n [[23 34]\n [31 46]]\nAの転置行列:\n [[1 3]\n [2 4]]\nBの転置行列:\n [[5 7]\n [6 8]]\nA[0]とA[1]の内積:\n 11\nB[0]とB[1]の内積:\n 83\nAとBの内積:\n 70\nAの逆行列:\n [[-2.   1. ]\n [ 1.5 -0.5]]\nBの逆行列:\n [[-4.   3. ]\n [ 3.5 -2.5]]\nAの行列式:\n -2.0000000000000004\nBの行列式:\n -1.999999999999999\nAの固有値:\n [-0.37228132  5.37228132]\nAの固有ベクトル:\n [[-0.82456484 -0.41597356]\n [ 0.56576746 -0.90937671]]\n"
     ]
    }
   ],
   "source": [
    "# NumPyによる行列の計算\n",
    "import numpy as np\n",
    "A = np.array([[1, 2], [3, 4]])\n",
    "print(A)\n",
    "B = np.arange(5, 9).reshape(2, 2)\n",
    "print(B)\n",
    "# 行列の足し算・引き算\n",
    "# \n",
    "# 行・列の両方が一致していないと足し算・引き算することはできない\n",
    "print('行列の足し算:\\n', A + B)\n",
    "print('行列の引き算:\\n', A - B)\n",
    "\n",
    "# スカラー倍\n",
    "# \n",
    "# n x (a b  = (na nb\n",
    "#      c d)    nc nd)\n",
    "print('行列のスカラー倍:\\n', 5 * A)\n",
    "\n",
    "# 行列積\n",
    "# \n",
    "# 「左の行列の列数」と「右の行列の列数」が一致していないと掛け算することはできない\n",
    "# \n",
    "# (a b) x (c = ac + bd\n",
    "#          d)\n",
    "# \n",
    "# =================================\n",
    "# A = (a b   B = (p q\n",
    "#      c d),      r s)\n",
    "# \n",
    "# AB = (a b (p q  = (ap+br aq+bs\n",
    "#       c d) r s)    cp+dr cq+ds)\n",
    "# =================================\n",
    "# \n",
    "# AB != BA\n",
    "print('AxBの行列積:\\n', np.dot(A, B))\n",
    "print('BxAの行列積:\\n', np.dot(B, A))\n",
    "\n",
    "# 転置行列\n",
    "print('Aの転置行列:\\n', A.T)\n",
    "print('Bの転置行列:\\n', B.T)\n",
    "\n",
    "# 行列のべき乗\n",
    "\n",
    "# 二次元行列の内積\n",
    "# 行列積の全ての要素の和\n",
    "print('A[0]とA[1]の内積:\\n', np.dot(A[0], A[1]))\n",
    "print('B[0]とB[1]の内積:\\n', np.dot(B[0], B[1]))\n",
    "print('AとBの内積:\\n', np.vdot(A, B))\n",
    "\n",
    "# 単位行列\n",
    "# 対角成分が1、非対角成分が0である行列\n",
    "# \n",
    "# A = (1 0    B = (1 0 0    C = (1 0 0 0\n",
    "#      0 1)        0 1 0         0 1 0 0\n",
    "#                  0 0 1)        0 0 1 0\n",
    "#                                0 0 0 1)\n",
    "\n",
    "# 逆行列\n",
    "# 元の行列にかけると単位行列になるもの\n",
    "# 逆行列が存在しない場合もある\n",
    "# 連立一次方程式を一瞬で求められる\n",
    "print('Aの逆行列:\\n', np.linalg.inv(A))\n",
    "print('Bの逆行列:\\n', np.linalg.inv(B))\n",
    "\n",
    "# 類似逆行列\n",
    "\n",
    "# 行列式\n",
    "# 行列の特徴を表す指標の一つ\n",
    "print('Aの行列式:\\n', np.linalg.det(A))\n",
    "print('Bの行列式:\\n', np.linalg.det(B))\n",
    "\n",
    "# 固有値と固有ベクトル\n",
    "# Ax = λxを満たすx(固有ベクトル)とλ(固有値)\n",
    "# numpy.argmax()と併用して最大固有値を求める\n",
    "Aの固有値, Aの固有ベクトル = np.linalg.eig(A)\n",
    "print('Aの固有値:\\n', Aの固有値)\n",
    "print('Aの固有ベクトル:\\n', Aの固有ベクトル)"
   ]
  },
  {
   "cell_type": "code",
   "execution_count": 62,
   "metadata": {},
   "outputs": [
    {
     "output_type": "stream",
     "name": "stdout",
     "text": [
      "円周率:\n 3.141592653589793\n無限大:\n inf\n3.14\n数学でのラジアンの表記:\n ['0      ', 'π/36   ', 'π/12   ', 'π/6    ', 'π/4    ', 'π/3    ', 'π/2    ', 'π/1    ', '2π     ']\n度からラジアンへの変換:\n [0.         0.08726646 0.26179939 0.52359878 0.78539816 1.04719755\n 1.57079633 3.14159265 3.92699082 6.28318531 9.42477796]\nラジアンを正弦へ変換:\n [ 0.00000000e+00  8.71557427e-02  2.58819045e-01  5.00000000e-01\n  7.07106781e-01  8.66025404e-01  1.00000000e+00  1.22464680e-16\n -7.07106781e-01 -2.44929360e-16  3.67394040e-16]\nラジアンを正弦へ変換:\n [ 0.    0.09  0.26  0.5   0.71  0.87  1.    0.   -0.71 -0.    0.  ]\n度からラジアンへの変換:\n [0.         1.57079633 3.14159265]\nラジアンから度への変換:\n [  0.  90. 180.]\nラジアンから度への変換:\n [  0.  90. 180.]\n正弦:\n [0.  0.5 1. ]\n逆正弦:\n [ 0. 30. 90.]\n余弦:\n [1.000000e+00 5.000000e-01 6.123234e-17]\n[1.  0.5 0. ]\n逆余弦:\n [90. 60.  0.]\n正接:\n [0.00000000e+00 1.00000000e+00 1.63312394e+16]\n逆正接:\n [ 0. 45. 90.]\n"
     ]
    }
   ],
   "source": [
    "# NumPyによる三角関数の計算\n",
    "import numpy as np\n",
    "\n",
    "# 円周率\n",
    "print('円周率:\\n', np.pi)\n",
    "\n",
    "# 無限大\n",
    "print('無限大:\\n', np.inf)\n",
    "\n",
    "# 値を丸める\n",
    "# 下記の場合、小数点以下第2位まで表示する\n",
    "print(np.round(np.pi, 2))\n",
    "\n",
    "# ラジアン\n",
    "# 「円(扇形)の弧の長さ÷円の半径」によって求められる値\n",
    "# 弧度法と度数法の関係としては「180=π(rad)」が成り立つ\n",
    "\n",
    "# 度からラジアンへの変換\n",
    "print('数学でのラジアンの表記:\\n', ['0      ', 'π/36   ', 'π/12   ', 'π/6    ', 'π/4    ', 'π/3    ', 'π/2    ', 'π/1    ', '2π     '])\n",
    "print('度からラジアンへの変換:\\n', np.radians([0, 5, 15, 30, 45, 60, 90, 180, 225, 360, 540]))\n",
    "print('ラジアンを正弦へ変換:\\n', np.sin(np.radians([0, 5, 15, 30, 45, 60, 90, 180, 225, 360, 540])))\n",
    "print('ラジアンを正弦へ変換:\\n', np.round(np.sin(np.radians([0, 5, 15, 30, 45, 60, 90, 180, 225, 360, 540])), 2))\n",
    "print('度からラジアンへの変換:\\n', np.deg2rad([0, 90, 180]))\n",
    "\n",
    "# ラジアンから度への変換\n",
    "print('ラジアンから度への変換:\\n', np.degrees([0, np.pi / 2, np.pi]))\n",
    "print('ラジアンから度への変換:\\n', np.rad2deg([0, np.pi / 2, np.pi]))\n",
    "\n",
    "# 正弦\n",
    "print('正弦:\\n', np.sin(np.radians([0, 30, 90])))\n",
    "\n",
    "# 逆正弦\n",
    "print('逆正弦:\\n', np.degrees(np.arcsin([0, 0.5, 1])))\n",
    "\n",
    "# 余弦\n",
    "print('余弦:\\n', np.cos(np.radians([0, 60, 90])))\n",
    "print(np.round(np.cos(np.radians([0, 60, 90])), 1))\n",
    "\n",
    "# 逆余弦\n",
    "print('逆余弦:\\n', np.degrees(np.arccos([0, 0.5, 1])))\n",
    "\n",
    "# 正接\n",
    "print('正接:\\n', np.tan(np.radians([0, 45, 90])))\n",
    "\n",
    "# 逆正接\n",
    "print('逆正接:\\n', np.degrees(np.arctan([0, 1, np.inf])))"
   ]
  },
  {
   "cell_type": "code",
   "execution_count": null,
   "metadata": {},
   "outputs": [],
   "source": []
  }
 ]
}